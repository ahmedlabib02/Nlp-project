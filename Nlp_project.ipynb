{
  "cells": [
    {
      "cell_type": "markdown",
      "metadata": {
        "colab_type": "text",
        "id": "view-in-github"
      },
      "source": [
        "<a href=\"https://colab.research.google.com/github/ahmedlabib02/Nlp-project/blob/main/Nlp_project.ipynb\" target=\"_parent\"><img src=\"https://colab.research.google.com/assets/colab-badge.svg\" alt=\"Open In Colab\"/></a>"
      ]
    },
    {
      "cell_type": "markdown",
      "metadata": {
        "id": "yhShSWMAHitF"
      },
      "source": [
        "# Milestone 1"
      ]
    },
    {
      "cell_type": "code",
      "execution_count": 13,
      "metadata": {},
      "outputs": [
        {
          "name": "stdout",
          "output_type": "stream",
          "text": [
            "Requirement already up-to-date: numpy in c:\\users\\sana2\\appdata\\local\\programs\\python\\python39\\lib\\site-packages (2.0.2)\n",
            "Note: you may need to restart the kernel to use updated packages.\n"
          ]
        },
        {
          "name": "stderr",
          "output_type": "stream",
          "text": [
            "WARNING: You are using pip version 20.2.3; however, version 25.0.1 is available.\n",
            "You should consider upgrading via the 'c:\\Users\\sana2\\AppData\\Local\\Programs\\Python\\Python39\\python.exe -m pip install --upgrade pip' command.\n"
          ]
        },
        {
          "name": "stdout",
          "output_type": "stream",
          "text": [
            "Requirement already satisfied: arabic-reshaper in c:\\users\\sana2\\appdata\\local\\programs\\python\\python39\\lib\\site-packages (3.0.0)\n",
            "Note: you may need to restart the kernel to use updated packages.\n"
          ]
        },
        {
          "name": "stderr",
          "output_type": "stream",
          "text": [
            "WARNING: You are using pip version 20.2.3; however, version 25.0.1 is available.\n",
            "You should consider upgrading via the 'c:\\Users\\sana2\\AppData\\Local\\Programs\\Python\\Python39\\python.exe -m pip install --upgrade pip' command.\n"
          ]
        },
        {
          "name": "stdout",
          "output_type": "stream",
          "text": [
            "Note: you may need to restart the kernel to use updated packages.Requirement already satisfied: python-bidi in c:\\users\\sana2\\appdata\\local\\programs\\python\\python39\\lib\\site-packages (0.6.6)\n",
            "\n"
          ]
        },
        {
          "name": "stderr",
          "output_type": "stream",
          "text": [
            "WARNING: You are using pip version 20.2.3; however, version 25.0.1 is available.\n",
            "You should consider upgrading via the 'c:\\Users\\sana2\\AppData\\Local\\Programs\\Python\\Python39\\python.exe -m pip install --upgrade pip' command.\n"
          ]
        },
        {
          "name": "stdout",
          "output_type": "stream",
          "text": [
            "Requirement already satisfied: wordcloud in c:\\users\\sana2\\appdata\\local\\programs\\python\\python39\\lib\\site-packages (1.9.4)\n",
            "Requirement already satisfied: pillow in c:\\users\\sana2\\appdata\\local\\programs\\python\\python39\\lib\\site-packages (from wordcloud) (11.1.0)\n",
            "Requirement already satisfied: numpy>=1.6.1 in c:\\users\\sana2\\appdata\\local\\programs\\python\\python39\\lib\\site-packages (from wordcloud) (2.0.2)\n",
            "Requirement already satisfied: matplotlib in c:\\users\\sana2\\appdata\\local\\programs\\python\\python39\\lib\\site-packages (from wordcloud) (3.9.4)\n",
            "Requirement already satisfied: contourpy>=1.0.1 in c:\\users\\sana2\\appdata\\local\\programs\\python\\python39\\lib\\site-packages (from matplotlib->wordcloud) (1.3.0)\n",
            "Requirement already satisfied: pyparsing>=2.3.1 in c:\\users\\sana2\\appdata\\local\\programs\\python\\python39\\lib\\site-packages (from matplotlib->wordcloud) (3.2.1)\n",
            "Requirement already satisfied: python-dateutil>=2.7 in c:\\users\\sana2\\appdata\\roaming\\python\\python39\\site-packages (from matplotlib->wordcloud) (2.9.0.post0)\n",
            "Requirement already satisfied: fonttools>=4.22.0 in c:\\users\\sana2\\appdata\\local\\programs\\python\\python39\\lib\\site-packages (from matplotlib->wordcloud) (4.56.0)\n",
            "Requirement already satisfied: kiwisolver>=1.3.1 in c:\\users\\sana2\\appdata\\local\\programs\\python\\python39\\lib\\site-packages (from matplotlib->wordcloud) (1.4.7)\n",
            "Requirement already satisfied: packaging>=20.0 in c:\\users\\sana2\\appdata\\roaming\\python\\python39\\site-packages (from matplotlib->wordcloud) (24.2)\n",
            "Requirement already satisfied: importlib-resources>=3.2.0; python_version < \"3.10\" in c:\\users\\sana2\\appdata\\local\\programs\\python\\python39\\lib\\site-packages (from matplotlib->wordcloud) (6.5.2)\n",
            "Requirement already satisfied: cycler>=0.10 in c:\\users\\sana2\\appdata\\local\\programs\\python\\python39\\lib\\site-packages (from matplotlib->wordcloud) (0.12.1)\n",
            "Requirement already satisfied: six>=1.5 in c:\\users\\sana2\\appdata\\roaming\\python\\python39\\site-packages (from python-dateutil>=2.7->matplotlib->wordcloud) (1.17.0)\n",
            "Requirement already satisfied: zipp>=3.1.0; python_version < \"3.10\" in c:\\users\\sana2\\appdata\\roaming\\python\\python39\\site-packages (from importlib-resources>=3.2.0; python_version < \"3.10\"->matplotlib->wordcloud) (3.21.0)\n",
            "Note: you may need to restart the kernel to use updated packages.\n"
          ]
        },
        {
          "name": "stderr",
          "output_type": "stream",
          "text": [
            "WARNING: You are using pip version 20.2.3; however, version 25.0.1 is available.\n",
            "You should consider upgrading via the 'c:\\Users\\sana2\\AppData\\Local\\Programs\\Python\\Python39\\python.exe -m pip install --upgrade pip' command.\n"
          ]
        },
        {
          "name": "stdout",
          "output_type": "stream",
          "text": [
            "Note: you may need to restart the kernel to use updated packages.\n"
          ]
        },
        {
          "name": "stderr",
          "output_type": "stream",
          "text": [
            "ERROR: Could not find a version that satisfies the requirement numpy.rec (from versions: none)\n",
            "ERROR: No matching distribution found for numpy.rec\n",
            "WARNING: You are using pip version 20.2.3; however, version 25.0.1 is available.\n",
            "You should consider upgrading via the 'c:\\Users\\sana2\\AppData\\Local\\Programs\\Python\\Python39\\python.exe -m pip install --upgrade pip' command.\n"
          ]
        }
      ],
      "source": [
        "# %pip install transformers\n",
        "# %pip install nltk\n",
        "# %pip install farasapy\n",
        "# %pip install --quiet camel-tools-data\n",
        "# %pip install camel-tools\n",
        "# %pip install camel-tools -f https://download.pytorch.org/whl/torch_stable.html\n",
        "%pip install --upgrade numpy\n",
        "\n",
        "%pip install arabic-reshaper\n",
        "%pip install python-bidi\n",
        "%pip install wordcloud\n",
        "%pip install numpy.rec\n",
        "# %pip install WordCloud\n",
        "# %pip install --upgrade -f https://download.pytorch.org/whl/torch_stable.html camel-tools"
      ]
    },
    {
      "cell_type": "code",
      "execution_count": 14,
      "metadata": {},
      "outputs": [
        {
          "name": "stderr",
          "output_type": "stream",
          "text": [
            "[nltk_data] Downloading package stopwords to\n",
            "[nltk_data]     C:\\Users\\sana2\\AppData\\Roaming\\nltk_data...\n",
            "[nltk_data]   Package stopwords is already up-to-date!\n"
          ]
        },
        {
          "data": {
            "text/plain": [
              "True"
            ]
          },
          "execution_count": 14,
          "metadata": {},
          "output_type": "execute_result"
        }
      ],
      "source": [
        "import os \n",
        "import json\n",
        "import re\n",
        "import pandas as pd\n",
        "from collections import Counter\n",
        "import string\n",
        "from wordcloud import WordCloud\n",
        "from transformers import BertTokenizer\n",
        "import nltk\n",
        "import matplotlib.pyplot as plt\n",
        "import numpy as np\n",
        "from nltk.corpus import stopwords\n",
        "from farasa.segmenter import FarasaSegmenter\n",
        "from nltk.stem.isri import ISRIStemmer\n",
        "from camel_tools.morphology.database import MorphologyDB\n",
        "from camel_tools.morphology.analyzer import Analyzer\n",
        "from sklearn.feature_extraction.text import TfidfVectorizer\n",
        "from sklearn.feature_extraction.text import TfidfVectorizer\n",
        "segmenter = FarasaSegmenter(interactive=False)\n",
        "nltk.download('stopwords')\n",
        "\n",
        "\n"
      ]
    },
    {
      "cell_type": "markdown",
      "metadata": {},
      "source": [
        "### Data preparation"
      ]
    },
    {
      "cell_type": "markdown",
      "metadata": {},
      "source": [
        "#### Unzipping the \"B Hodoo2\" channel folder"
      ]
    },
    {
      "cell_type": "code",
      "execution_count": 4,
      "metadata": {},
      "outputs": [],
      "source": [
        "import zipfile\n",
        "zip_path = \"./B Hodoo2-20250226T182935Z-001.zip\"\n",
        "extract_path = \"./\"\n",
        "with zipfile.ZipFile(zip_path, 'r') as zip_ref:\n",
        "    zip_ref.extractall(extract_path)\n"
      ]
    },
    {
      "cell_type": "markdown",
      "metadata": {},
      "source": [
        "#### Unzipping the \"Kefaya ba2a\" channel folder"
      ]
    },
    {
      "cell_type": "code",
      "execution_count": 5,
      "metadata": {},
      "outputs": [],
      "source": [
        "import zipfile\n",
        "zip_path = \"./Kefaya Ba2a-20250226T183527Z-001.zip\"\n",
        "extract_path = \"./\"\n",
        "with zipfile.ZipFile(zip_path, 'r') as zip_ref:\n",
        "    zip_ref.extractall(extract_path)"
      ]
    },
    {
      "cell_type": "markdown",
      "metadata": {},
      "source": [
        "### Building dict for annotations and text"
      ]
    },
    {
      "cell_type": "code",
      "execution_count": 15,
      "metadata": {},
      "outputs": [],
      "source": [
        "def standardize(title):\n",
        "    \n",
        "    title = title.replace(\"_\", \" \")\n",
        "   \n",
        "    title = title.lower()\n",
        "    \n",
        "    title = re.sub(r'[^\\w\\s]', '', title)\n",
        "    \n",
        "    # title = re.sub(r'\\bبودكاست بهدوء مع كريم\\b', '', title)\n",
        "    # title = re.sub(r'\\bجلسة\\b', '', title)\n",
        "    \n",
        "    title = re.sub(r'\\s+', ' ', title).strip()\n",
        "    return title"
      ]
    },
    {
      "cell_type": "code",
      "execution_count": 16,
      "metadata": {},
      "outputs": [],
      "source": [
        "def get_category_for_filename(target_filename, annotations_path):\n",
        "    \"\"\"\n",
        "    Load annotations from annotations_path and try to match the\n",
        "    canonicalized target_filename (without file extension) to the canonicalized\n",
        "    title from each annotation. If a match is found, return the annotation's category.\n",
        "    \"\"\"\n",
        "    with open(annotations_path, 'r', encoding='utf-8') as f_json:\n",
        "        annotations = json.load(f_json)\n",
        "    \n",
        "    base_target = os.path.splitext(target_filename)[0]\n",
        "    target_can = standardize(base_target)\n",
        "    for entry in annotations:\n",
        "        annotation_title = entry.get('title')\n",
        "        if annotation_title:\n",
        "            \n",
        "            annotation_can = standardize(annotation_title)\n",
        "            if annotation_can == target_can:\n",
        "                # print(\"Matched annotation:\", entry.get('title'))\n",
        "                return entry.get('category')\n",
        "    return None"
      ]
    },
    {
      "cell_type": "code",
      "execution_count": 17,
      "metadata": {},
      "outputs": [],
      "source": [
        "def add_transcripts_from_folder(transcripts_dict, folder_path, channel):\n",
        "    \n",
        "    annotations_json = os.path.join(folder_path, 'annotations.json')\n",
        "    raw_folder = os.path.join(folder_path, 'raw')\n",
        "    for filename in os.listdir(raw_folder):\n",
        "        full_path = os.path.join(raw_folder, filename)\n",
        "        if os.path.isfile(full_path):\n",
        "            with open(full_path, 'r', encoding='utf-8') as file:\n",
        "                transcript = file.read()\n",
        "                category = get_category_for_filename(filename, annotations_json)\n",
        "            base_filename, _ = os.path.splitext(filename)\n",
        "            transcripts_dict[base_filename] = (channel, category, transcript)\n",
        "    return transcripts_dict"
      ]
    },
    {
      "cell_type": "code",
      "execution_count": 18,
      "metadata": {},
      "outputs": [],
      "source": [
        "transcripts_dict = {}\n",
        "first_folder_path = './B Hodoo2/'\n",
        "second_folder_path = './Kefaya Ba2a/'\n",
        "\n",
        "transcripts_dict = add_transcripts_from_folder(transcripts_dict, first_folder_path,  'B Hodoo2')\n",
        "transcripts_dict = add_transcripts_from_folder(transcripts_dict, second_folder_path, 'Kefaya Ba2a')\n",
        "\n"
      ]
    },
    {
      "cell_type": "markdown",
      "metadata": {},
      "source": [
        "### Creating a dataframe"
      ]
    },
    {
      "cell_type": "code",
      "execution_count": 19,
      "metadata": {},
      "outputs": [
        {
          "name": "stdout",
          "output_type": "stream",
          "text": [
            "                                               title   channel   category  \\\n",
            "0  أكبر كذبة في التاريخ _ وهم الانتاجية! - _ بودك...  B Hodoo2  Education   \n",
            "1  إزاي ضاعفت دخلي بدون شغل إضافي! - عن الرزق ووس...  B Hodoo2  Education   \n",
            "2  اخطر محتوى في العالم! _ بودكاست بهدوء مع كريم ...  B Hodoo2  Education   \n",
            "3  العيد والنكد - ليه مش بنبسط في العيد؟ _ بودكاس...  B Hodoo2  Education   \n",
            "4  انا فقير _ اصحابي كلهم أغنى مني! _ بودكاست بهد...  B Hodoo2  Education   \n",
            "\n",
            "                                          transcript  \n",
            "0  النهارده الفيديو بتاعنا على\\nالانتاجيه لان الن...  \n",
            "1  انا النهارده جاي اقوللك ازاي تزود من\\nدخلك الم...  \n",
            "2  النهارده انا جاي اتكلم على واحده من اخطر\\nالظو...  \n",
            "3  بصراحه انا موضوع ان احنا مش عارفين نتبسط\\nفي ا...  \n",
            "4  مساء الفل الفيديو ده عن الرزق لو انت\\nواحد من ...  \n"
          ]
        }
      ],
      "source": [
        "data = [(title, info[0], info[1], info[2]) for title, info in transcripts_dict.items()]\n",
        "df = pd.DataFrame(data, columns=['title', 'channel', 'category', 'transcript'])\n",
        "print(df.head())\n"
      ]
    },
    {
      "cell_type": "markdown",
      "metadata": {},
      "source": [
        "### Before pre-processing analysis"
      ]
    },
    {
      "cell_type": "markdown",
      "metadata": {},
      "source": [
        "**Reveals the number of rows and columns, data types of each column, and non-null counts.**"
      ]
    },
    {
      "cell_type": "code",
      "execution_count": 20,
      "metadata": {},
      "outputs": [
        {
          "name": "stdout",
          "output_type": "stream",
          "text": [
            "<class 'pandas.core.frame.DataFrame'>\n",
            "RangeIndex: 48 entries, 0 to 47\n",
            "Data columns (total 4 columns):\n",
            " #   Column      Non-Null Count  Dtype \n",
            "---  ------      --------------  ----- \n",
            " 0   title       48 non-null     object\n",
            " 1   channel     48 non-null     object\n",
            " 2   category    47 non-null     object\n",
            " 3   transcript  48 non-null     object\n",
            "dtypes: object(4)\n",
            "memory usage: 1.6+ KB\n"
          ]
        }
      ],
      "source": [
        "df.info()"
      ]
    },
    {
      "cell_type": "markdown",
      "metadata": {},
      "source": [
        "**Identifying which columns have missing values**"
      ]
    },
    {
      "cell_type": "code",
      "execution_count": 21,
      "metadata": {},
      "outputs": [
        {
          "name": "stdout",
          "output_type": "stream",
          "text": [
            "title         0\n",
            "channel       0\n",
            "category      1\n",
            "transcript    0\n",
            "dtype: int64\n"
          ]
        }
      ],
      "source": [
        "print(df.isnull().sum())"
      ]
    },
    {
      "cell_type": "markdown",
      "metadata": {},
      "source": [
        "**Since there are some entries without categories or an annotation file, we just remove them.**"
      ]
    },
    {
      "cell_type": "code",
      "execution_count": 22,
      "metadata": {},
      "outputs": [],
      "source": [
        "df = df[df['category'].notna()]"
      ]
    },
    {
      "cell_type": "markdown",
      "metadata": {},
      "source": [
        "**Measuring number of transcript and exploring outliers**"
      ]
    },
    {
      "cell_type": "code",
      "execution_count": 23,
      "metadata": {},
      "outputs": [
        {
          "name": "stdout",
          "output_type": "stream",
          "text": [
            "count       47.000000\n",
            "mean     21778.021277\n",
            "std       9970.770825\n",
            "min        930.000000\n",
            "25%      17160.500000\n",
            "50%      20942.000000\n",
            "75%      25980.500000\n",
            "max      51920.000000\n",
            "Name: raw_length, dtype: float64\n"
          ]
        }
      ],
      "source": [
        "df['raw_length'] = df['transcript'].apply(len)\n",
        "print(df['raw_length'].describe())"
      ]
    },
    {
      "cell_type": "code",
      "execution_count": 24,
      "metadata": {},
      "outputs": [
        {
          "data": {
            "image/png": "[encoded data removed]",
            "text/plain": [
              "<Figure size 640x480 with 1 Axes>"
            ]
          },
          "metadata": {},
          "output_type": "display_data"
        }
      ],
      "source": [
        "import matplotlib.pyplot as plt\n",
        "\n",
        "plt.hist(df['raw_length'], bins=20, color='skyblue')\n",
        "plt.xlabel(\"Number of characters\")\n",
        "plt.ylabel(\"Number of transcripts\")\n",
        "plt.title(\"Distribution of Raw Transcript Lengths\")\n",
        "plt.show()"
      ]
    },
    {
      "cell_type": "code",
      "execution_count": 25,
      "metadata": {},
      "outputs": [
        {
          "name": "stdout",
          "output_type": "stream",
          "text": [
            "category\n",
            "Education         26\n",
            "People & Blogs    17\n",
            "Comedy             4\n",
            "Name: count, dtype: int64\n"
          ]
        },
        {
          "data": {
            "text/plain": [
              "<Axes: title={'center': 'Category Distribution'}, xlabel='category'>"
            ]
          },
          "execution_count": 25,
          "metadata": {},
          "output_type": "execute_result"
        },
        {
          "data": {
            "image/png": "[encoded data removed]",
            "text/plain": [
              "<Figure size 640x480 with 1 Axes>"
            ]
          },
          "metadata": {},
          "output_type": "display_data"
        }
      ],
      "source": [
        "print(df['category'].value_counts())\n",
        "df['category'].value_counts().plot(kind='bar', title='Category Distribution')"
      ]
    },
    {
      "cell_type": "code",
      "execution_count": 26,
      "metadata": {
        "vscode": {
          "languageId": "powershell"
        }
      },
      "outputs": [
        {
          "name": "stdout",
          "output_type": "stream",
          "text": [
            "['B Hodoo2' 'Kefaya Ba2a']\n",
            "channel\n",
            "B Hodoo2       26\n",
            "Kefaya Ba2a    21\n",
            "Name: count, dtype: int64\n"
          ]
        }
      ],
      "source": [
        "print(df['channel'].unique())\n",
        "print(df['channel'].value_counts())"
      ]
    },
    {
      "cell_type": "markdown",
      "metadata": {
        "vscode": {
          "languageId": "powershell"
        }
      },
      "source": [
        "**Viewing most common words before preprocessing**"
      ]
    },
    {
      "cell_type": "code",
      "execution_count": 27,
      "metadata": {
        "vscode": {
          "languageId": "powershell"
        }
      },
      "outputs": [
        {
          "name": "stdout",
          "output_type": "stream",
          "text": [
            "Top 10 most common words in raw transcripts:\n",
            "[('في', 5726), ('انا', 3823), ('ما', 3330), ('اللي', 3253), ('ده', 2993), ('انت', 2853), ('من', 2737), ('ان', 2699), ('هو', 2628), ('يعني', 2494)]\n"
          ]
        }
      ],
      "source": [
        "all_text = \" \".join(df['transcript'])\n",
        "words = all_text.split()\n",
        "word_freq = Counter(words)\n",
        "print(\"Top 10 most common words in raw transcripts:\")\n",
        "print(word_freq.most_common(10))"
      ]
    },
    {
      "cell_type": "markdown",
      "metadata": {
        "vscode": {
          "languageId": "powershell"
        }
      },
      "source": [
        "**Viewing the most common words per category**"
      ]
    },
    {
      "cell_type": "code",
      "execution_count": 28,
      "metadata": {
        "vscode": {
          "languageId": "powershell"
        }
      },
      "outputs": [
        {
          "name": "stdout",
          "output_type": "stream",
          "text": [
            "Category: Education\n",
            "  في: 3018\n",
            "  انا: 2115\n",
            "  اللي: 1838\n",
            "  ان: 1789\n",
            "  من: 1780\n",
            "Category: People & Blogs\n",
            "  في: 2135\n",
            "  انت: 1332\n",
            "  انا: 1327\n",
            "  ما: 1285\n",
            "  هو: 1259\n",
            "Category: Comedy\n",
            "  في: 573\n",
            "  ما: 399\n",
            "  يا: 391\n",
            "  انا: 381\n",
            "  انت: 364\n"
          ]
        }
      ],
      "source": [
        "def top_words_for_category(cat, n=10):\n",
        "    subset = df[df['category'] == cat]\n",
        "    combined_text = \" \".join(subset['transcript'])\n",
        "    words = combined_text.split()\n",
        "    word_counts = Counter(words)\n",
        "    return word_counts.most_common(n)\n",
        "categories = df['category'].unique()\n",
        "for cat in categories:\n",
        "    print(f\"Category: {cat}\")\n",
        "    top_words = top_words_for_category(cat, n=5)\n",
        "    for word, count in top_words:\n",
        "        print(f\"  {word}: {count}\")"
      ]
    },
    {
      "cell_type": "markdown",
      "metadata": {},
      "source": [
        "### Cleaning the data"
      ]
    },
    {
      "cell_type": "markdown",
      "metadata": {},
      "source": [
        "#### Removing numbers, non-Arabic letters and extra spaces"
      ]
    },
    {
      "cell_type": "code",
      "execution_count": 29,
      "metadata": {
        "vscode": {
          "languageId": "powershell"
        }
      },
      "outputs": [],
      "source": [
        "def clean_text(text):\n",
        "    punctuations = string.punctuation + \"؟،؛«»…ـ\"  \n",
        "    translator = str.maketrans('', '', punctuations)\n",
        "    text = text.translate(translator)  \n",
        "    text = re.sub(r'[0-9A-Za-z]', '', text)\n",
        "    text = re.sub(r'\\s+', ' ', text).strip()\n",
        "    return text"
      ]
    },
    {
      "cell_type": "code",
      "execution_count": 30,
      "metadata": {
        "vscode": {
          "languageId": "powershell"
        }
      },
      "outputs": [
        {
          "name": "stdout",
          "output_type": "stream",
          "text": [
            "                                               title   channel   category  \\\n",
            "0  أكبر كذبة في التاريخ _ وهم الانتاجية! - _ بودك...  B Hodoo2  Education   \n",
            "1  إزاي ضاعفت دخلي بدون شغل إضافي! - عن الرزق ووس...  B Hodoo2  Education   \n",
            "2  اخطر محتوى في العالم! _ بودكاست بهدوء مع كريم ...  B Hodoo2  Education   \n",
            "3  العيد والنكد - ليه مش بنبسط في العيد؟ _ بودكاس...  B Hodoo2  Education   \n",
            "4  انا فقير _ اصحابي كلهم أغنى مني! _ بودكاست بهد...  B Hodoo2  Education   \n",
            "\n",
            "                                          transcript  raw_length  \\\n",
            "0  النهارده الفيديو بتاعنا على\\nالانتاجيه لان الن...       21032   \n",
            "1  انا النهارده جاي اقوللك ازاي تزود من\\nدخلك الم...       18261   \n",
            "2  النهارده انا جاي اتكلم على واحده من اخطر\\nالظو...       18546   \n",
            "3  بصراحه انا موضوع ان احنا مش عارفين نتبسط\\nفي ا...       23874   \n",
            "4  مساء الفل الفيديو ده عن الرزق لو انت\\nواحد من ...       11462   \n",
            "\n",
            "                                    clean_transcript  \n",
            "0  النهارده الفيديو بتاعنا على الانتاجيه لان النه...  \n",
            "1  انا النهارده جاي اقوللك ازاي تزود من دخلك الما...  \n",
            "2  النهارده انا جاي اتكلم على واحده من اخطر الظوا...  \n",
            "3  بصراحه انا موضوع ان احنا مش عارفين نتبسط في ال...  \n",
            "4  مساء الفل الفيديو ده عن الرزق لو انت واحد من ا...  \n"
          ]
        }
      ],
      "source": [
        "df[\"clean_transcript\"] = df[\"transcript\"].apply(clean_text)\n",
        "print(df.head())"
      ]
    },
    {
      "cell_type": "markdown",
      "metadata": {},
      "source": [
        "### Tokenization "
      ]
    },
    {
      "cell_type": "code",
      "execution_count": 31,
      "metadata": {
        "vscode": {
          "languageId": "powershell"
        }
      },
      "outputs": [
        {
          "name": "stdout",
          "output_type": "stream",
          "text": [
            "0    [ال, ##نها, ##رد, ##ه, ال, ##فيد, ##يو, ب, ##ت...\n",
            "1    [ان, ##ا, ال, ##نها, ##رد, ##ه, جا, ##ي, ا, ##...\n",
            "2    [ال, ##نها, ##رد, ##ه, ان, ##ا, جا, ##ي, ا, ##...\n",
            "3    [ب, ##صر, ##اح, ##ه, ان, ##ا, موضوع, ان, ا, ##...\n",
            "4    [م, ##ساء, ال, ##فل, ال, ##فيد, ##يو, ده, عن, ...\n",
            "Name: bert_tokens, dtype: object\n"
          ]
        }
      ],
      "source": [
        "def bert_tokenize(df):\n",
        "    tokenizer = BertTokenizer.from_pretrained(\"bert-base-multilingual-cased\")\n",
        "    df['bert_tokens'] = df['clean_transcript'].apply(lambda x: tokenizer.tokenize(str(x)))\n",
        "bert_tokenize(df)\n",
        "print(df[\"bert_tokens\"].head())"
      ]
    },
    {
      "cell_type": "markdown",
      "metadata": {},
      "source": [
        "**We will use more dialect specific tokenizers using libraries like Farasa**"
      ]
    },
    {
      "cell_type": "code",
      "execution_count": 32,
      "metadata": {
        "vscode": {
          "languageId": "powershell"
        }
      },
      "outputs": [
        {
          "data": {
            "text/plain": [
              "0     [النهارده, ال+فيديو, بتاع+نا, على, ال+انتاجيه,...\n",
              "1     [أنا, النهارده, جاي, اقوللك, ازاي, تزود, من, د...\n",
              "2     [النهارده, أنا, جاي, اتكلم, على, واحد+ه, من, أ...\n",
              "3     [ب+صراح+ه, أنا, موضوع, ان, اح+نا, مش, عارف+ين,...\n",
              "4     [مساء, ال+فل, ال+فيديو, ده, عن, ال+رزق, لو, أن...\n",
              "6     [عند+نا, في, مصر, ل+ما, ب+يبقى, في, حد, ال+دني...\n",
              "7     [مافيش, حد, في+نا, الا, و+في, حيا+ت+ه, نسب+ه, ...\n",
              "8     [يدخل, ال+بيت, فبيقول, ل+ها, و+صف+ي, لي, ال+حر...\n",
              "9     [النهارده, أنا, جاي, اكلم+ك, في, موضوع, في, من...\n",
              "10    [ال+حلقه, دي, بقى, ب+ال+ذات, أنا, دائم+ا, يا, ...\n",
              "11    [من, حوالي, سبع, سن+ين, واحد+ه, كتب+ت, لي, في,...\n",
              "12    [ال+سلام, علي+كم, و+رحم+ه, أنت, ازاي, تدخل, عل...\n",
              "13    [أول, يا, جماع+ه, ل+ما, ب+تقول, الله, هو, من, ...\n",
              "14    [طبع+ا, ك+ال+عاده, اح+نا, اتعودنا, ان, اي, فيد...\n",
              "15    [النهارده, أنا, ب+هدي, ال+حلقه, دي, ل+نفس+ي, أ...\n",
              "16    [ينفع, اشارككم, حاج+ه, ب+دون, مثالي+ه, عاليه, ...\n",
              "17    [وكالعاده, مستمر+ين, في, ال+تمرد, على, ال+غوري...\n",
              "18    [اهل+ا, و+سهل+ا, ب+كم, في, ال+جزء, ال+تاني, من...\n",
              "19    [ال+حمد, ل+الله, ان, وقع, عل, سقف, ال+بيت, و+ا...\n",
              "20    [واحد+ه, من, اكتر, ال+حاج+ات, اللي, ممكن, تضاي...\n",
              "21    [الله, يعزكم, يا, رب, دوري, ده, و+لا, أي, بسم,...\n",
              "22    [تساؤل, قري+ت+ه, على, ال+فيسبوك, علي+ه, اكتر, ...\n",
              "23    [ما, علي+نا, ه, منتج, يا, باولو, و+الله, ال+عظ...\n",
              "24    [تقريب+ا, مفيش, حد, في+نا, و+هو, صغير, ما, شفش...\n",
              "25    [بيقول+وا, ال+إنسان, قوي, ل+ما, ب+يوصل, سن, ال...\n",
              "26    [ال+سلام, علي+كم, و+رحم+ه, الله, و+برك+ات+ه, د...\n",
              "27    [[, موسيقى, ], أنت, فكر+نا, فين, ال+سيز, اح+نا...\n",
              "28    [اهل+ا, ب+كم, مر+ه, أخرى, في, بودكاست, ال+مفضل...\n",
              "29    [[, موسيقى, ], اهل+ا, ب+كم, في, بودكاست, كفاي+...\n",
              "30    [[, موسيقى, ], اهل+ا, ب+كم, في, بودكاست, كفاي+...\n",
              "31    [اهل+ا, ب+كم, في, بودكاست, كفاي+ه, بقى, البودك...\n",
              "32    [اهل+ا, ب+كم, في, بودكاست, كفاي+ه, بقى, البودك...\n",
              "33    [اهل+ا, ب+كم, في, بودكاست, كفاي+ه, بقى, البودك...\n",
              "34    [[, موسيقى, ], اهل+ا, ب+كم, في, بودكاست, كفاي+...\n",
              "35    [[, موسيقى, ], اهل+ا, ب+كم, في, بودكاست, كفاي+...\n",
              "36    [اهل+ا, ب+كم, في, بودكاست, كفاي+ه, بقى, البودك...\n",
              "37    [[, موسيقى, ], اهل+ا, ب+كم, في, بودكاست, كفاي+...\n",
              "38    [اهل+ا, ب+كم, في, بودكاست, كفاي+ه, بقى, البودك...\n",
              "39    [[, موسيقى, ], اهل+ا, ب+كم, في, بودكاست, كفاي+...\n",
              "40    [اهل+ا, ب+كم, في, بودكاست, كفاي+ه, بقى, ال+نسخ...\n",
              "41    [اهل+ا, ب+كم, في, بودكاست, كفاي+ه, بقى, ال+نسخ...\n",
              "42    [اهل+ا, ب+كم, في, بودكاست, كفاي+ه, بقى, ال+نسخ...\n",
              "43    [اهل+ا, ب+كم, في, بودكاست, كفاي+ه, بقى, ال+نسخ...\n",
              "44    [اهل+ا, ب+كم, في, بودكاست, كفاي+ه, بقى, ال+نسخ...\n",
              "45    [اهل+ا, ب+كم, في, بودكاست, كفاي+ه, بقى, ال+نسخ...\n",
              "46    [اهل+ا, ب+كم, في, بودكاست, كفاي+ه, بقى, ال+نسخ...\n",
              "47    [اهل+ا, ب+كم, في, بودكاست, كفاي+ه, بقى, البودك...\n",
              "Name: farasa_tokens, dtype: object"
            ]
          },
          "execution_count": 32,
          "metadata": {},
          "output_type": "execute_result"
        }
      ],
      "source": [
        "def farasa_tokenize(text):\n",
        "    text = str(text)\n",
        "    segmented_text = segmenter.segment(text)\n",
        "    tokens = segmented_text.split()\n",
        "    return tokens\n",
        "\n",
        "df['farasa_tokens'] = df['transcript'].apply(farasa_tokenize)\n",
        "df['farasa_tokens'] "
      ]
    },
    {
      "cell_type": "markdown",
      "metadata": {},
      "source": [
        "**Plus signs generated with farasa tokenizition may introduce noise so we remove them**"
      ]
    },
    {
      "cell_type": "code",
      "execution_count": 33,
      "metadata": {
        "vscode": {
          "languageId": "powershell"
        }
      },
      "outputs": [
        {
          "data": {
            "text/plain": [
              "0     [النهارده, الفيديو, بتاعنا, على, الانتاجيه, لا...\n",
              "1     [أنا, النهارده, جاي, اقوللك, ازاي, تزود, من, د...\n",
              "2     [النهارده, أنا, جاي, اتكلم, على, واحده, من, أخ...\n",
              "3     [بصراحه, أنا, موضوع, ان, احنا, مش, عارفين, نتب...\n",
              "4     [مساء, الفل, الفيديو, ده, عن, الرزق, لو, أنت, ...\n",
              "6     [عندنا, في, مصر, لما, بيبقى, في, حد, الدنيا, م...\n",
              "7     [مافيش, حد, فينا, الا, وفي, حياته, نسبه, من, ا...\n",
              "8     [يدخل, البيت, فبيقول, لها, وصفي, لي, الحرامي, ...\n",
              "9     [النهارده, أنا, جاي, اكلمك, في, موضوع, في, منت...\n",
              "10    [الحلقه, دي, بقى, بالذات, أنا, دائما, يا, جماع...\n",
              "11    [من, حوالي, سبع, سنين, واحده, كتبت, لي, في, ال...\n",
              "12    [السلام, عليكم, ورحمه, أنت, ازاي, تدخل, عليا, ...\n",
              "13    [أول, يا, جماعه, لما, بتقول, الله, هو, من, فعل...\n",
              "14    [طبعا, كالعاده, احنا, اتعودنا, ان, اي, فيديو, ...\n",
              "15    [النهارده, أنا, بهدي, الحلقه, دي, لنفسي, أولا,...\n",
              "16    [ينفع, اشارككم, حاجه, بدون, مثاليه, عاليه, ومب...\n",
              "17    [وكالعاده, مستمرين, في, التمرد, على, الغوريزم,...\n",
              "18    [اهلا, وسهلا, بكم, في, الجزء, التاني, من, تسع,...\n",
              "19    [الحمد, لالله, ان, وقع, عل, سقف, البيت, والله,...\n",
              "20    [واحده, من, اكتر, الحاجات, اللي, ممكن, تضايق, ...\n",
              "21    [الله, يعزكم, يا, رب, دوري, ده, ولا, أي, بسم, ...\n",
              "22    [تساؤل, قريته, على, الفيسبوك, عليه, اكتر, من, ...\n",
              "23    [ما, علينا, ه, منتج, يا, باولو, والله, العظيم,...\n",
              "24    [تقريبا, مفيش, حد, فينا, وهو, صغير, ما, شفش, ف...\n",
              "25    [بيقولوا, الإنسان, قوي, لما, بيوصل, سن, الثلاث...\n",
              "26    [السلام, عليكم, ورحمه, الله, وبركاته, دي, نصائ...\n",
              "27    [[, موسيقى, ], أنت, فكرنا, فين, السيز, احنا, م...\n",
              "28    [اهلا, بكم, مره, أخرى, في, بودكاست, المفضل, كف...\n",
              "29    [[, موسيقى, ], اهلا, بكم, في, بودكاست, كفايه, ...\n",
              "30    [[, موسيقى, ], اهلا, بكم, في, بودكاست, كفايه, ...\n",
              "31    [اهلا, بكم, في, بودكاست, كفايه, بقى, البودكاست...\n",
              "32    [اهلا, بكم, في, بودكاست, كفايه, بقى, البودكاست...\n",
              "33    [اهلا, بكم, في, بودكاست, كفايه, بقى, البودكاست...\n",
              "34    [[, موسيقى, ], اهلا, بكم, في, بودكاست, كفايه, ...\n",
              "35    [[, موسيقى, ], اهلا, بكم, في, بودكاست, كفايه, ...\n",
              "36    [اهلا, بكم, في, بودكاست, كفايه, بقى, البودكاست...\n",
              "37    [[, موسيقى, ], اهلا, بكم, في, بودكاست, كفايه, ...\n",
              "38    [اهلا, بكم, في, بودكاست, كفايه, بقى, البودكاست...\n",
              "39    [[, موسيقى, ], اهلا, بكم, في, بودكاست, كفايه, ...\n",
              "40    [اهلا, بكم, في, بودكاست, كفايه, بقى, النسخه, ا...\n",
              "41    [اهلا, بكم, في, بودكاست, كفايه, بقى, النسخه, ا...\n",
              "42    [اهلا, بكم, في, بودكاست, كفايه, بقى, النسخه, ا...\n",
              "43    [اهلا, بكم, في, بودكاست, كفايه, بقى, النسخه, ا...\n",
              "44    [اهلا, بكم, في, بودكاست, كفايه, بقى, النسخه, ا...\n",
              "45    [اهلا, بكم, في, بودكاست, كفايه, بقى, النسخه, ا...\n",
              "46    [اهلا, بكم, في, بودكاست, كفايه, بقى, النسخه, ا...\n",
              "47    [اهلا, بكم, في, بودكاست, كفايه, بقى, البودكاست...\n",
              "Name: farasa_tokens, dtype: object"
            ]
          },
          "execution_count": 33,
          "metadata": {},
          "output_type": "execute_result"
        }
      ],
      "source": [
        "def remove_plus_signs(tokens):\n",
        "    return [token.replace('+', '') for token in tokens]\n",
        "\n",
        "df['farasa_tokens'] = df['farasa_tokens'].apply(remove_plus_signs)\n",
        "df['farasa_tokens']"
      ]
    },
    {
      "cell_type": "markdown",
      "metadata": {},
      "source": [
        "### Stop word removal"
      ]
    },
    {
      "cell_type": "markdown",
      "metadata": {},
      "source": [
        "**Analysing the stop word removal in each in transcript**"
      ]
    },
    {
      "cell_type": "code",
      "execution_count": 34,
      "metadata": {
        "vscode": {
          "languageId": "powershell"
        }
      },
      "outputs": [],
      "source": [
        "arabic_stopwords = set(stopwords.words('arabic'))"
      ]
    },
    {
      "cell_type": "code",
      "execution_count": 35,
      "metadata": {
        "vscode": {
          "languageId": "powershell"
        }
      },
      "outputs": [],
      "source": [
        "def count_stopwords(tokens, stopwords_set):\n",
        "    return sum(1 for token in tokens if token in stopwords_set)"
      ]
    },
    {
      "cell_type": "code",
      "execution_count": 36,
      "metadata": {
        "vscode": {
          "languageId": "powershell"
        }
      },
      "outputs": [],
      "source": [
        "# df['stopword_count'] = df['farasa_tokens'].apply(lambda tokens: count_stopwords(tokens, arabic_stopwords))\n",
        "df['total_tokens'] = df['farasa_tokens'].apply(len)\n",
        "\n",
        "# print(df[['stopword_count', 'total_tokens']].head())"
      ]
    },
    {
      "cell_type": "markdown",
      "metadata": {},
      "source": [
        "**Removing the stop words**"
      ]
    },
    {
      "cell_type": "code",
      "execution_count": 37,
      "metadata": {
        "vscode": {
          "languageId": "powershell"
        }
      },
      "outputs": [],
      "source": [
        "def remove_stopwords(tokens, stopwords_set):\n",
        "    return [token for token in tokens if token not in stopwords_set]"
      ]
    },
    {
      "cell_type": "code",
      "execution_count": 38,
      "metadata": {
        "vscode": {
          "languageId": "powershell"
        }
      },
      "outputs": [
        {
          "name": "stdout",
          "output_type": "stream",
          "text": [
            "   total_tokens  total_tokens_no_stop\n",
            "0          4192                  3242\n",
            "1          3652                  2883\n",
            "2          3532                  2756\n",
            "3          4657                  3607\n",
            "4          2308                  1756\n"
          ]
        }
      ],
      "source": [
        "df['tokens_no_stop'] = df['farasa_tokens'].apply(lambda tokens: remove_stopwords(tokens, arabic_stopwords))\n",
        "df['total_tokens_no_stop'] = df['tokens_no_stop'].apply(len)\n",
        "print(df[['total_tokens', 'total_tokens_no_stop']].head())"
      ]
    },
    {
      "cell_type": "markdown",
      "metadata": {},
      "source": [
        "### Removing custom egyptian stop words\n"
      ]
    },
    {
      "cell_type": "code",
      "execution_count": 39,
      "metadata": {
        "vscode": {
          "languageId": "powershell"
        }
      },
      "outputs": [
        {
          "name": "stdout",
          "output_type": "stream",
          "text": [
            "Candidate stopwords based on low IDF: ['اب', 'ابتدت', 'ابتدى', 'ابتدي', 'ابتديت', 'ابدا', 'ابراهيم', 'ابسط', 'ابص', 'ابقى', 'ابن', 'ابني', 'ابو', 'ابويا', 'ابيض', 'اتس', 'اتفرج', 'اتكلم', 'اتكلمت', 'اتكلمنا', 'اتمنى', 'اثنين', 'اجري', 'اجي', 'اجيب', 'احد', 'احساس', 'احسن', 'احمد', 'احنا', 'احيانا', 'اختبار', 'اخد', 'اخر', 'اخرى', 'اخش', 'اخويا', 'اخي', 'ادي', 'اذا', 'ارباع', 'اربع', 'اربعه', 'ارجع', 'اروح', 'از', 'ازاي', 'اس', 'اسئله', 'اساس', 'اسال', 'استماعكم', 'اسف', 'اسكندريه', 'اسم', 'اسماعيل', 'اسمع', 'اسمه', 'اسمها', 'اشتغل', 'اشوف', 'اصحاب', 'اصحابي', 'اصل', 'اصلا', 'اطلع', 'اعتقد', 'اعرف', 'اعرفش', 'اعلم', 'اعلى', 'اعمل', 'اف', 'افتح', 'افتكر', 'افضل', 'افكار', 'افنت', 'افهم', 'اقدر', 'اقرب', 'اقسم', 'اقعد', 'اقل', 'اقول', 'اقوله', 'اقولها', 'اكبر', 'اكت', 'اكتب', 'اكتر', 'اكثر', 'اكل', 'اكني', 'اكون', 'اكيد', 'ال', 'الا', 'الاتنين', 'الاثر', 'الاثنين', 'الاخر', 'الاخره', 'الاخرين', 'الارض', 'الاساس', 'الاسبوع', 'الاسلام', 'الاشياء', 'الاعلى', 'الافكار', 'الاكل', 'الالم', 'الامر', 'الامور', 'الان', 'الانسان', 'الاول', 'الاولى', 'الايام', 'الايه', 'الباب', 'البتاع', 'البحر', 'البودكاست', 'البيت', 'التاني', 'التانيه', 'التجربه', 'التعامل', 'التعليقات', 'التمرين', 'الثاني', 'الثانيه', 'الجانب', 'الجاي', 'الجايه', 'الجزء', 'الجنه', 'الجيم', 'الحاجات', 'الحاجه', 'الحاله', 'الحب', 'الحته', 'الحديث', 'الحق', 'الحقيقه', 'الحقيقي', 'الحلقات', 'الحلقه', 'الحلوه', 'الحمد', 'الحوار', 'الحياه', 'الخولي', 'الخير', 'الدروس', 'الدنيا', 'الدين', 'الذي', 'الراجل', 'الرحله', 'الرحمن', 'الرحيم', 'الرزق', 'الرياضه', 'السؤال', 'الساعه', 'السلام', 'السنه', 'السنين', 'السوبر', 'الشارع', 'الشباب', 'الشخص', 'الشخصيه', 'الشركه', 'الشغل', 'الشهر', 'الشيء', 'الشيخ', 'الصبح', 'الصح', 'الصحابه', 'الصحه', 'الصلاه', 'الضعيفه', 'الطبيعي', 'العالم', 'العب', 'العربي', 'العربيه', 'العظيم', 'العلاقات', 'العلاقه', 'العلم', 'العيال', 'الف', 'الفاظ', 'الفتره', 'الفرق', 'الفكره', 'الفل', 'الفلاني', 'الفلوس', 'الفيديو', 'القادمه', 'القاهره', 'القران', 'القصه', 'القلوب', 'القهوه', 'الكبير', 'الكلام', 'الكلمه', 'الكوره', 'الكون', 'اللحظه', 'الله', 'اللهم', 'اللي', 'الم', 'المال', 'المجتمع', 'المحتوى', 'المدرسه', 'المشاعر', 'المشكله', 'المفروض', 'المفضل', 'المكان', 'المهم', 'المواضيع', 'الموبايل', 'الموضوع', 'الموقف', 'الميه', 'الناحيه', 'النار', 'الناس', 'النبي', 'النص', 'النظام', 'النفس', 'النفسي', 'النفسيه', 'النقطه', 'النهارده', 'النوم', 'اله', 'الهدف', 'الواحد', 'الواد', 'الوحيد', 'الوحيده', 'الوضع', 'الوقت', 'الولد', 'الى', 'اليوتيوب', 'اليوم', 'ام', 'اما', 'امبارح', 'امتى', 'امر', 'امشي', 'امك', 'امه', 'امور', 'امي', 'ان', 'انا', 'انت', 'انتم', 'انتهى', 'انتوا', 'انجوي', 'انزل', 'انسان', 'انك', 'انما', 'انه', 'انها', 'انهم', 'اني', 'اه', 'اهدى', 'اهل', 'اهلا', 'اهم', 'اهو', 'اهي', 'او', 'اوت', 'اوريدي', 'اوعى', 'اوفنسيف', 'اول', 'اولا', 'اي', 'ايا', 'ايام', 'ايدك', 'ايده', 'ايه', 'ايوه', 'باب', 'بابا', 'بابي', 'باذن', 'باشا', 'بال', 'بالذات', 'بالراحه', 'بالضبط', 'بالظبط', 'بالعكس', 'بالك', 'بالكم', 'بالله', 'باللي', 'بالليل', 'بالنسبه', 'بان', 'باي', 'بايه', 'ببص', 'ببقى', 'بت', 'بتاخد', 'بتاع', 'بتاعتك', 'بتاعتنا', 'بتاعته', 'بتاعتها', 'بتاعتي', 'بتاعك', 'بتاعنا', 'بتاعه', 'بتاعها', 'بتاعي', 'بتاكل', 'بتبتدي', 'بتبدا', 'بتبص', 'بتبقى', 'بتتعامل', 'بتتكلم', 'بتجيب', 'بتحرك', 'بتحس', 'بتحصل', 'بتدور', 'بتدي', 'بتروح', 'بتسمع', 'بتشتغل', 'بتشوف', 'بتطلع', 'بتعدي', 'بتعمل', 'بتفرج', 'بتفرق', 'بتقعد', 'بتقول', 'بتكلم', 'بتلاقي', 'بتوع', 'بتيجي', 'بجد', 'بحاجه', 'بحاول', 'بحب', 'بحبش', 'بحس', 'بخير', 'بدا', 'بدات', 'بدايه', 'بدل', 'بدون', 'برده', 'برض', 'برضو', 'بره', 'بروح', 'برودكشن', 'بس', 'بسبب', 'بسرعه', 'بسم', 'بسيط', 'بشتغل', 'بشكل', 'بشوف', 'بشيء', 'بص', 'بصراحه', 'بصوا', 'بطريقه', 'بعد', 'بعدها', 'بعض', 'بعمل', 'بعيد', 'بقت', 'بقتش', 'بقعد', 'بقول', 'بقوللك', 'بقوله', 'بقى', 'بقي', 'بقيت', 'بقيه', 'بكتير', 'بكره', 'بكل', 'بكم', 'بل', 'بلاش', 'بلاقي', 'بلال', 'بلس', 'بما', 'بناء', 'بنت', 'بنتكلم', 'بنسبه', 'بنشوف', 'بنعمل', 'بنفس', 'بنقول', 'به', 'بها', 'بهذا', 'بودكاست', 'بودكاستك', 'بي', 'بياخد', 'بيبتدي', 'بيبص', 'بيبقوا', 'بيبقى', 'بيت', 'بيتقال', 'بيتك', 'بيتكلم', 'بيتكلموا', 'بيته', 'بيجي', 'بيجيب', 'بيحاول', 'بيحب', 'بيحس', 'بيحصل', 'بيراعي', 'بيروح', 'بيزعلوا', 'بيشتغل', 'بيشوف', 'بيطلع', 'بيعرف', 'بيعمل', 'بيعملوا', 'بيفرق', 'بيقعد', 'بيقول', 'بيقولوا', 'بيلعب', 'بين', 'بينا', 'بينزل', 'بينك', 'بيني', 'بيه', 'بيها', 'بيهم', 'تاخد', 'تاكل', 'تاني', 'تانيه', 'تبتدي', 'تبدا', 'تبص', 'تبقاش', 'تبقى', 'تتعلم', 'تتفرج', 'تجاه', 'تجيب', 'تجيش', 'تحت', 'تحس', 'تحصل', 'تحط', 'تخش', 'تخلص', 'تخيل', 'تدخل', 'تدور', 'ترجع', 'تروح', 'تسع', 'تسمع', 'تشتغل', 'تشوف', 'تصلي', 'تطلع', 'تعال', 'تعالوا', 'تعالى', 'تعبان', 'تعرف', 'تعلم', 'تعمل', 'تعملها', 'تغير', 'تفتح', 'تفكر', 'تقدر', 'تقديم', 'تقريبا', 'تقعد', 'تقعدش', 'تقف', 'تقول', 'تك', 'تكون', 'تكونوا', 'تلاقي', 'تلاقيه', 'تلعب', 'تمام', 'تماما', 'تمشي', 'تنزل', 'تو', 'توصل', 'تيجي', 'ثاني', 'ثانيه', 'ثلاث', 'ثلاثه', 'ثواني', 'جا', 'جاب', 'جامد', 'جاي', 'جايه', 'جبت', 'جت', 'جدا', 'جدعان', 'جديد', 'جديده', 'جزء', 'جزاكم', 'جسمك', 'جماعه', 'جميعا', 'جميل', 'جميله', 'جنب', 'جنيه', 'جواه', 'جوايا', 'جوه', 'جيت', 'حابب', 'حاجات', 'حاجتين', 'حاجه', 'حاسس', 'حاضر', 'حالا', 'حاله', 'حب', 'حبيبي', 'حته', 'حتى', 'حد', 'حدش', 'حرام', 'حساب', 'حسب', 'حسن', 'حسيت', 'حصل', 'حصلت', 'حضرتك', 'حط', 'حق', 'حقيقي', 'حلقات', 'حلقتنا', 'حلقه', 'حلو', 'حلوه', 'حوار', 'حوارات', 'حواليك', 'حواليكم', 'حوالين', 'حياتك', 'حياتنا', 'حياته', 'حياتي', 'حياه', 'خالص', 'خايف', 'خد', 'خدت', 'خش', 'خصوصا', 'خلا', 'خلاص', 'خلال', 'خلص', 'خلصت', 'خلق', 'خلقه', 'خلي', 'خليك', 'خلينا', 'خليني', 'خمس', 'خمسه', 'خير', 'دائما', 'داخل', 'دايما', 'دخل', 'دخلت', 'دعوه', 'دقاق', 'دقيقه', 'دلوقتي', 'دم', 'دماغك', 'دماغي', 'دنيا', 'ده', 'دوت', 'دور', 'دول', 'دي', 'ديت', 'دين', 'ذا', 'ذلك', 'راجل', 'راح', 'راس', 'راضي', 'رايح', 'رايد', 'رب', 'ربع', 'ربنا', 'رجع', 'رجل', 'رحت', 'رحله', 'رحمه', 'رزق', 'رغم', 'رقم', 'رمضان', 'روح', 'زعلان', 'زمان', 'زي', 'زياده', 'سؤال', 'ساعات', 'ساعه', 'سامحوني', 'سبب', 'سبحان', 'سبحانه', 'سبع', 'ست', 'سته', 'سلام', 'سمع', 'سن', 'سنه', 'سنين', 'سهله', 'سواء', 'سوري', 'سي', 'سيدنا', 'سيدي', 'شاء', 'شاطر', 'شايف', 'شايفه', 'شايفين', 'شباب', 'شبه', 'شخص', 'شخصيا', 'شخصيه', 'شديد', 'شركه', 'شعور', 'شغال', 'شغل', 'شغلي', 'شفت', 'شفتوا', 'شكرا', 'شهر', 'شهور', 'شوف', 'شويه', 'شيء', 'شيخ', 'صاحب', 'صاحبه', 'صح', 'صحابي', 'صحيح', 'صديقي', 'صعب', 'صعبه', 'صغير', 'صغيره', 'صغيرين', 'صوره', 'ضد', 'ضرب', 'طالع', 'طالما', 'طب', 'طبعا', 'طبيعه', 'طبيعي', 'طريق', 'طفل', 'طلع', 'طلعت', 'طنط', 'طول', 'طيب', 'طيبه', 'عادي', 'عارف', 'عارفه', 'عارفين', 'عالم', 'عام', 'عامل', 'عامله', 'عاملين', 'عامه', 'عايز', 'عايزك', 'عايزه', 'عايزين', 'عايش', 'عباده', 'عباره', 'عبد', 'عجبتكم', 'عدم', 'عربيه', 'عرفت', 'عز', 'عشان', 'عكس', 'عل', 'علاء', 'علاقه', 'علشان', 'علم', 'علمي', 'على', 'علي', 'عليا', 'عليك', 'عليكم', 'علينا', 'عليه', 'عليها', 'عليهم', 'عم', 'عمال', 'عماله', 'عمر', 'عمرك', 'عمره', 'عمري', 'عمل', 'عملت', 'عملنا', 'عمله', 'عملوا', 'عن', 'عند', 'عندك', 'عندكش', 'عندنا', 'عنده', 'عندها', 'عندهم', 'عندوش', 'عندي', 'عنديش', 'عنك', 'عنه', 'عنها', 'عني', 'عيال', 'عيد', 'عيش', 'عين', 'عينك', 'عيني', 'غالبا', 'غريبه', 'غصب', 'غلط', 'غير', 'فات', 'فاتت', 'فاحنا', 'فاذا', 'فاكر', 'فاكرين', 'فالانسان', 'فالله', 'فاللي', 'فالناس', 'فان', 'فانا', 'فانت', 'فاهم', 'فاهمين', 'فبالتالي', 'فتبت', 'فتح', 'فتره', 'فتلاقي', 'فجاه', 'فخلاص', 'فده', 'فدي', 'فرصه', 'فرق', 'فرقت', 'فشخ', 'فعشان', 'فعل', 'فعلا', 'ففي', 'فقال', 'فقط', 'فكان', 'فكر', 'فكرت', 'فكره', 'فلا', 'فلان', 'فلما', 'فلو', 'فلوس', 'فم', 'فما', 'فمش', 'فمن', 'فهم', 'فهنا', 'فهو', 'فهي', 'فور', 'فوق', 'في', 'فيا', 'فيبت', 'فيجنز', 'فيديو', 'فيديوهات', 'فيش', 'فيفرت', 'فيقول', 'فيك', 'فيلم', 'فين', 'فينا', 'فيه', 'فيها', 'فيهاش', 'فيهم', 'قادر', 'قادمه', 'قاعد', 'قاعده', 'قاعدين', 'قال', 'قالوا', 'قبل', 'قد', 'قدام', 'قدامك', 'قدر', 'قدره', 'قررت', 'قريب', 'قسما', 'قصدي', 'قصص', 'قصه', 'قعد', 'قعدت', 'ققول', 'قلب', 'قلبك', 'قلبي', 'قلت', 'قلنا', 'قليل', 'قهوه', 'قول', 'قوه', 'قوي', 'قيمه', 'كام', 'كامل', 'كامله', 'كان', 'كانت', 'كانسان', 'كانش', 'كانوا', 'كبير', 'كبيره', 'كتاب', 'كتابه', 'كتب', 'كتر', 'كتير', 'كتيره', 'كثير', 'كده', 'كذا', 'كريم', 'كفايه', 'كل', 'كلام', 'كلمه', 'كلنا', 'كله', 'كلها', 'كلهم', 'كم', 'كمان', 'كميه', 'كنا', 'كنت', 'كنتش', 'كورس', 'كوره', 'كويس', 'كويسه', 'كيف', 'لا', 'لاث', 'لاثه', 'لازم', 'لازمه', 'لاصحاب', 'لاقي', 'لان', 'لانك', 'لانه', 'لاي', 'لحد', 'لحسن', 'لحظه', 'لدرجه', 'لذيذ', 'لسعاده', 'لسه', 'لقيت', 'لك', 'لكل', 'لكم', 'لكن', 'للناس', 'لله', 'لم', 'لما', 'لن', 'لنا', 'لنفسك', 'لنفسي', 'له', 'لها', 'لهذه', 'لهم', 'لهنا', 'لو', 'لوحده', 'لي', 'ليا', 'ليك', 'ليه', 'ليها', 'مؤمن', 'ما', 'مات', 'ماركت', 'ماسك', 'ماشي', 'ماشيه', 'ماشيين', 'ماعرفش', 'مافيش', 'مال', 'مالك', 'مالكش', 'مالهاش', 'مالوش', 'ماما', 'مان', 'ماي', 'مبسوط', 'متاكد', 'متخيل', 'متضايق', 'مثلا', 'مجموعه', 'مجهود', 'محتاج', 'محتاجه', 'محتاجين', 'محتوى', 'محمد', 'مختلف', 'مختلفه', 'مرات', 'مراتي', 'مرحله', 'مركز', 'مره', 'مساحه', 'مستمر', 'مستني', 'مستوى', 'مش', 'مشاعر', 'مشاكل', 'مشكله', 'مصر', 'مع', 'معاك', 'معاكم', 'معانا', 'معاه', 'معاها', 'معاهم', 'معايا', 'معرفش', 'معظم', 'معك', 'معلش', 'معلم', 'معناه', 'معنى', 'معه', 'معها', 'معهم', 'معي', 'معين', 'معينه', 'مفشوخ', 'مفيش', 'مقتنع', 'مكان', 'مكانه', 'ممكن', 'من', 'مناسب', 'مناسبه', 'منظور', 'منك', 'مننا', 'منه', 'منها', 'منهم', 'مني', 'منين', 'مهم', 'مهما', 'مهمه', 'مواضيع', 'موجود', 'موجوده', 'موسيقى', 'موضوع', 'موقف', 'ميديا', 'مين', 'ميه', 'ميوزك', 'ناخد', 'نازل', 'ناس', 'نافع', 'نايم', 'نبدا', 'نبص', 'نبقى', 'نتعلم', 'نتكلم', 'نجيب', 'نخش', 'ندخل', 'ندى', 'نرجع', 'نروح', 'نزل', 'نزلت', 'نشوف', 'نص', 'نضيفه', 'نظام', 'نظر', 'نعتبره', 'نعرف', 'نعمل', 'نفس', 'نفسك', 'نفسنا', 'نفسه', 'نفسها', 'نفسي', 'نفسيا', 'نفسيه', 'نقدر', 'نقطه', 'نقعد', 'نقول', 'نكون', 'نهار', 'نهايه', 'نو', 'نور', 'نوع', 'نيجي', 'ها', 'هات', 'هبقى', 'هتبقى', 'هتعرف', 'هتعمل', 'هتقعد', 'هتقول', 'هتكلم', 'هتلاقي', 'هتيجي', 'هذا', 'هذه', 'هضايق', 'هعرف', 'هعمل', 'هقعد', 'هقول', 'هل', 'هم', 'هما', 'هموت', 'هنا', 'هناك', 'هنتكلم', 'هنعمل', 'هنلاقي', 'هو', 'هوب', 'هوست', 'هي', 'هيبقى', 'هيجي', 'هيحصل', 'هيطلع', 'هيعمل', 'هيكون', 'هينفع', 'وا', 'وابقى', 'واحد', 'واحده', 'واحنا', 'واخد', 'واعمل', 'واقف', 'واقول', 'وال', 'والاخره', 'والحاجات', 'والدنيا', 'والسلام', 'والكلام', 'والله', 'واللي', 'والناس', 'والنبي', 'وان', 'وانا', 'وانت', 'وانتم', 'واي', 'وايه', 'وبالتالي', 'وبتاع', 'وبركاته', 'وبعد', 'وبين', 'وتبقى', 'وتشوف', 'وتعالى', 'وتعمل', 'وتقعد', 'وتقول', 'وجهه', 'وحاجات', 'وحش', 'وحشه', 'وخلاص', 'ود', 'ودايما', 'وده', 'ودي', 'وذ', 'ورا', 'وراح', 'وراها', 'وربنا', 'ورحمه', 'ورقه', 'وزي', 'وسط', 'وش', 'وصل', 'وصلت', 'وطبعا', 'وعايز', 'وعشان', 'وعلى', 'وعندي', 'وفي', 'وقال', 'وقت', 'وقف', 'وكان', 'وكده', 'وكل', 'وكمان', 'ولا', 'ولاد', 'ولازم', 'ولذلك', 'ولسه', 'ولكن', 'ولما', 'ولو', 'وليه', 'وما', 'ومش', 'وممكن', 'ومن', 'وناس', 'ونشوفكم', 'ونص', 'وهم', 'وهنا', 'وهو', 'وهي', 'ويا', 'ويبتدي', 'ويجي', 'ويعني', 'ويقول', 'يا', 'ياخد', 'يبتدي', 'يبدا', 'يبقى', 'يتخض', 'يتكلم', 'يجب', 'يجي', 'يجيب', 'يحب', 'يحس', 'يحصل', 'يحط', 'يخش', 'يدخل', 'يديك', 'يروح', 'يسمع', 'يطلع', 'يعرف', 'يعلم', 'يعمل', 'يعملوا', 'يعني', 'يفتح', 'يفضل', 'يقدر', 'يقعد', 'يقل', 'يقول', 'يقوللك', 'يكون', 'يلا', 'يمكن', 'ينزل', 'ينفع', 'ينفعش', 'يو', 'يور', 'يوم']\n"
          ]
        }
      ],
      "source": [
        "vectorizer = TfidfVectorizer(use_idf=True)\n",
        "tfidf_matrix = vectorizer.fit_transform(df['clean_transcript'])\n",
        "idf = vectorizer.idf_\n",
        "terms = vectorizer.get_feature_names_out()\n",
        "term_idf = list(zip(terms, idf))\n",
        "common_words = [term for term, score in term_idf if score < np.percentile(idf, 5)]\n",
        "print(\"Candidate stopwords based on low IDF:\", common_words)\n"
      ]
    },
    {
      "cell_type": "code",
      "execution_count": 40,
      "metadata": {
        "vscode": {
          "languageId": "powershell"
        }
      },
      "outputs": [
        {
          "data": {
            "text/html": [
              "<div>\n",
              "<style scoped>\n",
              "    .dataframe tbody tr th:only-of-type {\n",
              "        vertical-align: middle;\n",
              "    }\n",
              "\n",
              "    .dataframe tbody tr th {\n",
              "        vertical-align: top;\n",
              "    }\n",
              "\n",
              "    .dataframe thead th {\n",
              "        text-align: right;\n",
              "    }\n",
              "</style>\n",
              "<table border=\"1\" class=\"dataframe\">\n",
              "  <thead>\n",
              "    <tr style=\"text-align: right;\">\n",
              "      <th></th>\n",
              "      <th>total_tokens</th>\n",
              "      <th>total_tokens_no_stop</th>\n",
              "      <th>total_tokens_no_stop_custom</th>\n",
              "    </tr>\n",
              "  </thead>\n",
              "  <tbody>\n",
              "    <tr>\n",
              "      <th>0</th>\n",
              "      <td>4192</td>\n",
              "      <td>3242</td>\n",
              "      <td>1315</td>\n",
              "    </tr>\n",
              "    <tr>\n",
              "      <th>1</th>\n",
              "      <td>3652</td>\n",
              "      <td>2883</td>\n",
              "      <td>1292</td>\n",
              "    </tr>\n",
              "    <tr>\n",
              "      <th>2</th>\n",
              "      <td>3532</td>\n",
              "      <td>2756</td>\n",
              "      <td>1191</td>\n",
              "    </tr>\n",
              "    <tr>\n",
              "      <th>3</th>\n",
              "      <td>4657</td>\n",
              "      <td>3607</td>\n",
              "      <td>1555</td>\n",
              "    </tr>\n",
              "    <tr>\n",
              "      <th>4</th>\n",
              "      <td>2308</td>\n",
              "      <td>1756</td>\n",
              "      <td>739</td>\n",
              "    </tr>\n",
              "  </tbody>\n",
              "</table>\n",
              "</div>"
            ],
            "text/plain": [
              "   total_tokens  total_tokens_no_stop  total_tokens_no_stop_custom\n",
              "0          4192                  3242                         1315\n",
              "1          3652                  2883                         1292\n",
              "2          3532                  2756                         1191\n",
              "3          4657                  3607                         1555\n",
              "4          2308                  1756                          739"
            ]
          },
          "execution_count": 40,
          "metadata": {},
          "output_type": "execute_result"
        }
      ],
      "source": [
        "egyptian_stopwords = {\"بلاش\",  \"ايه\",  \"يعني\",  \"أوي\",  \"اللي\",\"ان\",\"ده\" , \"مش\",\"دي\",\"بقى\", \"كده\",\"مالوش\",\"بس\",\"ال\", \"ان\", \"عل\", \"كد\", \"نا\", \"بتاع\"\n",
        "}\n",
        "common_words = common_words + list(egyptian_stopwords)\n",
        "df['tokens_no_stop_additional'] = df['tokens_no_stop'].apply(lambda tokens: remove_stopwords(tokens, set(common_words)))\n",
        "df['total_tokens_no_stop_custom'] = df['tokens_no_stop_additional'].apply(len)\n",
        "df[['total_tokens','total_tokens_no_stop', 'total_tokens_no_stop_custom']].head()"
      ]
    },
    {
      "cell_type": "markdown",
      "metadata": {
        "vscode": {
          "languageId": "powershell"
        }
      },
      "source": [
        "### Stemming and Lemmatization"
      ]
    },
    {
      "cell_type": "markdown",
      "metadata": {},
      "source": [
        "**Stemming**"
      ]
    },
    {
      "cell_type": "code",
      "execution_count": 41,
      "metadata": {
        "vscode": {
          "languageId": "powershell"
        }
      },
      "outputs": [
        {
          "data": {
            "text/plain": [
              "['ناج',\n",
              " '500',\n",
              " 'قنه',\n",
              " 'حسب',\n",
              " 'شهد',\n",
              " 'سبع',\n",
              " '12',\n",
              " '48',\n",
              " 'ضرب',\n",
              " 'ثمن',\n",
              " 'هيبق',\n",
              " '500',\n",
              " 'مان',\n",
              " 'نجه',\n",
              " 'يحق',\n",
              " 'كلم',\n",
              " 'ناج',\n",
              " 'يحق',\n",
              " 'ليش',\n",
              " 'كلم',\n",
              " 'ناج',\n",
              " 'ضرب',\n",
              " 'مثل',\n",
              " 'مثل',\n",
              " 'رقم',\n",
              " 'تقل',\n",
              " 'صحح',\n",
              " 'كذب',\n",
              " 'تبع',\n",
              " 'جيد',\n",
              " 'سبسكرايب',\n",
              " 'فعل',\n",
              " 'جرس',\n",
              " 'اعل',\n",
              " 'لزم',\n",
              " 'زلش',\n",
              " 'سبع',\n",
              " 'لمد',\n",
              " 'مان',\n",
              " 'سبي',\n",
              " 'رقم',\n",
              " 'نزل',\n",
              " 'مري',\n",
              " 'نزل',\n",
              " 'سبع',\n",
              " 'هنت',\n",
              " 'سسي',\n",
              " 'شغل',\n",
              " 'سسي',\n",
              " 'تلي',\n",
              " 'تزم',\n",
              " 'يدو',\n",
              " 'سبع',\n",
              " 'بقم',\n",
              " 'جيت',\n",
              " 'جهد',\n",
              " 'هبد',\n",
              " 'اقل',\n",
              " 'ناج',\n",
              " 'هدء',\n",
              " 'اعل',\n",
              " 'جنب',\n",
              " 'دخل',\n",
              " 'كلش',\n",
              " 'اصل',\n",
              " 'ناج',\n",
              " 'تعل',\n",
              " 'علم',\n",
              " 'وأن',\n",
              " 'قولل',\n",
              " 'بعل',\n",
              " 'حطل',\n",
              " 'رقم',\n",
              " 'خدع',\n",
              " 'لنس',\n",
              " '5',\n",
              " '',\n",
              " '7',\n",
              " 'تسو',\n",
              " '12',\n",
              " 'ضرب',\n",
              " '12',\n",
              " '3',\n",
              " '24',\n",
              " 'ترح',\n",
              " 'ديل',\n",
              " 'علم',\n",
              " 'ماف',\n",
              " 'حسب',\n",
              " 'طقي',\n",
              " 'صحح',\n",
              " 'وحج',\n",
              " '1',\n",
              " '1',\n",
              " 'سسو',\n",
              " 'ماكدبتش',\n",
              " 'خبط',\n",
              " 'رقم',\n",
              " 'قنع',\n",
              " 'مخك',\n",
              " 'طقي',\n",
              " 'سمع',\n",
              " 'خلف',\n",
              " 'ناج',\n",
              " 'عمل',\n",
              " 'وصل',\n",
              " '500',\n",
              " 'ناج',\n",
              " 'يرج',\n",
              " 'عقل',\n",
              " 'خرج',\n",
              " 'يجب',\n",
              " 'حصلش',\n",
              " 'ثمن',\n",
              " 'فتر',\n",
              " 'نزل',\n",
              " 'فتر',\n",
              " 'زلش',\n",
              " 'شهر',\n",
              " 'خفي',\n",
              " 'شهر',\n",
              " 'عمل',\n",
              " 'يوتيوبرز',\n",
              " 'هنلعب',\n",
              " 'ختف',\n",
              " 'وعد',\n",
              " 'ككريم',\n",
              " 'اعل',\n",
              " 'للل',\n",
              " 'تثر',\n",
              " 'سلب',\n",
              " 'جيت',\n",
              " 'هنه',\n",
              " 'جنب',\n",
              " 'امت',\n",
              " 'صنع',\n",
              " 'راج',\n",
              " 'شرك',\n",
              " 'زنس',\n",
              " 'شغل',\n",
              " 'سسي',\n",
              " 'علم',\n",
              " 'دره',\n",
              " 'بدر',\n",
              " 'شرك',\n",
              " 'شتغل',\n",
              " 'علم',\n",
              " 'كونس',\n",
              " 'بصح',\n",
              " 'قبل',\n",
              " 'سؤل',\n",
              " 'درس',\n",
              " 'ذكر',\n",
              " 'بطر',\n",
              " 'بخد',\n",
              " 'شهد',\n",
              " 'بدي',\n",
              " 'طلع',\n",
              " 'نتج',\n",
              " 'ودر',\n",
              " 'كسر',\n",
              " 'كلش',\n",
              " 'ناج',\n",
              " 'اول',\n",
              " 'حسس',\n",
              " 'حرك',\n",
              " 'نتج',\n",
              " 'وأن',\n",
              " 'نتج',\n",
              " 'طرق',\n",
              " 'لالإنتاج',\n",
              " 'نتج',\n",
              " 'كسر',\n",
              " 'ناج',\n",
              " 'ذات',\n",
              " 'ناج',\n",
              " 'وجه',\n",
              " 'لمر',\n",
              " 'دنو',\n",
              " 'نتج',\n",
              " 'ذكر',\n",
              " 'نتج',\n",
              " 'ناج',\n",
              " 'شمل',\n",
              " 'جنب',\n",
              " 'دعو',\n",
              " 'فرد',\n",
              " 'انه',\n",
              " 'اده',\n",
              " 'خلك',\n",
              " 'سكر',\n",
              " 'انس',\n",
              " 'وقت',\n",
              " 'جرد',\n",
              " 'سكر',\n",
              " 'حقق',\n",
              " 'سكر',\n",
              " 'انس',\n",
              " 'حقق',\n",
              " 'سكر',\n",
              " 'انس',\n",
              " 'قتل',\n",
              " 'يعل',\n",
              " 'انكزايتي',\n",
              " 'قلل',\n",
              " 'ثقة',\n",
              " 'نفس',\n",
              " 'يخل',\n",
              " 'انس',\n",
              " 'بحل',\n",
              " 'سيئ',\n",
              " 'يعل',\n",
              " 'جلد',\n",
              " 'ومع',\n",
              " 'عقل',\n",
              " 'فكر',\n",
              " 'عمق',\n",
              " 'تخل',\n",
              " 'بتف',\n",
              " 'عمل',\n",
              " 'عرفتش',\n",
              " 'عمل',\n",
              " 'فأن',\n",
              " 'بخل',\n",
              " 'هام',\n",
              " 'مثل',\n",
              " 'خطر',\n",
              " 'مخي',\n",
              " 'فحي',\n",
              " 'هرب',\n",
              " 'حطش',\n",
              " 'رسك',\n",
              " 'قلف',\n",
              " 'لعب',\n",
              " 'ائم',\n",
              " 'حول',\n",
              " 'برج',\n",
              " 'خسر',\n",
              " 'اخط',\n",
              " 'خطه',\n",
              " 'رفض',\n",
              " 'عمل',\n",
              " 'ماطلعش',\n",
              " 'ستى',\n",
              " 'يتم',\n",
              " 'نقد',\n",
              " 'فأن',\n",
              " 'صرح',\n",
              " 'عرف',\n",
              " 'فيديوهاتي',\n",
              " 'كونفرزيشن',\n",
              " 'حدث',\n",
              " 'اشي',\n",
              " 'قلب',\n",
              " 'اقل',\n",
              " 'ترجم',\n",
              " 'فصل',\n",
              " 'اقل',\n",
              " 'وجع',\n",
              " 'ريض',\n",
              " 'تحد',\n",
              " 'توج',\n",
              " 'ورح',\n",
              " 'دور',\n",
              " 'سعد',\n",
              " 'خصص',\n",
              " 'فبي',\n",
              " 'سعد',\n",
              " 'للل',\n",
              " 'ذكر',\n",
              " 'احس',\n",
              " 'واف',\n",
              " 'كلم',\n",
              " 'تخصص',\n",
              " 'فأن',\n",
              " 'خبط',\n",
              " 'ناج',\n",
              " 'زوي',\n",
              " 'هقل',\n",
              " 'عمل',\n",
              " 'جنب',\n",
              " 'وقع',\n",
              " 'وقع',\n",
              " 'ناج',\n",
              " 'حدد',\n",
              " 'ناج',\n",
              " 'عمل',\n",
              " 'ناج',\n",
              " 'وظف',\n",
              " 'قدر',\n",
              " 'دهع',\n",
              " 'ناج',\n",
              " 'صحى',\n",
              " 'يعد',\n",
              " 'تخد',\n",
              " 'زتك',\n",
              " 'بقك',\n",
              " 'تقم',\n",
              " 'انس',\n",
              " 'نتج',\n",
              " 'حسب',\n",
              " 'حسب',\n",
              " 'رنس',\n",
              " 'حترم',\n",
              " 'تعد',\n",
              " 'حرم',\n",
              " 'شغل',\n",
              " 'لزم',\n",
              " 'حرم',\n",
              " 'طلب',\n",
              " 'لزم',\n",
              " 'تخد',\n",
              " 'وأ',\n",
              " 'طلب',\n",
              " 'جمع',\n",
              " 'حضر',\n",
              " 'محاضراتك',\n",
              " 'ايل',\n",
              " 'علم',\n",
              " 'سمر',\n",
              " 'حضر',\n",
              " 'سؤل',\n",
              " 'رصد',\n",
              " 'ناج',\n",
              " 'قطع',\n",
              " 'تخل',\n",
              " 'حسس',\n",
              " 'جنب',\n",
              " 'حيت',\n",
              " 'عيش',\n",
              " 'سؤل',\n",
              " 'سؤل',\n",
              " 'سعد',\n",
              " 'وما',\n",
              " 'وخا',\n",
              " 'نزل',\n",
              " 'سؤل',\n",
              " 'سؤل',\n",
              " 'سؤل',\n",
              " 'حيت',\n",
              " 'شغل',\n",
              " 'طلب',\n",
              " 'درس',\n",
              " 'حسب',\n",
              " 'بتد',\n",
              " 'ناج',\n",
              " 'اون',\n",
              " 'لين',\n",
              " 'تقر',\n",
              " 'حصل',\n",
              " 'ناج',\n",
              " 'بذل',\n",
              " 'طور',\n",
              " 'بقى',\n",
              " 'انس',\n",
              " 'قصر',\n",
              " 'فأن',\n",
              " 'لنس',\n",
              " 'حقه',\n",
              " 'وبص',\n",
              " 'قصر',\n",
              " 'طبطب',\n",
              " 'اقل',\n",
              " 'نظر',\n",
              " 'نظر',\n",
              " 'عدل',\n",
              " 'بحق',\n",
              " 'نطر',\n",
              " 'فأن',\n",
              " 'اقل',\n",
              " 'تسس',\n",
              " 'اقل',\n",
              " 'تعش',\n",
              " 'طبع',\n",
              " 'بتا',\n",
              " 'هيت',\n",
              " 'وهم',\n",
              " 'هفترض',\n",
              " 'طبع',\n",
              " 'انس',\n",
              " 'كلم',\n",
              " 'نفس',\n",
              " 'خلف',\n",
              " 'فكن',\n",
              " 'كنن',\n",
              " 'ماط',\n",
              " 'كنن',\n",
              " 'عجب',\n",
              " 'كلم',\n",
              " 'ماط',\n",
              " 'خلف',\n",
              " 'ماط',\n",
              " 'تيل',\n",
              " 'كونس',\n",
              " 'قله',\n",
              " 'طرق',\n",
              " 'عمل',\n",
              " 'حيا',\n",
              " 'قدر',\n",
              " 'روت',\n",
              " 'شدد',\n",
              " 'راح',\n",
              " 'عندناش',\n",
              " 'خدو',\n",
              " 'حتت',\n",
              " 'خلق',\n",
              " 'قسم',\n",
              " 'لذذ',\n",
              " 'تقل',\n",
              " 'كرت',\n",
              " 'وب',\n",
              " 'خلق',\n",
              " 'دمغ',\n",
              " 'نطط',\n",
              " 'وسع',\n",
              " 'اما',\n",
              " 'وأم',\n",
              " 'مشاوير',\n",
              " 'ساح',\n",
              " 'افق',\n",
              " 'مشاريع',\n",
              " 'خطر',\n",
              " 'وسع',\n",
              " 'قرر',\n",
              " 'سرع',\n",
              " 'تهر',\n",
              " 'طلق',\n",
              " 'يجر',\n",
              " 'يزق',\n",
              " 'كسر',\n",
              " 'حيط',\n",
              " 'فتح',\n",
              " 'جال',\n",
              " 'خلق',\n",
              " 'تال',\n",
              " 'ديفيلوبرز',\n",
              " 'فرك',\n",
              " 'كسر',\n",
              " 'حيط',\n",
              " 'وجر',\n",
              " 'فتح',\n",
              " 'ساح',\n",
              " 'شرع',\n",
              " 'تعل',\n",
              " 'نفل',\n",
              " 'تعل',\n",
              " 'نرص',\n",
              " 'بعد',\n",
              " 'عرب',\n",
              " 'عندهاش',\n",
              " 'محل',\n",
              " 'نبن',\n",
              " 'محل',\n",
              " 'يتل',\n",
              " 'ديفلوبرز',\n",
              " 'تطر',\n",
              " 'اما',\n",
              " 'ساح',\n",
              " 'فتح',\n",
              " 'اتن',\n",
              " 'يقل',\n",
              " 'اهم',\n",
              " 'قعد',\n",
              " 'ندي',\n",
              " 'يلب',\n",
              " 'هنفضل',\n",
              " 'هنتخ',\n",
              " 'جري',\n",
              " 'فتح',\n",
              " 'ساح',\n",
              " 'آفق',\n",
              " 'وسع',\n",
              " 'طور',\n",
              " 'جود',\n",
              " 'وقع',\n",
              " 'طرق',\n",
              " 'خنا',\n",
              " 'طرق',\n",
              " 'نفس',\n",
              " 'علم',\n",
              " 'وخد',\n",
              " 'حطش',\n",
              " 'قلب',\n",
              " 'صنع',\n",
              " 'صنع',\n",
              " 'درس',\n",
              " 'جنب',\n",
              " 'عظم',\n",
              " 'وخد',\n",
              " 'علم',\n",
              " 'بتع',\n",
              " 'سلف',\n",
              " 'هلب',\n",
              " 'تقل',\n",
              " 'نمه',\n",
              " 'ذتي',\n",
              " 'سعد',\n",
              " 'ذتي',\n",
              " 'فكر',\n",
              " 'جيد',\n",
              " 'للب',\n",
              " 'حصلش',\n",
              " 'احا',\n",
              " 'شكل',\n",
              " 'نصح',\n",
              " 'سطح',\n",
              " 'سطح',\n",
              " 'يعب',\n",
              " 'لالمعلوم',\n",
              " 'نحط',\n",
              " 'عملش',\n",
              " 'فأن',\n",
              " 'تعش',\n",
              " 'حول',\n",
              " 'حقق',\n",
              " 'شكل',\n",
              " 'هدف',\n",
              " 'ناج',\n",
              " 'فشل',\n",
              " 'لأن',\n",
              " 'سمك',\n",
              " 'شجر',\n",
              " 'ثال',\n",
              " 'لذذ',\n",
              " 'ينش',\n",
              " 'شكل',\n",
              " 'ناج',\n",
              " 'شكل',\n",
              " 'سلف',\n",
              " 'ونس',\n",
              " 'وعي',\n",
              " 'ذتي',\n",
              " 'وأن',\n",
              " 'علم',\n",
              " 'حيط',\n",
              " 'هخد',\n",
              " 'هخد',\n",
              " 'نهر',\n",
              " 'حمد',\n",
              " 'زيد',\n",
              " 'مثل',\n",
              " 'علم',\n",
              " 'رنمج',\n",
              " 'نوش',\n",
              " 'بدأ',\n",
              " 'قعد',\n",
              " 'بروتيفيتي',\n",
              " 'سيس',\n",
              " 'وتس',\n",
              " 'برو',\n",
              " 'شتغل',\n",
              " 'كتد',\n",
              " 'لزم',\n",
              " 'لقت',\n",
              " 'عطل',\n",
              " 'ني',\n",
              " 'فدت',\n",
              " 'احظ',\n",
              " 'بيس',\n",
              " 'سرع',\n",
              " 'طرق',\n",
              " 'عيش',\n",
              " 'ناسب',\n",
              " 'قعد',\n",
              " 'كتب',\n",
              " 'أدخل',\n",
              " 'عمل',\n",
              " 'ناج',\n",
              " 'نسب',\n",
              " 'عمل',\n",
              " 'مكس',\n",
              " 'رجع',\n",
              " 'ظلم',\n",
              " 'هستخدم',\n",
              " 'ورق',\n",
              " 'ديجيتال',\n",
              " 'وكل',\n",
              " 'بعض',\n",
              " 'عمل',\n",
              " 'ولي',\n",
              " 'لوج',\n",
              " 'ولي',\n",
              " 'فقد',\n",
              " 'فكر',\n",
              " 'ورق',\n",
              " 'رصص',\n",
              " 'ورق',\n",
              " 'بسط',\n",
              " 'ني',\n",
              " 'فبد',\n",
              " 'عمل',\n",
              " 'مكس',\n",
              " 'احس',\n",
              " 'بدأ',\n",
              " 'ورق',\n",
              " 'وحج',\n",
              " 'تته',\n",
              " 'برج',\n",
              " 'فتح',\n",
              " 'تسك',\n",
              " 'ارج',\n",
              " 'كا',\n",
              " 'عطل',\n",
              " 'فرم',\n",
              " 'امش',\n",
              " 'حطه',\n",
              " 'خطه',\n",
              " 'كوارتر',\n",
              " 'ربع',\n",
              " 'فتح',\n",
              " 'نوش',\n",
              " 'أدخل',\n",
              " 'بق',\n",
              " 'قعد',\n",
              " 'فكر',\n",
              " 'فرح',\n",
              " 'كتب',\n",
              " 'نوت',\n",
              " 'فكر',\n",
              " 'خطر',\n",
              " 'كتب',\n",
              " 'هيخد',\n",
              " 'كبه',\n",
              " 'صحى',\n",
              " 'بصح',\n",
              " 'كتب',\n",
              " 'دوش',\n",
              " 'هرتب',\n",
              " 'كتر',\n",
              " 'تسك',\n",
              " 'زميل',\n",
              " 'جمع',\n",
              " 'روفال',\n",
              " 'نقش',\n",
              " 'فلن',\n",
              " 'جمع',\n",
              " 'فلن',\n",
              " 'فصل',\n",
              " 'رتب',\n",
              " 'يدو',\n",
              " 'بوت',\n",
              " 'ولو',\n",
              " 'ولو',\n",
              " 'ولو',\n",
              " 'كبر',\n",
              " 'خطء',\n",
              " 'حطط',\n",
              " 'ليس',\n",
              " 'خطء',\n",
              " 'تقع',\n",
              " 'ناج',\n",
              " 'انس',\n",
              " 'رجع',\n",
              " 'للت',\n",
              " 'عمل',\n",
              " 'ناج',\n",
              " 'فتح',\n",
              " 'ملف',\n",
              " 'كتب',\n",
              " 'not',\n",
              " 'ريف',\n",
              " 'اجس',\n",
              " 'رجع',\n",
              " 'عدل',\n",
              " 'ناج',\n",
              " 'استراتيجيه',\n",
              " 'ناج',\n",
              " 'تغر',\n",
              " 'نفع',\n",
              " 'فعش',\n",
              " 'وظف',\n",
              " 'فتح',\n",
              " 'عمل',\n",
              " 'تجز',\n",
              " 'خلف',\n",
              " 'لزم',\n",
              " 'لسر',\n",
              " 'ناج',\n",
              " 'رون',\n",
              " 'حقق',\n",
              " 'سيب',\n",
              " 'هزر',\n",
              " 'هزر',\n",
              " 'اول',\n",
              " 'للل',\n",
              " 'حسب',\n",
              " 'نجه',\n",
              " 'حكيتل',\n",
              " 'رولز',\n",
              " 'لعب',\n",
              " 'للل',\n",
              " 'ورض',\n",
              " 'فأن',\n",
              " 'عبر',\n",
              " 'انس',\n",
              " 'نتج',\n",
              " 'انس',\n",
              " 'فشل',\n",
              " 'عمل',\n",
              " 'وجي',\n",
              " 'اقل',\n",
              " 'بحك',\n",
              " 'عشت',\n",
              " 'كتر',\n",
              " 'حضر',\n",
              " 'طلب',\n",
              " 'شرك',\n",
              " 'فكل',\n",
              " 'عدل',\n",
              " 'عدل',\n",
              " 'حطش',\n",
              " 'قلب',\n",
              " 'لأن',\n",
              " 'ترم',\n",
              " 'فوط',\n",
              " 'سيس',\n",
              " 'شفت',\n",
              " 'عرفتش',\n",
              " 'قفل',\n",
              " 'سيس',\n",
              " 'لالدكتور',\n",
              " 'كتب',\n",
              " 'ديت',\n",
              " 'يلق',\n",
              " 'خرف',\n",
              " 'ديت',\n",
              " 'نسي',\n",
              " 'هتم',\n",
              " 'بكل',\n",
              " 'أكل',\n",
              " 'بيض',\n",
              " 'ربع',\n",
              " 'خفف',\n",
              " 'سكر',\n",
              " 'منع',\n",
              " 'قلل',\n",
              " 'همش',\n",
              " 'دكتور',\n",
              " 'كتب',\n",
              " 'هشتغل',\n",
              " 'طول',\n",
              " 'حضر',\n",
              " 'كسر',\n",
              " 'ستج',\n",
              " 'بتع',\n",
              " 'لالإنتاج',\n",
              " 'انس',\n",
              " 'يعش',\n",
              " 'نقل',\n",
              " 'فاي',\n",
              " 'اون',\n",
              " 'ديمنز',\n",
              " 'حرب',\n",
              " 'شيط',\n",
              " 'عفر',\n",
              " 'اهم',\n",
              " 'تست',\n",
              " 'تمس',\n",
              " 'ظمه',\n",
              " 'ناج',\n",
              " 'تبع',\n",
              " 'عطل',\n",
              " 'ناج',\n",
              " 'عدل',\n",
              " 'سرع',\n",
              " 'جرى',\n",
              " 'جرى',\n",
              " 'شكل',\n",
              " 'فيس',\n",
              " 'انه',\n",
              " '[',\n",
              " ']',\n",
              " 'وقع',\n",
              " 'خدم',\n",
              " 'تكنولوجي',\n",
              " 'جدد',\n",
              " 'اور',\n",
              " 'تطر',\n",
              " 'نهر',\n",
              " 'تطر',\n",
              " 'الر',\n",
              " 'بون',\n",
              " 'فت',\n",
              " 'برزنتيشن',\n",
              " 'الي',\n",
              " 'نقل',\n",
              " 'تكت',\n",
              " 'فعل',\n",
              " 'الي',\n",
              " 'ضيع',\n",
              " 'ستك',\n",
              " 'سيس',\n",
              " 'يدر',\n",
              " 'سيس',\n",
              " 'طورش',\n",
              " 'ادو',\n",
              " 'تطر',\n",
              " 'ادو',\n",
              " 'طلع',\n",
              " 'كشف',\n",
              " 'جدد',\n",
              " 'وأن',\n",
              " 'قلف',\n",
              " 'شيل',\n",
              " 'خدم',\n",
              " 'اده',\n",
              " 'ادل',\n",
              " 'دقق',\n",
              " 'لته',\n",
              " 'وقت',\n",
              " 'ادا',\n",
              " 'نفع',\n",
              " 'نفع',\n",
              " 'ودك',\n",
              " 'عد',\n",
              " 'ارم',\n",
              " 'لتر',\n",
              " 'ريز',\n",
              " 'دكت',\n",
              " 'هحتاج',\n",
              " 'هفتح',\n",
              " 'ملف',\n",
              " 'طلع',\n",
              " 'فيل',\n",
              " 'ابد',\n",
              " 'ولز',\n",
              " 'وقع',\n",
              " 'ناج',\n",
              " 'نجل',\n",
              " 'سلف',\n",
              " 'كير',\n",
              " 'ناج',\n",
              " 'سقو',\n",
              " 'هام',\n",
              " 'ريب',\n",
              " 'لمش',\n",
              " 'امش',\n",
              " 'نسى',\n",
              " 'يمش',\n",
              " 'عمل',\n",
              " 'بني',\n",
              " 'ادم',\n",
              " 'فهل',\n",
              " 'ناج',\n",
              " 'ضمن',\n",
              " 'همم',\n",
              " 'بنم',\n",
              " 'وكل',\n",
              " 'شرب',\n",
              " 'ريض',\n",
              " 'كلم',\n",
              " 'عد',\n",
              " 'اكر',\n",
              " 'راح',\n",
              " 'كفي',\n",
              " 'صنع',\n",
              " 'جزه',\n",
              " 'ناج',\n",
              " 'وصل',\n",
              " 'ستو',\n",
              " 'علي',\n",
              " 'ترس',\n",
              " 'ترس',\n",
              " 'بلد',\n",
              " 'ظرف',\n",
              " 'حرق',\n",
              " 'ترس',\n",
              " 'خلق',\n",
              " 'شتغل',\n",
              " 'وبج',\n",
              " 'بيب',\n",
              " 'خلف',\n",
              " 'جهد',\n",
              " 'جهد',\n",
              " 'صمم',\n",
              " 'نرح',\n",
              " 'نشح',\n",
              " 'بطر',\n",
              " 'رجع',\n",
              " 'نبن',\n",
              " 'برح',\n",
              " 'فضل',\n",
              " 'يتر',\n",
              " 'يتر',\n",
              " 'يتر',\n",
              " 'قولل',\n",
              " 'ماحصلش',\n",
              " 'ماحصليش',\n",
              " 'ازم',\n",
              " 'ماحصليش',\n",
              " 'ضغط',\n",
              " 'حيق',\n",
              " 'لين',\n",
              " 'فرض',\n",
              " 'روت',\n",
              " 'بتد',\n",
              " 'ريحش',\n",
              " 'خدش',\n",
              " 'جزه',\n",
              " 'وقع',\n",
              " 'فالاهتمام',\n",
              " 'نفس',\n",
              " 'سلف',\n",
              " 'كير',\n",
              " 'بشف',\n",
              " 'ولو',\n",
              " 'عاييز',\n",
              " 'مث',\n",
              " 'بقل',\n",
              " 'ظرف',\n",
              " 'ظرف',\n",
              " 'عئل',\n",
              " 'ظرف',\n",
              " 'خلي',\n",
              " 'جهد',\n",
              " 'جهد',\n",
              " 'اثر',\n",
              " 'دئي',\n",
              " '100%',\n",
              " '100',\n",
              " 'اثر',\n",
              " 'داي',\n",
              " 'ادش',\n",
              " 'جلد',\n",
              " 'وجب',\n",
              " 'رحل',\n",
              " 'سعد',\n",
              " 'عند',\n",
              " 'ندر',\n",
              " 'نحر',\n",
              " 'تكل',\n",
              " 'وقت',\n",
              " 'جهد',\n",
              " 'ماينفعش',\n",
              " 'حسبش',\n",
              " 'ناج',\n",
              " 'ظلم',\n",
              " 'ناج',\n",
              " 'ظرف',\n",
              " 'تعب',\n",
              " 'عين',\n",
              " 'تعب',\n",
              " 'صدق',\n",
              " 'ازم',\n",
              " 'سند',\n",
              " 'تسب',\n",
              " 'حسب',\n",
              " 'رقم',\n",
              " 'رقم',\n",
              " 'اخر',\n",
              " 'خمس',\n",
              " 'ناج',\n",
              " 'بيئ',\n",
              " 'ظمه',\n",
              " 'نظر',\n",
              " 'لالانماط',\n",
              " 'سلك',\n",
              " 'علي',\n",
              " 'نظم',\n",
              " 'قدر',\n",
              " 'قلل',\n",
              " 'نظم',\n",
              " 'فأن',\n",
              " 'اكن',\n",
              " 'بمل',\n",
              " 'لنس',\n",
              " 'خشش',\n",
              " 'كبي',\n",
              " 'تستر',\n",
              " 'ترتب',\n",
              " 'كبه',\n",
              " 'ورا',\n",
              " 'مرت',\n",
              " 'ترص',\n",
              " 'رصص',\n",
              " 'تعب',\n",
              " 'عرفش',\n",
              " 'قعد',\n",
              " 'رصص',\n",
              " 'نسق',\n",
              " 'فأن',\n",
              " 'بعش',\n",
              " 'بيئ',\n",
              " 'ظمه',\n",
              " 'غلط',\n",
              " 'خسر',\n",
              " 'اقي',\n",
              " 'ضيع',\n",
              " 'رجي',\n",
              " 'وقت',\n",
              " 'ادر',\n",
              " 'نظم',\n",
              " 'عرف',\n",
              " 'وصل',\n",
              " 'سهل',\n",
              " 'فإن',\n",
              " 'نظم',\n",
              " 'بيئ',\n",
              " 'كسبل',\n",
              " 'لالاحتياج',\n",
              " ...]"
            ]
          },
          "execution_count": 41,
          "metadata": {},
          "output_type": "execute_result"
        }
      ],
      "source": [
        "stemmer = ISRIStemmer()\n",
        "df['stemmed_tokens'] = df['tokens_no_stop_additional'].apply(lambda tokens: [stemmer.stem(token) for token in tokens])\n",
        "df['stemmed_tokens'][0]"
      ]
    },
    {
      "cell_type": "code",
      "execution_count": 43,
      "metadata": {
        "vscode": {
          "languageId": "powershell"
        }
      },
      "outputs": [],
      "source": [
        "db = MorphologyDB.builtin_db('calima-msa-r13', flags='a')\n",
        "analyzer = Analyzer(db)\n",
        "\n",
        "def get_lemma(word):\n",
        "    analyses = analyzer.analyze(word)\n",
        "    if analyses:\n",
        "        return analyses[0].get('lemma', word)\n",
        "    return word\n",
        "def lemmatize_tokens(tokens):\n",
        "    \"\"\"\n",
        "    Given a list of tokens (from your 'tokens_no_stop' column),\n",
        "    apply lemmatization to each token and return the list of lemmas.\n",
        "    \"\"\"\n",
        "    return [get_lemma(token) for token in tokens]\n",
        "\n",
        "df['lemmatized_tokens'] = df['tokens_no_stop_additional'].apply(lemmatize_tokens)\n",
        "# print(df[['title', 'lemmatized_tokens']].head())"
      ]
    },
    {
      "cell_type": "code",
      "execution_count": 44,
      "metadata": {
        "vscode": {
          "languageId": "powershell"
        }
      },
      "outputs": [
        {
          "name": "stdout",
          "output_type": "stream",
          "text": [
            "Original tokens (from tokens_no_stop_additional):\n",
            "['الانتاجيه', '500', 'قناه', 'وبحسبه', 'المشاهد', 'أسبوع', '12', '48', 'ضربناهم', 'الثمان', 'هيبقوا', '500', 'ممان', 'منتجه', 'فيحق', 'اكلمك', 'الانتاجيه', 'يحق', 'ليش', 'اكلمك', 'الانتاجيه', 'ضربت', 'المثل', 'المثل', 'الأرقام', 'اتقالت', 'صحيحه', 'كذب', 'متابع', 'جيد', 'سبسكرايب', 'ومفعل', 'الجرس', 'إسماعيل', 'ملتزمه', 'بينزلش', 'أسبوع', 'لمده', 'ممان', 'السبايك', 'الأرقام', 'بنزل', 'استمريت', 'بنزل', 'أسبوع', 'مهنتي', 'الاساسيه', 'شغلتي', 'الاساسيه', 'بالتالي', 'التزم', 'بفيديو', 'أسبوع', 'بقيم', 'انجيتي', 'مجهودي', 'بتهبد', 'أقول', 'انتاجيه', 'بهدوء', 'إسماعيل', 'نتجنب', 'الدخله', 'الكليشيه', 'أصل', 'الإنتاجات', 'فتعال', 'اعلمك', 'وأنا', 'اقوللك', 'بعلك', 'احطلك', 'أرقام', 'الخدع', 'لناس', '5', '', '7', 'بتساوي', '12', 'اضرب', '12', '3', '24', 'وتروح', 'مديله', 'معلومه', 'الماف', 'الحساب', 'منطقي', 'وصحيح', 'وحاجه', '1', '1', 'سساوي', 'ماكدبتش', 'يلخبط', 'الأرقام', 'بتقتنع', 'مخك', 'منطقي', 'اسمعه', 'الخلفيه', 'الانتاجيه', 'عملتها', 'نوصل', '500', 'الانتاجيه', 'يروج', 'عقولنا', 'بمخرجات', 'ايجابيه', 'حصلش', 'الثمان', 'فترات', 'بنزل', 'فترات', 'بنزلش', 'وشهور', 'اختفي', 'وشهر', 'أعمل', 'اليوتيوبرز', 'وهنلعب', 'واختفي', 'وعادي', 'ككريم', 'إسماعيل', 'لالله', 'متاثره', 'بالسلب', 'انجيتي', 'مهنه', 'جانبيه', 'امتهن', 'صناعه', 'راج', 'شركتي', 'البزنس', 'وشغلي', 'الأساسي', 'التعليم', 'والاداره', 'بدير', 'شركتي', 'وبشتغل', 'التعليم', 'كونستن', 'بصح', 'بقابل', 'المسؤوليات', 'بدرس', 'بذاكر', 'بطور', 'باخد', 'شهادات', 'بدي', 'بطلع', 'منتجات', 'ودورات', 'نكسر', 'الكليشيهات', 'الانتاجيه', 'أولها', 'بيحسسك', 'حركات', 'منتج', 'وأنت', 'منتج', 'طريقه', 'لالإنتاج', 'منتج', 'نكسر', 'الانتاجيه', 'ذاتها', 'انتاجيه', 'موجهه', 'لامور', 'دنيويه', 'منتج', 'مذاكره', 'منتج', 'انتاجيه', 'تشمل', 'جوانب', 'تدعو', 'لالفرد', 'انيه', 'والماديه', 'تخليك', 'سكور', 'الإنسان', 'الوقتي', 'مجرد', 'سكور', 'حققت', 'سكور', 'إنسان', 'حققت', 'سكور', 'إنسان', 'قاتل', 'يعلي', 'الانكزايتي', 'ويقلل', 'الثقة', 'بالنفس', 'ويخلي', 'الإنسان', 'بحاله', 'سيئه', 'ويعلي', 'جلده', 'ومع', 'العقليه', 'أفكار', 'العميقه', 'تخلينا', 'بتوف', 'أعمل', 'عرفتش', 'أعمل', 'فأنا', 'بخلي', 'المهام', 'بتمثل', 'خطر', 'مخي', 'فاحيانا', 'يهرب', 'يحطش', 'الرسك', 'بقلف', 'بلعب', 'ائمن', 'احاول', 'بروجكت', 'ويخسر', 'اخطه', 'خطوه', 'واترفض', 'أعمل', 'ماطلعش', 'بالمستوى', 'ويتم', 'نقدي', 'فأنا', 'صراحه', 'اعتراف', 'فيديوهاتي', 'كونفرزيشن', 'محادثه', 'ماشيها', 'اتقلب', 'أقوله', 'مترجمه', 'فاصلا', 'أقول', 'أوجاع', 'مريض', 'تحديات', 'بتواجهني', 'ورحت', 'دورت', 'مساعده', 'تخصصي', 'فبي', 'سعدني', 'لالله', 'اذاكر', 'أحسن', 'وافهم', 'واتكلم', 'متخصصين', 'فأنا', 'نخبط', 'انتاجيه', 'زاويه', 'وهقول', 'عملي', 'تتجنبها', 'توقعك', 'بتوقع', 'الانتاجيه', 'تحدد', 'انتاجيه', 'بعملها', 'انتاجيه', 'موظف', 'مقدر', 'دهع', 'انتاجيه', 'بتصحى', 'الميعاد', 'وبتاخد', 'زتك', 'بقك', 'بتقيم', 'إنسان', 'منتج', 'تتحسب', 'وتتحسب', 'برنس', 'بنحترم', 'متعودين', 'محترم', 'شغلك', 'ملتزم', 'محترم', 'طالب', 'ملتزم', 'بتاخدها', 'وأ', 'طالب', 'جامعي', 'بتحضر', 'محاضراتك', 'استايل', 'التعليم', 'ومستمر', 'حضور', 'المسؤوليات', 'رصيد', 'الانتاجيه', 'تقطع', 'وتخلي', 'تحسسك', 'بجانب', 'الحياتيه', 'عايشها', 'مسؤوليات', 'مسؤوليات', 'بتساعد', 'وماما', 'واخواتك', 'منزل', 'مسؤوليات', 'مسؤوليات', 'المسؤوليات', 'الحياتيه', 'شغلك', 'طالب', 'الدراسه', 'محسوب', 'وابتدي', 'الإنتاج', 'اون', 'لاين', 'بتقرا', 'اتحصل', 'الانتاجيه', 'بتبذل', 'التطوير', 'فيبقى', 'إنسان', 'مقصر', 'فأنا', 'لناسك', 'حقها', 'وبص', 'مقصر', 'طبطب', 'أقول', 'بنظره', 'بنظاره', 'بعدل', 'بحق', 'نطور', 'فأنا', 'أقول', 'تسست', 'أقول', 'تعيش', 'طبيعيه', 'بتا', 'هيات', 'ويوهمك', 'هفترض', 'لطبيعه', 'إنسان', 'بكلمك', 'لالنفوس', 'المختلفه', 'فكين', 'كننا', 'أنماط', 'كننا', 'يعجبك', 'بكلم', 'أنماط', 'المختلفه', 'أنماط', 'الستايل', 'كونست', 'تقتله', 'طريقه', 'تعامل', 'الحيا', 'القدره', 'الروتين', 'الشديد', 'ويرتاحوا', 'عندناش', 'ياخدونا', 'حتت', 'خلقنا', 'تقسيمه', 'لذيذه', 'بتقال', 'كريت', 'وب', 'خلقهم', 'دماغهم', 'بتتنطط', 'الواسع', 'أماكن', 'وأماكن', 'مشاوير', 'مساحات', 'الافاق', 'مشاريع', 'مخاطرات', 'واسعه', 'قرارات', 'سريعه', 'التهور', 'ينطلق', 'يجري', 'ويزق', 'ويكسر', 'الحيطان', 'ويفتح', 'مجالات', 'خلقهم', 'تال', 'ديفيلوبرز', 'فركت', 'وكسرت', 'الحيطان', 'وجريت', 'وفتحت', 'مساحات', 'شارع', 'فتعال', 'نفلت', 'وتعال', 'نرص', 'بعيدا', 'العربيات', 'عندهاش', 'محلات', 'نبني', 'محلات', 'بيتال', 'ديفلوبرز', 'بتطور', 'الأماكن', 'والمساحات', 'اتفتحت', 'والاتنين', 'يقلوا', 'اهميه', 'قعدنا', 'ندي', 'فيلوب', 'هنفضل', 'هنتخن', 'جرينا', 'نفتح', 'مساحات', 'وآفاق', 'واسعه', 'مطوره', 'جوده', 'واقعه', 'الطريقه', 'مخنا', 'الطريقه', 'نفسيتنا', 'اتعلم', 'وخد', 'تحطش', 'القالب', 'صانع', 'صناع', 'دارسين', 'الجوانب', 'ومعظم', 'واخدين', 'المعلومات', 'بتاعتهم', 'السلف', 'هلب', 'يتقال', 'التنميه', 'الذاتيه', 'المساعده', 'الذاتيه', 'أفكار', 'جيد', 'سللب', 'حصلش', 'أحيانا', 'شكل', 'النصائح', 'سطحيه', 'سطحيه', 'استيعابنا', 'لالمعلومات', 'ونحط', 'بعملش', 'فأنا', 'تعيش', 'بتحاول', 'تحقق', 'شكل', 'وهدف', 'الانتاجيه', 'فاشل', 'لأنك', 'السمكه', 'والشجره', 'والمثال', 'اللذيذ', 'أينشتاين', 'شكل', 'انتاجيه', 'شكل', 'السلف', 'اوانس', 'الوعي', 'الذاتي', 'وأنت', 'معلومات', 'المحيط', 'هاخد', 'هاخد', 'فالنهار', 'أحمد', 'زيد', 'فمثلا', 'اتعلمت', 'البرنامج', 'نوشن', 'وبدأت', 'فقعد', 'بروتيفيتي', 'سيستم', 'وتسك', 'وبروك', 'وشتغل', 'كتد', 'وملتزم', 'لقيته', 'بيعطل', 'ني', 'فدات', 'الاحظ', 'البيس', 'السرعه', 'الطريقه', 'عايشها', 'متناسب', 'أقعد', 'واكتب', 'وأدخل', 'فعملت', 'الانتاجيه', 'المناسب', 'أعمل', 'مكسات', 'رجعت', 'ظلمت', 'هستخدم', 'ورقيه', 'ديجيتال', 'وكله', 'بعضه', 'عملها', 'وليها', 'لوج', 'وليها', 'مفتقد', 'التفكير', 'الورقه', 'والترصيص', 'الورق', 'بيبسط', 'ني', 'فبدات', 'أعمل', 'مكس', 'احس', 'وبدأت', 'الأوراق', 'وحاجتي', 'تتهني', 'البروجكت', 'فاتحها', 'التاسكات', 'الارجنت', 'كا', 'عطلان', 'الفريم', 'أمشي', 'حاطه', 'الخطه', 'الكوارتر', 'الربع', 'بفتح', 'نوشن', 'وأدخل', 'بق', 'أقعد', 'افكر', 'فروح', 'كاتب', 'النوت', 'أفكار', 'وخواطر', 'كاتب', 'هياخدوا', 'اكتبه', 'بصحى', 'بصح', 'أكتب', 'دوشه', 'هرتب', 'فكتير', 'التاسكات', 'زمايلي', 'اجتماع', 'ابروفال', 'بيناقش', 'الفلانيه', 'اجتماع', 'الفلانيه', 'فاصلا', 'بترتب', 'بيدوني', 'الانبوت', 'اولويه', 'اولويه', 'اولويه', 'أكبر', 'الأخطاء', 'حططها', 'الليسته', 'الأخطاء', 'بتقع', 'الانتاجيه', 'الإنسان', 'يراجع', 'لالتاني', 'عمليه', 'الانتاجيه', 'بفتح', 'الملف', 'كاتب', 'not', 'ريفيين', 'اجستين', 'تراجع', 'وتعدل', 'الانتاجيه', 'استراتيجيه', 'الانتاجيه', 'تتغير', 'نفعت', 'تنفعش', 'وظيفه', 'فتحته', 'فعمل', 'اتجوزت', 'خلفت', 'فلازم', 'السر', 'الانتاجيه', 'المرونه', 'والحقيقه', 'سيبكم', 'الهزار', 'هزرت', 'الأول', 'لالله', 'بحسب', 'المنتجه', 'حكيتلك', 'الرولز', 'بلعبها', 'لالله', 'وراضي', 'فأنا', 'اعتبر', 'إنسان', 'منتج', 'إنسان', 'فاشل', 'عملها', 'وجايه', 'أقول', 'بحكي', 'عشتها', 'وكتير', 'حضراتكم', 'طلب', 'شاركنا', 'فكل', 'عدل', 'عدل', 'تحطش', 'قوالب', 'لأنك', 'بترمي', 'الفوطه', 'السيستم', 'شفته', 'عرفتش', 'قافل', 'السيستم', 'لالدكتور', 'يكتب', 'دايت', 'يلاقي', 'خرف', 'الدايت', 'ناسي', 'يهتم', 'باكله', 'تأكل', 'بيضه', 'والربع', 'مخفف', 'السكريات', 'امنع', 'قلل', 'همشي', 'الدكتور', 'مكاتب', 'هشتغل', 'طولت', 'حضراتكم', 'اكسر', 'الاستجما', 'بتاعت', 'لالإنتاج', 'الإنسان', 'يعيشها', 'انتقال', 'فايتن', 'اون', 'ديمنز', 'تحارب', 'الشياطين', 'وعفاريت', 'أهم', 'تستك', 'تتمسك', 'انظمه', 'انتاجيه', 'بتتباع', 'بتعطل', 'الانتاجيه', 'عدلكم', 'سريعا', 'جرى', 'جرى', 'الشكل', 'الفيست', 'انيه', '[', ']', 'توقع', 'استخدام', 'التكنولوجي', 'الجديده', 'اوير', 'بالتطور', 'فالنهار', 'تطورات', 'الور', 'بوينت', 'فت', 'برزنتيشن', 'الاي', 'نقله', 'التكات', 'تتفاعل', 'الاي', 'مضيع', 'ستيك', 'سيستم', 'بيدير', 'السيستم', 'طورش', 'الأدوات', 'تطور', 'الأدوات', 'مطلع', 'تستكشف', 'الجديده', 'وأنا', 'بقلف', 'السوشيال', 'بستخدم', 'اداه', 'اديله', 'دقيقتين', 'لاته', 'وقتي', 'الادا', 'تنفع', 'تنفعني', 'ودوك', 'عد', 'ارمي', 'فلتر', 'برايز', 'الدكت', 'وهحتاج', 'هفتح', 'الملف', 'اطلعها', 'فيلين', 'أبديت', 'التولز', 'بتوقع', 'الانتاجيه', 'نجلك', 'سلف', 'كير', 'الانتاجيه', 'التسقو', 'المهام', 'والترتيب', 'والمش', 'أمشي', 'بينسى', 'بيمشي', 'ويعمل', 'بني', 'ادم', 'فهل', 'الانتاجيه', 'ضمنها', 'اهتمامك', 'بنومك', 'واكلك', 'وشربك', 'ورياضتك', 'اكلمت', 'عد', 'اكرا', 'راحات', 'كافيه', 'بتصنع', 'الاجازه', 'انتاجيه', 'بنوصل', 'لمستويات', 'عاليه', 'الستريس', 'الستريس', 'بيبلد', 'ظروف', 'الاحتراق', 'السترس', 'خلقنا', 'بنشتغل', 'وبيجي', 'بيبني', 'الخلفيه', 'الاجهاد', 'الاجهاد', 'مصمم', 'نريح', 'نشحن', 'البطاريه', 'ونرجع', 'نبني', 'بريح', 'بيفضل', 'يتراكم', 'يتراكم', 'يتراكم', 'تقوللك', 'ماحصلش', 'ماحصليش', 'ازمه', 'ماحصليش', 'ضغط', 'الحياقه', 'مليانه', 'افترضنا', 'الروتين', 'بتادي', 'بتريحش', 'تاخدش', 'اجازه', 'وقعت', 'فالاهتمام', 'بنفسك', 'بالسلف', 'كير', 'بشوفها', 'اولويه', 'عاييز', 'مث', 'بقالي', 'ظروف', 'ظروف', 'عائليه', 'فالظروف', 'مخليني', 'مجهد', 'مجهد', 'اثر', 'أدائي', '100%', '100', 'اثر', 'داي', 'مادش', 'اجلد', 'واجب', 'المرحله', 'اساعد', 'وعندنا', 'بندور', 'وبنحرك', 'وبتاكل', 'وقتنا', 'مجهودنا', 'ماينفعش', 'محسبش', 'انتاجيه', 'ظلم', 'انتاجيه', 'ظروف', 'تعبانه', 'عيان', 'تعب', 'صديق', 'ازمه', 'سندته', 'تسب', 'تحسب', 'ارقمهم', 'الترقيم', 'الآخر', 'وخمسه', 'الانتاجيه', 'البيئه', 'المنظمه', 'نظريات', 'لالانماط', 'والسلوكيه', 'عاليه', 'التنظيم', 'قدرات', 'قليله', 'التنظيم', 'فأنا', 'أكون', 'بميل', 'لالناس', 'تخشش', 'مكتبي', 'متستره', 'ومترتبه', 'المكتبه', 'ورايا', 'امراتي', 'بترص', 'ترصيص', 'بتتعب', 'بعرفش', 'أقعد', 'ارصص', 'منسق', 'فأنا', 'بعيش', 'بيئه', 'منظمه', 'غلطه', 'بتخسرني', 'الاقي', 'ضيعت', 'انرجي', 'ووقت', 'ادور', 'منظم', 'أعرف', 'أوصل', 'بسهوله', 'فإنك', 'تنظم', 'البيئه', 'اكسبل', 'لالاحتياجات', 'أماكن', 'اوراقك', 'أماكن', 'ادواتك', 'تضيعش', 'البحث', 'محتاجها', 'المشهد', 'المنظم', 'المرتب', 'يفرق', 'نفسيتنا', 'بنشتغل', 'أقوله', 'بتقولها', 'أقوله', 'المهاره', 'ديليشن', 'بتعمله', 'اخواتك', 'بتعرف', 'بسهوله', 'بيرتب', 'وأنت', 'بتعمله', 'الخدمه', 'وتتفقوا', 'ديل', 'كولابوريشن', 'بنقاط', 'قوتي', 'هساعدك', 'وأنت', 'بنقاط', 'قوتك', 'هتساعدني', 'ترميش', 'الترتيب', 'والتنظيم', 'الترتيب', 'والتنظيم', 'خطوات', 'ويه', 'أبسط', 'أحيانا', 'التنظيم', 'البيئه', 'مهيئه', 'تنظم', 'فمثلا', 'بتستخدمها', 'مالهمش', 'بوكس', 'بيتجمعوا', 'فممكن', 'تشتري', 'بوكس', 'تكتب', 'اسامي', 'وتحط', 'بوكسات', 'وبوكسات', 'وتكتب', 'اسامي', 'ترصص', 'ارمي', 'البوكس', 'منطوره', 'لايه', 'منظمه', 'هدور', 'الاوضه', 'هدور', 'البوكس', '20', 'ايتم', 'هطلع', 'ايتم', 'هدور', 'الاوضه', '100', 'وشويه', 'ايتم', 'فابت', 'اشترى', 'بوكسات', 'وأنا', 'بوكسات', 'بدأت', 'ارمي', 'بعضها', 'بعضها', 'فأنا', 'فأنا', 'بعضها', 'مرميه', 'فاه', 'أعلى', 'تنظيمي', 'ممشيه', 'حالها', 'اطولش', 'احس', '25', 'خيلكم', 'أعمل', 'يكونش', 'الفلسفي', 'الانتاجيه', '1', '3', '5', 'ماكش', '1', '3', '5', 'نقاش', 'فلسفي', 'أخرج', 'الهه', 'الانتاجيه', 'بصنعها', 'اوبت', 'الانتاجيه', 'بنمشي', 'الانج', 'منتج', 'إنسان', 'منتج', 'بالصوره', 'بيبنو', 'إنسان', 'فيبني', 'جلد', 'الذات', 'وعدم', 'الرضا', 'عرف', 'وحدد', 'الاولويه', 'منتج', 'تلوم', 'تقارن', 'حاول', 'تبديت', 'التولز', 'والادوات', 'حاول', 'مرن', 'وتراجع', 'الانتاجي', 'بنعمله', 'يساعدنا', 'فشوف', 'مساعدك', 'مساعدك', 'مساعدك', 'غيره', 'سبعه', 'صحتك', 'صحتك', 'الجسديه', 'الراحات', 'وثمانيه', 'الوعي', 'الذاتي', 'الوعي', 'فايتن', 'اور', 'اون', 'ديم', 'بيساعدك', 'تتعرف', 'معطلك', 'موقعك', 'تسعه', 'مانيه', 'ماحبش', 'أقام', 'مانيه', 'منظمه', 'عظيم', 'ركز', 'تحافظ', 'منظمه', 'حالتي', 'أعمل', 'سيمي', 'منظم', 'فوضوي', 'نفسيتك', 'وسلوكك', 'هتقبل', 'نيت', 'ومهندم', 'بتوفر', 'ومجهود', 'تق', 'الجميله', 'أتمنى', 'نديكم', 'هديه', '500', 'الويب', 'سايت', 'متال', 'هيلث', 'مينا', 'البلاتفورم', 'بنقدم', 'الكورسات', 'المسجله', 'التسويف', 'وبينا', 'قش', 'التسويف', 'بعمق', 'هتشوفها', 'التسويف', 'الفيديوهات', 'الموجوده', 'الجذور', 'السوج', 'الروتس', 'لالتسويف', '10', 'وكلنا', 'بنمارس', 'بتصوف', 'بتصوف', 'لسبب', 'التسويف', 'الاستايل', 'التسويف', 'بتصوف', 'بتعامل', 'وتحله', 'قررنا', '500', 'هنخلي', 'الكورس', '500', 'ديسكونت', '50%', 'وهيكون', '50', 'الجيف', 'اواي', 'خمسات', 'حركات', 'ماركتنج', 'فاتمنى', 'يتعامل', 'التسويف', 'يتعلم', 'التسويف', 'البرومو', 'كود', 'نحطه', 'الدسكربشن', 'الكومنتس', 'مفيد', 'ليكم', 'وصلتوا', 'إسماعيل', 'زعلش', 'سبسكرايب', 'سبسكرايب', 'وفعل', 'الجرس', 'سبسكرايب', 'وفعل', 'الجرس', 'استناكم', 'معارفش', 'الأسبوع', 'هتهد', 'أكون', 'منتج', 'الفيديوهات', 'بحبهم', 'وبستمتع', 'بالبود', 'كاست', 'باجي', 'القناه', 'براحتي', 'وبقول', 'الاستراس', 'برتاح', 'وبابسط', 'بنموت', 'ننفع', 'نيه', 'لالله', 'ننشر', 'الرحمه', 'وننشر', 'بالعلم', 'نمك', 'بنستمتع', 'بده', 'الفيديوز', 'افكاري', 'وأنا', 'فأنا', 'بستمتع', 'بده', 'وبسط', 'وأتمنى', 'تستمتعوا', 'تبسطوا', 'واشوفكم', 'بحبكم', 'يكرمكم']\n",
            "\n",
            "Stemmed tokens:\n",
            "['ناج', '500', 'قنه', 'حسب', 'شهد', 'سبع', '12', '48', 'ضرب', 'ثمن', 'هيبق', '500', 'مان', 'نجه', 'يحق', 'كلم', 'ناج', 'يحق', 'ليش', 'كلم', 'ناج', 'ضرب', 'مثل', 'مثل', 'رقم', 'تقل', 'صحح', 'كذب', 'تبع', 'جيد', 'سبسكرايب', 'فعل', 'جرس', 'اعل', 'لزم', 'زلش', 'سبع', 'لمد', 'مان', 'سبي', 'رقم', 'نزل', 'مري', 'نزل', 'سبع', 'هنت', 'سسي', 'شغل', 'سسي', 'تلي', 'تزم', 'يدو', 'سبع', 'بقم', 'جيت', 'جهد', 'هبد', 'اقل', 'ناج', 'هدء', 'اعل', 'جنب', 'دخل', 'كلش', 'اصل', 'ناج', 'تعل', 'علم', 'وأن', 'قولل', 'بعل', 'حطل', 'رقم', 'خدع', 'لنس', '5', '', '7', 'تسو', '12', 'ضرب', '12', '3', '24', 'ترح', 'ديل', 'علم', 'ماف', 'حسب', 'طقي', 'صحح', 'وحج', '1', '1', 'سسو', 'ماكدبتش', 'خبط', 'رقم', 'قنع', 'مخك', 'طقي', 'سمع', 'خلف', 'ناج', 'عمل', 'وصل', '500', 'ناج', 'يرج', 'عقل', 'خرج', 'يجب', 'حصلش', 'ثمن', 'فتر', 'نزل', 'فتر', 'زلش', 'شهر', 'خفي', 'شهر', 'عمل', 'يوتيوبرز', 'هنلعب', 'ختف', 'وعد', 'ككريم', 'اعل', 'للل', 'تثر', 'سلب', 'جيت', 'هنه', 'جنب', 'امت', 'صنع', 'راج', 'شرك', 'زنس', 'شغل', 'سسي', 'علم', 'دره', 'بدر', 'شرك', 'شتغل', 'علم', 'كونس', 'بصح', 'قبل', 'سؤل', 'درس', 'ذكر', 'بطر', 'بخد', 'شهد', 'بدي', 'طلع', 'نتج', 'ودر', 'كسر', 'كلش', 'ناج', 'اول', 'حسس', 'حرك', 'نتج', 'وأن', 'نتج', 'طرق', 'لالإنتاج', 'نتج', 'كسر', 'ناج', 'ذات', 'ناج', 'وجه', 'لمر', 'دنو', 'نتج', 'ذكر', 'نتج', 'ناج', 'شمل', 'جنب', 'دعو', 'فرد', 'انه', 'اده', 'خلك', 'سكر', 'انس', 'وقت', 'جرد', 'سكر', 'حقق', 'سكر', 'انس', 'حقق', 'سكر', 'انس', 'قتل', 'يعل', 'انكزايتي', 'قلل', 'ثقة', 'نفس', 'يخل', 'انس', 'بحل', 'سيئ', 'يعل', 'جلد', 'ومع', 'عقل', 'فكر', 'عمق', 'تخل', 'بتف', 'عمل', 'عرفتش', 'عمل', 'فأن', 'بخل', 'هام', 'مثل', 'خطر', 'مخي', 'فحي', 'هرب', 'حطش', 'رسك', 'قلف', 'لعب', 'ائم', 'حول', 'برج', 'خسر', 'اخط', 'خطه', 'رفض', 'عمل', 'ماطلعش', 'ستى', 'يتم', 'نقد', 'فأن', 'صرح', 'عرف', 'فيديوهاتي', 'كونفرزيشن', 'حدث', 'اشي', 'قلب', 'اقل', 'ترجم', 'فصل', 'اقل', 'وجع', 'ريض', 'تحد', 'توج', 'ورح', 'دور', 'سعد', 'خصص', 'فبي', 'سعد', 'للل', 'ذكر', 'احس', 'واف', 'كلم', 'تخصص', 'فأن', 'خبط', 'ناج', 'زوي', 'هقل', 'عمل', 'جنب', 'وقع', 'وقع', 'ناج', 'حدد', 'ناج', 'عمل', 'ناج', 'وظف', 'قدر', 'دهع', 'ناج', 'صحى', 'يعد', 'تخد', 'زتك', 'بقك', 'تقم', 'انس', 'نتج', 'حسب', 'حسب', 'رنس', 'حترم', 'تعد', 'حرم', 'شغل', 'لزم', 'حرم', 'طلب', 'لزم', 'تخد', 'وأ', 'طلب', 'جمع', 'حضر', 'محاضراتك', 'ايل', 'علم', 'سمر', 'حضر', 'سؤل', 'رصد', 'ناج', 'قطع', 'تخل', 'حسس', 'جنب', 'حيت', 'عيش', 'سؤل', 'سؤل', 'سعد', 'وما', 'وخا', 'نزل', 'سؤل', 'سؤل', 'سؤل', 'حيت', 'شغل', 'طلب', 'درس', 'حسب', 'بتد', 'ناج', 'اون', 'لين', 'تقر', 'حصل', 'ناج', 'بذل', 'طور', 'بقى', 'انس', 'قصر', 'فأن', 'لنس', 'حقه', 'وبص', 'قصر', 'طبطب', 'اقل', 'نظر', 'نظر', 'عدل', 'بحق', 'نطر', 'فأن', 'اقل', 'تسس', 'اقل', 'تعش', 'طبع', 'بتا', 'هيت', 'وهم', 'هفترض', 'طبع', 'انس', 'كلم', 'نفس', 'خلف', 'فكن', 'كنن', 'ماط', 'كنن', 'عجب', 'كلم', 'ماط', 'خلف', 'ماط', 'تيل', 'كونس', 'قله', 'طرق', 'عمل', 'حيا', 'قدر', 'روت', 'شدد', 'راح', 'عندناش', 'خدو', 'حتت', 'خلق', 'قسم', 'لذذ', 'تقل', 'كرت', 'وب', 'خلق', 'دمغ', 'نطط', 'وسع', 'اما', 'وأم', 'مشاوير', 'ساح', 'افق', 'مشاريع', 'خطر', 'وسع', 'قرر', 'سرع', 'تهر', 'طلق', 'يجر', 'يزق', 'كسر', 'حيط', 'فتح', 'جال', 'خلق', 'تال', 'ديفيلوبرز', 'فرك', 'كسر', 'حيط', 'وجر', 'فتح', 'ساح', 'شرع', 'تعل', 'نفل', 'تعل', 'نرص', 'بعد', 'عرب', 'عندهاش', 'محل', 'نبن', 'محل', 'يتل', 'ديفلوبرز', 'تطر', 'اما', 'ساح', 'فتح', 'اتن', 'يقل', 'اهم', 'قعد', 'ندي', 'يلب', 'هنفضل', 'هنتخ', 'جري', 'فتح', 'ساح', 'آفق', 'وسع', 'طور', 'جود', 'وقع', 'طرق', 'خنا', 'طرق', 'نفس', 'علم', 'وخد', 'حطش', 'قلب', 'صنع', 'صنع', 'درس', 'جنب', 'عظم', 'وخد', 'علم', 'بتع', 'سلف', 'هلب', 'تقل', 'نمه', 'ذتي', 'سعد', 'ذتي', 'فكر', 'جيد', 'للب', 'حصلش', 'احا', 'شكل', 'نصح', 'سطح', 'سطح', 'يعب', 'لالمعلوم', 'نحط', 'عملش', 'فأن', 'تعش', 'حول', 'حقق', 'شكل', 'هدف', 'ناج', 'فشل', 'لأن', 'سمك', 'شجر', 'ثال', 'لذذ', 'ينش', 'شكل', 'ناج', 'شكل', 'سلف', 'ونس', 'وعي', 'ذتي', 'وأن', 'علم', 'حيط', 'هخد', 'هخد', 'نهر', 'حمد', 'زيد', 'مثل', 'علم', 'رنمج', 'نوش', 'بدأ', 'قعد', 'بروتيفيتي', 'سيس', 'وتس', 'برو', 'شتغل', 'كتد', 'لزم', 'لقت', 'عطل', 'ني', 'فدت', 'احظ', 'بيس', 'سرع', 'طرق', 'عيش', 'ناسب', 'قعد', 'كتب', 'أدخل', 'عمل', 'ناج', 'نسب', 'عمل', 'مكس', 'رجع', 'ظلم', 'هستخدم', 'ورق', 'ديجيتال', 'وكل', 'بعض', 'عمل', 'ولي', 'لوج', 'ولي', 'فقد', 'فكر', 'ورق', 'رصص', 'ورق', 'بسط', 'ني', 'فبد', 'عمل', 'مكس', 'احس', 'بدأ', 'ورق', 'وحج', 'تته', 'برج', 'فتح', 'تسك', 'ارج', 'كا', 'عطل', 'فرم', 'امش', 'حطه', 'خطه', 'كوارتر', 'ربع', 'فتح', 'نوش', 'أدخل', 'بق', 'قعد', 'فكر', 'فرح', 'كتب', 'نوت', 'فكر', 'خطر', 'كتب', 'هيخد', 'كبه', 'صحى', 'بصح', 'كتب', 'دوش', 'هرتب', 'كتر', 'تسك', 'زميل', 'جمع', 'روفال', 'نقش', 'فلن', 'جمع', 'فلن', 'فصل', 'رتب', 'يدو', 'بوت', 'ولو', 'ولو', 'ولو', 'كبر', 'خطء', 'حطط', 'ليس', 'خطء', 'تقع', 'ناج', 'انس', 'رجع', 'للت', 'عمل', 'ناج', 'فتح', 'ملف', 'كتب', 'not', 'ريف', 'اجس', 'رجع', 'عدل', 'ناج', 'استراتيجيه', 'ناج', 'تغر', 'نفع', 'فعش', 'وظف', 'فتح', 'عمل', 'تجز', 'خلف', 'لزم', 'لسر', 'ناج', 'رون', 'حقق', 'سيب', 'هزر', 'هزر', 'اول', 'للل', 'حسب', 'نجه', 'حكيتل', 'رولز', 'لعب', 'للل', 'ورض', 'فأن', 'عبر', 'انس', 'نتج', 'انس', 'فشل', 'عمل', 'وجي', 'اقل', 'بحك', 'عشت', 'كتر', 'حضر', 'طلب', 'شرك', 'فكل', 'عدل', 'عدل', 'حطش', 'قلب', 'لأن', 'ترم', 'فوط', 'سيس', 'شفت', 'عرفتش', 'قفل', 'سيس', 'لالدكتور', 'كتب', 'ديت', 'يلق', 'خرف', 'ديت', 'نسي', 'هتم', 'بكل', 'أكل', 'بيض', 'ربع', 'خفف', 'سكر', 'منع', 'قلل', 'همش', 'دكتور', 'كتب', 'هشتغل', 'طول', 'حضر', 'كسر', 'ستج', 'بتع', 'لالإنتاج', 'انس', 'يعش', 'نقل', 'فاي', 'اون', 'ديمنز', 'حرب', 'شيط', 'عفر', 'اهم', 'تست', 'تمس', 'ظمه', 'ناج', 'تبع', 'عطل', 'ناج', 'عدل', 'سرع', 'جرى', 'جرى', 'شكل', 'فيس', 'انه', '[', ']', 'وقع', 'خدم', 'تكنولوجي', 'جدد', 'اور', 'تطر', 'نهر', 'تطر', 'الر', 'بون', 'فت', 'برزنتيشن', 'الي', 'نقل', 'تكت', 'فعل', 'الي', 'ضيع', 'ستك', 'سيس', 'يدر', 'سيس', 'طورش', 'ادو', 'تطر', 'ادو', 'طلع', 'كشف', 'جدد', 'وأن', 'قلف', 'شيل', 'خدم', 'اده', 'ادل', 'دقق', 'لته', 'وقت', 'ادا', 'نفع', 'نفع', 'ودك', 'عد', 'ارم', 'لتر', 'ريز', 'دكت', 'هحتاج', 'هفتح', 'ملف', 'طلع', 'فيل', 'ابد', 'ولز', 'وقع', 'ناج', 'نجل', 'سلف', 'كير', 'ناج', 'سقو', 'هام', 'ريب', 'لمش', 'امش', 'نسى', 'يمش', 'عمل', 'بني', 'ادم', 'فهل', 'ناج', 'ضمن', 'همم', 'بنم', 'وكل', 'شرب', 'ريض', 'كلم', 'عد', 'اكر', 'راح', 'كفي', 'صنع', 'جزه', 'ناج', 'وصل', 'ستو', 'علي', 'ترس', 'ترس', 'بلد', 'ظرف', 'حرق', 'ترس', 'خلق', 'شتغل', 'وبج', 'بيب', 'خلف', 'جهد', 'جهد', 'صمم', 'نرح', 'نشح', 'بطر', 'رجع', 'نبن', 'برح', 'فضل', 'يتر', 'يتر', 'يتر', 'قولل', 'ماحصلش', 'ماحصليش', 'ازم', 'ماحصليش', 'ضغط', 'حيق', 'لين', 'فرض', 'روت', 'بتد', 'ريحش', 'خدش', 'جزه', 'وقع', 'فالاهتمام', 'نفس', 'سلف', 'كير', 'بشف', 'ولو', 'عاييز', 'مث', 'بقل', 'ظرف', 'ظرف', 'عئل', 'ظرف', 'خلي', 'جهد', 'جهد', 'اثر', 'دئي', '100%', '100', 'اثر', 'داي', 'ادش', 'جلد', 'وجب', 'رحل', 'سعد', 'عند', 'ندر', 'نحر', 'تكل', 'وقت', 'جهد', 'ماينفعش', 'حسبش', 'ناج', 'ظلم', 'ناج', 'ظرف', 'تعب', 'عين', 'تعب', 'صدق', 'ازم', 'سند', 'تسب', 'حسب', 'رقم', 'رقم', 'اخر', 'خمس', 'ناج', 'بيئ', 'ظمه', 'نظر', 'لالانماط', 'سلك', 'علي', 'نظم', 'قدر', 'قلل', 'نظم', 'فأن', 'اكن', 'بمل', 'لنس', 'خشش', 'كبي', 'تستر', 'ترتب', 'كبه', 'ورا', 'مرت', 'ترص', 'رصص', 'تعب', 'عرفش', 'قعد', 'رصص', 'نسق', 'فأن', 'بعش', 'بيئ', 'ظمه', 'غلط', 'خسر', 'اقي', 'ضيع', 'رجي', 'وقت', 'ادر', 'نظم', 'عرف', 'وصل', 'سهل', 'فإن', 'نظم', 'بيئ', 'كسبل', 'لالاحتياج', 'اما', 'ورق', 'اما', 'دوت', 'ضيعش', 'بحث', 'حتج', 'شهد', 'نظم', 'رتب', 'فرق', 'نفس', 'شتغل', 'اقل', 'تقل', 'اقل', 'هره', 'ديليش', 'عمل', 'خوت', 'عرف', 'سهل', 'رتب', 'وأن', 'عمل', 'خدم', 'تفق', 'ديل', 'كولابوريشن', 'نقط', 'قوت', 'هسعد', 'وأن', 'نقط', 'قوت', 'هتساعد', 'رمش', 'ريب', 'نظم', 'ريب', 'نظم', 'خطو', 'ويه', 'بسط', 'احا', 'نظم', 'بيئ', 'هيئ', 'نظم', 'مثل', 'خدم', 'مالهمش', 'وكس', 'جمع', 'فمم', 'شري', 'وكس', 'كتب', 'سمي', 'تحط', 'وكس', 'وكس', 'كتب', 'سمي', 'رصص', 'ارم', 'وكس', 'نطر', 'ليه', 'ظمه', 'هدر', 'اوض', 'هدر', 'وكس', '20', 'يتم', 'هطلع', 'يتم', 'هدر', 'اوض', '100', 'وشي', 'يتم', 'فبت', 'شرى', 'وكس', 'وأن', 'وكس', 'بدأ', 'ارم', 'بعض', 'بعض', 'فأن', 'فأن', 'بعض', 'رمه', 'فاه', 'على', 'نظم', 'مشه', 'حال', 'طولش', 'احس', '25', 'خيل', 'عمل', 'كونش', 'لسف', 'ناج', '1', '3', '5', 'اكش', '1', '3', '5', 'نقش', 'لسف', 'خرج', 'اله', 'ناج', 'صنع', 'اوب', 'ناج', 'نمش', 'انج', 'نتج', 'انس', 'نتج', 'صور', 'بنو', 'انس', 'فيب', 'جلد', 'ذات', 'عدم', 'رضا', 'عرف', 'حدد', 'ولو', 'نتج', 'تلم', 'قرن', 'حول', 'بدت', 'ولز', 'ادو', 'حول', 'مرن', 'رجع', 'ناج', 'عمل', 'سعد', 'فشف', 'سعد', 'سعد', 'سعد', 'غير', 'سبع', 'صحت', 'صحت', 'جسد', 'راح', 'وثم', 'وعي', 'ذتي', 'وعي', 'فاي', 'اور', 'اون', 'ديم', 'سعد', 'عرف', 'عطل', 'وقع', 'تسع', 'انه', 'احبش', 'اقم', 'انه', 'ظمه', 'عظم', 'ركز', 'حفظ', 'ظمه', 'حلت', 'عمل', 'سيم', 'نظم', 'وضو', 'نفس', 'سلو', 'هتقبل', 'نيت', 'هندم', 'وفر', 'جهد', 'تق', 'جمل', 'منى', 'ندي', 'هده', '500', 'ويب', 'سيت', 'تال', 'هيلث', 'ينا', 'بلاتفورم', 'قدم', 'كورس', 'سجل', 'سوف', 'وبي', 'قش', 'سوف', 'عمق', 'هتشوف', 'سوف', 'يدو', 'وجد', 'جذر', 'سوج', 'روتس', 'لالتسويف', '10', 'وكل', 'ارس', 'تصف', 'تصف', 'سبب', 'سوف', 'ايل', 'سوف', 'تصف', 'عمل', 'تحل', 'قرر', '500', 'هنخل', 'كورس', '500', 'ديسكو', '50%', 'وهك', '50', 'جيف', 'اوي', 'خمس', 'حرك', 'ماركتنج', 'منى', 'عمل', 'سوف', 'علم', 'سوف', 'رومو', 'كود', 'نحط', 'دسكربش', 'كومنتس', 'فيد', 'يكم', 'وصل', 'اعل', 'زعلش', 'سبسكرايب', 'سبسكرايب', 'فعل', 'جرس', 'سبسكرايب', 'فعل', 'جرس', 'سنا', 'معارفش', 'سبع', 'هتهد', 'اكن', 'نتج', 'يدو', 'بحب', 'متع', 'بود', 'كست', 'بجي', 'قنه', 'برح', 'بقل', 'راس', 'رتح', 'بسط', 'نمو', 'نفع', 'نيه', 'للل', 'نشر', 'رحم', 'نشر', 'علم', 'نمك', 'متع', 'بده', 'ديز', 'فكر', 'وأن', 'فأن', 'متع', 'بده', 'بسط', 'أتمنى', 'متع', 'بسط', 'وشف', 'بحب', 'كرم']\n",
            "\n",
            "Lemmatized tokens:\n",
            "['الانتاجيه', '500', 'قناه', 'وبحسبه', 'المشاهد', 'أسبوع', '12', '48', 'ضربناهم', 'الثمان', 'هيبقوا', '500', 'ممان', 'منتجه', 'فيحق', 'اكلمك', 'الانتاجيه', 'يحق', 'ليش', 'اكلمك', 'الانتاجيه', 'ضربت', 'المثل', 'المثل', 'الأرقام', 'اتقالت', 'صحيحه', 'كذب', 'متابع', 'جيد', 'سبسكرايب', 'ومفعل', 'الجرس', 'إسماعيل', 'ملتزمه', 'بينزلش', 'أسبوع', 'لمده', 'ممان', 'السبايك', 'الأرقام', 'بنزل', 'استمريت', 'بنزل', 'أسبوع', 'مهنتي', 'الاساسيه', 'شغلتي', 'الاساسيه', 'بالتالي', 'التزم', 'بفيديو', 'أسبوع', 'بقيم', 'انجيتي', 'مجهودي', 'بتهبد', 'أقول', 'انتاجيه', 'بهدوء', 'إسماعيل', 'نتجنب', 'الدخله', 'الكليشيه', 'أصل', 'الإنتاجات', 'فتعال', 'اعلمك', 'وأنا', 'اقوللك', 'بعلك', 'احطلك', 'أرقام', 'الخدع', 'لناس', '5', '', '7', 'بتساوي', '12', 'اضرب', '12', '3', '24', 'وتروح', 'مديله', 'معلومه', 'الماف', 'الحساب', 'منطقي', 'وصحيح', 'وحاجه', '1', '1', 'سساوي', 'ماكدبتش', 'يلخبط', 'الأرقام', 'بتقتنع', 'مخك', 'منطقي', 'اسمعه', 'الخلفيه', 'الانتاجيه', 'عملتها', 'نوصل', '500', 'الانتاجيه', 'يروج', 'عقولنا', 'بمخرجات', 'ايجابيه', 'حصلش', 'الثمان', 'فترات', 'بنزل', 'فترات', 'بنزلش', 'وشهور', 'اختفي', 'وشهر', 'أعمل', 'اليوتيوبرز', 'وهنلعب', 'واختفي', 'وعادي', 'ككريم', 'إسماعيل', 'لالله', 'متاثره', 'بالسلب', 'انجيتي', 'مهنه', 'جانبيه', 'امتهن', 'صناعه', 'راج', 'شركتي', 'البزنس', 'وشغلي', 'الأساسي', 'التعليم', 'والاداره', 'بدير', 'شركتي', 'وبشتغل', 'التعليم', 'كونستن', 'بصح', 'بقابل', 'المسؤوليات', 'بدرس', 'بذاكر', 'بطور', 'باخد', 'شهادات', 'بدي', 'بطلع', 'منتجات', 'ودورات', 'نكسر', 'الكليشيهات', 'الانتاجيه', 'أولها', 'بيحسسك', 'حركات', 'منتج', 'وأنت', 'منتج', 'طريقه', 'لالإنتاج', 'منتج', 'نكسر', 'الانتاجيه', 'ذاتها', 'انتاجيه', 'موجهه', 'لامور', 'دنيويه', 'منتج', 'مذاكره', 'منتج', 'انتاجيه', 'تشمل', 'جوانب', 'تدعو', 'لالفرد', 'انيه', 'والماديه', 'تخليك', 'سكور', 'الإنسان', 'الوقتي', 'مجرد', 'سكور', 'حققت', 'سكور', 'إنسان', 'حققت', 'سكور', 'إنسان', 'قاتل', 'يعلي', 'الانكزايتي', 'ويقلل', 'الثقة', 'بالنفس', 'ويخلي', 'الإنسان', 'بحاله', 'سيئه', 'ويعلي', 'جلده', 'ومع', 'العقليه', 'أفكار', 'العميقه', 'تخلينا', 'بتوف', 'أعمل', 'عرفتش', 'أعمل', 'فأنا', 'بخلي', 'المهام', 'بتمثل', 'خطر', 'مخي', 'فاحيانا', 'يهرب', 'يحطش', 'الرسك', 'بقلف', 'بلعب', 'ائمن', 'احاول', 'بروجكت', 'ويخسر', 'اخطه', 'خطوه', 'واترفض', 'أعمل', 'ماطلعش', 'بالمستوى', 'ويتم', 'نقدي', 'فأنا', 'صراحه', 'اعتراف', 'فيديوهاتي', 'كونفرزيشن', 'محادثه', 'ماشيها', 'اتقلب', 'أقوله', 'مترجمه', 'فاصلا', 'أقول', 'أوجاع', 'مريض', 'تحديات', 'بتواجهني', 'ورحت', 'دورت', 'مساعده', 'تخصصي', 'فبي', 'سعدني', 'لالله', 'اذاكر', 'أحسن', 'وافهم', 'واتكلم', 'متخصصين', 'فأنا', 'نخبط', 'انتاجيه', 'زاويه', 'وهقول', 'عملي', 'تتجنبها', 'توقعك', 'بتوقع', 'الانتاجيه', 'تحدد', 'انتاجيه', 'بعملها', 'انتاجيه', 'موظف', 'مقدر', 'دهع', 'انتاجيه', 'بتصحى', 'الميعاد', 'وبتاخد', 'زتك', 'بقك', 'بتقيم', 'إنسان', 'منتج', 'تتحسب', 'وتتحسب', 'برنس', 'بنحترم', 'متعودين', 'محترم', 'شغلك', 'ملتزم', 'محترم', 'طالب', 'ملتزم', 'بتاخدها', 'وأ', 'طالب', 'جامعي', 'بتحضر', 'محاضراتك', 'استايل', 'التعليم', 'ومستمر', 'حضور', 'المسؤوليات', 'رصيد', 'الانتاجيه', 'تقطع', 'وتخلي', 'تحسسك', 'بجانب', 'الحياتيه', 'عايشها', 'مسؤوليات', 'مسؤوليات', 'بتساعد', 'وماما', 'واخواتك', 'منزل', 'مسؤوليات', 'مسؤوليات', 'المسؤوليات', 'الحياتيه', 'شغلك', 'طالب', 'الدراسه', 'محسوب', 'وابتدي', 'الإنتاج', 'اون', 'لاين', 'بتقرا', 'اتحصل', 'الانتاجيه', 'بتبذل', 'التطوير', 'فيبقى', 'إنسان', 'مقصر', 'فأنا', 'لناسك', 'حقها', 'وبص', 'مقصر', 'طبطب', 'أقول', 'بنظره', 'بنظاره', 'بعدل', 'بحق', 'نطور', 'فأنا', 'أقول', 'تسست', 'أقول', 'تعيش', 'طبيعيه', 'بتا', 'هيات', 'ويوهمك', 'هفترض', 'لطبيعه', 'إنسان', 'بكلمك', 'لالنفوس', 'المختلفه', 'فكين', 'كننا', 'أنماط', 'كننا', 'يعجبك', 'بكلم', 'أنماط', 'المختلفه', 'أنماط', 'الستايل', 'كونست', 'تقتله', 'طريقه', 'تعامل', 'الحيا', 'القدره', 'الروتين', 'الشديد', 'ويرتاحوا', 'عندناش', 'ياخدونا', 'حتت', 'خلقنا', 'تقسيمه', 'لذيذه', 'بتقال', 'كريت', 'وب', 'خلقهم', 'دماغهم', 'بتتنطط', 'الواسع', 'أماكن', 'وأماكن', 'مشاوير', 'مساحات', 'الافاق', 'مشاريع', 'مخاطرات', 'واسعه', 'قرارات', 'سريعه', 'التهور', 'ينطلق', 'يجري', 'ويزق', 'ويكسر', 'الحيطان', 'ويفتح', 'مجالات', 'خلقهم', 'تال', 'ديفيلوبرز', 'فركت', 'وكسرت', 'الحيطان', 'وجريت', 'وفتحت', 'مساحات', 'شارع', 'فتعال', 'نفلت', 'وتعال', 'نرص', 'بعيدا', 'العربيات', 'عندهاش', 'محلات', 'نبني', 'محلات', 'بيتال', 'ديفلوبرز', 'بتطور', 'الأماكن', 'والمساحات', 'اتفتحت', 'والاتنين', 'يقلوا', 'اهميه', 'قعدنا', 'ندي', 'فيلوب', 'هنفضل', 'هنتخن', 'جرينا', 'نفتح', 'مساحات', 'وآفاق', 'واسعه', 'مطوره', 'جوده', 'واقعه', 'الطريقه', 'مخنا', 'الطريقه', 'نفسيتنا', 'اتعلم', 'وخد', 'تحطش', 'القالب', 'صانع', 'صناع', 'دارسين', 'الجوانب', 'ومعظم', 'واخدين', 'المعلومات', 'بتاعتهم', 'السلف', 'هلب', 'يتقال', 'التنميه', 'الذاتيه', 'المساعده', 'الذاتيه', 'أفكار', 'جيد', 'سللب', 'حصلش', 'أحيانا', 'شكل', 'النصائح', 'سطحيه', 'سطحيه', 'استيعابنا', 'لالمعلومات', 'ونحط', 'بعملش', 'فأنا', 'تعيش', 'بتحاول', 'تحقق', 'شكل', 'وهدف', 'الانتاجيه', 'فاشل', 'لأنك', 'السمكه', 'والشجره', 'والمثال', 'اللذيذ', 'أينشتاين', 'شكل', 'انتاجيه', 'شكل', 'السلف', 'اوانس', 'الوعي', 'الذاتي', 'وأنت', 'معلومات', 'المحيط', 'هاخد', 'هاخد', 'فالنهار', 'أحمد', 'زيد', 'فمثلا', 'اتعلمت', 'البرنامج', 'نوشن', 'وبدأت', 'فقعد', 'بروتيفيتي', 'سيستم', 'وتسك', 'وبروك', 'وشتغل', 'كتد', 'وملتزم', 'لقيته', 'بيعطل', 'ني', 'فدات', 'الاحظ', 'البيس', 'السرعه', 'الطريقه', 'عايشها', 'متناسب', 'أقعد', 'واكتب', 'وأدخل', 'فعملت', 'الانتاجيه', 'المناسب', 'أعمل', 'مكسات', 'رجعت', 'ظلمت', 'هستخدم', 'ورقيه', 'ديجيتال', 'وكله', 'بعضه', 'عملها', 'وليها', 'لوج', 'وليها', 'مفتقد', 'التفكير', 'الورقه', 'والترصيص', 'الورق', 'بيبسط', 'ني', 'فبدات', 'أعمل', 'مكس', 'احس', 'وبدأت', 'الأوراق', 'وحاجتي', 'تتهني', 'البروجكت', 'فاتحها', 'التاسكات', 'الارجنت', 'كا', 'عطلان', 'الفريم', 'أمشي', 'حاطه', 'الخطه', 'الكوارتر', 'الربع', 'بفتح', 'نوشن', 'وأدخل', 'بق', 'أقعد', 'افكر', 'فروح', 'كاتب', 'النوت', 'أفكار', 'وخواطر', 'كاتب', 'هياخدوا', 'اكتبه', 'بصحى', 'بصح', 'أكتب', 'دوشه', 'هرتب', 'فكتير', 'التاسكات', 'زمايلي', 'اجتماع', 'ابروفال', 'بيناقش', 'الفلانيه', 'اجتماع', 'الفلانيه', 'فاصلا', 'بترتب', 'بيدوني', 'الانبوت', 'اولويه', 'اولويه', 'اولويه', 'أكبر', 'الأخطاء', 'حططها', 'الليسته', 'الأخطاء', 'بتقع', 'الانتاجيه', 'الإنسان', 'يراجع', 'لالتاني', 'عمليه', 'الانتاجيه', 'بفتح', 'الملف', 'كاتب', 'not', 'ريفيين', 'اجستين', 'تراجع', 'وتعدل', 'الانتاجيه', 'استراتيجيه', 'الانتاجيه', 'تتغير', 'نفعت', 'تنفعش', 'وظيفه', 'فتحته', 'فعمل', 'اتجوزت', 'خلفت', 'فلازم', 'السر', 'الانتاجيه', 'المرونه', 'والحقيقه', 'سيبكم', 'الهزار', 'هزرت', 'الأول', 'لالله', 'بحسب', 'المنتجه', 'حكيتلك', 'الرولز', 'بلعبها', 'لالله', 'وراضي', 'فأنا', 'اعتبر', 'إنسان', 'منتج', 'إنسان', 'فاشل', 'عملها', 'وجايه', 'أقول', 'بحكي', 'عشتها', 'وكتير', 'حضراتكم', 'طلب', 'شاركنا', 'فكل', 'عدل', 'عدل', 'تحطش', 'قوالب', 'لأنك', 'بترمي', 'الفوطه', 'السيستم', 'شفته', 'عرفتش', 'قافل', 'السيستم', 'لالدكتور', 'يكتب', 'دايت', 'يلاقي', 'خرف', 'الدايت', 'ناسي', 'يهتم', 'باكله', 'تأكل', 'بيضه', 'والربع', 'مخفف', 'السكريات', 'امنع', 'قلل', 'همشي', 'الدكتور', 'مكاتب', 'هشتغل', 'طولت', 'حضراتكم', 'اكسر', 'الاستجما', 'بتاعت', 'لالإنتاج', 'الإنسان', 'يعيشها', 'انتقال', 'فايتن', 'اون', 'ديمنز', 'تحارب', 'الشياطين', 'وعفاريت', 'أهم', 'تستك', 'تتمسك', 'انظمه', 'انتاجيه', 'بتتباع', 'بتعطل', 'الانتاجيه', 'عدلكم', 'سريعا', 'جرى', 'جرى', 'الشكل', 'الفيست', 'انيه', '[', ']', 'توقع', 'استخدام', 'التكنولوجي', 'الجديده', 'اوير', 'بالتطور', 'فالنهار', 'تطورات', 'الور', 'بوينت', 'فت', 'برزنتيشن', 'الاي', 'نقله', 'التكات', 'تتفاعل', 'الاي', 'مضيع', 'ستيك', 'سيستم', 'بيدير', 'السيستم', 'طورش', 'الأدوات', 'تطور', 'الأدوات', 'مطلع', 'تستكشف', 'الجديده', 'وأنا', 'بقلف', 'السوشيال', 'بستخدم', 'اداه', 'اديله', 'دقيقتين', 'لاته', 'وقتي', 'الادا', 'تنفع', 'تنفعني', 'ودوك', 'عد', 'ارمي', 'فلتر', 'برايز', 'الدكت', 'وهحتاج', 'هفتح', 'الملف', 'اطلعها', 'فيلين', 'أبديت', 'التولز', 'بتوقع', 'الانتاجيه', 'نجلك', 'سلف', 'كير', 'الانتاجيه', 'التسقو', 'المهام', 'والترتيب', 'والمش', 'أمشي', 'بينسى', 'بيمشي', 'ويعمل', 'بني', 'ادم', 'فهل', 'الانتاجيه', 'ضمنها', 'اهتمامك', 'بنومك', 'واكلك', 'وشربك', 'ورياضتك', 'اكلمت', 'عد', 'اكرا', 'راحات', 'كافيه', 'بتصنع', 'الاجازه', 'انتاجيه', 'بنوصل', 'لمستويات', 'عاليه', 'الستريس', 'الستريس', 'بيبلد', 'ظروف', 'الاحتراق', 'السترس', 'خلقنا', 'بنشتغل', 'وبيجي', 'بيبني', 'الخلفيه', 'الاجهاد', 'الاجهاد', 'مصمم', 'نريح', 'نشحن', 'البطاريه', 'ونرجع', 'نبني', 'بريح', 'بيفضل', 'يتراكم', 'يتراكم', 'يتراكم', 'تقوللك', 'ماحصلش', 'ماحصليش', 'ازمه', 'ماحصليش', 'ضغط', 'الحياقه', 'مليانه', 'افترضنا', 'الروتين', 'بتادي', 'بتريحش', 'تاخدش', 'اجازه', 'وقعت', 'فالاهتمام', 'بنفسك', 'بالسلف', 'كير', 'بشوفها', 'اولويه', 'عاييز', 'مث', 'بقالي', 'ظروف', 'ظروف', 'عائليه', 'فالظروف', 'مخليني', 'مجهد', 'مجهد', 'اثر', 'أدائي', '100%', '100', 'اثر', 'داي', 'مادش', 'اجلد', 'واجب', 'المرحله', 'اساعد', 'وعندنا', 'بندور', 'وبنحرك', 'وبتاكل', 'وقتنا', 'مجهودنا', 'ماينفعش', 'محسبش', 'انتاجيه', 'ظلم', 'انتاجيه', 'ظروف', 'تعبانه', 'عيان', 'تعب', 'صديق', 'ازمه', 'سندته', 'تسب', 'تحسب', 'ارقمهم', 'الترقيم', 'الآخر', 'وخمسه', 'الانتاجيه', 'البيئه', 'المنظمه', 'نظريات', 'لالانماط', 'والسلوكيه', 'عاليه', 'التنظيم', 'قدرات', 'قليله', 'التنظيم', 'فأنا', 'أكون', 'بميل', 'لالناس', 'تخشش', 'مكتبي', 'متستره', 'ومترتبه', 'المكتبه', 'ورايا', 'امراتي', 'بترص', 'ترصيص', 'بتتعب', 'بعرفش', 'أقعد', 'ارصص', 'منسق', 'فأنا', 'بعيش', 'بيئه', 'منظمه', 'غلطه', 'بتخسرني', 'الاقي', 'ضيعت', 'انرجي', 'ووقت', 'ادور', 'منظم', 'أعرف', 'أوصل', 'بسهوله', 'فإنك', 'تنظم', 'البيئه', 'اكسبل', 'لالاحتياجات', 'أماكن', 'اوراقك', 'أماكن', 'ادواتك', 'تضيعش', 'البحث', 'محتاجها', 'المشهد', 'المنظم', 'المرتب', 'يفرق', 'نفسيتنا', 'بنشتغل', 'أقوله', 'بتقولها', 'أقوله', 'المهاره', 'ديليشن', 'بتعمله', 'اخواتك', 'بتعرف', 'بسهوله', 'بيرتب', 'وأنت', 'بتعمله', 'الخدمه', 'وتتفقوا', 'ديل', 'كولابوريشن', 'بنقاط', 'قوتي', 'هساعدك', 'وأنت', 'بنقاط', 'قوتك', 'هتساعدني', 'ترميش', 'الترتيب', 'والتنظيم', 'الترتيب', 'والتنظيم', 'خطوات', 'ويه', 'أبسط', 'أحيانا', 'التنظيم', 'البيئه', 'مهيئه', 'تنظم', 'فمثلا', 'بتستخدمها', 'مالهمش', 'بوكس', 'بيتجمعوا', 'فممكن', 'تشتري', 'بوكس', 'تكتب', 'اسامي', 'وتحط', 'بوكسات', 'وبوكسات', 'وتكتب', 'اسامي', 'ترصص', 'ارمي', 'البوكس', 'منطوره', 'لايه', 'منظمه', 'هدور', 'الاوضه', 'هدور', 'البوكس', '20', 'ايتم', 'هطلع', 'ايتم', 'هدور', 'الاوضه', '100', 'وشويه', 'ايتم', 'فابت', 'اشترى', 'بوكسات', 'وأنا', 'بوكسات', 'بدأت', 'ارمي', 'بعضها', 'بعضها', 'فأنا', 'فأنا', 'بعضها', 'مرميه', 'فاه', 'أعلى', 'تنظيمي', 'ممشيه', 'حالها', 'اطولش', 'احس', '25', 'خيلكم', 'أعمل', 'يكونش', 'الفلسفي', 'الانتاجيه', '1', '3', '5', 'ماكش', '1', '3', '5', 'نقاش', 'فلسفي', 'أخرج', 'الهه', 'الانتاجيه', 'بصنعها', 'اوبت', 'الانتاجيه', 'بنمشي', 'الانج', 'منتج', 'إنسان', 'منتج', 'بالصوره', 'بيبنو', 'إنسان', 'فيبني', 'جلد', 'الذات', 'وعدم', 'الرضا', 'عرف', 'وحدد', 'الاولويه', 'منتج', 'تلوم', 'تقارن', 'حاول', 'تبديت', 'التولز', 'والادوات', 'حاول', 'مرن', 'وتراجع', 'الانتاجي', 'بنعمله', 'يساعدنا', 'فشوف', 'مساعدك', 'مساعدك', 'مساعدك', 'غيره', 'سبعه', 'صحتك', 'صحتك', 'الجسديه', 'الراحات', 'وثمانيه', 'الوعي', 'الذاتي', 'الوعي', 'فايتن', 'اور', 'اون', 'ديم', 'بيساعدك', 'تتعرف', 'معطلك', 'موقعك', 'تسعه', 'مانيه', 'ماحبش', 'أقام', 'مانيه', 'منظمه', 'عظيم', 'ركز', 'تحافظ', 'منظمه', 'حالتي', 'أعمل', 'سيمي', 'منظم', 'فوضوي', 'نفسيتك', 'وسلوكك', 'هتقبل', 'نيت', 'ومهندم', 'بتوفر', 'ومجهود', 'تق', 'الجميله', 'أتمنى', 'نديكم', 'هديه', '500', 'الويب', 'سايت', 'متال', 'هيلث', 'مينا', 'البلاتفورم', 'بنقدم', 'الكورسات', 'المسجله', 'التسويف', 'وبينا', 'قش', 'التسويف', 'بعمق', 'هتشوفها', 'التسويف', 'الفيديوهات', 'الموجوده', 'الجذور', 'السوج', 'الروتس', 'لالتسويف', '10', 'وكلنا', 'بنمارس', 'بتصوف', 'بتصوف', 'لسبب', 'التسويف', 'الاستايل', 'التسويف', 'بتصوف', 'بتعامل', 'وتحله', 'قررنا', '500', 'هنخلي', 'الكورس', '500', 'ديسكونت', '50%', 'وهيكون', '50', 'الجيف', 'اواي', 'خمسات', 'حركات', 'ماركتنج', 'فاتمنى', 'يتعامل', 'التسويف', 'يتعلم', 'التسويف', 'البرومو', 'كود', 'نحطه', 'الدسكربشن', 'الكومنتس', 'مفيد', 'ليكم', 'وصلتوا', 'إسماعيل', 'زعلش', 'سبسكرايب', 'سبسكرايب', 'وفعل', 'الجرس', 'سبسكرايب', 'وفعل', 'الجرس', 'استناكم', 'معارفش', 'الأسبوع', 'هتهد', 'أكون', 'منتج', 'الفيديوهات', 'بحبهم', 'وبستمتع', 'بالبود', 'كاست', 'باجي', 'القناه', 'براحتي', 'وبقول', 'الاستراس', 'برتاح', 'وبابسط', 'بنموت', 'ننفع', 'نيه', 'لالله', 'ننشر', 'الرحمه', 'وننشر', 'بالعلم', 'نمك', 'بنستمتع', 'بده', 'الفيديوز', 'افكاري', 'وأنا', 'فأنا', 'بستمتع', 'بده', 'وبسط', 'وأتمنى', 'تستمتعوا', 'تبسطوا', 'واشوفكم', 'بحبكم', 'يكرمكم']\n"
          ]
        }
      ],
      "source": [
        "print(\"Original tokens (from tokens_no_stop_additional):\")\n",
        "print(df.loc[0, 'tokens_no_stop_additional'])\n",
        "\n",
        "print(\"\\nStemmed tokens:\")\n",
        "print(df.loc[0, 'stemmed_tokens'])\n",
        "\n",
        "\n",
        "print(\"\\nLemmatized tokens:\")\n",
        "print(df.loc[0, 'lemmatized_tokens'])"
      ]
    },
    {
      "cell_type": "markdown",
      "metadata": {},
      "source": [
        "*results from lemmatization are not adequate*"
      ]
    },
    {
      "cell_type": "markdown",
      "metadata": {
        "vscode": {
          "languageId": "powershell"
        }
      },
      "source": [
        "### More Analysis"
      ]
    },
    {
      "cell_type": "markdown",
      "metadata": {
        "vscode": {
          "languageId": "powershell"
        }
      },
      "source": [
        "**Vocabulary Size after Preprocessing**"
      ]
    },
    {
      "cell_type": "code",
      "execution_count": 45,
      "metadata": {},
      "outputs": [
        {
          "name": "stdout",
          "output_type": "stream",
          "text": [
            "Vocabulary size: 8079\n",
            "Top 10 most frequent lemmas: [('عمل', 806), ('وأن', 554), ('انس', 448), ('علم', 328), ('سلم', 309), ('عرف', 298), ('اخر', 289), ('فكر', 281), ('سعد', 247), ('كلم', 237)]\n"
          ]
        }
      ],
      "source": [
        "all_stemmed_tokens = [token for tokens in df['stemmed_tokens'] for token in tokens]\n",
        "vocab = set(all_stemmed_tokens)\n",
        "token_freq = Counter(all_stemmed_tokens)\n",
        "print(\"Vocabulary size:\", len(vocab))\n",
        "print(\"Top 10 most frequent lemmas:\", token_freq.most_common(10))"
      ]
    },
    {
      "cell_type": "code",
      "execution_count": 46,
      "metadata": {},
      "outputs": [
        {
          "name": "stdout",
          "output_type": "stream",
          "text": [
            "Vocabulary size: 26658\n",
            "Top 10 most frequent lemmas: [('الإنسان', 338), ('وأنا', 301), ('وأنت', 232), ('فأنا', 186), ('لالله', 170), ('الآخر', 152), ('أعمل', 149), ('أقول', 147), ('أصل', 130), ('صلى', 122)]\n"
          ]
        }
      ],
      "source": [
        "all_lemmatized_tokens = [token for tokens in df['lemmatized_tokens'] for token in tokens]\n",
        "vocab = set(all_lemmatized_tokens)\n",
        "token_freq = Counter(all_lemmatized_tokens)\n",
        "print(\"Vocabulary size:\", len(vocab))\n",
        "print(\"Top 10 most frequent lemmas:\", token_freq.most_common(10))"
      ]
    },
    {
      "cell_type": "markdown",
      "metadata": {},
      "source": [
        "**Document length distribution**"
      ]
    },
    {
      "cell_type": "code",
      "execution_count": null,
      "metadata": {},
      "outputs": [
        {
          "ename": "AttributeError",
          "evalue": "'DataFrame' object has no attribute 'c'",
          "output_type": "error",
          "traceback": [
            "\u001b[1;31m---------------------------------------------------------------------------\u001b[0m",
            "\u001b[1;31mAttributeError\u001b[0m                            Traceback (most recent call last)",
            "\u001b[1;32m~\\AppData\\Local\\Temp\\ipykernel_25932\\1882186788.py\u001b[0m in \u001b[0;36m?\u001b[1;34m()\u001b[0m\n\u001b[1;32m----> 1\u001b[1;33m \u001b[0mdf\u001b[0m\u001b[1;33m.\u001b[0m\u001b[0mc\u001b[0m\u001b[1;33m\u001b[0m\u001b[1;33m\u001b[0m\u001b[0m\n\u001b[0m",
            "\u001b[1;32mc:\\Users\\sana2\\AppData\\Local\\Programs\\Python\\Python39\\lib\\site-packages\\pandas\\core\\generic.py\u001b[0m in \u001b[0;36m?\u001b[1;34m(self, name)\u001b[0m\n\u001b[0;32m   6295\u001b[0m             \u001b[1;32mand\u001b[0m \u001b[0mname\u001b[0m \u001b[1;32mnot\u001b[0m \u001b[1;32min\u001b[0m \u001b[0mself\u001b[0m\u001b[1;33m.\u001b[0m\u001b[0m_accessors\u001b[0m\u001b[1;33m\u001b[0m\u001b[1;33m\u001b[0m\u001b[0m\n\u001b[0;32m   6296\u001b[0m             \u001b[1;32mand\u001b[0m \u001b[0mself\u001b[0m\u001b[1;33m.\u001b[0m\u001b[0m_info_axis\u001b[0m\u001b[1;33m.\u001b[0m\u001b[0m_can_hold_identifiers_and_holds_name\u001b[0m\u001b[1;33m(\u001b[0m\u001b[0mname\u001b[0m\u001b[1;33m)\u001b[0m\u001b[1;33m\u001b[0m\u001b[1;33m\u001b[0m\u001b[0m\n\u001b[0;32m   6297\u001b[0m         ):\n\u001b[0;32m   6298\u001b[0m             \u001b[1;32mreturn\u001b[0m \u001b[0mself\u001b[0m\u001b[1;33m[\u001b[0m\u001b[0mname\u001b[0m\u001b[1;33m]\u001b[0m\u001b[1;33m\u001b[0m\u001b[1;33m\u001b[0m\u001b[0m\n\u001b[1;32m-> 6299\u001b[1;33m         \u001b[1;32mreturn\u001b[0m \u001b[0mobject\u001b[0m\u001b[1;33m.\u001b[0m\u001b[0m__getattribute__\u001b[0m\u001b[1;33m(\u001b[0m\u001b[0mself\u001b[0m\u001b[1;33m,\u001b[0m \u001b[0mname\u001b[0m\u001b[1;33m)\u001b[0m\u001b[1;33m\u001b[0m\u001b[1;33m\u001b[0m\u001b[0m\n\u001b[0m",
            "\u001b[1;31mAttributeError\u001b[0m: 'DataFrame' object has no attribute 'c'"
          ]
        }
      ],
      "source": [
        "df.c"
      ]
    },
    {
      "cell_type": "code",
      "execution_count": 48,
      "metadata": {},
      "outputs": [
        {
          "name": "stdout",
          "output_type": "stream",
          "text": [
            "Stemmed Tokens Length Stats:\n",
            "count      47.000000\n",
            "mean     1435.000000\n",
            "std       682.442608\n",
            "min        51.000000\n",
            "25%      1092.500000\n",
            "50%      1357.000000\n",
            "75%      1677.500000\n",
            "max      3543.000000\n",
            "Name: stem_length, dtype: float64\n",
            "\n",
            "Lemmatized Tokens Length Stats:\n",
            "count      47.000000\n",
            "mean     1435.000000\n",
            "std       682.442608\n",
            "min        51.000000\n",
            "25%      1092.500000\n",
            "50%      1357.000000\n",
            "75%      1677.500000\n",
            "max      3543.000000\n",
            "Name: lemma_length, dtype: float64\n"
          ]
        },
        {
          "data": {
            "image/png": "[encoded data removed]",
            "text/plain": [
              "<Figure size 1200x500 with 2 Axes>"
            ]
          },
          "metadata": {},
          "output_type": "display_data"
        }
      ],
      "source": [
        "df['stem_length'] = df['stemmed_tokens'].apply(len)\n",
        "df['lemma_length'] = df['lemmatized_tokens'].apply(len)\n",
        "\n",
        "\n",
        "print(\"Stemmed Tokens Length Stats:\")\n",
        "print(df['stem_length'].describe())\n",
        "print(\"\\nLemmatized Tokens Length Stats:\")\n",
        "print(df['lemma_length'].describe())\n",
        "\n",
        "\n",
        "plt.figure(figsize=(12, 5))\n",
        "\n",
        "plt.subplot(1, 2, 1)\n",
        "plt.hist(df['stem_length'], bins=20, color='skyblue')\n",
        "plt.xlabel(\"Number of tokens (Stemmed)\")\n",
        "plt.ylabel(\"Frequency\")\n",
        "plt.title(\"Stemmed Document Length Distribution\")\n",
        "\n",
        "plt.subplot(1, 2, 2)\n",
        "plt.hist(df['lemma_length'], bins=20, color='lightgreen')\n",
        "plt.xlabel(\"Number of tokens (Lemmatized)\")\n",
        "plt.ylabel(\"Frequency\")\n",
        "plt.title(\"Lemmatized Document Length Distribution\")\n",
        "\n",
        "plt.tight_layout()\n",
        "plt.show()\n"
      ]
    },
    {
      "cell_type": "markdown",
      "metadata": {},
      "source": [
        "### Tf Idf"
      ]
    },
    {
      "cell_type": "markdown",
      "metadata": {},
      "source": [
        "**Generating the TF-IDF matrix**"
      ]
    },
    {
      "cell_type": "code",
      "execution_count": 49,
      "metadata": {},
      "outputs": [
        {
          "name": "stdout",
          "output_type": "stream",
          "text": [
            "TF-IDF matrix shape: (47, 5000)\n"
          ]
        }
      ],
      "source": [
        "df['processed_text'] = df['lemmatized_tokens'].apply(lambda tokens: \" \".join(tokens))\n",
        "tfidf_vectorizer = TfidfVectorizer(max_features=5000, ngram_range=(1,2))\n",
        "X_tfidf = tfidf_vectorizer.fit_transform(df['processed_text'])\n",
        "print(\"TF-IDF matrix shape:\", X_tfidf.shape)\n",
        "feature_names = tfidf_vectorizer.get_feature_names_out()\n",
        "\n"
      ]
    },
    {
      "cell_type": "markdown",
      "metadata": {},
      "source": [
        "**Analysing the top 5 tf idf scores for each document**"
      ]
    },
    {
      "cell_type": "code",
      "execution_count": 50,
      "metadata": {},
      "outputs": [
        {
          "name": "stdout",
          "output_type": "stream",
          "text": [
            "Document 0:\n",
            "  الانتاجيه: 0.5026\n",
            "  انتاجيه: 0.3403\n",
            "  منتج: 0.2309\n",
            "  التسويف: 0.1834\n",
            "  سكور: 0.1256\n",
            "------\n",
            "Document 1:\n",
            "  الاكس: 0.3652\n",
            "  الفقراء: 0.1684\n",
            "  الغنى: 0.1521\n",
            "  إكس: 0.1490\n",
            "  نظره: 0.1450\n",
            "------\n",
            "Document 2:\n",
            "  الاباحيه: 0.2094\n",
            "  الإدمان: 0.2094\n",
            "  الاباحي: 0.1793\n",
            "  الاستخدام: 0.1793\n",
            "  الأولاد: 0.1758\n",
            "------\n",
            "Document 3:\n",
            "  العيد: 0.7709\n",
            "  الانبساط: 0.1259\n",
            "  بالماضي: 0.1209\n",
            "  لبس العيد: 0.1209\n",
            "  بنبسط: 0.1008\n",
            "------\n",
            "Document 4:\n",
            "  عقليه: 0.1954\n",
            "  الظروف: 0.1865\n",
            "  الصف: 0.1512\n",
            "  تبصش: 0.1512\n",
            "  الثمن: 0.1512\n",
            "------\n",
            "Document 5:\n",
            "  تعس: 0.3272\n",
            "  الحراسه: 0.2401\n",
            "  يعطى: 0.2045\n",
            "  سبيل: 0.1756\n",
            "  الساقه: 0.1636\n",
            "------\n",
            "Document 6:\n",
            "  القلق: 0.5895\n",
            "  يحفظك: 0.2211\n",
            "  احفظ: 0.2211\n",
            "  قلق: 0.1719\n",
            "  وإعلم: 0.1719\n",
            "------\n",
            "Document 7:\n",
            "  نوح: 0.2902\n",
            "  الأذى: 0.2766\n",
            "  لالاذى: 0.2073\n",
            "  التنمر: 0.1872\n",
            "  الإنسان: 0.1258\n",
            "------\n",
            "Document 8:\n",
            "  صديق: 0.3075\n",
            "  الصديق: 0.1711\n",
            "  بكر: 0.1596\n",
            "  الصداقه: 0.1479\n",
            "  بياثر: 0.1479\n",
            "------\n",
            "Document 9:\n",
            "  وسلم: 0.5033\n",
            "  صلى وسلم: 0.4876\n",
            "  صلى: 0.4050\n",
            "  رسول: 0.2927\n",
            "  بكر: 0.2611\n",
            "------\n",
            "Document 10:\n",
            "  الزهور: 0.4827\n",
            "  الحسد: 0.2512\n",
            "  الاذكار: 0.2011\n",
            "  العين: 0.1678\n",
            "  العين والحسد: 0.1609\n",
            "------\n",
            "Document 11:\n",
            "  الإنسان: 0.2231\n",
            "  الجسديه: 0.2086\n",
            "  الراحه: 0.1812\n",
            "  يشاء: 0.1717\n",
            "  هتضحي: 0.1544\n",
            "------\n",
            "Document 12:\n",
            "  الألم: 0.2014\n",
            "  السلبيه: 0.1596\n",
            "  الدعم: 0.1548\n",
            "  الألم الألم: 0.1396\n",
            "  التوبه: 0.1396\n",
            "------\n",
            "Document 13:\n",
            "  هترضى: 0.2513\n",
            "  شغلانه: 0.1805\n",
            "  المهني: 0.1548\n",
            "  خلقت: 0.1546\n",
            "  الكارير: 0.1448\n",
            "------\n",
            "Document 14:\n",
            "  بالأمان: 0.2459\n",
            "  الاكس: 0.2108\n",
            "  اعطاك: 0.1685\n",
            "  الدواء: 0.1521\n",
            "  توفيق: 0.1405\n",
            "------\n",
            "Document 15:\n",
            "  أمل: 0.4027\n",
            "  الأمل: 0.3524\n",
            "  التغيير: 0.2186\n",
            "  بالدنيا: 0.1726\n",
            "  وبص: 0.1726\n",
            "------\n",
            "Document 16:\n",
            "  الانبساط: 0.4996\n",
            "  هتجيبها: 0.2667\n",
            "  الإنسان: 0.2004\n",
            "  تامر: 0.1600\n",
            "  ويطلع: 0.1572\n",
            "------\n",
            "Document 17:\n",
            "  الإيمان: 0.2342\n",
            "  والوعي: 0.2150\n",
            "  تفهم: 0.2049\n",
            "  واقي: 0.1720\n",
            "  العسر: 0.1589\n",
            "------\n",
            "Document 18:\n",
            "  تزعلش: 0.2513\n",
            "  وقع: 0.1878\n",
            "  قفلت: 0.1878\n",
            "  100000: 0.1790\n",
            "  ياس: 0.1676\n",
            "------\n",
            "Document 19:\n",
            "  مهارات: 0.3187\n",
            "  التقنيه: 0.3110\n",
            "  التواصل: 0.2231\n",
            "  المهنيه: 0.2078\n",
            "  مهارات الانتاجيه: 0.2073\n",
            "------\n",
            "Document 20:\n",
            "  الصدقه: 0.4231\n",
            "  الإنسان: 0.2634\n",
            "  يبارك: 0.1679\n",
            "  وأنا: 0.1352\n",
            "  الفاتحه: 0.1323\n",
            "------\n",
            "Document 21:\n",
            "  الترابط: 0.2912\n",
            "  وفيه: 0.2147\n",
            "  الضعف: 0.1943\n",
            "  المشاركه: 0.1578\n",
            "  وقعت: 0.1557\n",
            "------\n",
            "Document 22:\n",
            "  عقلك: 0.1814\n",
            "  استمراريه: 0.1608\n",
            "  الأداء: 0.1508\n",
            "  حدود: 0.1412\n",
            "  العمل أهم: 0.1407\n",
            "------\n",
            "Document 23:\n",
            "  الحج: 0.3512\n",
            "  الفاتحه: 0.2339\n",
            "  الإنسان: 0.2153\n",
            "  المناسك: 0.1943\n",
            "  هرجع: 0.1891\n",
            "------\n",
            "Document 24:\n",
            "  رياده الأعمال: 0.2406\n",
            "  رياده: 0.2406\n",
            "  هتنشغل: 0.1925\n",
            "  عدوك: 0.1925\n",
            "  الأعمال: 0.1848\n",
            "------\n",
            "Document 25:\n",
            "  الصبر: 0.3096\n",
            "  نصائح: 0.2377\n",
            "  عضله: 0.2039\n",
            "  عضله الصبر: 0.1456\n",
            "  بتاثر: 0.1426\n",
            "------\n",
            "Document 26:\n",
            "  اضاءه: 0.4456\n",
            "  بنحضر: 0.3852\n",
            "  زاويه: 0.3297\n",
            "  كاميرا: 0.2058\n",
            "  صور: 0.2058\n",
            "------\n",
            "Document 27:\n",
            "  حصه: 0.3832\n",
            "  الحصه: 0.2491\n",
            "  الألعاب: 0.1988\n",
            "  الفصل: 0.1770\n",
            "  حصه الألعاب: 0.1485\n",
            "------\n",
            "Document 28:\n",
            "  إدمون: 0.4950\n",
            "  عماد: 0.3933\n",
            "  عماد إدمون: 0.3564\n",
            "  ادمن: 0.2178\n",
            "  جروب: 0.1700\n",
            "------\n",
            "Document 29:\n",
            "  بنالتي: 0.2718\n",
            "  الاوفسايد: 0.2174\n",
            "  الحكم: 0.2122\n",
            "  رياضه: 0.2005\n",
            "  جون: 0.1963\n",
            "------\n",
            "Document 30:\n",
            "  دكتور: 0.3917\n",
            "  الوسخه: 0.3834\n",
            "  انكل: 0.2226\n",
            "  الذوق: 0.1901\n",
            "  الدكتور: 0.1850\n",
            "------\n",
            "Document 31:\n",
            "  بطاطس: 0.3954\n",
            "  فراير: 0.3163\n",
            "  بيتزا: 0.3031\n",
            "  الاير: 0.2768\n",
            "  الاير فراير: 0.2636\n",
            "------\n",
            "Document 32:\n",
            "  كيك: 0.3454\n",
            "  تشيز: 0.2977\n",
            "  كيكه: 0.2664\n",
            "  هيلثي: 0.2461\n",
            "  الديزرت: 0.1909\n",
            "------\n",
            "Document 33:\n",
            "  هيروز: 0.3835\n",
            "  سبايدر: 0.3749\n",
            "  هيرو: 0.3140\n",
            "  هالك: 0.3140\n",
            "  سوبر: 0.2995\n",
            "------\n",
            "Document 34:\n",
            "  اوبر: 0.4220\n",
            "  أسرار: 0.2964\n",
            "  أنس: 0.2280\n",
            "  العميل: 0.1462\n",
            "  ساينس: 0.1218\n",
            "------\n",
            "Document 35:\n",
            "  سمسم: 0.5801\n",
            "  ميدو: 0.4726\n",
            "  الحلاق: 0.2813\n",
            "  هيثم: 0.2563\n",
            "  شعري: 0.1349\n",
            "------\n",
            "Document 36:\n",
            "  بطوله: 0.5460\n",
            "  رياضه: 0.3439\n",
            "  بطوله بطوله: 0.3174\n",
            "  الماتش: 0.2117\n",
            "  لعبه: 0.2117\n",
            "------\n",
            "Document 37:\n",
            "  كلب: 0.4968\n",
            "  الكلب: 0.3371\n",
            "  شهاب: 0.3254\n",
            "  أحمد شهاب: 0.2754\n",
            "  القطه: 0.2495\n",
            "------\n",
            "Document 38:\n",
            "  هايبر: 0.3576\n",
            "  مناسبات: 0.2796\n",
            "  بروخ: 0.2220\n",
            "  زكي: 0.2034\n",
            "  ميتنج: 0.1919\n",
            "------\n",
            "Document 39:\n",
            "  زبده: 0.6221\n",
            "  مناسبات: 0.1906\n",
            "  باروخ: 0.1605\n",
            "  اتسحر: 0.1605\n",
            "  المكتب: 0.1527\n",
            "------\n",
            "Document 40:\n",
            "  إبراهيم: 0.2267\n",
            "  الشرير: 0.1916\n",
            "  فندم: 0.1910\n",
            "  الويتر: 0.1818\n",
            "  مناسبات: 0.1769\n",
            "------\n",
            "Document 41:\n",
            "  مسك: 0.2664\n",
            "  تقليه: 0.2236\n",
            "  الفطار: 0.1635\n",
            "  بخور: 0.1442\n",
            "  المكسرات: 0.1442\n",
            "------\n",
            "Document 42:\n",
            "  الدهليز: 0.2402\n",
            "  عبير: 0.2190\n",
            "  فانوس: 0.1877\n",
            "  بوجي: 0.1844\n",
            "  بودي: 0.1709\n",
            "------\n",
            "Document 43:\n",
            "  العيد: 0.4753\n",
            "  ليله: 0.2160\n",
            "  الرؤيه: 0.2160\n",
            "  الدهليز: 0.2087\n",
            "  27: 0.1957\n",
            "------\n",
            "Document 44:\n",
            "  جونسون: 0.2756\n",
            "  أسبوع: 0.2502\n",
            "  السلطه: 0.2250\n",
            "  كمصريين: 0.1980\n",
            "  الشوربه: 0.1838\n",
            "------\n",
            "Document 45:\n",
            "  أسبوع: 0.3327\n",
            "  الفطار: 0.2454\n",
            "  المحشي: 0.2036\n",
            "  جونسون: 0.1833\n",
            "  دمل: 0.1579\n",
            "------\n",
            "Document 46:\n",
            "  الكانتين: 0.3431\n",
            "  البريك: 0.3053\n",
            "  بوكيمون: 0.2516\n",
            "  شهاب: 0.2272\n",
            "  ساندوتش: 0.2143\n",
            "------\n"
          ]
        }
      ],
      "source": [
        "top_terms_all = []\n",
        "\n",
        "# Loop over each document index in the TF-IDF matrix\n",
        "for doc_index in range(X_tfidf.shape[0]):\n",
        "    tfidf_scores = X_tfidf[doc_index].toarray().flatten()\n",
        "    top_indices = np.argsort(tfidf_scores)[::-1][:5]\n",
        "    top_terms = [(feature_names[i], tfidf_scores[i]) for i in top_indices if tfidf_scores[i] > 0]\n",
        "    top_terms_all.append(top_terms)\n",
        "\n",
        "\n",
        "for i, terms in enumerate(top_terms_all):\n",
        "    print(f\"Document {i}:\")\n",
        "    for term, score in terms:\n",
        "        print(f\"  {term}: {score:.4f}\")\n",
        "    print(\"------\")"
      ]
    },
    {
      "cell_type": "code",
      "execution_count": 51,
      "metadata": {},
      "outputs": [
        {
          "name": "stdout",
          "output_type": "stream",
          "text": [
            "Category: Education\n",
            "  الإنسان: 0.0840\n",
            "  وأنا: 0.0587\n",
            "  وأنت: 0.0453\n",
            "  لالله: 0.0407\n",
            "  فأنا: 0.0346\n",
            "------\n",
            "Category: People & Blogs\n",
            "  زبده: 0.0480\n",
            "  كلب: 0.0403\n",
            "  الوسخه: 0.0387\n",
            "  الفطار: 0.0353\n",
            "  أسبوع: 0.0350\n",
            "------\n",
            "Category: Comedy\n",
            "  رياضه: 0.1348\n",
            "  سمسم: 0.1247\n",
            "  بطوله: 0.1004\n",
            "  ميدو: 0.0999\n",
            "  سبايدر: 0.0922\n",
            "------\n"
          ]
        }
      ],
      "source": [
        "categories = df['category'].dropna().unique()\n",
        "\n",
        "for cat in categories:\n",
        "    print(f\"Category: {cat}\")\n",
        "    subset = df[df['category'] == cat]\n",
        "    \n",
        "    \n",
        "    vectorizer_cat = TfidfVectorizer(max_features=5000, ngram_range=(1,2))\n",
        "    X_cat = vectorizer_cat.fit_transform(subset['processed_text'])\n",
        "    \n",
        "    feature_names_cat = vectorizer_cat.get_feature_names_out()\n",
        "    avg_tfidf = np.array(X_cat.mean(axis=0)).flatten()\n",
        "    \n",
        "    \n",
        "    top_indices = np.argsort(avg_tfidf)[::-1][:5]\n",
        "    top_terms = [(feature_names_cat[i], avg_tfidf[i]) for i in top_indices if avg_tfidf[i] > 0]\n",
        "    \n",
        "    for term, score in top_terms:\n",
        "        print(f\"  {term}: {score:.4f}\")\n",
        "    print(\"------\")"
      ]
    },
    {
      "cell_type": "markdown",
      "metadata": {},
      "source": [
        "### Word cloud"
      ]
    },
    {
      "cell_type": "code",
      "execution_count": 54,
      "metadata": {},
      "outputs": [
        {
          "data": {
            "image/png": "[encoded data removed]",
            "text/plain": [
              "<Figure size 1000x500 with 1 Axes>"
            ]
          },
          "metadata": {},
          "output_type": "display_data"
        }
      ],
      "source": [
        "\n",
        "text_combined = \" \".join(df['processed_text'])\n",
        "font_path = \"NotoSansArabic-VariableFont_wdth,wght.ttf\"\n",
        "wordcloud = WordCloud(\n",
        "    font_path=font_path, \n",
        "    width=1000,\n",
        "    height=400,\n",
        "    background_color='white'\n",
        ").generate(text_combined)\n",
        "\n",
        "\n",
        "plt.figure(figsize=(10, 5))\n",
        "plt.imshow(wordcloud, interpolation='bilinear')\n",
        "plt.axis(\"off\")\n",
        "plt.title(\"Word Cloud of Processed Text\")\n",
        "plt.show()"
      ]
    }
  ],
  "metadata": {
    "colab": {
      "include_colab_link": true,
      "provenance": []
    },
    "kernelspec": {
      "display_name": "Python 3",
      "name": "python3"
    },
    "language_info": {
      "codemirror_mode": {
        "name": "ipython",
        "version": 3
      },
      "file_extension": ".py",
      "mimetype": "text/x-python",
      "name": "python",
      "nbconvert_exporter": "python",
      "pygments_lexer": "ipython3",
      "version": "3.12.6"
    }
  },
  "nbformat": 4,
  "nbformat_minor": 0
}
