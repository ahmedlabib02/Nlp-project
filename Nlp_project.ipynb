{
  "cells": [
    {
      "cell_type": "markdown",
      "metadata": {
        "colab_type": "text",
        "id": "view-in-github"
      },
      "source": [
        "<a href=\"https://colab.research.google.com/github/ahmedlabib02/Nlp-project/blob/main/Nlp_project.ipynb\" target=\"_parent\"><img src=\"https://colab.research.google.com/assets/colab-badge.svg\" alt=\"Open In Colab\"/></a>"
      ]
    },
    {
      "cell_type": "markdown",
      "metadata": {
        "id": "yhShSWMAHitF"
      },
      "source": [
        "# Milestone 1"
      ]
    },
    {
      "cell_type": "code",
      "execution_count": 46,
      "metadata": {},
      "outputs": [
        {
          "name": "stdout",
          "output_type": "stream",
          "text": [
            "Requirement already satisfied: transformers in c:\\users\\ahmed labib\\appdata\\local\\programs\\python\\python312\\lib\\site-packages (4.43.4)Note: you may need to restart the kernel to use updated packages.\n",
            "\n",
            "Requirement already satisfied: filelock in c:\\users\\ahmed labib\\appdata\\local\\programs\\python\\python312\\lib\\site-packages (from transformers) (3.13.3)\n",
            "Requirement already satisfied: huggingface-hub<1.0,>=0.23.2 in c:\\users\\ahmed labib\\appdata\\local\\programs\\python\\python312\\lib\\site-packages (from transformers) (0.29.1)\n",
            "Requirement already satisfied: numpy>=1.17 in c:\\users\\ahmed labib\\appdata\\local\\programs\\python\\python312\\lib\\site-packages (from transformers) (1.26.4)\n",
            "Requirement already satisfied: packaging>=20.0 in c:\\users\\ahmed labib\\appdata\\local\\programs\\python\\python312\\lib\\site-packages (from transformers) (24.0)\n",
            "Requirement already satisfied: pyyaml>=5.1 in c:\\users\\ahmed labib\\appdata\\local\\programs\\python\\python312\\lib\\site-packages (from transformers) (6.0.1)\n",
            "Requirement already satisfied: regex!=2019.12.17 in c:\\users\\ahmed labib\\appdata\\local\\programs\\python\\python312\\lib\\site-packages (from transformers) (2024.11.6)\n",
            "Requirement already satisfied: requests in c:\\users\\ahmed labib\\appdata\\local\\programs\\python\\python312\\lib\\site-packages (from transformers) (2.31.0)\n",
            "Requirement already satisfied: safetensors>=0.4.1 in c:\\users\\ahmed labib\\appdata\\local\\programs\\python\\python312\\lib\\site-packages (from transformers) (0.5.3)\n",
            "Requirement already satisfied: tokenizers<0.20,>=0.19 in c:\\users\\ahmed labib\\appdata\\local\\programs\\python\\python312\\lib\\site-packages (from transformers) (0.19.1)\n",
            "Requirement already satisfied: tqdm>=4.27 in c:\\users\\ahmed labib\\appdata\\local\\programs\\python\\python312\\lib\\site-packages (from transformers) (4.66.2)\n",
            "Requirement already satisfied: fsspec>=2023.5.0 in c:\\users\\ahmed labib\\appdata\\local\\programs\\python\\python312\\lib\\site-packages (from huggingface-hub<1.0,>=0.23.2->transformers) (2024.3.1)\n",
            "Requirement already satisfied: typing-extensions>=3.7.4.3 in c:\\users\\ahmed labib\\appdata\\local\\programs\\python\\python312\\lib\\site-packages (from huggingface-hub<1.0,>=0.23.2->transformers) (4.11.0)\n",
            "Requirement already satisfied: colorama in c:\\users\\ahmed labib\\appdata\\local\\programs\\python\\python312\\lib\\site-packages (from tqdm>=4.27->transformers) (0.4.6)\n",
            "Requirement already satisfied: charset-normalizer<4,>=2 in c:\\users\\ahmed labib\\appdata\\local\\programs\\python\\python312\\lib\\site-packages (from requests->transformers) (3.3.2)\n",
            "Requirement already satisfied: idna<4,>=2.5 in c:\\users\\ahmed labib\\appdata\\local\\programs\\python\\python312\\lib\\site-packages (from requests->transformers) (2.10)\n",
            "Requirement already satisfied: urllib3<3,>=1.21.1 in c:\\users\\ahmed labib\\appdata\\local\\programs\\python\\python312\\lib\\site-packages (from requests->transformers) (2.2.1)\n",
            "Requirement already satisfied: certifi>=2017.4.17 in c:\\users\\ahmed labib\\appdata\\local\\programs\\python\\python312\\lib\\site-packages (from requests->transformers) (2023.7.22)\n",
            "Requirement already satisfied: nltk in c:\\users\\ahmed labib\\appdata\\local\\programs\\python\\python312\\lib\\site-packages (3.9.1)\n",
            "Requirement already satisfied: click in c:\\users\\ahmed labib\\appdata\\local\\programs\\python\\python312\\lib\\site-packages (from nltk) (8.1.8)\n",
            "Requirement already satisfied: joblib in c:\\users\\ahmed labib\\appdata\\local\\programs\\python\\python312\\lib\\site-packages (from nltk) (1.4.0)\n",
            "Requirement already satisfied: regex>=2021.8.3 in c:\\users\\ahmed labib\\appdata\\local\\programs\\python\\python312\\lib\\site-packages (from nltk) (2024.11.6)\n",
            "Requirement already satisfied: tqdm in c:\\users\\ahmed labib\\appdata\\local\\programs\\python\\python312\\lib\\site-packages (from nltk) (4.66.2)\n",
            "Requirement already satisfied: colorama in c:\\users\\ahmed labib\\appdata\\local\\programs\\python\\python312\\lib\\site-packages (from click->nltk) (0.4.6)\n",
            "Note: you may need to restart the kernel to use updated packages.\n",
            "Requirement already satisfied: farasapy in c:\\users\\ahmed labib\\appdata\\local\\programs\\python\\python312\\lib\\site-packages (0.0.14)\n",
            "Requirement already satisfied: requests in c:\\users\\ahmed labib\\appdata\\local\\programs\\python\\python312\\lib\\site-packages (from farasapy) (2.31.0)\n",
            "Requirement already satisfied: tqdm in c:\\users\\ahmed labib\\appdata\\local\\programs\\python\\python312\\lib\\site-packages (from farasapy) (4.66.2)\n",
            "Requirement already satisfied: charset-normalizer<4,>=2 in c:\\users\\ahmed labib\\appdata\\local\\programs\\python\\python312\\lib\\site-packages (from requests->farasapy) (3.3.2)\n",
            "Requirement already satisfied: idna<4,>=2.5 in c:\\users\\ahmed labib\\appdata\\local\\programs\\python\\python312\\lib\\site-packages (from requests->farasapy) (2.10)\n",
            "Requirement already satisfied: urllib3<3,>=1.21.1 in c:\\users\\ahmed labib\\appdata\\local\\programs\\python\\python312\\lib\\site-packages (from requests->farasapy) (2.2.1)\n",
            "Requirement already satisfied: certifi>=2017.4.17 in c:\\users\\ahmed labib\\appdata\\local\\programs\\python\\python312\\lib\\site-packages (from requests->farasapy) (2023.7.22)\n",
            "Requirement already satisfied: colorama in c:\\users\\ahmed labib\\appdata\\local\\programs\\python\\python312\\lib\\site-packages (from tqdm->farasapy) (0.4.6)\n",
            "Note: you may need to restart the kernel to use updated packages.\n",
            "Note: you may need to restart the kernel to use updated packages.\n"
          ]
        },
        {
          "name": "stderr",
          "output_type": "stream",
          "text": [
            "ERROR: Could not find a version that satisfies the requirement camel-tools-data (from versions: none)\n",
            "ERROR: No matching distribution found for camel-tools-data\n"
          ]
        },
        {
          "name": "stdout",
          "output_type": "stream",
          "text": [
            "Requirement already satisfied: camel-tools in c:\\users\\ahmed labib\\appdata\\local\\programs\\python\\python312\\lib\\site-packages (1.5.5)\n",
            "Requirement already satisfied: future in c:\\users\\ahmed labib\\appdata\\local\\programs\\python\\python312\\lib\\site-packages (from camel-tools) (1.0.0)\n",
            "Requirement already satisfied: six in c:\\users\\ahmed labib\\appdata\\local\\programs\\python\\python312\\lib\\site-packages (from camel-tools) (1.16.0)\n",
            "Requirement already satisfied: docopt in c:\\users\\ahmed labib\\appdata\\local\\programs\\python\\python312\\lib\\site-packages (from camel-tools) (0.6.2)\n",
            "Requirement already satisfied: cachetools in c:\\users\\ahmed labib\\appdata\\local\\programs\\python\\python312\\lib\\site-packages (from camel-tools) (5.5.2)\n",
            "Requirement already satisfied: numpy<2 in c:\\users\\ahmed labib\\appdata\\local\\programs\\python\\python312\\lib\\site-packages (from camel-tools) (1.26.4)\n",
            "Requirement already satisfied: scipy in c:\\users\\ahmed labib\\appdata\\local\\programs\\python\\python312\\lib\\site-packages (from camel-tools) (1.13.0)\n",
            "Requirement already satisfied: pandas in c:\\users\\ahmed labib\\appdata\\local\\programs\\python\\python312\\lib\\site-packages (from camel-tools) (2.2.1)\n",
            "Requirement already satisfied: scikit-learn in c:\\users\\ahmed labib\\appdata\\local\\programs\\python\\python312\\lib\\site-packages (from camel-tools) (1.4.1.post1)\n",
            "Requirement already satisfied: dill in c:\\users\\ahmed labib\\appdata\\local\\programs\\python\\python312\\lib\\site-packages (from camel-tools) (0.3.8)\n",
            "Requirement already satisfied: torch>=2.0 in c:\\users\\ahmed labib\\appdata\\local\\programs\\python\\python312\\lib\\site-packages (from camel-tools) (2.3.0)\n",
            "Requirement already satisfied: transformers<4.44.0,>=4.0 in c:\\users\\ahmed labib\\appdata\\local\\programs\\python\\python312\\lib\\site-packages (from camel-tools) (4.43.4)\n",
            "Requirement already satisfied: editdistance in c:\\users\\ahmed labib\\appdata\\local\\programs\\python\\python312\\lib\\site-packages (from camel-tools) (0.8.1)\n",
            "Requirement already satisfied: requests in c:\\users\\ahmed labib\\appdata\\local\\programs\\python\\python312\\lib\\site-packages (from camel-tools) (2.31.0)\n",
            "Requirement already satisfied: emoji in c:\\users\\ahmed labib\\appdata\\local\\programs\\python\\python312\\lib\\site-packages (from camel-tools) (2.14.1)\n",
            "Requirement already satisfied: pyrsistent in c:\\users\\ahmed labib\\appdata\\local\\programs\\python\\python312\\lib\\site-packages (from camel-tools) (0.20.0)\n",
            "Requirement already satisfied: tabulate in c:\\users\\ahmed labib\\appdata\\local\\programs\\python\\python312\\lib\\site-packages (from camel-tools) (0.9.0)\n",
            "Requirement already satisfied: tqdm in c:\\users\\ahmed labib\\appdata\\local\\programs\\python\\python312\\lib\\site-packages (from camel-tools) (4.66.2)\n",
            "Requirement already satisfied: muddler in c:\\users\\ahmed labib\\appdata\\local\\programs\\python\\python312\\lib\\site-packages (from camel-tools) (0.1.3)\n",
            "Requirement already satisfied: filelock in c:\\users\\ahmed labib\\appdata\\local\\programs\\python\\python312\\lib\\site-packages (from torch>=2.0->camel-tools) (3.13.3)\n",
            "Requirement already satisfied: typing-extensions>=4.8.0 in c:\\users\\ahmed labib\\appdata\\local\\programs\\python\\python312\\lib\\site-packages (from torch>=2.0->camel-tools) (4.11.0)\n",
            "Requirement already satisfied: sympy in c:\\users\\ahmed labib\\appdata\\local\\programs\\python\\python312\\lib\\site-packages (from torch>=2.0->camel-tools) (1.12)\n",
            "Requirement already satisfied: networkx in c:\\users\\ahmed labib\\appdata\\local\\programs\\python\\python312\\lib\\site-packages (from torch>=2.0->camel-tools) (3.3)\n",
            "Requirement already satisfied: jinja2 in c:\\users\\ahmed labib\\appdata\\local\\programs\\python\\python312\\lib\\site-packages (from torch>=2.0->camel-tools) (3.1.3)\n",
            "Requirement already satisfied: fsspec in c:\\users\\ahmed labib\\appdata\\local\\programs\\python\\python312\\lib\\site-packages (from torch>=2.0->camel-tools) (2024.3.1)\n",
            "Requirement already satisfied: mkl<=2021.4.0,>=2021.1.1 in c:\\users\\ahmed labib\\appdata\\local\\programs\\python\\python312\\lib\\site-packages (from torch>=2.0->camel-tools) (2021.4.0)\n",
            "Requirement already satisfied: huggingface-hub<1.0,>=0.23.2 in c:\\users\\ahmed labib\\appdata\\local\\programs\\python\\python312\\lib\\site-packages (from transformers<4.44.0,>=4.0->camel-tools) (0.29.1)\n",
            "Requirement already satisfied: packaging>=20.0 in c:\\users\\ahmed labib\\appdata\\local\\programs\\python\\python312\\lib\\site-packages (from transformers<4.44.0,>=4.0->camel-tools) (24.0)\n",
            "Requirement already satisfied: pyyaml>=5.1 in c:\\users\\ahmed labib\\appdata\\local\\programs\\python\\python312\\lib\\site-packages (from transformers<4.44.0,>=4.0->camel-tools) (6.0.1)\n",
            "Requirement already satisfied: regex!=2019.12.17 in c:\\users\\ahmed labib\\appdata\\local\\programs\\python\\python312\\lib\\site-packages (from transformers<4.44.0,>=4.0->camel-tools) (2024.11.6)\n",
            "Requirement already satisfied: safetensors>=0.4.1 in c:\\users\\ahmed labib\\appdata\\local\\programs\\python\\python312\\lib\\site-packages (from transformers<4.44.0,>=4.0->camel-tools) (0.5.3)\n",
            "Requirement already satisfied: tokenizers<0.20,>=0.19 in c:\\users\\ahmed labib\\appdata\\local\\programs\\python\\python312\\lib\\site-packages (from transformers<4.44.0,>=4.0->camel-tools) (0.19.1)\n",
            "Requirement already satisfied: colorama in c:\\users\\ahmed labib\\appdata\\local\\programs\\python\\python312\\lib\\site-packages (from tqdm->camel-tools) (0.4.6)\n",
            "Requirement already satisfied: python-dateutil>=2.8.2 in c:\\users\\ahmed labib\\appdata\\local\\programs\\python\\python312\\lib\\site-packages (from pandas->camel-tools) (2.9.0.post0)\n",
            "Requirement already satisfied: pytz>=2020.1 in c:\\users\\ahmed labib\\appdata\\local\\programs\\python\\python312\\lib\\site-packages (from pandas->camel-tools) (2024.1)\n",
            "Requirement already satisfied: tzdata>=2022.7 in c:\\users\\ahmed labib\\appdata\\local\\programs\\python\\python312\\lib\\site-packages (from pandas->camel-tools) (2024.1)\n",
            "Requirement already satisfied: charset-normalizer<4,>=2 in c:\\users\\ahmed labib\\appdata\\local\\programs\\python\\python312\\lib\\site-packages (from requests->camel-tools) (3.3.2)\n",
            "Requirement already satisfied: idna<4,>=2.5 in c:\\users\\ahmed labib\\appdata\\local\\programs\\python\\python312\\lib\\site-packages (from requests->camel-tools) (2.10)\n",
            "Requirement already satisfied: urllib3<3,>=1.21.1 in c:\\users\\ahmed labib\\appdata\\local\\programs\\python\\python312\\lib\\site-packages (from requests->camel-tools) (2.2.1)\n",
            "Requirement already satisfied: certifi>=2017.4.17 in c:\\users\\ahmed labib\\appdata\\local\\programs\\python\\python312\\lib\\site-packages (from requests->camel-tools) (2023.7.22)\n",
            "Requirement already satisfied: joblib>=1.2.0 in c:\\users\\ahmed labib\\appdata\\local\\programs\\python\\python312\\lib\\site-packages (from scikit-learn->camel-tools) (1.4.0)\n",
            "Requirement already satisfied: threadpoolctl>=2.0.0 in c:\\users\\ahmed labib\\appdata\\local\\programs\\python\\python312\\lib\\site-packages (from scikit-learn->camel-tools) (3.4.0)\n",
            "Requirement already satisfied: intel-openmp==2021.* in c:\\users\\ahmed labib\\appdata\\local\\programs\\python\\python312\\lib\\site-packages (from mkl<=2021.4.0,>=2021.1.1->torch>=2.0->camel-tools) (2021.4.0)\n",
            "Requirement already satisfied: tbb==2021.* in c:\\users\\ahmed labib\\appdata\\local\\programs\\python\\python312\\lib\\site-packages (from mkl<=2021.4.0,>=2021.1.1->torch>=2.0->camel-tools) (2021.12.0)\n",
            "Requirement already satisfied: MarkupSafe>=2.0 in c:\\users\\ahmed labib\\appdata\\local\\programs\\python\\python312\\lib\\site-packages (from jinja2->torch>=2.0->camel-tools) (2.1.5)\n",
            "Requirement already satisfied: mpmath>=0.19 in c:\\users\\ahmed labib\\appdata\\local\\programs\\python\\python312\\lib\\site-packages (from sympy->torch>=2.0->camel-tools) (1.3.0)\n",
            "Note: you may need to restart the kernel to use updated packages.\n",
            "Looking in links: https://download.pytorch.org/whl/torch_stable.html\n",
            "Requirement already satisfied: camel-tools in c:\\users\\ahmed labib\\appdata\\local\\programs\\python\\python312\\lib\\site-packages (1.5.5)\n",
            "Requirement already satisfied: future in c:\\users\\ahmed labib\\appdata\\local\\programs\\python\\python312\\lib\\site-packages (from camel-tools) (1.0.0)\n",
            "Requirement already satisfied: six in c:\\users\\ahmed labib\\appdata\\local\\programs\\python\\python312\\lib\\site-packages (from camel-tools) (1.16.0)\n",
            "Requirement already satisfied: docopt in c:\\users\\ahmed labib\\appdata\\local\\programs\\python\\python312\\lib\\site-packages (from camel-tools) (0.6.2)\n",
            "Requirement already satisfied: cachetools in c:\\users\\ahmed labib\\appdata\\local\\programs\\python\\python312\\lib\\site-packages (from camel-tools) (5.5.2)\n",
            "Requirement already satisfied: numpy<2 in c:\\users\\ahmed labib\\appdata\\local\\programs\\python\\python312\\lib\\site-packages (from camel-tools) (1.26.4)\n",
            "Requirement already satisfied: scipy in c:\\users\\ahmed labib\\appdata\\local\\programs\\python\\python312\\lib\\site-packages (from camel-tools) (1.13.0)\n",
            "Requirement already satisfied: pandas in c:\\users\\ahmed labib\\appdata\\local\\programs\\python\\python312\\lib\\site-packages (from camel-tools) (2.2.1)\n",
            "Requirement already satisfied: scikit-learn in c:\\users\\ahmed labib\\appdata\\local\\programs\\python\\python312\\lib\\site-packages (from camel-tools) (1.4.1.post1)\n",
            "Requirement already satisfied: dill in c:\\users\\ahmed labib\\appdata\\local\\programs\\python\\python312\\lib\\site-packages (from camel-tools) (0.3.8)\n",
            "Requirement already satisfied: torch>=2.0 in c:\\users\\ahmed labib\\appdata\\local\\programs\\python\\python312\\lib\\site-packages (from camel-tools) (2.3.0)\n",
            "Requirement already satisfied: transformers<4.44.0,>=4.0 in c:\\users\\ahmed labib\\appdata\\local\\programs\\python\\python312\\lib\\site-packages (from camel-tools) (4.43.4)\n",
            "Requirement already satisfied: editdistance in c:\\users\\ahmed labib\\appdata\\local\\programs\\python\\python312\\lib\\site-packages (from camel-tools) (0.8.1)\n",
            "Requirement already satisfied: requests in c:\\users\\ahmed labib\\appdata\\local\\programs\\python\\python312\\lib\\site-packages (from camel-tools) (2.31.0)\n",
            "Requirement already satisfied: emoji in c:\\users\\ahmed labib\\appdata\\local\\programs\\python\\python312\\lib\\site-packages (from camel-tools) (2.14.1)\n",
            "Requirement already satisfied: pyrsistent in c:\\users\\ahmed labib\\appdata\\local\\programs\\python\\python312\\lib\\site-packages (from camel-tools) (0.20.0)\n",
            "Requirement already satisfied: tabulate in c:\\users\\ahmed labib\\appdata\\local\\programs\\python\\python312\\lib\\site-packages (from camel-tools) (0.9.0)\n",
            "Requirement already satisfied: tqdm in c:\\users\\ahmed labib\\appdata\\local\\programs\\python\\python312\\lib\\site-packages (from camel-tools) (4.66.2)\n",
            "Requirement already satisfied: muddler in c:\\users\\ahmed labib\\appdata\\local\\programs\\python\\python312\\lib\\site-packages (from camel-tools) (0.1.3)\n",
            "Requirement already satisfied: filelock in c:\\users\\ahmed labib\\appdata\\local\\programs\\python\\python312\\lib\\site-packages (from torch>=2.0->camel-tools) (3.13.3)\n",
            "Requirement already satisfied: typing-extensions>=4.8.0 in c:\\users\\ahmed labib\\appdata\\local\\programs\\python\\python312\\lib\\site-packages (from torch>=2.0->camel-tools) (4.11.0)\n",
            "Requirement already satisfied: sympy in c:\\users\\ahmed labib\\appdata\\local\\programs\\python\\python312\\lib\\site-packages (from torch>=2.0->camel-tools) (1.12)\n",
            "Requirement already satisfied: networkx in c:\\users\\ahmed labib\\appdata\\local\\programs\\python\\python312\\lib\\site-packages (from torch>=2.0->camel-tools) (3.3)\n",
            "Requirement already satisfied: jinja2 in c:\\users\\ahmed labib\\appdata\\local\\programs\\python\\python312\\lib\\site-packages (from torch>=2.0->camel-tools) (3.1.3)\n",
            "Requirement already satisfied: fsspec in c:\\users\\ahmed labib\\appdata\\local\\programs\\python\\python312\\lib\\site-packages (from torch>=2.0->camel-tools) (2024.3.1)\n",
            "Requirement already satisfied: mkl<=2021.4.0,>=2021.1.1 in c:\\users\\ahmed labib\\appdata\\local\\programs\\python\\python312\\lib\\site-packages (from torch>=2.0->camel-tools) (2021.4.0)\n",
            "Requirement already satisfied: huggingface-hub<1.0,>=0.23.2 in c:\\users\\ahmed labib\\appdata\\local\\programs\\python\\python312\\lib\\site-packages (from transformers<4.44.0,>=4.0->camel-tools) (0.29.1)\n",
            "Requirement already satisfied: packaging>=20.0 in c:\\users\\ahmed labib\\appdata\\local\\programs\\python\\python312\\lib\\site-packages (from transformers<4.44.0,>=4.0->camel-tools) (24.0)\n",
            "Requirement already satisfied: pyyaml>=5.1 in c:\\users\\ahmed labib\\appdata\\local\\programs\\python\\python312\\lib\\site-packages (from transformers<4.44.0,>=4.0->camel-tools) (6.0.1)\n",
            "Requirement already satisfied: regex!=2019.12.17 in c:\\users\\ahmed labib\\appdata\\local\\programs\\python\\python312\\lib\\site-packages (from transformers<4.44.0,>=4.0->camel-tools) (2024.11.6)\n",
            "Requirement already satisfied: safetensors>=0.4.1 in c:\\users\\ahmed labib\\appdata\\local\\programs\\python\\python312\\lib\\site-packages (from transformers<4.44.0,>=4.0->camel-tools) (0.5.3)\n",
            "Requirement already satisfied: tokenizers<0.20,>=0.19 in c:\\users\\ahmed labib\\appdata\\local\\programs\\python\\python312\\lib\\site-packages (from transformers<4.44.0,>=4.0->camel-tools) (0.19.1)\n",
            "Requirement already satisfied: colorama in c:\\users\\ahmed labib\\appdata\\local\\programs\\python\\python312\\lib\\site-packages (from tqdm->camel-tools) (0.4.6)\n",
            "Requirement already satisfied: python-dateutil>=2.8.2 in c:\\users\\ahmed labib\\appdata\\local\\programs\\python\\python312\\lib\\site-packages (from pandas->camel-tools) (2.9.0.post0)\n",
            "Requirement already satisfied: pytz>=2020.1 in c:\\users\\ahmed labib\\appdata\\local\\programs\\python\\python312\\lib\\site-packages (from pandas->camel-tools) (2024.1)\n",
            "Requirement already satisfied: tzdata>=2022.7 in c:\\users\\ahmed labib\\appdata\\local\\programs\\python\\python312\\lib\\site-packages (from pandas->camel-tools) (2024.1)\n",
            "Requirement already satisfied: charset-normalizer<4,>=2 in c:\\users\\ahmed labib\\appdata\\local\\programs\\python\\python312\\lib\\site-packages (from requests->camel-tools) (3.3.2)\n",
            "Requirement already satisfied: idna<4,>=2.5 in c:\\users\\ahmed labib\\appdata\\local\\programs\\python\\python312\\lib\\site-packages (from requests->camel-tools) (2.10)\n",
            "Requirement already satisfied: urllib3<3,>=1.21.1 in c:\\users\\ahmed labib\\appdata\\local\\programs\\python\\python312\\lib\\site-packages (from requests->camel-tools) (2.2.1)\n",
            "Requirement already satisfied: certifi>=2017.4.17 in c:\\users\\ahmed labib\\appdata\\local\\programs\\python\\python312\\lib\\site-packages (from requests->camel-tools) (2023.7.22)\n",
            "Requirement already satisfied: joblib>=1.2.0 in c:\\users\\ahmed labib\\appdata\\local\\programs\\python\\python312\\lib\\site-packages (from scikit-learn->camel-tools) (1.4.0)\n",
            "Requirement already satisfied: threadpoolctl>=2.0.0 in c:\\users\\ahmed labib\\appdata\\local\\programs\\python\\python312\\lib\\site-packages (from scikit-learn->camel-tools) (3.4.0)\n",
            "Requirement already satisfied: intel-openmp==2021.* in c:\\users\\ahmed labib\\appdata\\local\\programs\\python\\python312\\lib\\site-packages (from mkl<=2021.4.0,>=2021.1.1->torch>=2.0->camel-tools) (2021.4.0)\n",
            "Requirement already satisfied: tbb==2021.* in c:\\users\\ahmed labib\\appdata\\local\\programs\\python\\python312\\lib\\site-packages (from mkl<=2021.4.0,>=2021.1.1->torch>=2.0->camel-tools) (2021.12.0)\n",
            "Requirement already satisfied: MarkupSafe>=2.0 in c:\\users\\ahmed labib\\appdata\\local\\programs\\python\\python312\\lib\\site-packages (from jinja2->torch>=2.0->camel-tools) (2.1.5)\n",
            "Requirement already satisfied: mpmath>=0.19 in c:\\users\\ahmed labib\\appdata\\local\\programs\\python\\python312\\lib\\site-packages (from sympy->torch>=2.0->camel-tools) (1.3.0)\n",
            "Note: you may need to restart the kernel to use updated packages.\n",
            "Requirement already satisfied: arabic-reshaper in c:\\users\\ahmed labib\\appdata\\local\\programs\\python\\python312\\lib\\site-packages (3.0.0)\n",
            "Note: you may need to restart the kernel to use updated packages.\n",
            "Requirement already satisfied: python-bidi in c:\\users\\ahmed labib\\appdata\\local\\programs\\python\\python312\\lib\\site-packages (0.6.6)\n",
            "Note: you may need to restart the kernel to use updated packages.\n",
            "Requirement already satisfied: wordcloud in c:\\users\\ahmed labib\\appdata\\local\\programs\\python\\python312\\lib\\site-packages (1.9.4)\n",
            "Requirement already satisfied: numpy>=1.6.1 in c:\\users\\ahmed labib\\appdata\\local\\programs\\python\\python312\\lib\\site-packages (from wordcloud) (1.26.4)\n",
            "Requirement already satisfied: pillow in c:\\users\\ahmed labib\\appdata\\local\\programs\\python\\python312\\lib\\site-packages (from wordcloud) (10.3.0)\n",
            "Requirement already satisfied: matplotlib in c:\\users\\ahmed labib\\appdata\\local\\programs\\python\\python312\\lib\\site-packages (from wordcloud) (3.8.4)\n",
            "Requirement already satisfied: contourpy>=1.0.1 in c:\\users\\ahmed labib\\appdata\\local\\programs\\python\\python312\\lib\\site-packages (from matplotlib->wordcloud) (1.2.1)\n",
            "Requirement already satisfied: cycler>=0.10 in c:\\users\\ahmed labib\\appdata\\local\\programs\\python\\python312\\lib\\site-packages (from matplotlib->wordcloud) (0.10.0)\n",
            "Requirement already satisfied: fonttools>=4.22.0 in c:\\users\\ahmed labib\\appdata\\local\\programs\\python\\python312\\lib\\site-packages (from matplotlib->wordcloud) (4.51.0)\n",
            "Requirement already satisfied: kiwisolver>=1.3.1 in c:\\users\\ahmed labib\\appdata\\local\\programs\\python\\python312\\lib\\site-packages (from matplotlib->wordcloud) (1.4.5)\n",
            "Requirement already satisfied: packaging>=20.0 in c:\\users\\ahmed labib\\appdata\\local\\programs\\python\\python312\\lib\\site-packages (from matplotlib->wordcloud) (24.0)\n",
            "Requirement already satisfied: pyparsing>=2.3.1 in c:\\users\\ahmed labib\\appdata\\local\\programs\\python\\python312\\lib\\site-packages (from matplotlib->wordcloud) (3.1.2)\n",
            "Requirement already satisfied: python-dateutil>=2.7 in c:\\users\\ahmed labib\\appdata\\local\\programs\\python\\python312\\lib\\site-packages (from matplotlib->wordcloud) (2.9.0.post0)\n",
            "Requirement already satisfied: six in c:\\users\\ahmed labib\\appdata\\local\\programs\\python\\python312\\lib\\site-packages (from cycler>=0.10->matplotlib->wordcloud) (1.16.0)\n",
            "Note: you may need to restart the kernel to use updated packages.\n",
            "Requirement already satisfied: WordCloud in c:\\users\\ahmed labib\\appdata\\local\\programs\\python\\python312\\lib\\site-packages (1.9.4)\n",
            "Requirement already satisfied: numpy>=1.6.1 in c:\\users\\ahmed labib\\appdata\\local\\programs\\python\\python312\\lib\\site-packages (from WordCloud) (1.26.4)\n",
            "Requirement already satisfied: pillow in c:\\users\\ahmed labib\\appdata\\local\\programs\\python\\python312\\lib\\site-packages (from WordCloud) (10.3.0)\n",
            "Requirement already satisfied: matplotlib in c:\\users\\ahmed labib\\appdata\\local\\programs\\python\\python312\\lib\\site-packages (from WordCloud) (3.8.4)\n",
            "Requirement already satisfied: contourpy>=1.0.1 in c:\\users\\ahmed labib\\appdata\\local\\programs\\python\\python312\\lib\\site-packages (from matplotlib->WordCloud) (1.2.1)\n",
            "Requirement already satisfied: cycler>=0.10 in c:\\users\\ahmed labib\\appdata\\local\\programs\\python\\python312\\lib\\site-packages (from matplotlib->WordCloud) (0.10.0)\n",
            "Requirement already satisfied: fonttools>=4.22.0 in c:\\users\\ahmed labib\\appdata\\local\\programs\\python\\python312\\lib\\site-packages (from matplotlib->WordCloud) (4.51.0)\n",
            "Requirement already satisfied: kiwisolver>=1.3.1 in c:\\users\\ahmed labib\\appdata\\local\\programs\\python\\python312\\lib\\site-packages (from matplotlib->WordCloud) (1.4.5)\n",
            "Requirement already satisfied: packaging>=20.0 in c:\\users\\ahmed labib\\appdata\\local\\programs\\python\\python312\\lib\\site-packages (from matplotlib->WordCloud) (24.0)\n",
            "Requirement already satisfied: pyparsing>=2.3.1 in c:\\users\\ahmed labib\\appdata\\local\\programs\\python\\python312\\lib\\site-packages (from matplotlib->WordCloud) (3.1.2)\n",
            "Requirement already satisfied: python-dateutil>=2.7 in c:\\users\\ahmed labib\\appdata\\local\\programs\\python\\python312\\lib\\site-packages (from matplotlib->WordCloud) (2.9.0.post0)\n",
            "Requirement already satisfied: six in c:\\users\\ahmed labib\\appdata\\local\\programs\\python\\python312\\lib\\site-packages (from cycler>=0.10->matplotlib->WordCloud) (1.16.0)\n",
            "Note: you may need to restart the kernel to use updated packages.\n",
            "Looking in links: https://download.pytorch.org/whl/torch_stable.html\n",
            "Requirement already satisfied: camel-tools in c:\\users\\ahmed labib\\appdata\\local\\programs\\python\\python312\\lib\\site-packages (1.5.5)\n",
            "Requirement already satisfied: future in c:\\users\\ahmed labib\\appdata\\local\\programs\\python\\python312\\lib\\site-packages (from camel-tools) (1.0.0)\n",
            "Requirement already satisfied: six in c:\\users\\ahmed labib\\appdata\\local\\programs\\python\\python312\\lib\\site-packages (from camel-tools) (1.16.0)\n",
            "Requirement already satisfied: docopt in c:\\users\\ahmed labib\\appdata\\local\\programs\\python\\python312\\lib\\site-packages (from camel-tools) (0.6.2)\n",
            "Requirement already satisfied: cachetools in c:\\users\\ahmed labib\\appdata\\local\\programs\\python\\python312\\lib\\site-packages (from camel-tools) (5.5.2)\n",
            "Requirement already satisfied: numpy<2 in c:\\users\\ahmed labib\\appdata\\local\\programs\\python\\python312\\lib\\site-packages (from camel-tools) (1.26.4)\n",
            "Requirement already satisfied: scipy in c:\\users\\ahmed labib\\appdata\\local\\programs\\python\\python312\\lib\\site-packages (from camel-tools) (1.13.0)\n",
            "Requirement already satisfied: pandas in c:\\users\\ahmed labib\\appdata\\local\\programs\\python\\python312\\lib\\site-packages (from camel-tools) (2.2.1)\n",
            "Requirement already satisfied: scikit-learn in c:\\users\\ahmed labib\\appdata\\local\\programs\\python\\python312\\lib\\site-packages (from camel-tools) (1.4.1.post1)\n",
            "Requirement already satisfied: dill in c:\\users\\ahmed labib\\appdata\\local\\programs\\python\\python312\\lib\\site-packages (from camel-tools) (0.3.8)\n",
            "Requirement already satisfied: torch>=2.0 in c:\\users\\ahmed labib\\appdata\\local\\programs\\python\\python312\\lib\\site-packages (from camel-tools) (2.3.0)\n",
            "Requirement already satisfied: transformers<4.44.0,>=4.0 in c:\\users\\ahmed labib\\appdata\\local\\programs\\python\\python312\\lib\\site-packages (from camel-tools) (4.43.4)\n",
            "Requirement already satisfied: editdistance in c:\\users\\ahmed labib\\appdata\\local\\programs\\python\\python312\\lib\\site-packages (from camel-tools) (0.8.1)\n",
            "Requirement already satisfied: requests in c:\\users\\ahmed labib\\appdata\\local\\programs\\python\\python312\\lib\\site-packages (from camel-tools) (2.31.0)\n",
            "Requirement already satisfied: emoji in c:\\users\\ahmed labib\\appdata\\local\\programs\\python\\python312\\lib\\site-packages (from camel-tools) (2.14.1)\n",
            "Requirement already satisfied: pyrsistent in c:\\users\\ahmed labib\\appdata\\local\\programs\\python\\python312\\lib\\site-packages (from camel-tools) (0.20.0)\n",
            "Requirement already satisfied: tabulate in c:\\users\\ahmed labib\\appdata\\local\\programs\\python\\python312\\lib\\site-packages (from camel-tools) (0.9.0)\n",
            "Requirement already satisfied: tqdm in c:\\users\\ahmed labib\\appdata\\local\\programs\\python\\python312\\lib\\site-packages (from camel-tools) (4.66.2)\n",
            "Requirement already satisfied: muddler in c:\\users\\ahmed labib\\appdata\\local\\programs\\python\\python312\\lib\\site-packages (from camel-tools) (0.1.3)\n",
            "Requirement already satisfied: filelock in c:\\users\\ahmed labib\\appdata\\local\\programs\\python\\python312\\lib\\site-packages (from torch>=2.0->camel-tools) (3.13.3)\n",
            "Requirement already satisfied: typing-extensions>=4.8.0 in c:\\users\\ahmed labib\\appdata\\local\\programs\\python\\python312\\lib\\site-packages (from torch>=2.0->camel-tools) (4.11.0)\n",
            "Requirement already satisfied: sympy in c:\\users\\ahmed labib\\appdata\\local\\programs\\python\\python312\\lib\\site-packages (from torch>=2.0->camel-tools) (1.12)\n",
            "Requirement already satisfied: networkx in c:\\users\\ahmed labib\\appdata\\local\\programs\\python\\python312\\lib\\site-packages (from torch>=2.0->camel-tools) (3.3)\n",
            "Requirement already satisfied: jinja2 in c:\\users\\ahmed labib\\appdata\\local\\programs\\python\\python312\\lib\\site-packages (from torch>=2.0->camel-tools) (3.1.3)\n",
            "Requirement already satisfied: fsspec in c:\\users\\ahmed labib\\appdata\\local\\programs\\python\\python312\\lib\\site-packages (from torch>=2.0->camel-tools) (2024.3.1)\n",
            "Requirement already satisfied: mkl<=2021.4.0,>=2021.1.1 in c:\\users\\ahmed labib\\appdata\\local\\programs\\python\\python312\\lib\\site-packages (from torch>=2.0->camel-tools) (2021.4.0)\n",
            "Requirement already satisfied: huggingface-hub<1.0,>=0.23.2 in c:\\users\\ahmed labib\\appdata\\local\\programs\\python\\python312\\lib\\site-packages (from transformers<4.44.0,>=4.0->camel-tools) (0.29.1)\n",
            "Requirement already satisfied: packaging>=20.0 in c:\\users\\ahmed labib\\appdata\\local\\programs\\python\\python312\\lib\\site-packages (from transformers<4.44.0,>=4.0->camel-tools) (24.0)\n",
            "Requirement already satisfied: pyyaml>=5.1 in c:\\users\\ahmed labib\\appdata\\local\\programs\\python\\python312\\lib\\site-packages (from transformers<4.44.0,>=4.0->camel-tools) (6.0.1)\n",
            "Requirement already satisfied: regex!=2019.12.17 in c:\\users\\ahmed labib\\appdata\\local\\programs\\python\\python312\\lib\\site-packages (from transformers<4.44.0,>=4.0->camel-tools) (2024.11.6)\n",
            "Requirement already satisfied: safetensors>=0.4.1 in c:\\users\\ahmed labib\\appdata\\local\\programs\\python\\python312\\lib\\site-packages (from transformers<4.44.0,>=4.0->camel-tools) (0.5.3)\n",
            "Requirement already satisfied: tokenizers<0.20,>=0.19 in c:\\users\\ahmed labib\\appdata\\local\\programs\\python\\python312\\lib\\site-packages (from transformers<4.44.0,>=4.0->camel-tools) (0.19.1)\n",
            "Requirement already satisfied: colorama in c:\\users\\ahmed labib\\appdata\\local\\programs\\python\\python312\\lib\\site-packages (from tqdm->camel-tools) (0.4.6)\n",
            "Requirement already satisfied: python-dateutil>=2.8.2 in c:\\users\\ahmed labib\\appdata\\local\\programs\\python\\python312\\lib\\site-packages (from pandas->camel-tools) (2.9.0.post0)\n",
            "Requirement already satisfied: pytz>=2020.1 in c:\\users\\ahmed labib\\appdata\\local\\programs\\python\\python312\\lib\\site-packages (from pandas->camel-tools) (2024.1)\n",
            "Requirement already satisfied: tzdata>=2022.7 in c:\\users\\ahmed labib\\appdata\\local\\programs\\python\\python312\\lib\\site-packages (from pandas->camel-tools) (2024.1)\n",
            "Requirement already satisfied: charset-normalizer<4,>=2 in c:\\users\\ahmed labib\\appdata\\local\\programs\\python\\python312\\lib\\site-packages (from requests->camel-tools) (3.3.2)\n",
            "Requirement already satisfied: idna<4,>=2.5 in c:\\users\\ahmed labib\\appdata\\local\\programs\\python\\python312\\lib\\site-packages (from requests->camel-tools) (2.10)\n",
            "Requirement already satisfied: urllib3<3,>=1.21.1 in c:\\users\\ahmed labib\\appdata\\local\\programs\\python\\python312\\lib\\site-packages (from requests->camel-tools) (2.2.1)\n",
            "Requirement already satisfied: certifi>=2017.4.17 in c:\\users\\ahmed labib\\appdata\\local\\programs\\python\\python312\\lib\\site-packages (from requests->camel-tools) (2023.7.22)\n",
            "Requirement already satisfied: joblib>=1.2.0 in c:\\users\\ahmed labib\\appdata\\local\\programs\\python\\python312\\lib\\site-packages (from scikit-learn->camel-tools) (1.4.0)\n",
            "Requirement already satisfied: threadpoolctl>=2.0.0 in c:\\users\\ahmed labib\\appdata\\local\\programs\\python\\python312\\lib\\site-packages (from scikit-learn->camel-tools) (3.4.0)\n",
            "Requirement already satisfied: intel-openmp==2021.* in c:\\users\\ahmed labib\\appdata\\local\\programs\\python\\python312\\lib\\site-packages (from mkl<=2021.4.0,>=2021.1.1->torch>=2.0->camel-tools) (2021.4.0)\n",
            "Requirement already satisfied: tbb==2021.* in c:\\users\\ahmed labib\\appdata\\local\\programs\\python\\python312\\lib\\site-packages (from mkl<=2021.4.0,>=2021.1.1->torch>=2.0->camel-tools) (2021.12.0)\n",
            "Requirement already satisfied: MarkupSafe>=2.0 in c:\\users\\ahmed labib\\appdata\\local\\programs\\python\\python312\\lib\\site-packages (from jinja2->torch>=2.0->camel-tools) (2.1.5)\n",
            "Requirement already satisfied: mpmath>=0.19 in c:\\users\\ahmed labib\\appdata\\local\\programs\\python\\python312\\lib\\site-packages (from sympy->torch>=2.0->camel-tools) (1.3.0)\n",
            "Note: you may need to restart the kernel to use updated packages.\n"
          ]
        }
      ],
      "source": [
        "%pip install transformers\n",
        "%pip install nltk\n",
        "%pip install farasapy\n",
        "%pip install --quiet camel-tools-data\n",
        "%pip install camel-tools\n",
        "%pip install camel-tools -f https://download.pytorch.org/whl/torch_stable.html\n",
        "\n",
        "%pip install arabic-reshaper\n",
        "%pip install python-bidi\n",
        "%pip install wordcloud\n",
        "%pip install WordCloud\n",
        "%pip install --upgrade -f https://download.pytorch.org/whl/torch_stable.html camel-tools"
      ]
    },
    {
      "cell_type": "code",
<<<<<<< HEAD
      "execution_count": 47,
=======
      "execution_count": 2,
>>>>>>> 6928780c39fa9d5f27b1f8c989ef7eb7dc8f5a80
      "metadata": {},
      "outputs": [
        {
          "name": "stderr",
          "output_type": "stream",
          "text": [
            "c:\\Users\\sana2\\AppData\\Local\\Programs\\Python\\Python39\\lib\\site-packages\\tqdm\\auto.py:21: TqdmWarning: IProgress not found. Please update jupyter and ipywidgets. See https://ipywidgets.readthedocs.io/en/stable/user_install.html\n",
            "  from .autonotebook import tqdm as notebook_tqdm\n",
            "[nltk_data] Downloading package stopwords to\n",
            "[nltk_data]     C:\\Users\\sana2\\AppData\\Roaming\\nltk_data...\n",
            "[nltk_data]   Package stopwords is already up-to-date!\n"
          ]
        },
        {
          "data": {
            "text/plain": [
              "True"
            ]
          },
<<<<<<< HEAD
          "execution_count": 47,
=======
          "execution_count": 2,
>>>>>>> 6928780c39fa9d5f27b1f8c989ef7eb7dc8f5a80
          "metadata": {},
          "output_type": "execute_result"
        }
      ],
      "source": [
        "import os \n",
        "import zipfile\n",
        "import json\n",
        "import re\n",
        "import pandas as pd\n",
        "from collections import Counter\n",
        "import string\n",
        "from wordcloud import WordCloud\n",
        "from transformers import BertTokenizer\n",
        "import nltk\n",
        "import matplotlib.pyplot as plt\n",
        "import numpy as np\n",
        "from nltk.corpus import stopwords\n",
        "from farasa.segmenter import FarasaSegmenter\n",
        "from nltk.stem.isri import ISRIStemmer\n",
        "from camel_tools.morphology.database import MorphologyDB\n",
        "from camel_tools.morphology.analyzer import Analyzer\n",
        "from sklearn.feature_extraction.text import TfidfVectorizer\n",
        "import numpy as np\n",
        "from sklearn.feature_extraction.text import TfidfVectorizer\n",
        "\n",
        "from sklearn.model_selection import train_test_split\n",
        "from sklearn.feature_extraction.text import TfidfVectorizer\n",
        "from sklearn.linear_model import LogisticRegression\n",
        "from sklearn.metrics import accuracy_score\n",
        "segmenter = FarasaSegmenter(interactive=False)\n",
        "nltk.download('stopwords')"
      ]
    },
    {
      "cell_type": "markdown",
      "metadata": {},
      "source": [
        "### Data preparation"
      ]
    },
    {
      "cell_type": "markdown",
      "metadata": {},
      "source": [
        "#### Unzipping the channel folders"
      ]
    },
    {
      "cell_type": "code",
      "execution_count": 48,
      "metadata": {},
      "outputs": [],
      "source": [
        "def unzip(zip_path, extract_path):\n",
        "    with zipfile.ZipFile(zip_path, 'r') as zip_ref:\n",
        "        zip_ref.extractall(extract_path)"
      ]
    },
    {
      "cell_type": "code",
      "execution_count": 49,
      "metadata": {},
      "outputs": [],
      "source": [
        "unzip(\"B_hodoo2.zip\", \"./\")\n",
        "unzip( \"kefaya_ba2a.zip\", \"./\")\n",
        "unzip(\"al_mokhbir_al_eqtisadi.zip\",'./')"
      ]
    },
    {
      "cell_type": "markdown",
      "metadata": {},
      "source": [
        "**Al mokhbir channel has different metadata structure so modify the structure to make similar to others**"
      ]
    },
    {
      "cell_type": "code",
      "execution_count": 50,
      "metadata": {},
      "outputs": [],
      "source": [
        "channel_folder = './al_mokhbir_al_eqtisadi'\n",
        "metadata_folder = os.path.join(channel_folder, 'metadata')\n",
        "annotations = []\n",
        "\n",
        "\n",
        "for filename in os.listdir(metadata_folder):\n",
        "    if filename.endswith('.json'):\n",
        "        file_path = os.path.join(metadata_folder, filename)\n",
        "        with open(file_path, 'r', encoding='utf-8') as f:\n",
        "            try:\n",
        "                data = json.load(f)\n",
        "                data[\"category\"] = data[\"categories\"][0]\n",
        "                annotations.append(data)\n",
        "            except Exception as e:\n",
        "                print(f\"Error processing {filename}: {e}\")\n",
        "\n",
        "\n",
        "\n",
        "output_file = os.path.join(channel_folder, 'annotations.json')\n",
        "with open(output_file, 'w', encoding='utf-8') as f_out:\n",
        "    json.dump(annotations, f_out, ensure_ascii=False, indent=4)\n",
        "\n",
        "\n"
      ]
    },
    {
      "cell_type": "code",
      "execution_count": 51,
      "metadata": {},
      "outputs": [
        {
          "ename": "FileExistsError",
          "evalue": "[WinError 183] Cannot create a file when that file already exists: 'al_mokhbir_al_eqtisadi/raw_data' -> 'al_mokhbir_al_eqtisadi/raw'",
          "output_type": "error",
          "traceback": [
            "\u001b[1;31m---------------------------------------------------------------------------\u001b[0m",
            "\u001b[1;31mFileExistsError\u001b[0m                           Traceback (most recent call last)",
            "Cell \u001b[1;32mIn[51], line 1\u001b[0m\n\u001b[1;32m----> 1\u001b[0m \u001b[43mos\u001b[49m\u001b[38;5;241;43m.\u001b[39;49m\u001b[43mrename\u001b[49m\u001b[43m(\u001b[49m\u001b[38;5;124;43m'\u001b[39;49m\u001b[38;5;124;43mal_mokhbir_al_eqtisadi/raw_data\u001b[39;49m\u001b[38;5;124;43m'\u001b[39;49m\u001b[43m,\u001b[49m\u001b[38;5;124;43m'\u001b[39;49m\u001b[38;5;124;43mal_mokhbir_al_eqtisadi/raw\u001b[39;49m\u001b[38;5;124;43m'\u001b[39;49m\u001b[43m)\u001b[49m\n",
            "\u001b[1;31mFileExistsError\u001b[0m: [WinError 183] Cannot create a file when that file already exists: 'al_mokhbir_al_eqtisadi/raw_data' -> 'al_mokhbir_al_eqtisadi/raw'"
          ]
        }
      ],
      "source": [
        "os.rename('al_mokhbir_al_eqtisadi/raw_data','al_mokhbir_al_eqtisadi/raw')"
      ]
    },
    {
      "cell_type": "markdown",
      "metadata": {},
      "source": [
        "### Building dict for annotations and text"
      ]
    },
    {
      "cell_type": "markdown",
      "metadata": {},
      "source": [
        "**there is a slight inconsistency in the naming of the annotation and the corresponding txt file**"
      ]
    },
    {
      "cell_type": "code",
<<<<<<< HEAD
      "execution_count": null,
=======
      "execution_count": 3,
>>>>>>> 6928780c39fa9d5f27b1f8c989ef7eb7dc8f5a80
      "metadata": {},
      "outputs": [],
      "source": [
        "def standardize(title):\n",
        "    title = title.replace(\"_\", \" \").lower()\n",
        "    title = re.sub(r'ـ+', '', title)\n",
        "    title = re.sub(r'[\\u0617-\\u061A\\u064B-\\u0652]', '', title)\n",
        "    title = re.sub(r'[^\\w\\s]', '', title)\n",
        "    title = re.sub(r'\\s+', ' ', title).strip()\n",
        "    return title"
      ]
    },
    {
      "cell_type": "code",
<<<<<<< HEAD
      "execution_count": null,
=======
      "execution_count": 4,
>>>>>>> 6928780c39fa9d5f27b1f8c989ef7eb7dc8f5a80
      "metadata": {},
      "outputs": [],
      "source": [
        "def get_category_for_filename(target_filename, annotations_path):\n",
        "    with open(annotations_path, 'r', encoding='utf-8') as f_json:\n",
        "        annotations = json.load(f_json)\n",
        "    \n",
        "    base_target = os.path.splitext(target_filename)[0]\n",
        "    target_can = standardize(base_target)\n",
        "    # print(\"Target standardized:\", target_can)  \n",
        "    for entry in annotations:\n",
        "        annotation_title = entry.get('title')\n",
        "        if annotation_title:\n",
        "            annotation_can = standardize(annotation_title)\n",
        "            # print(\"Annotation standardized:\", annotation_can) \n",
        "            if annotation_can == target_can:\n",
        "                return entry.get('category')\n",
        "    return None"
      ]
    },
    {
      "cell_type": "code",
<<<<<<< HEAD
      "execution_count": null,
=======
      "execution_count": 5,
>>>>>>> 6928780c39fa9d5f27b1f8c989ef7eb7dc8f5a80
      "metadata": {},
      "outputs": [],
      "source": [
        "def add_transcripts_from_folder(transcripts_dict, folder_path, channel, max_transcripts=None):\n",
        "    annotations_json = os.path.join(folder_path, 'annotations.json')\n",
        "    raw_folder = os.path.join(folder_path, 'raw')\n",
        "    count = 0\n",
        "    for filename in os.listdir(raw_folder):\n",
        "        if max_transcripts is not None and count >= max_transcripts:\n",
        "            break\n",
        "        full_path = os.path.join(raw_folder, filename)\n",
        "        if os.path.isfile(full_path):\n",
        "            with open(full_path, 'r', encoding='utf-8') as file:\n",
        "                transcript = file.read()\n",
        "            category = get_category_for_filename(filename, annotations_json)\n",
        "            base_filename, _ = os.path.splitext(filename)\n",
        "            transcripts_dict[base_filename] = (channel, category, transcript)\n",
        "            count += 1\n",
        "    return transcripts_dict"
      ]
    },
    {
      "cell_type": "code",
<<<<<<< HEAD
      "execution_count": null,
=======
      "execution_count": 6,
>>>>>>> 6928780c39fa9d5f27b1f8c989ef7eb7dc8f5a80
      "metadata": {},
      "outputs": [],
      "source": [
        "transcripts_dict = {}\n",
        "first_folder_path = './B Hodoo2/'\n",
        "second_folder_path = './Kefaya Ba2a/'\n",
        "third_folder_path = './al_mokhbir_al_eqtisadi/'\n",
        "transcripts_dict = add_transcripts_from_folder(transcripts_dict, first_folder_path,  'B Hodoo2')\n",
        "transcripts_dict = add_transcripts_from_folder(transcripts_dict, second_folder_path, 'Kefaya Ba2a')\n",
        "transcripts_dict = add_transcripts_from_folder(transcripts_dict, third_folder_path, 'al mokhbir al eqtisadi',max_transcripts=25)"
      ]
    },
    {
      "cell_type": "markdown",
      "metadata": {},
      "source": [
        "### Creating a dataframe"
      ]
    },
    {
      "cell_type": "code",
<<<<<<< HEAD
      "execution_count": null,
=======
      "execution_count": 7,
>>>>>>> 6928780c39fa9d5f27b1f8c989ef7eb7dc8f5a80
      "metadata": {},
      "outputs": [
        {
          "name": "stdout",
          "output_type": "stream",
          "text": [
            "                                               title   channel   category  \\\n",
            "0  أكبر كذبة في التاريخ _ وهم الانتاجية! - _ بودك...  B Hodoo2  Education   \n",
            "1  إزاي ضاعفت دخلي بدون شغل إضافي! - عن الرزق ووس...  B Hodoo2  Education   \n",
            "2  اخطر محتوى في العالم! _ بودكاست بهدوء مع كريم ...  B Hodoo2  Education   \n",
            "3  العيد والنكد - ليه مش بنبسط في العيد؟ _ بودكاس...  B Hodoo2  Education   \n",
            "4  انا فقير _ اصحابي كلهم أغنى مني! _ بودكاست بهد...  B Hodoo2  Education   \n",
            "\n",
            "                                          transcript  \n",
            "0  النهارده الفيديو بتاعنا على\\nالانتاجيه لان الن...  \n",
            "1  انا النهارده جاي اقوللك ازاي تزود من\\nدخلك الم...  \n",
            "2  النهارده انا جاي اتكلم على واحده من اخطر\\nالظو...  \n",
            "3  بصراحه انا موضوع ان احنا مش عارفين نتبسط\\nفي ا...  \n",
            "4  مساء الفل الفيديو ده عن الرزق لو انت\\nواحد من ...  \n"
          ]
        }
      ],
      "source": [
        "data = [(title, info[0], info[1], info[2]) for title, info in transcripts_dict.items()]\n",
        "df = pd.DataFrame(data, columns=['title', 'channel', 'category', 'transcript'])\n",
        "print(df.head())\n"
      ]
    },
    {
      "cell_type": "markdown",
      "metadata": {},
      "source": [
        "### Before pre-processing analysis"
      ]
    },
    {
      "cell_type": "markdown",
      "metadata": {},
      "source": [
        "**Reveals the number of rows and columns, data types of each column, and non-null counts.**"
      ]
    },
    {
      "cell_type": "code",
      "execution_count": null,
      "metadata": {},
      "outputs": [
        {
          "name": "stdout",
          "output_type": "stream",
          "text": [
            "<class 'pandas.core.frame.DataFrame'>\n",
            "RangeIndex: 73 entries, 0 to 72\n",
            "Data columns (total 4 columns):\n",
            " #   Column      Non-Null Count  Dtype \n",
            "---  ------      --------------  ----- \n",
            " 0   title       73 non-null     object\n",
            " 1   channel     73 non-null     object\n",
            " 2   category    72 non-null     object\n",
            " 3   transcript  73 non-null     object\n",
            "dtypes: object(4)\n",
            "memory usage: 2.4+ KB\n"
          ]
        }
      ],
      "source": [
        "df.info()"
      ]
    },
    {
      "cell_type": "markdown",
      "metadata": {},
      "source": [
        "**Identifying which columns have missing values**"
      ]
    },
    {
      "cell_type": "code",
      "execution_count": 53,
      "metadata": {},
      "outputs": [
        {
          "data": {
            "text/plain": [
              "title         0\n",
              "channel       0\n",
              "category      0\n",
              "transcript    0\n",
              "raw_length    0\n",
              "dtype: int64"
            ]
          },
          "execution_count": 53,
          "metadata": {},
          "output_type": "execute_result"
        }
      ],
      "source": [
        "df.isnull().sum()"
      ]
    },
    {
      "cell_type": "markdown",
      "metadata": {},
      "source": [
        "**Since there are some entries without categories or an annotation file, we just remove them.**"
      ]
    },
    {
      "cell_type": "code",
      "execution_count": 54,
      "metadata": {},
      "outputs": [],
      "source": [
        "df = df[df['category'].notna()]"
      ]
    },
    {
      "cell_type": "markdown",
      "metadata": {},
      "source": [
        "**Measuring number of transcript and exploring outliers**"
      ]
    },
    {
      "cell_type": "code",
      "execution_count": 55,
      "metadata": {},
      "outputs": [
        {
          "name": "stdout",
          "output_type": "stream",
          "text": [
            "count       72.000000\n",
            "mean     18706.652778\n",
            "std       9296.437232\n",
            "min        370.000000\n",
            "25%      12356.750000\n",
            "50%      17220.000000\n",
            "75%      22676.250000\n",
            "max      51920.000000\n",
            "Name: raw_length, dtype: float64\n"
          ]
        }
      ],
      "source": [
        "df['raw_length'] = df['transcript'].apply(len)\n",
        "print(df['raw_length'].describe())"
      ]
    },
    {
      "cell_type": "code",
      "execution_count": 56,
      "metadata": {},
      "outputs": [
        {
          "data": {
            "image/png": "iVBORw0KGgoAAAANSUhEUgAAAjIAAAHHCAYAAACle7JuAAAAOXRFWHRTb2Z0d2FyZQBNYXRwbG90bGliIHZlcnNpb24zLjguNCwgaHR0cHM6Ly9tYXRwbG90bGliLm9yZy8fJSN1AAAACXBIWXMAAA9hAAAPYQGoP6dpAABG+ElEQVR4nO3dd3xUVf7/8fcQyCSkAoFAIIQIKD0UpTclEul83RVEREAXCyAdgXWRotKkI8JaFrCsWKgiLdJBpHfpXek1NAMk5/eHv8wypJCBmSQXX8/HYx4P7rln7nzuyQTenHvujM0YYwQAAGBB2TK7AAAAgPtFkAEAAJZFkAEAAJZFkAEAAJZFkAEAAJZFkAEAAJZFkAEAAJZFkAEAAJZFkAEAAJZFkEGmGzhwoGw2W4a8Vt26dVW3bl3H9vLly2Wz2fT9999nyOu3a9dORYoUyZDXul9Xr17VP/7xD+XPn182m03dunXL7JKQTlZ4f2W2I0eOyGazaeTIkZldCtyEIAO3mjp1qmw2m+Ph4+OjsLAwxcTEaPz48bpy5YpbXufEiRMaOHCgtm7d6pbjuVNWri09hgwZoqlTp+qNN97QF198oTZt2qTat0iRIk4/bz8/P1WuXFmff/55BlacXFJATc8Df5o/f74GDhyY7v5169ZVmTJlPFfQA3L1fGBd2TO7ADycBg8erMjISN26dUunTp3S8uXL1a1bN40ePVpz585VuXLlHH3/9a9/qW/fvi4d/8SJExo0aJCKFCmi8uXLp/t5ixcvdul17kdatX3yySdKTEz0eA0PYunSpapataoGDBiQrv7ly5dXz549JUknT57Up59+qrZt2yo+Pl4dOnTwZKmpKlmypL744guntn79+snf319vv/12ptSUER7k/TV//nxNnDjxofnH/2E7H6SOIAOPaNCggR5//HHHdr9+/bR06VI1btxYTZs21e7du+Xr6ytJyp49u7Jn9+xb8fr168qZM6e8vb09+jr3kiNHjkx9/fQ4c+aMSpUqle7+BQsW1IsvvujYbteunR555BGNGTMm04JMaGioU02SNGzYMIWEhCRrv1NiYqJu3rwpHx8fT5foVteuXZOfn58l3l+Au3FpCRnmqaeeUv/+/XX06FF9+eWXjvaU1sjExsaqZs2aCg4Olr+/vx577DH985//lPTnZYMnnnhCktS+fXvHJYKpU6dK+t+U96ZNm1S7dm3lzJnT8dy718gkSUhI0D//+U/lz59ffn5+atq0qY4fP+7Up0iRImrXrl2y5955zHvVltIahmvXrqlnz54KDw+X3W7XY489ppEjR+ruL6a32Wzq3LmzZs+erTJlyshut6t06dJauHBhygN+lzNnzuiVV15RaGiofHx8FBUVpWnTpjn2J12OOXz4sH788UdH7UeOHEnX8ZPkzZtXJUqU0MGDB53aV61apeeee06FCxeW3W5XeHi4unfvrhs3bjj6zJ07VzabTdu3b3e0zZgxQzabTc8++6zT8UqWLKmWLVu6VNvdksb0q6++UunSpWW32x3jOXLkSFWvXl158uSRr6+vKlWqlOJaqvT+XK5cuaJu3bqpSJEistvtypcvn55++mlt3rzZqd+6devUsGFD5cqVS35+fipXrpzGjRvn2N+uXTv5+/vr4MGDatiwoQICAtS6dWvHvjvfX3euBxkzZowiIiLk6+urOnXqaOfOnU7HnDhxouN83HnZbcGCBapVq5b8/PwUEBCgRo0aadeuXU59ks7p999/V/PmzeXv76+8efOqV69eSkhIcOp7/vx5tWnTRoGBgQoODlbbtm21bdu2ZL9n6Tmfjz/+WEWLFpXdbtcTTzyhDRs2OO0/deqU2rdvr0KFCslut6tAgQJq1qyZy78T8CxmZJCh2rRpo3/+859avHhxqv9b37Vrlxo3bqxy5cpp8ODBstvtOnDggNasWSPpz3/ABg8erHfeeUevvvqqatWqJUmqXr264xjnz59XgwYN9Pzzz+vFF19UaGhomnW9//77stls6tOnj86cOaOxY8cqOjpaW7dudcwcpUd6aruTMUZNmzbVsmXL9Morr6h8+fJatGiRevfurd9//11jxoxx6r969WrNnDlTHTt2VEBAgMaPH6+//e1vOnbsmPLkyZNqXTdu3FDdunV14MABde7cWZGRkfruu+/Url07Xbp0SV27dnVcjunevbsKFSrkuFyUN2/edJ+/JN2+fVu//fabcuXK5dT+3Xff6fr163rjjTeUJ08erV+/XhMmTNBvv/2m7777TpJUs2ZN2Ww2rVy50nH5cdWqVcqWLZtWr17tONbZs2e1Z88ede7c2aXaUrJ06VJ9++236ty5s0JCQhxBYNy4cWratKlat26tmzdvavr06Xruuec0b948NWrUyOkY6fm5vP766/r+++/VuXNnlSpVSufPn9fq1au1e/duVaxYUdKfAb5x48YqUKCAunbtqvz582v37t2aN2+eunbt6jTGMTExqlmzpkaOHKmcOXOmeY6ff/65rly5ok6dOumPP/7QuHHj9NRTT2nHjh0KDQ3Va6+9phMnTig2NjbZJbkH8cUXX6ht27aKiYnR8OHDdf36dU2aNEk1a9bUli1bnEJXQkKCYmJiVKVKFY0cOVI//fSTRo0apaJFi+qNN96Q9OeMWZMmTbR+/Xq98cYbKlGihObMmaO2bds6vW56zue///2vrly5otdee002m00jRozQs88+q0OHDjlmtv72t79p165devPNN1WkSBGdOXNGsbGxOnbsGIuqsxIDuNGUKVOMJLNhw4ZU+wQFBZkKFSo4tgcMGGDufCuOGTPGSDJnz55N9RgbNmwwksyUKVOS7atTp46RZCZPnpzivjp16ji2ly1bZiSZggULmri4OEf7t99+aySZcePGOdoiIiJM27Zt73nMtGpr27atiYiIcGzPnj3bSDLvvfeeU7+///3vxmazmQMHDjjaJBlvb2+ntm3bthlJZsKECcle605jx441ksyXX37paLt586apVq2a8ff3dzr3iIgI06hRozSPd2ff+vXrm7Nnz5qzZ8+aHTt2mDZt2hhJplOnTk59r1+/nuz5Q4cONTabzRw9etTRVrp0adOiRQvHdsWKFc1zzz1nJJndu3cbY4yZOXOmkWS2bduWrjqTjnvnz8mYP8c0W7ZsZteuXcn6313vzZs3TZkyZcxTTz2V7Bjp+bkEBQUlG5M73b5920RGRpqIiAhz8eJFp32JiYmOP7dt29ZIMn379k12jLvfX4cPHzaSjK+vr/ntt98c7evWrTOSTPfu3R1tnTp1Mq78k1CnTh1TunTpVPdfuXLFBAcHmw4dOji1nzp1ygQFBTm1J53T4MGDnfpWqFDBVKpUybE9Y8YMI8mMHTvW0ZaQkGCeeuqpZL9zqZ1P0pjkyZPHXLhwwdE+Z84cI8n88MMPxhhjLl68aCSZDz744B4jgczGpSVkOH9//zTvXgoODpYkzZkz574XLtrtdrVv3z7d/V966SUFBAQ4tv/+97+rQIECmj9//n29fnrNnz9fXl5e6tKli1N7z549ZYzRggULnNqjo6NVtGhRx3a5cuUUGBioQ4cO3fN18ufPr1atWjnacuTIoS5duujq1atasWLFfZ/D4sWLlTdvXuXNm1dly5bVF198ofbt2+uDDz5w6nfnzNa1a9d07tw5Va9eXcYYbdmyxbGvVq1aWrVqlaQ/L8ds27ZNr776qkJCQhztq1atUnBwsFvumqlTp06Ka4LurPfixYu6fPmyatWqlexSkJS+n0twcLDWrVunEydOpFjHli1bdPjwYXXr1s3xO5AkpcsiSbMU6dG8eXMVLFjQsV25cmVVqVLFo+/v2NhYXbp0Sa1atdK5c+ccDy8vL1WpUkXLli1L9pzXX3/dabtWrVpOY7hw4ULlyJHDaTY3W7Zs6tSpk8v1tWzZ0mnWMGn2NOn1fH195e3treXLl+vixYsuHx8ZhyCDDHf16lWn0HC3li1bqkaNGvrHP/6h0NBQPf/88/r2229dCjUFCxZ0aWFv8eLFnbZtNpuKFSvm8WvhR48eVVhYWLLxKFmypGP/nQoXLpzsGLly5brnX7RHjx5V8eLFlS2b8698aq/jiipVqig2NlYLFy7UyJEjFRwcrIsXLyYb/2PHjqldu3bKnTu3Yw1EnTp1JEmXL1929KtVq5ZOnjypAwcO6Oeff5bNZlO1atWcAs6qVatUo0aNZOdzPyIjI1NsnzdvnqpWrSofHx/lzp1befPm1aRJk5xqTZKen8uIESO0c+dOhYeHq3Llyho4cKDTP9JJa4rSE86yZ8+uQoUK3bNfkrvf35L06KOPevT9vX//fkl/ro1LCrpJj8WLF+vMmTNO/X18fJJdxrx7DI8ePaoCBQoku5RWrFgxl+u7+2eWFGqSXs9ut2v48OFasGCBQkNDVbt2bY0YMUKnTp1y+bXgWQQZZKjffvtNly9fTvMvHl9fX61cuVI//fST2rRpo+3bt6tly5Z6+umnky38S+sY7pba4sf01uQOXl5eKbabuxYGZ6SQkBBFR0crJiZGPXv21JdffqnZs2c7LVBNSEjQ008/rR9//FF9+vTR7NmzFRsb61iceWdIrVmzpiRp5cqVWrVqlSpWrCg/Pz9HkLl69aq2bNni+B/0g0rpvbJq1So1bdpUPj4++uijjzR//nzFxsbqhRdeSHGs0/NzadGihQ4dOqQJEyYoLCxMH3zwgUqXLp1s1i097Ha7W0KcJyX9TL/44gvFxsYme8yZM8epf2pj6Cnp+Zl169ZN+/bt09ChQ+Xj46P+/furZMmSTjOIyHxZ+zcBD52khXcxMTFp9suWLZvq1aun0aNH69dff9X777+vpUuXOqaj3f1BZkn/e0xijNGBAwecFvTlypVLly5dSvbcu2czXKktIiJCJ06cSHapbc+ePY797hAREaH9+/cnm9Vy9+tIUqNGjVSnTh0NGTJE165dkyTt2LFD+/bt06hRo9SnTx81a9ZM0dHRCgsLS/b8woULq3Dhwlq1apVWrVrlCCy1a9fWkSNH9N133ykhIUG1a9d2W813mzFjhnx8fLRo0SK9/PLLatCggaKjox/4uAUKFFDHjh01e/ZsHT58WHny5NH7778vSY5LU3feTeQud7+/JWnfvn1O7293/04lnU++fPkUHR2d7JHS3YP3EhERoZMnT+r69etO7QcOHEjW113nU7RoUfXs2VOLFy/Wzp07dfPmTY0aNcotx4Z7EGSQYZYuXap3331XkZGRjttFU3LhwoVkbUkfLBcfHy9J8vPzk6QUg8X9SLqrI8n333+vkydPqkGDBo62okWL6pdfftHNmzcdbfPmzUt2m7YrtTVs2FAJCQn68MMPndrHjBkjm83m9PoPomHDhjp16pS++eYbR9vt27c1YcIE+fv7Oy7xuEufPn10/vx5ffLJJ5L+97/fO/+3a4xxmrW5U61atbR06VKtX7/eEWTKly+vgIAADRs2zHE7tKd4eXnJZrM5zbYdOXJEs2fPvq/jJSQkJLsklS9fPoWFhTne0xUrVlRkZKTGjh2b7L3zoDNus2fP1u+//+7YXr9+vdatW+f0/nL371RMTIwCAwM1ZMgQ3bp1K9n+s2fP3tcxb9265XhfSX/O/CTdan2nBz2f69ev648//nBqK1q0qAICAhw/M2QN3H4Nj1iwYIH27Nmj27dv6/Tp01q6dKliY2MVERGhuXPnpvmBY4MHD9bKlSvVqFEjRURE6MyZM/roo49UqFAhx2WHokWLKjg4WJMnT1ZAQID8/PxUpUqVVNc73Evu3LlVs2ZNtW/fXqdPn9bYsWNVrFgxp0WF//jHP/T999/rmWeeUYsWLXTw4EF9+eWXTos8Xa2tSZMmevLJJ/X222/ryJEjioqK0uLFizVnzhx169Yt2bHv16uvvqp///vfateunTZt2qQiRYro+++/15o1azR27Ng01yzdjwYNGqhMmTIaPXq0OnXqpBIlSqho0aLq1auXfv/9dwUGBmrGjBmpru2pVauWvvrqK9lsNsfP3MvLS9WrV9eiRYtUt25dj364YaNGjTR69Gg988wzeuGFF3TmzBlNnDhRxYoVc/qMm/S6cuWKChUqpL///e+KioqSv7+/fvrpJ23YsMHxv/ts2bJp0qRJatKkicqXL6/27durQIEC2rNnj3bt2qVFixbd9/kUK1ZMNWvW1BtvvKH4+HiNHTtWefLk0VtvveXokxQMu3TpopiYGHl5een5559P87hnz57Ve++9l6w96T8rkyZNUps2bVSxYkU9//zzyps3r44dO6Yff/xRNWrUSBbg76V58+aqXLmyevbsqQMHDqhEiRKaO3eu4z8/d87C3M/53Gnfvn2qV6+eWrRooVKlSil79uyaNWuWTp8+7dJxkAEy63YpPJySbr9Oenh7e5v8+fObp59+2owbN87pNt8kd99+vWTJEtOsWTMTFhZmvL29TVhYmGnVqpXZt2+f0/PmzJljSpUqZbJnz+5062Vat4Wmdvv1119/bfr162fy5ctnfH19TaNGjZxuCU4yatQoU7BgQWO3202NGjXMxo0bkx0zrdruvj3WmD9vU+3evbsJCwszOXLkMMWLFzcffPCB0y23xpgUb2k2JvXbwu92+vRp0759exMSEmK8vb1N2bJlU7xF3NXbr1PrO3XqVKdz//XXX010dLTx9/c3ISEhpkOHDo7blO+uY9euXUaSKVmypFP7e++9ZySZ/v37p6u+O6V2+3Vqt0R/9tlnpnjx4sZut5sSJUqYKVOmJHuvpnWMO38u8fHxpnfv3iYqKsoEBAQYPz8/ExUVZT766KNkz1u9erV5+umnHf3KlSvndBt327ZtjZ+fX4o1p3b79QcffGBGjRplwsPDjd1uN7Vq1Up26/rt27fNm2++afLmzWtsNts9b8VO+piDlB716tVz9Fu2bJmJiYkxQUFBxsfHxxQtWtS0a9fObNy48Z7nlNJ4nz171rzwwgsmICDABAUFmXbt2pk1a9YYSWb69On3PJ87x+RuksyAAQOMMcacO3fOdOrUyZQoUcL4+fmZoKAgU6VKFfPtt9+mOS7IeDZjMnGVIADAY44cOaLIyEh98MEH6tWrV2aX4zGzZ8/W//3f/2n16tWqUaNGZpeDDMYaGQCAZdz5lRbSn+uPJkyYoMDAQMcnJOOvhTUyAADLePPNN3Xjxg1Vq1ZN8fHxmjlzpn7++WcNGTLEIx+7gKyPIAMAsIynnnpKo0aN0rx58/THH3+oWLFimjBhglu+dwvWxBoZAABgWayRAQAAlkWQAQAAlvXQr5FJTEzUiRMnFBAQ4PaP4AYAAJ5hjNGVK1cUFhaW5neLPfRB5sSJEwoPD8/sMgAAwH04fvx4mt/2/tAHmaSPXj9+/LgCAwMzuRoAAJAecXFxCg8Pv+dXqDz0QSbpclJgYCBBBgAAi7nXshAW+wIAAMsiyAAAAMsiyAAAAMsiyAAAAMsiyAAAAMsiyAAAAMsiyAAAAMsiyAAAAMsiyAAAAMsiyAAAAMsiyAAAAMsiyAAAAMsiyAAAAMsiyAAAAMsiyAAAAMvKntkFAOkxbMs5jxy3b4UQjxwXAJAxmJEBAACWRZABAACWRZABAACWRZABAACWRZABAACWRZABAACWRZABAACWRZABAACWRZABAACWRZABAACWRZABAACWRZABAACWRZABAACWRZABAACWRZABAACWRZABAACWRZABAACWRZABAACWRZABAACWRZABAACWRZABAACWRZABAACWlalBZuXKlWrSpInCwsJks9k0e/Zsx75bt26pT58+Klu2rPz8/BQWFqaXXnpJJ06cyLyCAQBAlpKpQebatWuKiorSxIkTk+27fv26Nm/erP79+2vz5s2aOXOm9u7dq6ZNm2ZCpQAAICvKnpkv3qBBAzVo0CDFfUFBQYqNjXVq+/DDD1W5cmUdO3ZMhQsXzogSAQBAFpapQcZVly9fls1mU3BwcKp94uPjFR8f79iOi4vLgMoAAEBmsMxi3z/++EN9+vRRq1atFBgYmGq/oUOHKigoyPEIDw/PwCoBAEBGskSQuXXrllq0aCFjjCZNmpRm3379+uny5cuOx/HjxzOoSgAAkNGy/KWlpBBz9OhRLV26NM3ZGEmy2+2y2+0ZVB0AAMhMWTrIJIWY/fv3a9myZcqTJ09mlwQAALKQTA0yV69e1YEDBxzbhw8f1tatW5U7d24VKFBAf//737V582bNmzdPCQkJOnXqlCQpd+7c8vb2zqyyAQBAFpGpQWbjxo168sknHds9evSQJLVt21YDBw7U3LlzJUnly5d3et6yZctUt27djCoTAABkUZkaZOrWrStjTKr709oHAABgibuWAAAAUkKQAQAAlkWQAQAAlkWQAQAAlkWQAQAAlkWQAQAAlkWQAQAAlkWQAQAAlkWQAQAAlkWQAQAAlkWQAQAAlkWQAQAAlkWQAQAAlkWQAQAAlkWQAQAAlkWQAQAAlkWQAQAAlkWQAQAAlkWQAQAAlkWQAQAAlkWQAQAAlkWQAQAAlkWQAQAAlkWQAQAAlkWQAQAAlkWQAQAAlkWQAQAAlkWQAQAAlkWQAQAAlkWQAQAAlkWQAQAAlkWQAQAAlkWQAQAAlkWQAQAAlkWQAQAAlkWQAQAAlkWQAQAAlkWQAQAAlkWQAQAAlkWQAQAAlkWQAQAAlkWQAQAAlkWQAQAAlpWpQWblypVq0qSJwsLCZLPZNHv2bKf9xhi98847KlCggHx9fRUdHa39+/dnTrEAACDLydQgc+3aNUVFRWnixIkp7h8xYoTGjx+vyZMna926dfLz81NMTIz++OOPDK4UAABkRdkz88UbNGigBg0apLjPGKOxY8fqX//6l5o1ayZJ+vzzzxUaGqrZs2fr+eefz8hSAQBAFpRl18gcPnxYp06dUnR0tKMtKChIVapU0dq1a1N9Xnx8vOLi4pweAADg4ZSpMzJpOXXqlCQpNDTUqT00NNSxLyVDhw7VoEGDPFobHh7Dtpzz2LH7Vgjx2LEBAH/KsjMy96tfv366fPmy43H8+PHMLgkAAHhIlg0y+fPnlySdPn3aqf306dOOfSmx2+0KDAx0egAAgIdTlg0ykZGRyp8/v5YsWeJoi4uL07p161StWrVMrAwAAGQVmbpG5urVqzpw4IBj+/Dhw9q6daty586twoULq1u3bnrvvfdUvHhxRUZGqn///goLC1Pz5s0zr2gAAJBlZGqQ2bhxo5588knHdo8ePSRJbdu21dSpU/XWW2/p2rVrevXVV3Xp0iXVrFlTCxculI+PT2aVDAAAshCbMcZkdhGeFBcXp6CgIF2+fJn1MhbmybuLPIW7lgDg/qX33+8su0YGAADgXggyAADAsggyAADAsggyAADAslwOMgsXLtTq1asd2xMnTlT58uX1wgsv6OLFi24tDgAAIC0uB5nevXs7vohxx44d6tmzpxo2bKjDhw87bp8GAADICC5/jszhw4dVqlQpSdKMGTPUuHFjDRkyRJs3b1bDhg3dXiAAAEBqXJ6R8fb21vXr1yVJP/30k+rXry9Jyp07t2OmBgAAICO4PCNTs2ZN9ejRQzVq1ND69ev1zTffSJL27dunQoUKub1AAACA1Lg8I/Phhx8qe/bs+v777zVp0iQVLFhQkrRgwQI988wzbi8QAAAgNS7PyBQuXFjz5s1L1j5mzBi3FAQAAJBeLs/IeHl56cyZM8naz58/Ly8vL7cUBQAAkB4uB5nUvmMyPj5e3t7eD1wQAABAeqX70tL48eMlSTabTZ9++qn8/f0d+xISErRy5UqVKFHC/RUCAACkIt1BJmkNjDFGkydPdrqM5O3trSJFimjy5MnurxAAACAV6Q4yhw8fliQ9+eSTmjlzpnLlyuWxogAAANLD5buWli1b5vhz0noZm83mvooAAADS6b6+/fqzzz5TmTJl5OPjIx8fH5UpU0affvqpu2sDAABIk8szMu+8845Gjx6tN998U9WqVZMkrV27Vt27d9exY8c0ePBgtxcJAACQEpeDzKRJk/TJJ5+oVatWjramTZuqXLlyevPNNwkyAAAgw7gcZG7duqXHH388WXulSpV0+/ZttxQFPAyGbTmX2SW4rG+FkMwuAQBc4vIamTZt2mjSpEnJ2j/++GO1bt3aLUUBAACkh8szMtKfi30XL16sqlWrSpLWrVunY8eO6aWXXlKPHj0c/UaPHu2eKgEAAFLgcpDZuXOnKlasKEk6ePCgJCkkJEQhISHauXOnox+3ZAMAAE97oM+RAQAAyEz39TkyAAAAWUG6ZmSeffZZTZ06VYGBgXr22WfT7Dtz5ky3FAYAAHAv6QoyQUFBjjUvQUFBHi0IAAAgvdIVZKZMmSLpz+9WGjRokPLmzStfX1+PFgYAAHAvLq2RMcaoWLFi+u233zxVDwAAQLq5FGSyZcum4sWL6/z5856qBwAAIN1cvmtp2LBh6t27t9NnxgAAAGQGlz9H5qWXXtL169cVFRUlb2/vZGtlLly44LbiAAAA0uJykBk7dqwHygAAAHCdy0Gmbdu2nqgDAADAZS6vkZk/f74WLVqUrH3x4sVasGCBW4oCAABID5eDTN++fZWQkJCsPTExUX379nVLUQAAAOnhcpDZv3+/SpUqlay9RIkSOnDggFuKAgAASA+Xg0xQUJAOHTqUrP3AgQPy8/NzS1EAAADp4XKQadasmbp166aDBw862g4cOKCePXuqadOmbi0OAAAgLS4HmREjRsjPz08lSpRQZGSkIiMjVbJkSeXJk0cjR470RI0AAAApcvn266CgIP3888+KjY3Vtm3b5Ovrq3Llyql27dqeqA8AACBVLgcZSbLZbKpfv77q168vSbp06ZI7awIAAEgXly8tDR8+XN98841ju0WLFsqTJ48KFiyobdu2ubW4hIQE9e/fX5GRkfL19VXRokX17rvvyhjj1tcBAADW5HKQmTx5ssLDwyVJsbGxio2N1YIFC9SgQQP17t3brcUNHz5ckyZN0ocffqjdu3dr+PDhGjFihCZMmODW1wEAANbk8qWlU6dOOYLMvHnz1KJFC9WvX19FihRRlSpV3Frczz//rGbNmqlRo0aSpCJFiujrr7/W+vXr3fo6AADAmlyekcmVK5eOHz8uSVq4cKGio6MlScaYFD/x90FUr15dS5Ys0b59+yRJ27Zt0+rVq9WgQYNUnxMfH6+4uDinBwAAeDi5PCPz7LPP6oUXXlDx4sV1/vx5R6jYsmWLihUr5tbi+vbtq7i4OJUoUUJeXl5KSEjQ+++/r9atW6f6nKFDh2rQoEFurQPAgxm25ZzHjt23QojHjg0g63N5RmbMmDHq3LmzSpUqpdjYWPn7+0uSTp48qY4dO7q1uG+//VZfffWV/vvf/2rz5s2aNm2aRo4cqWnTpqX6nH79+uny5cuOR9LsEQAAePi4PCOTI0cO9erVK1l79+7d3VLQnXr37q2+ffvq+eeflySVLVtWR48e1dChQ9W2bdsUn2O322W3291eCwAAyHru63Nk9u/fr2XLlunMmTNKTEx02vfOO++4pTBJun79urJlc5408vLySvaaAADgr8nlIPPJJ5/ojTfeUEhIiPLnzy+bzebYZ7PZ3BpkmjRpovfff1+FCxdW6dKltWXLFo0ePVovv/yy214DAABYl8tB5r333tP777+vPn36eKIeJxMmTFD//v3VsWNHnTlzRmFhYXrttdfcGpYAAIB1uRxkLl68qOeee84TtSQTEBCgsWPHauzYsRnyegAAwFpcvmvpueee0+LFiz1RCwAAgEtcnpEpVqyY+vfvr19++UVly5ZVjhw5nPZ36dLFbcUBAACkxeUg8/HHH8vf318rVqzQihUrnPbZbDaCDAAAyDAuB5nDhw97og4AAACXubxGBgAAIKu4rw/E++233zR37lwdO3ZMN2/edNo3evRotxQGAABwLy4HmSVLlqhp06Z65JFHtGfPHpUpU0ZHjhyRMUYVK1b0RI0AAAApcvnSUr9+/dSrVy/t2LFDPj4+mjFjho4fP646depk2OfLAAAASPcRZHbv3q2XXnpJkpQ9e3bduHFD/v7+Gjx4sIYPH+72AgEAAFLjcpDx8/NzrIspUKCADh486Nh37tw591UGAABwDy6vkalatapWr16tkiVLqmHDhurZs6d27NihmTNnqmrVqp6oEQAAIEUuB5nRo0fr6tWrkqRBgwbp6tWr+uabb1S8eHHuWAIAABnKpSCTkJCg3377TeXKlZP052WmyZMne6QwAACAe3FpjYyXl5fq16+vixcveqoeAACAdHN5sW+ZMmV06NAhT9QCAADgEpeDzHvvvadevXpp3rx5OnnypOLi4pweAAAAGcXlxb4NGzaUJDVt2lQ2m83RboyRzWZTQkKC+6oDAABIg8tBZtmyZZ6oAwAAwGUuB5nIyEiFh4c7zcZIf87IHD9+3G2FAQAA3IvLa2QiIyN19uzZZO0XLlxQZGSkW4oCAABID5eDTNJamLtdvXpVPj4+bikKAAAgPdJ9aalHjx6SJJvNpv79+ytnzpyOfQkJCVq3bp3Kly/v9gIBAABSk+4gs2XLFkl/zsjs2LFD3t7ejn3e3t6KiopSr1693F8hAABAKtIdZJLuVmrfvr3GjRunwMBAjxUFAACQHi7ftTRlyhRP1AEAAOAylxf7AgAAZBUEGQAAYFkEGQAAYFnpCjIVK1bUxYsXJUmDBw/W9evXPVoUAABAeqQryOzevVvXrl2TJA0aNEhXr171aFEAAADpka67lsqXL6/27durZs2aMsZo5MiR8vf3T7HvO++849YCAQAAUpOuIDN16lQNGDBA8+bNk81m04IFC5Q9e/Kn2mw2ggwAAMgw6Qoyjz32mKZPny5JypYtm5YsWaJ8+fJ5tDAAAIB7cfkD8RITEz1RBwAAgMtcDjKSdPDgQY0dO1a7d++WJJUqVUpdu3ZV0aJF3VocAABAWlz+HJlFixapVKlSWr9+vcqVK6dy5cpp3bp1Kl26tGJjYz1RIwAAQIpcnpHp27evunfvrmHDhiVr79Onj55++mm3FQcAAJAWl2dkdu/erVdeeSVZ+8svv6xff/3VLUUBAACkh8tBJm/evNq6dWuy9q1bt3InEwAAyFAuX1rq0KGDXn31VR06dEjVq1eXJK1Zs0bDhw9Xjx493F4gAABAalwOMv3791dAQIBGjRqlfv36SZLCwsI0cOBAdenSxe0FAgAApMblIGOz2dS9e3d1795dV65ckSQFBAS4vTAAAIB7ua/PkUlCgAEAAJnJ5cW+Ge3333/Xiy++qDx58sjX11dly5bVxo0bM7ssAACQBTzQjIynXbx4UTVq1NCTTz6pBQsWKG/evNq/f79y5cqV2aUBAIAsIEsHmeHDhys8PFxTpkxxtEVGRmZiRQAAICtx6dLSrVu3VK9ePe3fv99T9TiZO3euHn/8cT333HPKly+fKlSooE8++STN58THxysuLs7pAQAAHk4uBZkcOXJo+/btnqolmUOHDmnSpEkqXry4Fi1apDfeeENdunTRtGnTUn3O0KFDFRQU5HiEh4dnWL0AACBjubzY98UXX9Rnn33miVqSSUxMVMWKFTVkyBBVqFBBr776qjp06KDJkyen+px+/frp8uXLjsfx48czpFYAAJDxXF4jc/v2bf3nP//RTz/9pEqVKsnPz89p/+jRo91WXIECBVSqVCmntpIlS2rGjBmpPsdut8tut7utBgAAkHW5HGR27typihUrSpL27dvntM9ms7mnqv+vRo0a2rt3r1Pbvn37FBER4dbXAQAA1uRykFm2bJkn6khR9+7dVb16dQ0ZMkQtWrTQ+vXr9fHHH+vjjz/OsBoAAEDWdd8fiHfgwAEtWrRIN27ckCQZY9xWVJInnnhCs2bN0tdff60yZcro3Xff1dixY9W6dWu3vxYAALAel2dkzp8/rxYtWmjZsmWy2Wzav3+/HnnkEb3yyivKlSuXRo0a5dYCGzdurMaNG7v1mAAA4OHg8oxM9+7dlSNHDh07dkw5c+Z0tLds2VILFy50a3EAAABpcXlGZvHixVq0aJEKFSrk1F68eHEdPXrUbYUBAADci8szMteuXXOaiUly4cIFbnsGAAAZyuUgU6tWLX3++eeObZvNpsTERI0YMUJPPvmkW4sDAABIi8uXlkaMGKF69epp48aNunnzpt566y3t2rVLFy5c0Jo1azxRIwAAQIpcnpEpU6aM9u3bp5o1a6pZs2a6du2ann32WW3ZskVFixb1RI0AAAApcnlGRpKCgoL09ttvu7sWAAAAl9xXkLl48aI+++wz7d69W5JUqlQptW/fXrlz53ZrcQAAAGlx+dLSypUrVaRIEY0fP14XL17UxYsXNX78eEVGRmrlypWeqBEAACBFLs/IdOrUSS1bttSkSZPk5eUlSUpISFDHjh3VqVMn7dixw+1FAgAApMTlGZkDBw6oZ8+ejhAjSV5eXurRo4cOHDjg1uIAAADS4nKQqVixomNtzJ12796tqKgotxQFAACQHum6tLR9+3bHn7t06aKuXbvqwIEDqlq1qiTpl19+0cSJEzVs2DDPVAkAAJCCdAWZ8uXLy2azyRjjaHvrrbeS9XvhhRfUsmVL91UHAACQhnQFmcOHD3u6DgAAAJelK8hERER4ug4AAACX3dcH4p04cUKrV6/WmTNnlJiY6LSvS5cubikMAADgXlwOMlOnTtVrr70mb29v5cmTRzabzbHPZrMRZAAAQIZxOcj0799f77zzjvr166ds2Vy+exsAAMBtXE4i169f1/PPP0+IAQAAmc7lGZlXXnlF3333nfr27euJegBkomFbzmV2CQDgEpeDzNChQ9W4cWMtXLhQZcuWVY4cOZz2jx492m3FAQAApOW+gsyiRYv02GOPSVKyxb4AAAAZxeUgM2rUKP3nP/9Ru3btPFAOAABA+rm8Ytdut6tGjRqeqAUAAMAlLgeZrl27asKECZ6oBQAAwCUuX1pav369li5dqnnz5ql06dLJFvvOnDnTbcUBAACkxeUgExwcrGeffdYTtQAAALjE5SAzZcoUT9QBAADgMj6eFwAAWJbLMzKRkZFpfl7MoUOHHqggAACA9HI5yHTr1s1p+9atW9qyZYsWLlyo3r17u6suAACAe3I5yHTt2jXF9okTJ2rjxo0PXBAAAEB6uW2NTIMGDTRjxgx3HQ4AAOCe3BZkvv/+e+XOndtdhwMAALgnly8tVahQwWmxrzFGp06d0tmzZ/XRRx+5tTgAAIC0uBxkmjdv7rSdLVs25c2bV3Xr1lWJEiXcVRcAAMA9uRxkBgwY4Ik6AAAAXMYH4gEAAMtK94xMtmzZ0vwgPEmy2Wy6ffv2AxcFAACQHukOMrNmzUp139q1azV+/HglJia6pSgAAID0SHeQadasWbK2vXv3qm/fvvrhhx/UunVrDR482K3FAQAApOW+1sicOHFCHTp0UNmyZXX79m1t3bpV06ZNU0REhLvrAwAASJVLQeby5cvq06ePihUrpl27dmnJkiX64YcfVKZMGU/V52TYsGGy2WzJvu8JAAD8NaX70tKIESM0fPhw5c+fX19//XWKl5o8acOGDfr3v/+tcuXKZejrAgCArCvdQaZv377y9fVVsWLFNG3aNE2bNi3FfjNnznRbcUmuXr2q1q1b65NPPtF7773n9uMDAABrSneQeemll+55+7WndOrUSY0aNVJ0dPQ9g0x8fLzi4+Md23FxcZ4uDwAAZJJ0B5mpU6d6sIzUTZ8+XZs3b9aGDRvS1X/o0KEaNGiQh6tCSoZtOZfZJQAA/mKy9Cf7Hj9+XF27dtVXX30lHx+fdD2nX79+unz5suNx/PhxD1cJAAAyi8vftZSRNm3apDNnzqhixYqOtoSEBK1cuVIffvih4uPj5eXl5fQcu90uu92e0aUCAIBMkKWDTL169bRjxw6ntvbt26tEiRLq06dPshADAAD+WrJ0kAkICEj2GTV+fn7KkydPhn12DQAAyLqy9BoZAACAtGTpGZmULF++PLNLAAAAWQQzMgAAwLIIMgAAwLIIMgAAwLIIMgAAwLIIMgAAwLIIMgAAwLIIMgAAwLIIMgAAwLIIMgAAwLIIMgAAwLIIMgAAwLIIMgAAwLIIMgAAwLIIMgAAwLIIMgAAwLIIMgAAwLIIMgAAwLIIMgAAwLIIMgAAwLIIMgAAwLKyZ3YBAPAghm0555Hj9q0Q4pHjAnAvZmQAAIBlEWQAAIBlEWQAAIBlEWQAAIBlEWQAAIBlEWQAAIBlEWQAAIBlEWQAAIBlEWQAAIBlEWQAAIBlEWQAAIBlEWQAAIBlEWQAAIBlEWQAAIBlEWQAAIBlEWQAAIBlEWQAAIBlEWQAAIBlEWQAAIBlEWQAAIBlEWQAAIBlEWQAAIBlZekgM3ToUD3xxBMKCAhQvnz51Lx5c+3duzezywIAAFlElg4yK1asUKdOnfTLL78oNjZWt27dUv369XXt2rXMLg0AAGQB2TO7gLQsXLjQaXvq1KnKly+fNm3apNq1a2dSVQAAIKvI0jMyd7t8+bIkKXfu3JlcCQAAyAqy9IzMnRITE9WtWzfVqFFDZcqUSbVffHy84uPjHdtxcXEZUR4AAMgElgkynTp10s6dO7V69eo0+w0dOlSDBg3KkJqGbTnnsWP3rRDisWN7sm7gYWHV328gNZ56T2f2+9kSl5Y6d+6sefPmadmyZSpUqFCaffv166fLly87HsePH8+gKgEAQEbL0jMyxhi9+eabmjVrlpYvX67IyMh7Psdut8tut2dAdQAAILNl6SDTqVMn/fe//9WcOXMUEBCgU6dOSZKCgoLk6+ubydUBAIDMlqUvLU2aNEmXL19W3bp1VaBAAcfjm2++yezSAABAFpClZ2SMMZldAgAAyMKy9IwMAABAWggyAADAsggyAADAsggyAADAsggyAADAsggyAADAsggyAADAsggyAADAsggyAADAsggyAADAsggyAADAsggyAADAsggyAADAsggyAADAsggyAADAsggyAADAsggyAADAsggyAADAsggyAADAsggyAADAsggyAADAsrJndgEA8FczbMs5jx27b4UQjxzXkzV7iqfGAlkLMzIAAMCyCDIAAMCyCDIAAMCyCDIAAMCyCDIAAMCyCDIAAMCyCDIAAMCyCDIAAMCyCDIAAMCyCDIAAMCyCDIAAMCyCDIAAMCyCDIAAMCyCDIAAMCyCDIAAMCyCDIAAMCyCDIAAMCyCDIAAMCyCDIAAMCyCDIAAMCyCDIAAMCyLBFkJk6cqCJFisjHx0dVqlTR+vXrM7skAACQBWT5IPPNN9+oR48eGjBggDZv3qyoqCjFxMTozJkzmV0aAADIZFk+yIwePVodOnRQ+/btVapUKU2ePFk5c+bUf/7zn8wuDQAAZLIsHWRu3rypTZs2KTo62tGWLVs2RUdHa+3atZlYGQAAyAqyZ3YBaTl37pwSEhIUGhrq1B4aGqo9e/ak+Jz4+HjFx8c7ti9fvixJiouLc3t9f1y94vZjJomL8/bYsT1ZN4DM5am/O6z494Yn/x61Ik/9DD01zkn/bhtj0uyXpYPM/Rg6dKgGDRqUrD08PDwTqrl/yc8AAO6Nvzv+h7HIGJ4e5ytXrigoKCjV/Vk6yISEhMjLy0unT592aj99+rTy58+f4nP69eunHj16OLYTExN14cIF5cmTRzab7YHqiYuLU3h4uI4fP67AwMAHOhaSY3w9h7H1LMbXcxhbz8rK42uM0ZUrVxQWFpZmvywdZLy9vVWpUiUtWbJEzZs3l/RnMFmyZIk6d+6c4nPsdrvsdrtTW3BwsFvrCgwMzHI/8IcJ4+s5jK1nMb6ew9h6VlYd37RmYpJk6SAjST169FDbtm31+OOPq3Llyho7dqyuXbum9u3bZ3ZpAAAgk2X5INOyZUudPXtW77zzjk6dOqXy5ctr4cKFyRYAAwCAv54sH2QkqXPnzqleSspIdrtdAwYMSHbpCu7B+HoOY+tZjK/nMLae9TCMr83c674mAACALCpLfyAeAABAWggyAADAsggyAADAsggyAADAsggyLpg4caKKFCkiHx8fValSRevXr8/skjLVypUr1aRJE4WFhclms2n27NlO+40xeuedd1SgQAH5+voqOjpa+/fvd+pz4cIFtW7dWoGBgQoODtYrr7yiq1evOvXZvn27atWqJR8fH4WHh2vEiBHJavnuu+9UokQJ+fj4qGzZspo/f77bzzcjDR06VE888YQCAgKUL18+NW/eXHv37nXq88cff6hTp07KkyeP/P399be//S3Zp2AfO3ZMjRo1Us6cOZUvXz717t1bt2/fduqzfPlyVaxYUXa7XcWKFdPUqVOT1fOwvfcnTZqkcuXKOT4ErFq1alqwYIFjP2PrPsOGDZPNZlO3bt0cbYzv/Rs4cKBsNpvTo0SJEo79f8mxNUiX6dOnG29vb/Of//zH7Nq1y3To0MEEBweb06dPZ3ZpmWb+/Pnm7bffNjNnzjSSzKxZs5z2Dxs2zAQFBZnZs2ebbdu2maZNm5rIyEhz48YNR59nnnnGREVFmV9++cWsWrXKFCtWzLRq1cqx//LlyyY0NNS0bt3a7Ny503z99dfG19fX/Pvf/3b0WbNmjfHy8jIjRowwv/76q/nXv/5lcuTIYXbs2OHxMfCUmJgYM2XKFLNz506zdetW07BhQ1O4cGFz9epVR5/XX3/dhIeHmyVLlpiNGzeaqlWrmurVqzv2375925QpU8ZER0ebLVu2mPnz55uQkBDTr18/R59Dhw6ZnDlzmh49ephff/3VTJgwwXh5eZmFCxc6+jyM7/25c+eaH3/80ezbt8/s3bvX/POf/zQ5cuQwO3fuNMYwtu6yfv16U6RIEVOuXDnTtWtXRzvje/8GDBhgSpcubU6ePOl4nD171rH/rzi2BJl0qly5sunUqZNjOyEhwYSFhZmhQ4dmYlVZx91BJjEx0eTPn9988MEHjrZLly4Zu91uvv76a2OMMb/++quRZDZs2ODos2DBAmOz2czvv/9ujDHmo48+Mrly5TLx8fGOPn369DGPPfaYY7tFixamUaNGTvVUqVLFvPbaa249x8x05swZI8msWLHCGPPnWObIkcN89913jj67d+82kszatWuNMX8GzWzZsplTp045+kyaNMkEBgY6xvOtt94ypUuXdnqtli1bmpiYGMf2X+W9nytXLvPpp58ytm5y5coVU7x4cRMbG2vq1KnjCDKM74MZMGCAiYqKSnHfX3VsubSUDjdv3tSmTZsUHR3taMuWLZuio6O1du3aTKws6zp8+LBOnTrlNGZBQUGqUqWKY8zWrl2r4OBgPf74444+0dHRypYtm9atW+foU7t2bXl7/+9r4mNiYrR3715dvHjR0efO10nq8zD9bC5fvixJyp07tyRp06ZNunXrltN5lyhRQoULF3Ya37Jlyzp9CnZMTIzi4uK0a9cuR5+0xu6v8N5PSEjQ9OnTde3aNVWrVo2xdZNOnTqpUaNGycaA8X1w+/fvV1hYmB555BG1bt1ax44dk/TXHVuCTDqcO3dOCQkJyb4WITQ0VKdOncqkqrK2pHFJa8xOnTqlfPnyOe3Pnj27cufO7dQnpWPc+Rqp9XlYfjaJiYnq1q2batSooTJlykj685y9vb2TfSHq3eN7v2MXFxenGzduPNTv/R07dsjf3192u12vv/66Zs2apVKlSjG2bjB9+nRt3rxZQ4cOTbaP8X0wVapU0dSpU7Vw4UJNmjRJhw8fVq1atXTlypW/7Nha4isKgL+yTp06aefOnVq9enVml/JQeeyxx7R161ZdvnxZ33//vdq2basVK1ZkdlmWd/z4cXXt2lWxsbHy8fHJ7HIeOg0aNHD8uVy5cqpSpYoiIiL07bffytfXNxMryzzMyKRDSEiIvLy8kq38Pn36tPLnz59JVWVtSeOS1pjlz59fZ86ccdp/+/ZtXbhwwalPSse48zVS6/Mw/Gw6d+6sefPmadmyZSpUqJCjPX/+/Lp586YuXbrk1P/u8b3fsQsMDJSvr+9D/d739vZWsWLFVKlSJQ0dOlRRUVEaN24cY/uANm3apDNnzqhixYrKnj27smfPrhUrVmj8+PHKnj27QkNDGV83Cg4O1qOPPqoDBw78Zd+7BJl08Pb2VqVKlbRkyRJHW2JiopYsWaJq1aplYmVZV2RkpPLnz+80ZnFxcVq3bp1jzKpVq6ZLly5p06ZNjj5Lly5VYmKiqlSp4uizcuVK3bp1y9EnNjZWjz32mHLlyuXoc+frJPWx8s/GGKPOnTtr1qxZWrp0qSIjI532V6pUSTly5HA677179+rYsWNO47tjxw6nsBgbG6vAwECVKlXK0SetsfsrvfcTExMVHx/P2D6gevXqaceOHdq6davj8fjjj6t169aOPzO+7nP16lUdPHhQBQoU+Ou+dzN8ebFFTZ8+3djtdjN16lTz66+/mldffdUEBwc7rfz+q7ly5YrZsmWL2bJli5FkRo8ebbZs2WKOHj1qjPnz9uvg4GAzZ84cs337dtOsWbMUb7+uUKGCWbdunVm9erUpXry40+3Xly5dMqGhoaZNmzZm586dZvr06SZnzpzJbr/Onj27GTlypNm9e7cZMGCA5W+/fuONN0xQUJBZvny5022W169fd/R5/fXXTeHChc3SpUvNxo0bTbVq1Uy1atUc+5Nus6xfv77ZunWrWbhwocmbN2+Kt1n27t3b7N6920ycODHF2ywftvd+3759zYoVK8zhw4fN9u3bTd++fY3NZjOLFy82xjC27nbnXUvGML4PomfPnmb58uXm8OHDZs2aNSY6OtqEhISYM2fOGGP+mmNLkHHBhAkTTOHChY23t7epXLmy+eWXXzK7pEy1bNkyIynZo23btsaYP2/B7t+/vwkNDTV2u93Uq1fP7N271+kY58+fN61atTL+/v4mMDDQtG/f3ly5csWpz7Zt20zNmjWN3W43BQsWNMOGDUtWy7fffmseffRR4+3tbUqXLm1+/PFHj513RkhpXCWZKVOmOPrcuHHDdOzY0eTKlcvkzJnT/N///Z85efKk03GOHDliGjRoYHx9fU1ISIjp2bOnuXXrllOfZcuWmfLlyxtvb2/zyCOPOL1Gkoftvf/yyy+biIgI4+3tbfLmzWvq1avnCDHGMLbudneQYXzvX8uWLU2BAgWMt7e3KViwoGnZsqU5cOCAY/9fcWxtxhiT8fNAAAAAD441MgAAwLIIMgAAwLIIMgAAwLIIMgAAwLIIMgAAwLIIMgAAwLIIMgAAwLIIMgCSOXLkiGw2m7Zu3ZrZpTjs2bNHVatWlY+Pj8qXL+/y87PiOQF4cAQZIAtq166dbDabhg0b5tQ+e/Zs2Wy2TKoqcw0YMEB+fn7au3dvsu+BeRjUrVtX3bp1y+wyAMshyABZlI+Pj4YPH66LFy9mdiluc/Pmzft+7sGDB1WzZk1FREQoT548bqzqwTzIOXlCVqsH8DSCDJBFRUdHK3/+/Bo6dGiqfQYOHJjsMsvYsWNVpEgRx3a7du3UvHlzDRkyRKGhoQoODtbgwYN1+/Zt9e7dW7lz51ahQoU0ZcqUZMffs2ePqlevLh8fH5UpU0YrVqxw2r9z5041aNBA/v7+Cg0NVZs2bXTu3DnH/rp166pz587q1q2bQkJCFBMTk+J5JCYmavDgwSpUqJDsdrvKly+vhQsXOvbbbDZt2rRJgwcPls1m08CBA1M9zogRI1SsWDHZ7XYVLlxY77//vlOfQ4cO6cknn1TOnDkVFRWltWvXOvadP39erVq1UsGCBZUzZ06VLVtWX3/9tdPzUzun0aNHq2zZsvLz81N4eLg6duyoq1evOj13zZo1qlu3rnLmzKlcuXIpJiZGFy9eVLt27bRixQqNGzdONptNNptNR44cue8xNsZo4MCBKly4sOx2u8LCwtSlS5cUxwywOoIMkEV5eXlpyJAhmjBhgn777bcHOtbSpUt14sQJrVy5UqNHj9aAAQPUuHFj5cqVS+vWrdPrr7+u1157Ldnr9O7dWz179tSWLVtUrVo1NWnSROfPn5ckXbp0SU899ZQqVKigjRs3auHChTp9+rRatGjhdIxp06bJ29tba9as0eTJk1Osb9y4cRo1apRGjhyp7du3KyYmRk2bNtX+/fslSSdPnlTp0qXVs2dPnTx5Ur169UrxOP369dOwYcPUv39//frrr/rvf/+r0NBQpz5vv/22evXqpa1bt+rRRx9Vq1atdPv2bUnSH3/8oUqVKunHH3/Uzp079eqrr6pNmzZav379Pc8pW7ZsGj9+vHbt2qVp06Zp6dKleuuttxzP2bp1q+rVq6dSpUpp7dq1Wr16tZo0aaKEhASNGzdO1apVU4cOHXTy5EmdPHlS4eHh9z3GM2bM0JgxY/Tvf/9b+/fv1+zZs1W2bNkUxwywvEz5qkoAaWrbtq1p1qyZMcaYqlWrmpdfftkYY8ysWbPMnb+2AwYMMFFRUU7PHTNmjImIiHA6VkREhElISHC0PfbYY6ZWrVqO7du3bxs/Pz/z9ddfG2OMOXz4sJHk9E3jt27dMoUKFTLDhw83xhjz7rvvmvr16zu99vHjx40kx7ec16lTx1SoUOGe5xsWFmbef/99p7YnnnjCdOzY0bEdFRVlBgwYkOox4uLijN1uN5988kmK+5PO6dNPP3W07dq1y0gyu3fvTvW4jRo1Mj179nRsp/ecvvvuO5MnTx7HdqtWrUyNGjVS7X/3N0Qbc/9jPGrUKPPoo4+amzdv3rNOwOqYkQGyuOHDh2vatGnavXv3fR+jdOnSypbtf7/uoaGhTv9D9/LyUp48eXTmzBmn51WrVs3x5+zZs+vxxx931LFt2zYtW7ZM/v7+jkeJEiUk/bmeJUmlSpXSrC0uLk4nTpxQjRo1nNpr1Kjh0jnv3r1b8fHxqlevXpr9ypUr5/hzgQIFJMlx3gkJCXr33XdVtmxZ5c6dW/7+/lq0aJGOHTvmdIyUzumnn35SvXr1VLBgQQUEBKhNmzY6f/68rl+/Lul/MzKuuN8xfu6553Tjxg098sgj6tChg2bNmuWYdQIeNgQZIIurXbu2YmJi1K9fv2T7smXLJmOMU9utW7eS9cuRI4fTts1mS7EtMTEx3XVdvXpVTZo00datW50e+/fvV+3atR39/Pz80n3MB+Hr65uufneed9IdYEnn/cEHH2jcuHHq06ePli1bpq1btyomJibZAtq7z+nIkSNq3LixypUrpxkzZmjTpk2aOHGipP8tvk1vfXe63zEODw/X3r179dFHH8nX11cdO3ZU7dq1U3xvAFZHkAEsYNiwYfrhhx+cFqZKUt68eXXq1CmnMOPOz0n55ZdfHH++ffu2Nm3apJIlS0qSKlasqF27dqlIkSIqVqyY08OV8BIYGKiwsDCtWbPGqX3NmjUqVapUuo9TvHhx+fr6PtCt2WvWrFGzZs304osvKioqSo888oj27dt3z+dt2rRJiYmJGjVqlKpWrapHH31UJ06ccOpTrly5NGvz9vZWQkKCU9uDjLGvr6+aNGmi8ePHa/ny5Vq7dq127Nhxz3MBrIYgA1hA2bJl1bp1a40fP96pvW7dujp79qxGjBihgwcPauLEiVqwYIHbXnfixImaNWuW9uzZo06dOunixYt6+eWXJUmdOnXShQsX1KpVK23YsEEHDx7UokWL1L59+2T/IN9L7969NXz4cH3zzTfau3ev+vbtq61bt6pr167pPoaPj4/69Omjt956S59//rkOHjyoX375RZ999lm6j1G8eHHFxsbq559/1u7du/Xaa6/p9OnT93xesWLFdOvWLU2YMEGHDh3SF198kWxhc79+/bRhwwZ17NhR27dv1549ezRp0iTHHUhFihTRunXrdOTIEZ07d06JiYn3PcZTp07VZ599pp07d+rQoUP68ssv5evrq4iIiHSPBWAVBBnAIgYPHpzs0k/JkiX10UcfaeLEiYqKitL69etTvaPnfgwbNkzDhg1TVFSUVq9erblz5yokJESSHLMoCQkJql+/vsqWLatu3bopODjYaT1OenTp0kU9evRQz549VbZsWS1cuFBz585V8eLFXTpO//791bNnT73zzjsqWbKkWrZsmWzdT1r+9a9/qWLFioqJiVHdunWVP39+NW/e/J7Pi4qK0ujRozV8+HCVKVNGX331VbLb5h999FEtXrxY27ZtU+XKlVWtWjXNmTNH2bNnlyT16tVLXl5eKlWqlPLmzatjx47d9xgHBwfrk08+UY0aNVSuXDn99NNP+uGHH7LU5+8A7mIzd19gBwAAsAhmZAAAgGURZAAAgGURZAAAgGURZAAAgGURZAAAgGURZAAAgGURZAAAgGURZAAAgGURZAAAgGURZAAAgGURZAAAgGURZAAAgGX9P1+/QXWAFCFgAAAAAElFTkSuQmCC",
            "text/plain": [
              "<Figure size 640x480 with 1 Axes>"
            ]
          },
          "metadata": {},
          "output_type": "display_data"
        }
      ],
      "source": [
        "import matplotlib.pyplot as plt\n",
        "\n",
        "plt.hist(df['raw_length'], bins=20, color='skyblue')\n",
        "plt.xlabel(\"Number of characters\")\n",
        "plt.ylabel(\"Number of transcripts\")\n",
        "plt.title(\"Distribution of Raw Transcript Lengths\")\n",
        "plt.show()"
      ]
    },
    {
      "cell_type": "code",
      "execution_count": null,
      "metadata": {},
      "outputs": [
        {
          "name": "stdout",
          "output_type": "stream",
          "text": [
            "category\n",
            "Education         26\n",
            "Entertainment     25\n",
            "People & Blogs    17\n",
            "Comedy             4\n",
            "Name: count, dtype: int64\n"
          ]
        },
        {
          "data": {
            "text/plain": [
              "<Axes: title={'center': 'Category Distribution'}, xlabel='category'>"
            ]
          },
          "execution_count": 29,
          "metadata": {},
          "output_type": "execute_result"
        },
        {
          "data": {
            "image/png": "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",
            "text/plain": [
              "<Figure size 640x480 with 1 Axes>"
            ]
          },
          "metadata": {},
          "output_type": "display_data"
        }
      ],
      "source": [
        "print(df['category'].value_counts())\n",
        "df['category'].value_counts().plot(kind='bar', title='Category Distribution')"
      ]
    },
    {
      "cell_type": "code",
      "execution_count": 58,
      "metadata": {
        "vscode": {
          "languageId": "powershell"
        }
      },
      "outputs": [
        {
          "name": "stdout",
          "output_type": "stream",
          "text": [
            "['B Hodoo2' 'Kefaya Ba2a' 'al mokhbir al eqtisadi']\n",
            "channel\n",
            "B Hodoo2                  26\n",
            "al mokhbir al eqtisadi    25\n",
            "Kefaya Ba2a               21\n",
            "Name: count, dtype: int64\n"
          ]
        }
      ],
      "source": [
        "print(df['channel'].unique())\n",
        "print(df['channel'].value_counts())"
      ]
    },
    {
      "cell_type": "code",
      "execution_count": 8,
      "metadata": {
        "vscode": {
          "languageId": "powershell"
        }
      },
      "outputs": [
        {
          "name": "stdout",
          "output_type": "stream",
          "text": [
            "category                Comedy  Education  Entertainment  People & Blogs\n",
            "channel                                                                 \n",
            "B Hodoo2                     0         26              0               0\n",
            "Kefaya Ba2a                  4          0              0              17\n",
            "al mokhbir al eqtisadi       0          0             25               0\n"
          ]
        }
      ],
      "source": [
        "channel_category_counts = df.groupby('channel')['category'].value_counts().unstack(fill_value=0)\n",
        "\n",
        "print(channel_category_counts)\n"
      ]
    },
    {
      "cell_type": "markdown",
      "metadata": {
        "vscode": {
          "languageId": "powershell"
        }
      },
      "source": [
        "**Viewing most common words before preprocessing**"
      ]
    },
    {
      "cell_type": "code",
      "execution_count": 59,
      "metadata": {
        "vscode": {
          "languageId": "powershell"
        }
      },
      "outputs": [
        {
          "name": "stdout",
          "output_type": "stream",
          "text": [
            "Top 10 most common words in raw transcripts:\n",
            "[('في', 8259), ('اللي', 4362), ('من', 4198), ('ما', 3996), ('انا', 3849), ('ده', 3335), ('على', 3139), ('هو', 2928), ('ان', 2918), ('انت', 2864)]\n"
          ]
        }
      ],
      "source": [
        "all_text = \" \".join(df['transcript'])\n",
        "words = all_text.split()\n",
        "word_freq = Counter(words)\n",
        "print(\"Top 10 most common words in raw transcripts:\")\n",
        "print(word_freq.most_common(10))"
      ]
    },
    {
      "cell_type": "markdown",
      "metadata": {
        "vscode": {
          "languageId": "powershell"
        }
      },
      "source": [
        "**Viewing the most common words per category**"
      ]
    },
    {
      "cell_type": "code",
      "execution_count": 60,
      "metadata": {
        "vscode": {
          "languageId": "powershell"
        }
      },
      "outputs": [
        {
          "name": "stdout",
          "output_type": "stream",
          "text": [
            "Category: Education\n",
            "  في: 3018\n",
            "  انا: 2115\n",
            "  اللي: 1838\n",
            "  ان: 1789\n",
            "  من: 1780\n",
            "Category: People & Blogs\n",
            "  في: 2135\n",
            "  انت: 1332\n",
            "  انا: 1327\n",
            "  ما: 1285\n",
            "  هو: 1259\n",
            "Category: Comedy\n",
            "  في: 573\n",
            "  ما: 399\n",
            "  يا: 391\n",
            "  انا: 381\n",
            "  انت: 364\n",
            "Category: Entertainment\n",
            "  في: 2533\n",
            "  من: 1461\n",
            "  اللي: 1109\n",
            "  على: 906\n",
            "  ما: 666\n"
          ]
        }
      ],
      "source": [
        "def top_words_for_category(cat, n=10):\n",
        "    subset = df[df['category'] == cat]\n",
        "    combined_text = \" \".join(subset['transcript'])\n",
        "    words = combined_text.split()\n",
        "    word_counts = Counter(words)\n",
        "    return word_counts.most_common(n)\n",
        "categories = df['category'].unique()\n",
        "for cat in categories:\n",
        "    print(f\"Category: {cat}\")\n",
        "    top_words = top_words_for_category(cat, n=5)\n",
        "    for word, count in top_words:\n",
        "        print(f\"  {word}: {count}\")"
      ]
    },
    {
      "cell_type": "markdown",
      "metadata": {},
      "source": [
        "### Cleaning the data"
      ]
    },
    {
      "cell_type": "markdown",
      "metadata": {},
      "source": [
        "#### Removing numbers, non-Arabic letters and extra spaces"
      ]
    },
    {
      "cell_type": "code",
      "execution_count": 61,
      "metadata": {
        "vscode": {
          "languageId": "powershell"
        }
      },
      "outputs": [],
      "source": [
        "def clean_text(text):\n",
        "    punctuations = string.punctuation + \"؟،؛«»…ـ\"  \n",
        "    translator = str.maketrans('', '', punctuations)\n",
        "    text = text.translate(translator)  \n",
        "    text = re.sub(r'[0-9A-Za-z]', '', text)\n",
        "    text = re.sub(r'\\s+', ' ', text).strip()\n",
        "    return text"
      ]
    },
    {
      "cell_type": "code",
      "execution_count": 62,
      "metadata": {
        "vscode": {
          "languageId": "powershell"
        }
      },
      "outputs": [
        {
          "name": "stdout",
          "output_type": "stream",
          "text": [
            "                                               title   channel   category  \\\n",
            "0  أكبر كذبة في التاريخ _ وهم الانتاجية! - _ بودك...  B Hodoo2  Education   \n",
            "1  إزاي ضاعفت دخلي بدون شغل إضافي! - عن الرزق ووس...  B Hodoo2  Education   \n",
            "2  اخطر محتوى في العالم! _ بودكاست بهدوء مع كريم ...  B Hodoo2  Education   \n",
            "3  العيد والنكد - ليه مش بنبسط في العيد؟ _ بودكاس...  B Hodoo2  Education   \n",
            "4  انا فقير _ اصحابي كلهم أغنى مني! _ بودكاست بهد...  B Hodoo2  Education   \n",
            "\n",
            "                                          transcript  raw_length  \\\n",
            "0  النهارده الفيديو بتاعنا على\\nالانتاجيه لان الن...       21032   \n",
            "1  انا النهارده جاي اقوللك ازاي تزود من\\nدخلك الم...       18261   \n",
            "2  النهارده انا جاي اتكلم على واحده من اخطر\\nالظو...       18546   \n",
            "3  بصراحه انا موضوع ان احنا مش عارفين نتبسط\\nفي ا...       23874   \n",
            "4  مساء الفل الفيديو ده عن الرزق لو انت\\nواحد من ...       11462   \n",
            "\n",
            "                                    clean_transcript  \n",
            "0  النهارده الفيديو بتاعنا على الانتاجيه لان النه...  \n",
            "1  انا النهارده جاي اقوللك ازاي تزود من دخلك الما...  \n",
            "2  النهارده انا جاي اتكلم على واحده من اخطر الظوا...  \n",
            "3  بصراحه انا موضوع ان احنا مش عارفين نتبسط في ال...  \n",
            "4  مساء الفل الفيديو ده عن الرزق لو انت واحد من ا...  \n"
          ]
        }
      ],
      "source": [
        "df[\"clean_transcript\"] = df[\"transcript\"].apply(clean_text)\n",
        "print(df.head())"
      ]
    },
    {
      "cell_type": "markdown",
      "metadata": {},
      "source": [
        "### Tokenization "
      ]
    },
    {
      "cell_type": "code",
      "execution_count": 63,
      "metadata": {
        "vscode": {
          "languageId": "powershell"
        }
      },
      "outputs": [
        {
          "name": "stdout",
          "output_type": "stream",
          "text": [
            "0    [ال, ##نها, ##رد, ##ه, ال, ##فيد, ##يو, ب, ##ت...\n",
            "1    [ان, ##ا, ال, ##نها, ##رد, ##ه, جا, ##ي, ا, ##...\n",
            "2    [ال, ##نها, ##رد, ##ه, ان, ##ا, جا, ##ي, ا, ##...\n",
            "3    [ب, ##صر, ##اح, ##ه, ان, ##ا, موضوع, ان, ا, ##...\n",
            "4    [م, ##ساء, ال, ##فل, ال, ##فيد, ##يو, ده, عن, ...\n",
            "Name: bert_tokens, dtype: object\n"
          ]
        }
      ],
      "source": [
        "def bert_tokenize(df):\n",
        "    tokenizer = BertTokenizer.from_pretrained(\"bert-base-multilingual-cased\")\n",
        "    df['bert_tokens'] = df['clean_transcript'].apply(lambda x: tokenizer.tokenize(str(x)))\n",
        "bert_tokenize(df)\n",
        "print(df[\"bert_tokens\"].head())"
      ]
    },
    {
      "cell_type": "markdown",
      "metadata": {},
      "source": [
        "**We will use more dialect specific tokenizers using libraries like Farasa**"
      ]
    },
    {
      "cell_type": "code",
      "execution_count": null,
      "metadata": {
        "vscode": {
          "languageId": "powershell"
        }
      },
      "outputs": [],
      "source": [
        "def farasa_tokenize(text):\n",
        "    text = str(text)\n",
        "    segmented_text = segmenter.segment(text)\n",
        "    tokens = segmented_text.split()\n",
        "    return tokens\n",
        "\n",
        "df['farasa_tokens'] = df['transcript'].apply(farasa_tokenize)\n",
        "df['farasa_tokens'] "
      ]
    },
    {
      "cell_type": "markdown",
      "metadata": {},
      "source": [
        "**Plus signs generated with farasa tokenizition introduce noise so we remove them**"
      ]
    },
    {
      "cell_type": "code",
      "execution_count": null,
      "metadata": {
        "vscode": {
          "languageId": "powershell"
        }
      },
      "outputs": [
        {
          "data": {
            "text/plain": [
              "0     [النهارده, الفيديو, بتاعنا, على, الانتاجيه, لا...\n",
              "1     [أنا, النهارده, جاي, اقوللك, ازاي, تزود, من, د...\n",
              "2     [النهارده, أنا, جاي, اتكلم, على, واحده, من, أخ...\n",
              "3     [بصراحه, أنا, موضوع, ان, احنا, مش, عارفين, نتب...\n",
              "4     [مساء, الفل, الفيديو, ده, عن, الرزق, لو, أنت, ...\n",
              "                            ...                        \n",
              "68    [قبل, ثلاث, أيام, بالظبط, من, غزو, روسيا, لاوك...\n",
              "69    [عارفين, هولندا, ؟, أكيد, عارفينها, وأكيد, برض...\n",
              "70    [في, يناير, 2024, محافظ, البنك, المركزي, الإيط...\n",
              "71    [يوم, 8, مارس, 2023, بنك, Silvergate, الأمريكي...\n",
              "72    [اللي, بيملك, البطاريات, هو, اللي, بيملك, المس...\n",
              "Name: farasa_tokens, Length: 72, dtype: object"
            ]
          },
          "execution_count": 180,
          "metadata": {},
          "output_type": "execute_result"
        }
      ],
      "source": [
        "def remove_plus_signs(tokens):\n",
        "    return [token.replace('+', '') for token in tokens]\n",
        "\n",
        "df['farasa_tokens'] = df['farasa_tokens'].apply(remove_plus_signs)\n",
        "df['farasa_tokens']"
      ]
    },
    {
      "cell_type": "markdown",
      "metadata": {},
      "source": [
        "### Stop word removal"
      ]
    },
    {
      "cell_type": "markdown",
      "metadata": {},
      "source": [
        "**Analysing the stop word removal in each in transcript**"
      ]
    },
    {
      "cell_type": "code",
      "execution_count": null,
      "metadata": {
        "vscode": {
          "languageId": "powershell"
        }
      },
      "outputs": [],
      "source": [
        "arabic_stopwords = set(stopwords.words('arabic'))"
      ]
    },
    {
      "cell_type": "code",
      "execution_count": null,
      "metadata": {
        "vscode": {
          "languageId": "powershell"
        }
      },
      "outputs": [],
      "source": [
        "def count_stopwords(tokens, stopwords_set):\n",
        "    return sum(1 for token in tokens if token in stopwords_set)"
      ]
    },
    {
      "cell_type": "code",
      "execution_count": null,
      "metadata": {
        "vscode": {
          "languageId": "powershell"
        }
      },
      "outputs": [],
      "source": [
        "df['total_tokens'] = df['farasa_tokens'].apply(len)"
      ]
    },
    {
      "cell_type": "markdown",
      "metadata": {},
      "source": [
        "**Removing the stop words**"
      ]
    },
    {
      "cell_type": "code",
      "execution_count": null,
      "metadata": {
        "vscode": {
          "languageId": "powershell"
        }
      },
      "outputs": [],
      "source": [
        "def remove_stopwords(tokens, stopwords_set):\n",
        "    return [token for token in tokens if token not in stopwords_set]"
      ]
    },
    {
      "cell_type": "code",
      "execution_count": null,
      "metadata": {
        "vscode": {
          "languageId": "powershell"
        }
      },
      "outputs": [],
      "source": [
        "df['tokens_no_stop'] = df['farasa_tokens'].apply(lambda tokens: remove_stopwords(tokens, arabic_stopwords))\n",
        "df['total_tokens_no_stop'] = df['tokens_no_stop'].apply(len)\n"
      ]
    },
    {
      "cell_type": "code",
      "execution_count": null,
      "metadata": {
        "vscode": {
          "languageId": "powershell"
        }
      },
      "outputs": [
        {
          "data": {
            "text/html": [
              "<div>\n",
              "<style scoped>\n",
              "    .dataframe tbody tr th:only-of-type {\n",
              "        vertical-align: middle;\n",
              "    }\n",
              "\n",
              "    .dataframe tbody tr th {\n",
              "        vertical-align: top;\n",
              "    }\n",
              "\n",
              "    .dataframe thead th {\n",
              "        text-align: right;\n",
              "    }\n",
              "</style>\n",
              "<table border=\"1\" class=\"dataframe\">\n",
              "  <thead>\n",
              "    <tr style=\"text-align: right;\">\n",
              "      <th></th>\n",
              "      <th>Metric</th>\n",
              "      <th>Value</th>\n",
              "    </tr>\n",
              "  </thead>\n",
              "  <tbody>\n",
              "    <tr>\n",
              "      <th>0</th>\n",
              "      <td>Mean total tokens</td>\n",
              "      <td>3684.277778</td>\n",
              "    </tr>\n",
              "    <tr>\n",
              "      <th>1</th>\n",
              "      <td>Mean total tokens after stopword removal</td>\n",
              "      <td>2822.736111</td>\n",
              "    </tr>\n",
              "  </tbody>\n",
              "</table>\n",
              "</div>"
            ],
            "text/plain": [
              "                                     Metric        Value\n",
              "0                         Mean total tokens  3684.277778\n",
              "1  Mean total tokens after stopword removal  2822.736111"
            ]
          },
          "execution_count": 186,
          "metadata": {},
          "output_type": "execute_result"
        }
      ],
      "source": [
        "mean_total_tokens = df['total_tokens'].mean()\n",
        "mean_total_tokens_no_stop = df['total_tokens_no_stop'].mean()\n",
        "\n",
        "data = {\n",
        "    \"Metric\": [\n",
        "        \"Mean total tokens\", \n",
        "        \"Mean total tokens after stopword removal\"\n",
        "    ],\n",
        "    \"Value\": [\n",
        "        mean_total_tokens, \n",
        "        mean_total_tokens_no_stop\n",
        "    ]\n",
        "}\n",
        "\n",
        "table = pd.DataFrame(data)\n",
        "table"
      ]
    },
    {
      "cell_type": "code",
      "execution_count": null,
      "metadata": {
        "vscode": {
          "languageId": "powershell"
        }
      },
      "outputs": [
        {
          "name": "stdout",
          "output_type": "stream",
          "text": [
            "                                     Metric   Value\n",
            "0                         Mean total tokens  3684.3\n",
            "1  Mean total tokens after stopword removal  2822.7\n"
          ]
        }
      ],
      "source": [
        "mean_total_tokens = round(df['total_tokens'].mean(), 1)\n",
        "mean_total_tokens_no_stop = round(df['total_tokens_no_stop'].mean(), 1)\n",
        "\n",
        "data = {\n",
        "    \"Metric\": [\n",
        "        \"Mean total tokens\", \n",
        "        \"Mean total tokens after stopword removal\"\n",
        "    ],\n",
        "    \"Value\": [\n",
        "        mean_total_tokens, \n",
        "        mean_total_tokens_no_stop\n",
        "    ]\n",
        "}\n",
        "table = pd.DataFrame(data)\n",
        "print(table)"
      ]
    },
    {
      "cell_type": "markdown",
      "metadata": {},
      "source": [
        "### Removing custom egyptian stop words\n"
      ]
    },
    {
      "cell_type": "code",
      "execution_count": null,
      "metadata": {
        "vscode": {
          "languageId": "powershell"
        }
      },
      "outputs": [
        {
          "name": "stdout",
          "output_type": "stream",
          "text": [
            "Candidate stopwords based on low IDF: ['أشرف', 'أصلا', 'أكتر', 'أنا', 'أو', 'أول', 'أي', 'إبراهيم', 'إحنا', 'إزاي', 'إن', 'إنه', 'إنها', 'إنهم', 'إيه', 'اب', 'ابتدت', 'ابتدى', 'ابتدي', 'ابتديت', 'ابدا', 'ابراهيم', 'ابسط', 'ابص', 'ابقى', 'ابن', 'ابني', 'ابو', 'ابويا', 'ابيض', 'اتس', 'اتفرج', 'اتكلم', 'اتكلمت', 'اتكلمنا', 'اتمنى', 'اتنين', 'اثر', 'اثنين', 'اجتماع', 'اجري', 'اجي', 'اجيب', 'احد', 'احساس', 'احسن', 'احمد', 'احنا', 'احيانا', 'اختبار', 'اخد', 'اخر', 'اخرج', 'اخرى', 'اخش', 'اخويا', 'اخي', 'ادي', 'اذا', 'ارباع', 'اربع', 'اربعه', 'ارجع', 'ارض', 'اروح', 'از', 'ازاي', 'اس', 'اسئله', 'اساس', 'اساسي', 'اسال', 'استماعكم', 'اسف', 'اسكندريه', 'اسم', 'اسماعيل', 'اسمع', 'اسمه', 'اسمها', 'اشترك', 'اشتركوا', 'اشتغل', 'اشرف', 'اشوف', 'اصحاب', 'اصحابي', 'اصل', 'اصلا', 'اطار', 'اطلع', 'اطول', 'اعتقد', 'اعرف', 'اعرفش', 'اعلم', 'اعلى', 'اعمال', 'اعمل', 'اف', 'افتح', 'افتكر', 'افضل', 'افكار', 'افنت', 'افهم', 'اقدر', 'اقرب', 'اقسم', 'اقعد', 'اقل', 'اقول', 'اقوله', 'اقولها', 'اكبر', 'اكت', 'اكتب', 'اكتر', 'اكثر', 'اكل', 'اكني', 'اكون', 'اكيد', 'ال', 'الأول', 'الا', 'الاتنين', 'الاثر', 'الاثنين', 'الاخر', 'الاخره', 'الاخرين', 'الاخيره', 'الارض', 'الاساس', 'الاساسي', 'الاساسيه', 'الاسبوع', 'الاسلام', 'الاشياء', 'الاعلى', 'الاعمال', 'الافكار', 'الاقتصاد', 'الاقتصادي', 'الاقل', 'الاكل', 'الالم', 'الامر', 'الامور', 'الان', 'الانسان', 'الاهم', 'الاول', 'الاولى', 'الايام', 'الايه', 'الباب', 'البتاع', 'البحر', 'البدايه', 'البلد', 'البنك', 'البودكاست', 'البيت', 'التاني', 'التانية', 'التانيه', 'التجربه', 'التعامل', 'التعليقات', 'التلفزيون', 'التمرين', 'التواصل', 'التي', 'الثالث', 'الثاني', 'الثانيه', 'الجانب', 'الجاي', 'الجايه', 'الجديد', 'الجديده', 'الجزء', 'الجنه', 'الجيش', 'الجيم', 'الحاجات', 'الحاجه', 'الحاله', 'الحالي', 'الحب', 'الحته', 'الحديث', 'الحرب', 'الحركه', 'الحق', 'الحقيقه', 'الحقيقي', 'الحلقات', 'الحلقة', 'الحلقه', 'الحلوه', 'الحمد', 'الحوار', 'الحياه', 'الخاصه', 'الخولي', 'الخير', 'الدروس', 'الدفاع', 'الدنيا', 'الدور', 'الدول', 'الدين', 'الذي', 'الرئيس', 'الرئيسي', 'الراجل', 'الرحله', 'الرحمن', 'الرحيم', 'الرزق', 'الرقم', 'الرياضه', 'السؤال', 'السابق', 'الساعه', 'السبب', 'الست', 'السعاده', 'السلام', 'السلطه', 'السن', 'السنة', 'السنه', 'السنين', 'السوبر', 'السوق', 'السياق', 'السيد', 'الشارع', 'الشباب', 'الشخص', 'الشخصيه', 'الشديد', 'الشركات', 'الشركه', 'الشعب', 'الشغل', 'الشهر', 'الشيء', 'الشيخ', 'الصبح', 'الصح', 'الصحابه', 'الصحه', 'الصلاه', 'الصوره', 'الصيف', 'الصين', 'الضعيفه', 'الضغط', 'الطبيعي', 'الطريق', 'الطريقه', 'الطفل', 'الظروف', 'العالم', 'العالمي', 'العام', 'العب', 'العربي', 'العربيه', 'العظيم', 'العلاقات', 'العلاقه', 'العلم', 'العمل', 'العيال', 'الف', 'الفاظ', 'الفتره', 'الفرق', 'الفكره', 'الفل', 'الفلاني', 'الفلوس', 'الفيديو', 'القادمه', 'القاهره', 'القرار', 'القران', 'القصه', 'القضيه', 'القلوب', 'القناة', 'القناه', 'القهوه', 'القوه', 'الكبير', 'الكبيره', 'الكره', 'الكريم', 'الكل', 'الكلام', 'الكلمه', 'الكوره', 'الكون', 'اللحظه', 'الله', 'اللهم', 'اللي', 'الم', 'المال', 'المثال', 'المجال', 'المجتمع', 'المحتوى', 'المحلي', 'المخبر', 'المدرسه', 'المدير', 'المرحله', 'المسؤولين', 'المستقبل', 'المشاعر', 'المشاكل', 'المشكله', 'المصري', 'المعروف', 'المعلومات', 'المفروض', 'المفضل', 'المكان', 'المكتب', 'المنتجات', 'المنطق', 'المنطقه', 'المهم', 'المواضيع', 'الموبايل', 'الموجوده', 'الموضوع', 'الموقف', 'الميه', 'الناحيه', 'النار', 'الناس', 'النبي', 'النص', 'النظام', 'النفس', 'النفسي', 'النفسيه', 'النقطه', 'النهار', 'النهارده', 'النهاية', 'النهايه', 'النوع', 'النوم', 'اله', 'الهدف', 'الواحد', 'الواد', 'الواقع', 'الوحيد', 'الوحيده', 'الورق', 'الوضع', 'الوقت', 'الولايات', 'الولد', 'الى', 'اليوتيوب', 'اليوم', 'ام', 'اما', 'امبارح', 'امتى', 'امر', 'امريكا', 'امشي', 'امك', 'امه', 'امور', 'امي', 'ان', 'انا', 'انت', 'انتم', 'انتهى', 'انتوا', 'انجوي', 'انخفاض', 'انزل', 'انسان', 'انك', 'انما', 'اننا', 'انه', 'انها', 'انهم', 'اني', 'اه', 'اهدى', 'اهل', 'اهلا', 'اهم', 'اهميه', 'اهو', 'اهي', 'او', 'اوت', 'اوريدي', 'اوعى', 'اوفنسيف', 'اول', 'اولا', 'اولاد', 'اي', 'ايا', 'ايام', 'ايدك', 'ايده', 'ايه', 'ايوه', 'بإذن', 'باب', 'بابا', 'بابي', 'باختصار', 'باذن', 'باسم', 'باشا', 'باقي', 'بال', 'بالذات', 'بالراحه', 'بالشكل', 'بالضبط', 'بالظبط', 'بالعكس', 'بالفعل', 'بالك', 'بالكم', 'بالله', 'باللي', 'بالليل', 'بالنسبه', 'بان', 'باي', 'بايه', 'ببص', 'ببقى', 'بت', 'بتاخد', 'بتاع', 'بتاعت', 'بتاعتك', 'بتاعتنا', 'بتاعته', 'بتاعتها', 'بتاعتهم', 'بتاعتي', 'بتاعك', 'بتاعنا', 'بتاعه', 'بتاعها', 'بتاعهم', 'بتاعي', 'بتاكل', 'بتبتدي', 'بتبدا', 'بتبص', 'بتبقى', 'بتتعامل', 'بتتكلم', 'بتجيب', 'بتحاول', 'بتحب', 'بتحرك', 'بتحس', 'بتحصل', 'بتخلي', 'بتدور', 'بتدي', 'بتروح', 'بتسمع', 'بتسيطر', 'بتشتغل', 'بتشوف', 'بتصنع', 'بتطلع', 'بتعتبر', 'بتعدي', 'بتعمل', 'بتفرج', 'بتفرق', 'بتفكر', 'بتقعد', 'بتقول', 'بتكلم', 'بتلاقي', 'بتلعب', 'بتوصل', 'بتوع', 'بتيجي', 'بجد', 'بحاجه', 'بحاول', 'بحب', 'بحبش', 'بحس', 'بحسب', 'بحيث', 'بخير', 'بدا', 'بدات', 'بدايه', 'بدل', 'بدون', 'برده', 'برض', 'برضو', 'برنامج', 'بره', 'بروح', 'برودكشن', 'بس', 'بسبب', 'بسرعه', 'بسم', 'بسيط', 'بسيطه', 'بشتغل', 'بشكل', 'بشوف', 'بشيء', 'بص', 'بصراحه', 'بصوا', 'بصيت', 'بطريقه', 'بعت', 'بعد', 'بعدها', 'بعدين', 'بعض', 'بعضها', 'بعمل', 'بعيد', 'بعيدا', 'بقاش', 'بقت', 'بقتش', 'بقعد', 'بقول', 'بقوللك', 'بقوله', 'بقى', 'بقي', 'بقيت', 'بقيه', 'بكتير', 'بكره', 'بكل', 'بكم', 'بل', 'بلا', 'بلاش', 'بلاقي', 'بلال', 'بلس', 'بما', 'بمعنى', 'بناء', 'بنت', 'بنتكلم', 'بنحاول', 'بنسبه', 'بنشوف', 'بنعمل', 'بنفس', 'بنقول', 'بني', 'به', 'بها', 'بهدوء', 'بهذا', 'بودكاست', 'بودكاستك', 'بوست', 'بي', 'بياخد', 'بيبتدي', 'بيبص', 'بيبقوا', 'بيبقى', 'بيت', 'بيتقال', 'بيتك', 'بيتكلم', 'بيتكلموا', 'بيتم', 'بيته', 'بيجي', 'بيجيب', 'بيحاول', 'بيحب', 'بيحس', 'بيحصل', 'بيخلي', 'بيدي', 'بيراعي', 'بيروح', 'بيزعلوا', 'بيشتغل', 'بيشوف', 'بيطلع', 'بيعرف', 'بيعمل', 'بيعملوا', 'بيفرق', 'بيقعد', 'بيقول', 'بيقولوا', 'بيكون', 'بيلعب', 'بين', 'بينا', 'بينزل', 'بينك', 'بينهم', 'بيني', 'بيه', 'بيها', 'بيهم', 'تاخد', 'تاريخ', 'تاكل', 'تاني', 'تانية', 'تانيه', 'تبتدي', 'تبدا', 'تبص', 'تبقاش', 'تبقى', 'تتعامل', 'تتعلم', 'تتفرج', 'تجاه', 'تجري', 'تجيب', 'تجيش', 'تحت', 'تحديدا', 'تحس', 'تحصل', 'تحط', 'تحمل', 'تخرج', 'تخش', 'تخلص', 'تخلي', 'تخيل', 'تدخل', 'تدور', 'ترجع', 'تروح', 'تسال', 'تسبب', 'تسع', 'تسعه', 'تسمع', 'تشتري', 'تشتغل', 'تشوف', 'تشوفونا', 'تصلي', 'تطلع', 'تعال', 'تعالوا', 'تعالى', 'تعبان', 'تعدي', 'تعرف', 'تعلم', 'تعمل', 'تعملها', 'تعيش', 'تغير', 'تفتح', 'تفضل', 'تفكر', 'تفهم', 'تفهمش', 'تقدر', 'تقديم', 'تقريبا', 'تقعد', 'تقعدش', 'تقف', 'تقول', 'تك', 'تكون', 'تكونوا', 'تلاته', 'تلاقي', 'تلاقيه', 'تلعب', 'تم', 'تمام', 'تماما', 'تمشي', 'تنزل', 'تو', 'توصل', 'تي', 'تيجي', 'ثاني', 'ثانيه', 'ثلاث', 'ثلاثه', 'ثواني', 'جا', 'جاب', 'جامد', 'جانب', 'جاي', 'جايه', 'جايين', 'جبت', 'جت', 'جد', 'جدا', 'جدعان', 'جديد', 'جديدة', 'جديده', 'جزء', 'جزاكم', 'جسمك', 'جماعه', 'جميع', 'جميعا', 'جميل', 'جميله', 'جنب', 'جنيه', 'جه', 'جو', 'جواه', 'جوايا', 'جوه', 'جي', 'جيت', 'جيم', 'جينا', 'حابب', 'حاجات', 'حاجة', 'حاجتين', 'حاجه', 'حاسس', 'حاضر', 'حال', 'حالا', 'حاله', 'حاليا', 'حاول', 'حب', 'حبيبي', 'حته', 'حتى', 'حجم', 'حد', 'حدش', 'حديث', 'حر', 'حرام', 'حرب', 'حرفيا', 'حساب', 'حسب', 'حسن', 'حسيت', 'حصل', 'حصلت', 'حصلش', 'حضرتك', 'حط', 'حق', 'حقيقه', 'حقيقي', 'حقيقيه', 'حل', 'حلقات', 'حلقة', 'حلقتنا', 'حلقه', 'حلو', 'حلوه', 'حوار', 'حوارات', 'حوالي', 'حواليك', 'حواليكم', 'حوالين', 'حواليه', 'حياتك', 'حياتنا', 'حياته', 'حياتي', 'حياه', 'خارج', 'خاص', 'خالص', 'خايف', 'خد', 'خدت', 'خدوا', 'خرج', 'خرجت', 'خش', 'خصوصا', 'خطر', 'خطوه', 'خلا', 'خلاص', 'خلال', 'خلالها', 'خلص', 'خلصت', 'خلق', 'خلقه', 'خلى', 'خلي', 'خليك', 'خلينا', 'خليني', 'خمس', 'خمسه', 'خير', 'دا', 'دائما', 'داخل', 'دايما', 'دخل', 'دخلت', 'درجات', 'دعم', 'دعوه', 'دقاق', 'دقيقه', 'دلوقتي', 'دم', 'دماغك', 'دماغه', 'دماغي', 'دنيا', 'ده', 'دوت', 'دور', 'دول', 'دولار', 'دوله', 'دي', 'ديت', 'ديسمبر', 'دين', 'ذا', 'ذلك', 'رئيس', 'راجل', 'راح', 'راحت', 'راس', 'راضي', 'راي', 'رايح', 'رايد', 'رب', 'ربع', 'ربنا', 'رجع', 'رجعت', 'رجل', 'رحت', 'رحله', 'رحمه', 'رد', 'رزق', 'رغم', 'رفع', 'رقم', 'رمضان', 'روح', 'ريت', 'ريحه', 'زادت', 'زعلان', 'زمان', 'زي', 'زياده', 'سؤال', 'ساعات', 'ساعتها', 'ساعه', 'سامحوني', 'سبب', 'سبتمبر', 'سبحان', 'سبحانه', 'سبع', 'سبعه', 'سبيل', 'ست', 'سته', 'سر', 'سلام', 'سلسله', 'سمحت', 'سمع', 'سمعت', 'سن', 'سنة', 'سنتين', 'سنه', 'سنين', 'سهله', 'سواء', 'سوري', 'سوق', 'سي', 'سيئه', 'سيدنا', 'سيدي', 'شاء', 'شارع', 'شاطر', 'شايف', 'شايفه', 'شايفين', 'شباب', 'شبه', 'شخص', 'شخصيا', 'شخصيه', 'شديد', 'شديده', 'شركات', 'شركه', 'شعور', 'شغال', 'شغل', 'شغله', 'شغلي', 'شفت', 'شفتوا', 'شك', 'شكرا', 'شكل', 'شهر', 'شهور', 'شوف', 'شوفوا', 'شوية', 'شويه', 'شيء', 'شيخ', 'صاحب', 'صاحبه', 'صح', 'صحابي', 'صحي', 'صحيح', 'صديقي', 'صعب', 'صعبه', 'صغير', 'صغيره', 'صغيرين', 'صوت', 'صوره', 'ضد', 'ضرب', 'ضعف', 'ضعيف', 'ضغط', 'ضمن', 'ضمنها', 'طالع', 'طالما', 'طب', 'طبعا', 'طبيعه', 'طبيعي', 'طريق', 'طفل', 'طلب', 'طلع', 'طلعت', 'طن', 'طنط', 'طول', 'طويله', 'طيب', 'طيبه', 'ظل', 'ظهر', 'عادي', 'عارف', 'عارفه', 'عارفين', 'عالم', 'عالي', 'عام', 'عامل', 'عامله', 'عاملين', 'عامه', 'عاوز', 'عاوزين', 'عايز', 'عايزك', 'عايزه', 'عايزين', 'عايش', 'عايشين', 'عباده', 'عباره', 'عبد', 'عجبتكم', 'عدد', 'عدم', 'عربيه', 'عرفت', 'عز', 'عشان', 'عكس', 'عل', 'علاء', 'علاقه', 'علشان', 'علم', 'علمي', 'على', 'علي', 'عليا', 'عليك', 'عليكم', 'علينا', 'عليه', 'عليها', 'عليهم', 'عم', 'عمال', 'عماله', 'عمر', 'عمرك', 'عمره', 'عمرها', 'عمري', 'عمل', 'عملت', 'عملته', 'عملتها', 'عملنا', 'عمله', 'عملها', 'عملوا', 'عمليات', 'عمليه', 'عن', 'عند', 'عندك', 'عندكش', 'عندنا', 'عنده', 'عندها', 'عندهم', 'عندوش', 'عندي', 'عنديش', 'عنك', 'عنه', 'عنها', 'عنهم', 'عني', 'عيال', 'عيد', 'عيش', 'عين', 'عينك', 'عينه', 'عيني', 'غالبا', 'غريب', 'غريبه', 'غصب', 'غضب', 'غلط', 'غير', 'فات', 'فاتت', 'فاتوا', 'فاحنا', 'فاذا', 'فاضل', 'فاكر', 'فاكرين', 'فالانسان', 'فالله', 'فاللي', 'فالناس', 'فان', 'فانا', 'فانت', 'فاهم', 'فاهمين', 'فبالتالي', 'فبراير', 'فتبت', 'فتح', 'فتره', 'فتلاقي', 'فجاه', 'فخلاص', 'فده', 'فدي', 'فرصه', 'فرق', 'فرقت', 'فشخ', 'فضل', 'فضلت', 'فعشان', 'فعل', 'فعلا', 'فعليا', 'ففي', 'فقال', 'فقط', 'فكان', 'فكر', 'فكرت', 'فكره', 'فكل', 'فلا', 'فلان', 'فلما', 'فلو', 'فلوس', 'فم', 'فما', 'فمش', 'فمن', 'فهم', 'فهنا', 'فهو', 'فهي', 'فور', 'فورا', 'فوق', 'في', 'فيا', 'فيبت', 'فيجنز', 'فيديو', 'فيديوهات', 'فيش', 'فيفرت', 'فيقول', 'فيك', 'فيلم', 'فيما', 'فين', 'فينا', 'فيه', 'فيها', 'فيهاش', 'فيهم', 'فيهوش', 'قادر', 'قادره', 'قادمه', 'قاعد', 'قاعده', 'قاعدين', 'قال', 'قالت', 'قالوا', 'قانون', 'قبل', 'قبلها', 'قتل', 'قد', 'قدام', 'قدامك', 'قدامه', 'قدر', 'قدره', 'قرار', 'قرارات', 'قرب', 'قرر', 'قررت', 'قريب', 'قسما', 'قصدي', 'قصص', 'قصه', 'قضيه', 'قطاع', 'قعد', 'قعدت', 'قعدوا', 'ققول', 'قل', 'قلب', 'قلبك', 'قلبي', 'قلت', 'قلنا', 'قليل', 'قهوه', 'قول', 'قوه', 'قوي', 'قيمتها', 'قيمه', 'كام', 'كامل', 'كامله', 'كان', 'كانت', 'كانتش', 'كانسان', 'كانش', 'كانوا', 'كانوش', 'كبير', 'كبيرة', 'كبيره', 'كتاب', 'كتابه', 'كتب', 'كتر', 'كتير', 'كتيره', 'كثير', 'كدا', 'كده', 'كذا', 'كريم', 'كفايه', 'كل', 'كلام', 'كلامه', 'كلامي', 'كلمه', 'كلنا', 'كله', 'كلها', 'كلهم', 'كم', 'كما', 'كمان', 'كمل', 'كميه', 'كنا', 'كنت', 'كنتش', 'كورس', 'كوره', 'كويس', 'كويسه', 'كيف', 'لإن', 'لا', 'لاث', 'لاثه', 'لازم', 'لازمه', 'لاصحاب', 'لاقي', 'لان', 'لانك', 'لانه', 'لانها', 'لاول', 'لاي', 'لايك', 'لحد', 'لحسن', 'لحضراتكم', 'لحظه', 'لدرجه', 'لذيذ', 'لسعاده', 'لسه', 'لقيت', 'لك', 'لكل', 'لكم', 'لكن', 'للناس', 'لله', 'للي', 'لم', 'لما', 'لمده', 'لمرحله', 'لن', 'لنا', 'لنفسك', 'لنفسي', 'له', 'لها', 'لهذه', 'لهم', 'لهنا', 'لو', 'لوحده', 'لوحدها', 'لي', 'ليا', 'ليك', 'ليه', 'ليها', 'ليهم', 'مؤخرا', 'مؤمن', 'ما', 'مات', 'مارس', 'ماركت', 'ماسك', 'ماشي', 'ماشيه', 'ماشيين', 'ماعرفش', 'مافيش', 'مال', 'مالك', 'مالكش', 'مالهاش', 'مالوش', 'ماما', 'مان', 'ماي', 'مايو', 'مباشر', 'مبسوط', 'متاكد', 'متخيل', 'متر', 'متضايق', 'مثال', 'مثلا', 'مجال', 'مجرد', 'مجلس', 'مجموعه', 'مجهود', 'محاوله', 'محتاج', 'محتاجه', 'محتاجين', 'محترم', 'محتوى', 'محدش', 'محمد', 'مختلف', 'مختلفه', 'مدار', 'مدير', 'مر', 'مرات', 'مراتي', 'مرحله', 'مرعب', 'مركز', 'مره', 'مسؤول', 'مساحه', 'مستحيل', 'مستمر', 'مستني', 'مستوى', 'مستويات', 'مش', 'مشاعر', 'مشاكل', 'مشروع', 'مشكله', 'مشي', 'مصدر', 'مصر', 'مع', 'معاك', 'معاكم', 'معانا', 'معاه', 'معاها', 'معاهم', 'معايا', 'معرفش', 'معروف', 'معظم', 'معك', 'معلش', 'معلم', 'معلومات', 'معلومه', 'معناه', 'معناها', 'معنى', 'معه', 'معها', 'معهم', 'معي', 'معين', 'معينه', 'مفشوخ', 'مفهوم', 'مفيش', 'مقابل', 'مقتنع', 'مكان', 'مكانه', 'مكتوب', 'ملك', 'مليار', 'مليانه', 'مليون', 'ممكن', 'من', 'مناسب', 'مناسبه', 'منتج', 'منطقي', 'منظور', 'منك', 'منكم', 'مننا', 'منه', 'منها', 'منهم', 'مني', 'منين', 'مهم', 'مهما', 'مهمه', 'مواضيع', 'موجود', 'موجوده', 'موسيقى', 'موضوع', 'موظف', 'موقف', 'ميديا', 'مين', 'ميه', 'ميوزك', 'ناحيه', 'ناخد', 'نار', 'نازل', 'ناس', 'نافع', 'نايم', 'نبدا', 'نبص', 'نبقى', 'نتعلم', 'نتكلم', 'نجيب', 'نحط', 'نخش', 'ندخل', 'ندى', 'نرجع', 'نروح', 'نزل', 'نزلت', 'نشوف', 'نص', 'نضيفه', 'نظام', 'نظر', 'نظره', 'نعتبره', 'نعرف', 'نعم', 'نعمل', 'نفس', 'نفسك', 'نفسنا', 'نفسه', 'نفسها', 'نفسهم', 'نفسي', 'نفسيا', 'نفسيه', 'نقدر', 'نقطه', 'نقعد', 'نقول', 'نكون', 'نهار', 'نهايه', 'نو', 'نور', 'نوع', 'نوفمبر', 'نيجي', 'ها', 'هات', 'هبقى', 'هتابع', 'هتبقى', 'هتعرف', 'هتعمل', 'هتقعد', 'هتقول', 'هتكلم', 'هتلاقي', 'هتنزل', 'هتيجي', 'هدف', 'هذا', 'هذه', 'هضايق', 'هعرف', 'هعمل', 'هقعد', 'هقول', 'هل', 'هم', 'هما', 'هموت', 'هنا', 'هناك', 'هنتكلم', 'هنعمل', 'هنلاقي', 'هو', 'هوب', 'هوست', 'هي', 'هيبقى', 'هيجي', 'هيحصل', 'هيطلع', 'هيعرف', 'هيعمل', 'هيقول', 'هيكون', 'هينفع', 'وا', 'وابقى', 'واحد', 'واحده', 'واحنا', 'واخد', 'واخدين', 'واستنونا', 'واضح', 'واضحه', 'واعمل', 'واقع', 'واقف', 'واقول', 'وال', 'والاخره', 'والحاجات', 'والدنيا', 'والسؤال', 'والسلام', 'والكلام', 'والله', 'واللي', 'والناس', 'والنبي', 'وان', 'وانا', 'وانت', 'وانتم', 'وانه', 'واي', 'وايه', 'وبالتالي', 'وبتاع', 'وبركاته', 'وبعد', 'وبعدها', 'وبعدين', 'وبقى', 'وبين', 'وتبقى', 'وتحديدا', 'وتشوف', 'وتعالى', 'وتعمل', 'وتقعد', 'وتقول', 'وجهه', 'وجود', 'وحابين', 'وحاجات', 'وحتى', 'وحش', 'وحشه', 'وخصوصا', 'وخلاص', 'ود', 'ودا', 'ودايما', 'وده', 'ودول', 'ودي', 'وذ', 'ورا', 'وراح', 'وراه', 'وراها', 'وربنا', 'ورحمه', 'ورقه', 'وزي', 'وسط', 'وش', 'وصف', 'وصل', 'وصلت', 'وصلنا', 'وضع', 'وطبعا', 'وعايز', 'وعشان', 'وعلى', 'وعمال', 'وعندي', 'وفي', 'وقال', 'وقبل', 'وقت', 'وقتها', 'وقع', 'وقعت', 'وقف', 'وكالعاده', 'وكان', 'وكانت', 'وكده', 'وكل', 'وكمان', 'ولا', 'ولاد', 'ولازم', 'ولحد', 'ولذلك', 'ولسه', 'ولكن', 'ولكنه', 'وللا', 'ولما', 'ولو', 'وليه', 'وما', 'ومش', 'وممكن', 'ومن', 'ومين', 'وناس', 'ونشوف', 'ونشوفكم', 'ونص', 'وهم', 'وهنا', 'وهو', 'وهي', 'ويا', 'ويبتدي', 'ويبقى', 'ويجي', 'ويعني', 'ويقول', 'يا', 'ياخد', 'ياكل', 'يبتدي', 'يبدا', 'يبقى', 'يتخض', 'يتكلم', 'يتم', 'يجب', 'يجري', 'يجي', 'يجيب', 'يحب', 'يحس', 'يحصل', 'يحط', 'يخرج', 'يخش', 'يخلي', 'يخليك', 'يدخل', 'يديك', 'يروح', 'يسمع', 'يشوف', 'يطلع', 'يعرف', 'يعلم', 'يعمل', 'يعملوا', 'يعني', 'يفتح', 'يفضل', 'يقدر', 'يقرب', 'يقعد', 'يقف', 'يقل', 'يقول', 'يقوللك', 'يكون', 'يلا', 'يمكن', 'يناير', 'ينزل', 'ينفع', 'ينفعش', 'يو', 'يور', 'يوصل', 'يوليو', 'يوم', 'يومين', 'يونيو']\n"
          ]
        }
      ],
      "source": [
        "vectorizer = TfidfVectorizer(use_idf=True)\n",
        "tfidf_matrix = vectorizer.fit_transform(df['clean_transcript'])\n",
        "idf = vectorizer.idf_\n",
        "terms = vectorizer.get_feature_names_out()\n",
        "term_idf = list(zip(terms, idf))\n",
        "common_words = [term for term, score in term_idf if score < np.percentile(idf, 5)]\n",
        "print(\"Candidate stopwords based on low IDF:\", common_words)\n"
      ]
    },
    {
      "cell_type": "code",
      "execution_count": null,
      "metadata": {
        "vscode": {
          "languageId": "powershell"
        }
      },
      "outputs": [],
      "source": [
        "egyptian_stopwords = {\"انت\",\"يا\",\"قبل\",\"في\",\"علي\",\"عن\",\"الي\",\"من\",\"بلاش\",  \"ايه\",  \"يعني\",  \"أوي\",  \"اللي\",\"انا\",\"ده\" , \"مش\",\"دي\",\"بقى\", \"كده\",\"مالوش\",\"بس\",\"ال\", \"ان\", \"عل\", \"كد\", \"نا\", \"بتاع\"\n",
        "}\n",
        "common_words = common_words + list(egyptian_stopwords)\n",
        "df['tokens_no_stop_additional'] = df['tokens_no_stop'].apply(lambda tokens: remove_stopwords(tokens, set(common_words)))\n",
        "df['total_tokens_no_stop_custom'] = df['tokens_no_stop_additional'].apply(len)\n"
      ]
    },
    {
      "cell_type": "code",
      "execution_count": null,
      "metadata": {
        "vscode": {
          "languageId": "powershell"
        }
      },
      "outputs": [
        {
          "name": "stdout",
          "output_type": "stream",
          "text": [
            "                                          Metric        Value\n",
            "0                              Mean total tokens  3684.277778\n",
            "1     Mean tokens after initial stopword removal  2822.736111\n",
            "2  Mean tokens after additional stopword removal  1277.347222\n"
          ]
        }
      ],
      "source": [
        "mean_total_tokens = df['total_tokens'].mean()\n",
        "mean_total_tokens_no_stop = df['total_tokens_no_stop'].mean()\n",
        "mean_total_tokens_no_stop_custom = df['total_tokens_no_stop_custom'].mean()\n",
        "\n",
        "# Create a table summarizing the results\n",
        "data = {\n",
        "    \"Metric\": [\n",
        "        \"Mean total tokens\",\n",
        "        \"Mean tokens after initial stopword removal\",\n",
        "        \"Mean tokens after additional stopword removal\"\n",
        "    ],\n",
        "    \"Value\": [\n",
        "        mean_total_tokens,\n",
        "        mean_total_tokens_no_stop,\n",
        "        mean_total_tokens_no_stop_custom\n",
        "    ]\n",
        "}\n",
        "\n",
        "summary_table = pd.DataFrame(data)\n",
        "print(summary_table)"
      ]
    },
    {
      "cell_type": "markdown",
      "metadata": {
        "vscode": {
          "languageId": "powershell"
        }
      },
      "source": [
        "### Stemming and Lemmatization"
      ]
    },
    {
      "cell_type": "markdown",
      "metadata": {},
      "source": [
        "**Stemming**"
      ]
    },
    {
      "cell_type": "code",
      "execution_count": null,
      "metadata": {
        "vscode": {
          "languageId": "powershell"
        }
      },
      "outputs": [
        {
          "data": {
            "text/plain": [
              "['ناج',\n",
              " '500',\n",
              " 'قنه',\n",
              " 'حسب',\n",
              " 'شهد',\n",
              " 'سبع',\n",
              " '12',\n",
              " '48',\n",
              " 'ضرب',\n",
              " 'ثمن',\n",
              " 'هيبق',\n",
              " '500',\n",
              " 'مان',\n",
              " 'نجه',\n",
              " 'يحق',\n",
              " 'كلم',\n",
              " 'ناج',\n",
              " 'يحق',\n",
              " 'ليش',\n",
              " 'كلم',\n",
              " 'ناج',\n",
              " 'ضرب',\n",
              " 'مثل',\n",
              " 'مثل',\n",
              " 'رقم',\n",
              " 'تقل',\n",
              " 'صحح',\n",
              " 'كذب',\n",
              " 'تبع',\n",
              " 'جيد',\n",
              " 'سبسكرايب',\n",
              " 'فعل',\n",
              " 'جرس',\n",
              " 'اعل',\n",
              " 'لزم',\n",
              " 'زلش',\n",
              " 'سبع',\n",
              " 'مان',\n",
              " 'سبي',\n",
              " 'رقم',\n",
              " 'نزل',\n",
              " 'مري',\n",
              " 'نزل',\n",
              " 'سبع',\n",
              " 'هنت',\n",
              " 'شغل',\n",
              " 'تلي',\n",
              " 'تزم',\n",
              " 'يدو',\n",
              " 'سبع',\n",
              " 'بقم',\n",
              " 'جيت',\n",
              " 'جهد',\n",
              " 'هبد',\n",
              " 'اقل',\n",
              " 'ناج',\n",
              " 'اعل',\n",
              " 'جنب',\n",
              " 'دخل',\n",
              " 'كلش',\n",
              " 'اصل',\n",
              " 'ناج',\n",
              " 'تعل',\n",
              " 'علم',\n",
              " 'وأن',\n",
              " 'قولل',\n",
              " 'بعل',\n",
              " 'حطل',\n",
              " 'رقم',\n",
              " 'خدع',\n",
              " 'لنس',\n",
              " '5',\n",
              " '',\n",
              " '7',\n",
              " 'تسو',\n",
              " '12',\n",
              " 'ضرب',\n",
              " '12',\n",
              " '3',\n",
              " '24',\n",
              " 'ترح',\n",
              " 'ديل',\n",
              " 'ماف',\n",
              " 'حسب',\n",
              " 'صحح',\n",
              " 'وحج',\n",
              " '1',\n",
              " '1',\n",
              " 'سسو',\n",
              " 'ماكدبتش',\n",
              " 'خبط',\n",
              " 'رقم',\n",
              " 'قنع',\n",
              " 'مخك',\n",
              " 'سمع',\n",
              " 'خلف',\n",
              " 'ناج',\n",
              " 'وصل',\n",
              " '500',\n",
              " 'ناج',\n",
              " 'يرج',\n",
              " 'عقل',\n",
              " 'خرج',\n",
              " 'يجب',\n",
              " 'ثمن',\n",
              " 'فتر',\n",
              " 'نزل',\n",
              " 'فتر',\n",
              " 'زلش',\n",
              " 'شهر',\n",
              " 'خفي',\n",
              " 'شهر',\n",
              " 'عمل',\n",
              " 'يوتيوبرز',\n",
              " 'هنلعب',\n",
              " 'ختف',\n",
              " 'وعد',\n",
              " 'ككريم',\n",
              " 'اعل',\n",
              " 'للل',\n",
              " 'تثر',\n",
              " 'سلب',\n",
              " 'جيت',\n",
              " 'هنه',\n",
              " 'جنب',\n",
              " 'امت',\n",
              " 'صنع',\n",
              " 'راج',\n",
              " 'شرك',\n",
              " 'زنس',\n",
              " 'شغل',\n",
              " 'سسي',\n",
              " 'علم',\n",
              " 'دره',\n",
              " 'بدر',\n",
              " 'شرك',\n",
              " 'شتغل',\n",
              " 'علم',\n",
              " 'كونس',\n",
              " 'بصح',\n",
              " 'قبل',\n",
              " 'سؤل',\n",
              " 'درس',\n",
              " 'ذكر',\n",
              " 'بطر',\n",
              " 'بخد',\n",
              " 'شهد',\n",
              " 'بدي',\n",
              " 'طلع',\n",
              " 'نتج',\n",
              " 'ودر',\n",
              " 'كسر',\n",
              " 'كلش',\n",
              " 'ناج',\n",
              " 'اول',\n",
              " 'حسس',\n",
              " 'حرك',\n",
              " 'وأن',\n",
              " 'طرق',\n",
              " 'لالإنتاج',\n",
              " 'كسر',\n",
              " 'ناج',\n",
              " 'ذات',\n",
              " 'ناج',\n",
              " 'وجه',\n",
              " 'لمر',\n",
              " 'دنو',\n",
              " 'ذكر',\n",
              " 'ناج',\n",
              " 'شمل',\n",
              " 'جنب',\n",
              " 'دعو',\n",
              " 'فرد',\n",
              " 'انه',\n",
              " 'اده',\n",
              " 'خلك',\n",
              " 'سكر',\n",
              " 'انس',\n",
              " 'وقت',\n",
              " 'سكر',\n",
              " 'حقق',\n",
              " 'سكر',\n",
              " 'انس',\n",
              " 'حقق',\n",
              " 'سكر',\n",
              " 'انس',\n",
              " 'قتل',\n",
              " 'يعل',\n",
              " 'انكزايتي',\n",
              " 'قلل',\n",
              " 'ثقة',\n",
              " 'نفس',\n",
              " 'يخل',\n",
              " 'انس',\n",
              " 'بحل',\n",
              " 'يعل',\n",
              " 'جلد',\n",
              " 'ومع',\n",
              " 'عقل',\n",
              " 'فكر',\n",
              " 'عمق',\n",
              " 'تخل',\n",
              " 'بتف',\n",
              " 'عمل',\n",
              " 'عرفتش',\n",
              " 'عمل',\n",
              " 'فأن',\n",
              " 'بخل',\n",
              " 'هام',\n",
              " 'مثل',\n",
              " 'مخي',\n",
              " 'فحي',\n",
              " 'هرب',\n",
              " 'حطش',\n",
              " 'رسك',\n",
              " 'قلف',\n",
              " 'لعب',\n",
              " 'ائم',\n",
              " 'حول',\n",
              " 'برج',\n",
              " 'خسر',\n",
              " 'اخط',\n",
              " 'رفض',\n",
              " 'عمل',\n",
              " 'ماطلعش',\n",
              " 'ستى',\n",
              " 'يتم',\n",
              " 'نقد',\n",
              " 'فأن',\n",
              " 'صرح',\n",
              " 'عرف',\n",
              " 'فيديوهاتي',\n",
              " 'كونفرزيشن',\n",
              " 'حدث',\n",
              " 'اشي',\n",
              " 'قلب',\n",
              " 'اقل',\n",
              " 'ترجم',\n",
              " 'فصل',\n",
              " 'اقل',\n",
              " 'وجع',\n",
              " 'ريض',\n",
              " 'تحد',\n",
              " 'توج',\n",
              " 'ورح',\n",
              " 'دور',\n",
              " 'سعد',\n",
              " 'خصص',\n",
              " 'فبي',\n",
              " 'سعد',\n",
              " 'للل',\n",
              " 'ذكر',\n",
              " 'احس',\n",
              " 'واف',\n",
              " 'كلم',\n",
              " 'تخصص',\n",
              " 'فأن',\n",
              " 'خبط',\n",
              " 'ناج',\n",
              " 'زوي',\n",
              " 'هقل',\n",
              " 'عمل',\n",
              " 'جنب',\n",
              " 'وقع',\n",
              " 'وقع',\n",
              " 'ناج',\n",
              " 'حدد',\n",
              " 'ناج',\n",
              " 'عمل',\n",
              " 'ناج',\n",
              " 'قدر',\n",
              " 'دهع',\n",
              " 'ناج',\n",
              " 'صحى',\n",
              " 'يعد',\n",
              " 'تخد',\n",
              " 'زتك',\n",
              " 'بقك',\n",
              " 'تقم',\n",
              " 'انس',\n",
              " 'حسب',\n",
              " 'حسب',\n",
              " 'رنس',\n",
              " 'حترم',\n",
              " 'تعد',\n",
              " 'شغل',\n",
              " 'لزم',\n",
              " 'طلب',\n",
              " 'لزم',\n",
              " 'تخد',\n",
              " 'وأ',\n",
              " 'طلب',\n",
              " 'جمع',\n",
              " 'حضر',\n",
              " 'محاضراتك',\n",
              " 'ايل',\n",
              " 'علم',\n",
              " 'سمر',\n",
              " 'حضر',\n",
              " 'سؤل',\n",
              " 'رصد',\n",
              " 'ناج',\n",
              " 'قطع',\n",
              " 'تخل',\n",
              " 'حسس',\n",
              " 'جنب',\n",
              " 'حيت',\n",
              " 'عيش',\n",
              " 'سؤل',\n",
              " 'سؤل',\n",
              " 'سعد',\n",
              " 'وما',\n",
              " 'وخا',\n",
              " 'نزل',\n",
              " 'سؤل',\n",
              " 'سؤل',\n",
              " 'سؤل',\n",
              " 'حيت',\n",
              " 'شغل',\n",
              " 'طلب',\n",
              " 'درس',\n",
              " 'حسب',\n",
              " 'بتد',\n",
              " 'ناج',\n",
              " 'اون',\n",
              " 'لين',\n",
              " 'تقر',\n",
              " 'حصل',\n",
              " 'ناج',\n",
              " 'بذل',\n",
              " 'طور',\n",
              " 'بقى',\n",
              " 'انس',\n",
              " 'قصر',\n",
              " 'فأن',\n",
              " 'لنس',\n",
              " 'حقه',\n",
              " 'وبص',\n",
              " 'قصر',\n",
              " 'طبطب',\n",
              " 'اقل',\n",
              " 'نظر',\n",
              " 'نظر',\n",
              " 'عدل',\n",
              " 'بحق',\n",
              " 'نطر',\n",
              " 'فأن',\n",
              " 'اقل',\n",
              " 'تسس',\n",
              " 'اقل',\n",
              " 'طبع',\n",
              " 'بتا',\n",
              " 'هيت',\n",
              " 'وهم',\n",
              " 'هفترض',\n",
              " 'طبع',\n",
              " 'انس',\n",
              " 'كلم',\n",
              " 'نفس',\n",
              " 'خلف',\n",
              " 'فكن',\n",
              " 'كنن',\n",
              " 'ماط',\n",
              " 'كنن',\n",
              " 'عجب',\n",
              " 'كلم',\n",
              " 'ماط',\n",
              " 'خلف',\n",
              " 'ماط',\n",
              " 'تيل',\n",
              " 'كونس',\n",
              " 'قله',\n",
              " 'طرق',\n",
              " 'عمل',\n",
              " 'حيا',\n",
              " 'قدر',\n",
              " 'روت',\n",
              " 'راح',\n",
              " 'عندناش',\n",
              " 'خدو',\n",
              " 'حتت',\n",
              " 'خلق',\n",
              " 'قسم',\n",
              " 'لذذ',\n",
              " 'تقل',\n",
              " 'كرت',\n",
              " 'وب',\n",
              " 'خلق',\n",
              " 'دمغ',\n",
              " 'نطط',\n",
              " 'وسع',\n",
              " 'اما',\n",
              " 'وأم',\n",
              " 'مشاوير',\n",
              " 'ساح',\n",
              " 'افق',\n",
              " 'مشاريع',\n",
              " 'خطر',\n",
              " 'وسع',\n",
              " 'سرع',\n",
              " 'تهر',\n",
              " 'طلق',\n",
              " 'يزق',\n",
              " 'كسر',\n",
              " 'حيط',\n",
              " 'فتح',\n",
              " 'جال',\n",
              " 'خلق',\n",
              " 'تال',\n",
              " 'ديفيلوبرز',\n",
              " 'فرك',\n",
              " 'كسر',\n",
              " 'حيط',\n",
              " 'وجر',\n",
              " 'فتح',\n",
              " 'ساح',\n",
              " 'تعل',\n",
              " 'نفل',\n",
              " 'تعل',\n",
              " 'نرص',\n",
              " 'عرب',\n",
              " 'عندهاش',\n",
              " 'محل',\n",
              " 'نبن',\n",
              " 'محل',\n",
              " 'يتل',\n",
              " 'ديفلوبرز',\n",
              " 'تطر',\n",
              " 'اما',\n",
              " 'ساح',\n",
              " 'فتح',\n",
              " 'اتن',\n",
              " 'يقل',\n",
              " 'قعد',\n",
              " 'ندي',\n",
              " 'يلب',\n",
              " 'هنفضل',\n",
              " 'هنتخ',\n",
              " 'جري',\n",
              " 'فتح',\n",
              " 'ساح',\n",
              " 'آفق',\n",
              " 'وسع',\n",
              " 'طور',\n",
              " 'جود',\n",
              " 'وقع',\n",
              " 'خنا',\n",
              " 'نفس',\n",
              " 'علم',\n",
              " 'وخد',\n",
              " 'حطش',\n",
              " 'قلب',\n",
              " 'صنع',\n",
              " 'صنع',\n",
              " 'درس',\n",
              " 'جنب',\n",
              " 'عظم',\n",
              " 'سلف',\n",
              " 'هلب',\n",
              " 'تقل',\n",
              " 'نمه',\n",
              " 'ذتي',\n",
              " 'سعد',\n",
              " 'ذتي',\n",
              " 'فكر',\n",
              " 'جيد',\n",
              " 'للب',\n",
              " 'احا',\n",
              " 'نصح',\n",
              " 'سطح',\n",
              " 'سطح',\n",
              " 'يعب',\n",
              " 'لالمعلوم',\n",
              " 'نحط',\n",
              " 'عملش',\n",
              " 'فأن',\n",
              " 'حقق',\n",
              " 'هدف',\n",
              " 'ناج',\n",
              " 'فشل',\n",
              " 'لأن',\n",
              " 'سمك',\n",
              " 'شجر',\n",
              " 'ثال',\n",
              " 'لذذ',\n",
              " 'ينش',\n",
              " 'ناج',\n",
              " 'سلف',\n",
              " 'ونس',\n",
              " 'وعي',\n",
              " 'ذتي',\n",
              " 'وأن',\n",
              " 'حيط',\n",
              " 'هخد',\n",
              " 'هخد',\n",
              " 'نهر',\n",
              " 'حمد',\n",
              " 'زيد',\n",
              " 'مثل',\n",
              " 'علم',\n",
              " 'رنمج',\n",
              " 'نوش',\n",
              " 'بدأ',\n",
              " 'قعد',\n",
              " 'بروتيفيتي',\n",
              " 'سيس',\n",
              " 'وتس',\n",
              " 'برو',\n",
              " 'شتغل',\n",
              " 'كتد',\n",
              " 'لزم',\n",
              " 'لقت',\n",
              " 'عطل',\n",
              " 'ني',\n",
              " 'فدت',\n",
              " 'احظ',\n",
              " 'بيس',\n",
              " 'سرع',\n",
              " 'عيش',\n",
              " 'ناسب',\n",
              " 'قعد',\n",
              " 'كتب',\n",
              " 'أدخل',\n",
              " 'عمل',\n",
              " 'ناج',\n",
              " 'نسب',\n",
              " 'عمل',\n",
              " 'مكس',\n",
              " 'ظلم',\n",
              " 'هستخدم',\n",
              " 'ورق',\n",
              " 'ديجيتال',\n",
              " 'وكل',\n",
              " 'بعض',\n",
              " 'ولي',\n",
              " 'لوج',\n",
              " 'ولي',\n",
              " 'فقد',\n",
              " 'فكر',\n",
              " 'ورق',\n",
              " 'رصص',\n",
              " 'بسط',\n",
              " 'ني',\n",
              " 'فبد',\n",
              " 'عمل',\n",
              " 'مكس',\n",
              " 'احس',\n",
              " 'بدأ',\n",
              " 'ورق',\n",
              " 'وحج',\n",
              " 'تته',\n",
              " 'برج',\n",
              " 'فتح',\n",
              " 'تسك',\n",
              " 'ارج',\n",
              " 'كا',\n",
              " 'عطل',\n",
              " 'فرم',\n",
              " 'امش',\n",
              " 'حطه',\n",
              " 'خطه',\n",
              " 'كوارتر',\n",
              " 'ربع',\n",
              " 'فتح',\n",
              " 'نوش',\n",
              " 'أدخل',\n",
              " 'بق',\n",
              " 'قعد',\n",
              " 'فكر',\n",
              " 'فرح',\n",
              " 'كتب',\n",
              " 'نوت',\n",
              " 'فكر',\n",
              " 'خطر',\n",
              " 'كتب',\n",
              " 'هيخد',\n",
              " 'كبه',\n",
              " 'صحى',\n",
              " 'بصح',\n",
              " 'كتب',\n",
              " 'دوش',\n",
              " 'هرتب',\n",
              " 'كتر',\n",
              " 'تسك',\n",
              " 'زميل',\n",
              " 'روفال',\n",
              " 'نقش',\n",
              " 'فلن',\n",
              " 'فلن',\n",
              " 'فصل',\n",
              " 'رتب',\n",
              " 'يدو',\n",
              " 'بوت',\n",
              " 'ولو',\n",
              " 'ولو',\n",
              " 'ولو',\n",
              " 'كبر',\n",
              " 'خطء',\n",
              " 'حطط',\n",
              " 'ليس',\n",
              " 'خطء',\n",
              " 'تقع',\n",
              " 'ناج',\n",
              " 'انس',\n",
              " 'رجع',\n",
              " 'للت',\n",
              " 'ناج',\n",
              " 'فتح',\n",
              " 'ملف',\n",
              " 'كتب',\n",
              " 'not',\n",
              " 'ريف',\n",
              " 'اجس',\n",
              " 'رجع',\n",
              " 'عدل',\n",
              " 'ناج',\n",
              " 'استراتيجيه',\n",
              " 'ناج',\n",
              " 'تغر',\n",
              " 'نفع',\n",
              " 'فعش',\n",
              " 'وظف',\n",
              " 'فتح',\n",
              " 'عمل',\n",
              " 'تجز',\n",
              " 'خلف',\n",
              " 'لزم',\n",
              " 'لسر',\n",
              " 'ناج',\n",
              " 'رون',\n",
              " 'حقق',\n",
              " 'سيب',\n",
              " 'هزر',\n",
              " 'هزر',\n",
              " 'للل',\n",
              " 'نجه',\n",
              " 'حكيتل',\n",
              " 'رولز',\n",
              " 'لعب',\n",
              " 'للل',\n",
              " 'ورض',\n",
              " 'فأن',\n",
              " 'عبر',\n",
              " 'انس',\n",
              " 'انس',\n",
              " 'فشل',\n",
              " 'وجي',\n",
              " 'اقل',\n",
              " 'بحك',\n",
              " 'عشت',\n",
              " 'كتر',\n",
              " 'حضر',\n",
              " 'شرك',\n",
              " 'عدل',\n",
              " 'عدل',\n",
              " 'حطش',\n",
              " 'قلب',\n",
              " 'لأن',\n",
              " 'ترم',\n",
              " 'فوط',\n",
              " 'سيس',\n",
              " 'شفت',\n",
              " 'عرفتش',\n",
              " 'قفل',\n",
              " 'سيس',\n",
              " 'لالدكتور',\n",
              " 'كتب',\n",
              " 'ديت',\n",
              " 'يلق',\n",
              " 'خرف',\n",
              " 'ديت',\n",
              " 'نسي',\n",
              " 'هتم',\n",
              " 'بكل',\n",
              " 'أكل',\n",
              " 'بيض',\n",
              " 'ربع',\n",
              " 'خفف',\n",
              " 'سكر',\n",
              " 'منع',\n",
              " 'قلل',\n",
              " 'همش',\n",
              " 'دكتور',\n",
              " 'كتب',\n",
              " 'هشتغل',\n",
              " 'طول',\n",
              " 'حضر',\n",
              " 'كسر',\n",
              " 'ستج',\n",
              " 'لالإنتاج',\n",
              " 'انس',\n",
              " 'يعش',\n",
              " 'نقل',\n",
              " 'فاي',\n",
              " 'اون',\n",
              " 'ديمنز',\n",
              " 'حرب',\n",
              " 'شيط',\n",
              " 'عفر',\n",
              " 'اهم',\n",
              " 'تست',\n",
              " 'تمس',\n",
              " 'ظمه',\n",
              " 'ناج',\n",
              " 'تبع',\n",
              " 'عطل',\n",
              " 'ناج',\n",
              " 'عدل',\n",
              " 'سرع',\n",
              " 'جرى',\n",
              " 'جرى',\n",
              " 'شكل',\n",
              " 'فيس',\n",
              " 'انه',\n",
              " '[',\n",
              " ']',\n",
              " 'وقع',\n",
              " 'خدم',\n",
              " 'تكنولوجي',\n",
              " 'اور',\n",
              " 'تطر',\n",
              " 'نهر',\n",
              " 'تطر',\n",
              " 'الر',\n",
              " 'بون',\n",
              " 'فت',\n",
              " 'برزنتيشن',\n",
              " 'الي',\n",
              " 'نقل',\n",
              " 'تكت',\n",
              " 'فعل',\n",
              " 'الي',\n",
              " 'ضيع',\n",
              " 'ستك',\n",
              " 'سيس',\n",
              " 'يدر',\n",
              " 'سيس',\n",
              " 'طورش',\n",
              " 'ادو',\n",
              " 'تطر',\n",
              " 'ادو',\n",
              " 'طلع',\n",
              " 'كشف',\n",
              " 'وأن',\n",
              " 'قلف',\n",
              " 'شيل',\n",
              " 'خدم',\n",
              " 'اده',\n",
              " 'ادل',\n",
              " 'دقق',\n",
              " 'لته',\n",
              " 'وقت',\n",
              " 'ادا',\n",
              " 'نفع',\n",
              " 'نفع',\n",
              " 'ودك',\n",
              " 'عد',\n",
              " 'ارم',\n",
              " 'لتر',\n",
              " 'ريز',\n",
              " 'دكت',\n",
              " 'هحتاج',\n",
              " 'هفتح',\n",
              " 'ملف',\n",
              " 'طلع',\n",
              " 'فيل',\n",
              " 'ابد',\n",
              " 'ولز',\n",
              " 'وقع',\n",
              " 'ناج',\n",
              " 'نجل',\n",
              " 'سلف',\n",
              " 'كير',\n",
              " 'ناج',\n",
              " 'سقو',\n",
              " 'هام',\n",
              " 'ريب',\n",
              " 'لمش',\n",
              " 'امش',\n",
              " 'نسى',\n",
              " 'يمش',\n",
              " 'عمل',\n",
              " 'ادم',\n",
              " 'فهل',\n",
              " 'ناج',\n",
              " 'همم',\n",
              " 'بنم',\n",
              " 'وكل',\n",
              " 'شرب',\n",
              " 'ريض',\n",
              " 'كلم',\n",
              " 'عد',\n",
              " 'اكر',\n",
              " 'راح',\n",
              " 'كفي',\n",
              " 'جزه',\n",
              " 'ناج',\n",
              " 'وصل',\n",
              " 'ستو',\n",
              " 'علي',\n",
              " 'ترس',\n",
              " 'ترس',\n",
              " 'بلد',\n",
              " 'ظرف',\n",
              " 'حرق',\n",
              " 'ترس',\n",
              " 'خلق',\n",
              " 'شتغل',\n",
              " 'وبج',\n",
              " 'بيب',\n",
              " 'خلف',\n",
              " 'جهد',\n",
              " 'جهد',\n",
              " 'صمم',\n",
              " 'نرح',\n",
              " 'نشح',\n",
              " 'بطر',\n",
              " 'رجع',\n",
              " 'نبن',\n",
              " 'برح',\n",
              " 'فضل',\n",
              " 'يتر',\n",
              " 'يتر',\n",
              " 'يتر',\n",
              " 'قولل',\n",
              " 'ماحصلش',\n",
              " 'ماحصليش',\n",
              " 'ازم',\n",
              " 'ماحصليش',\n",
              " 'حيق',\n",
              " 'فرض',\n",
              " 'روت',\n",
              " 'بتد',\n",
              " 'ريحش',\n",
              " 'خدش',\n",
              " 'جزه',\n",
              " 'فالاهتمام',\n",
              " 'نفس',\n",
              " 'سلف',\n",
              " 'كير',\n",
              " 'بشف',\n",
              " 'ولو',\n",
              " 'عاييز',\n",
              " 'مث',\n",
              " 'بقل',\n",
              " 'ظرف',\n",
              " 'ظرف',\n",
              " 'عئل',\n",
              " 'ظرف',\n",
              " 'خلي',\n",
              " 'جهد',\n",
              " 'جهد',\n",
              " 'دئي',\n",
              " '100%',\n",
              " '100',\n",
              " 'داي',\n",
              " 'ادش',\n",
              " 'جلد',\n",
              " 'وجب',\n",
              " 'سعد',\n",
              " 'عند',\n",
              " 'ندر',\n",
              " 'نحر',\n",
              " 'تكل',\n",
              " 'وقت',\n",
              " 'جهد',\n",
              " 'ماينفعش',\n",
              " 'حسبش',\n",
              " 'ناج',\n",
              " 'ظلم',\n",
              " 'ناج',\n",
              " 'ظرف',\n",
              " 'تعب',\n",
              " 'عين',\n",
              " 'تعب',\n",
              " 'صدق',\n",
              " 'ازم',\n",
              " 'سند',\n",
              " 'تسب',\n",
              " 'حسب',\n",
              " 'رقم',\n",
              " 'رقم',\n",
              " 'اخر',\n",
              " 'خمس',\n",
              " 'ناج',\n",
              " 'بيئ',\n",
              " 'ظمه',\n",
              " 'نظر',\n",
              " 'لالانماط',\n",
              " 'سلك',\n",
              " 'علي',\n",
              " 'نظم',\n",
              " 'قدر',\n",
              " 'قلل',\n",
              " 'نظم',\n",
              " 'فأن',\n",
              " 'اكن',\n",
              " 'بمل',\n",
              " 'لنس',\n",
              " 'خشش',\n",
              " 'كبي',\n",
              " 'تستر',\n",
              " 'ترتب',\n",
              " 'كبه',\n",
              " 'ورا',\n",
              " 'مرت',\n",
              " 'ترص',\n",
              " 'رصص',\n",
              " 'تعب',\n",
              " 'عرفش',\n",
              " 'قعد',\n",
              " 'رصص',\n",
              " 'نسق',\n",
              " 'فأن',\n",
              " 'بعش',\n",
              " 'بيئ',\n",
              " 'ظمه',\n",
              " 'غلط',\n",
              " 'خسر',\n",
              " 'اقي',\n",
              " 'ضيع',\n",
              " 'رجي',\n",
              " 'وقت',\n",
              " 'ادر',\n",
              " 'نظم',\n",
              " 'عرف',\n",
              " 'وصل',\n",
              " 'سهل',\n",
              " 'فإن',\n",
              " 'نظم',\n",
              " 'بيئ',\n",
              " 'كسبل',\n",
              " 'لالاحتياج',\n",
              " 'اما',\n",
              " 'ورق',\n",
              " 'اما',\n",
              " 'دوت',\n",
              " 'ضيعش',\n",
              " 'بحث',\n",
              " 'حتج',\n",
              " 'شهد',\n",
              " 'نظم',\n",
              " 'رتب',\n",
              " 'فرق',\n",
              " 'نفس',\n",
              " 'شتغل',\n",
              " 'اقل',\n",
              " 'تقل',\n",
              " 'اقل',\n",
              " 'هره',\n",
              " 'ديليش',\n",
              " 'عمل',\n",
              " 'خوت',\n",
              " 'عرف',\n",
              " 'سهل',\n",
              " 'رتب',\n",
              " 'وأن',\n",
              " 'عمل',\n",
              " 'خدم',\n",
              " 'تفق',\n",
              " 'ديل',\n",
              " 'كولابوريشن',\n",
              " 'نقط',\n",
              " 'قوت',\n",
              " 'هسعد',\n",
              " 'وأن',\n",
              " 'نقط',\n",
              " 'قوت',\n",
              " 'هتساعد',\n",
              " 'رمش',\n",
              " 'ريب',\n",
              " 'نظم',\n",
              " 'ريب',\n",
              " 'نظم',\n",
              " 'خطو',\n",
              " 'ويه',\n",
              " 'بسط',\n",
              " 'احا',\n",
              " 'نظم',\n",
              " 'بيئ',\n",
              " 'هيئ',\n",
              " 'نظم',\n",
              " 'مثل',\n",
              " 'خدم',\n",
              " 'مالهمش',\n",
              " 'وكس',\n",
              " 'جمع',\n",
              " 'فمم',\n",
              " 'وكس',\n",
              " 'كتب',\n",
              " 'سمي',\n",
              " 'تحط',\n",
              " 'وكس',\n",
              " 'وكس',\n",
              " 'كتب',\n",
              " 'سمي',\n",
              " 'رصص',\n",
              " 'ارم',\n",
              " 'وكس',\n",
              " 'نطر',\n",
              " ...]"
            ]
          },
          "execution_count": 200,
          "metadata": {},
          "output_type": "execute_result"
        }
      ],
      "source": [
        "stemmer = ISRIStemmer()\n",
        "df['stemmed_tokens'] = df['tokens_no_stop_additional'].apply(lambda tokens: [stemmer.stem(token) for token in tokens])\n",
        "df['stemmed_tokens'][0]"
      ]
    },
    {
      "cell_type": "code",
      "execution_count": null,
      "metadata": {
        "vscode": {
          "languageId": "powershell"
        }
      },
      "outputs": [],
      "source": [
        "db = MorphologyDB.builtin_db('calima-msa-r13', flags='a')\n",
        "analyzer = Analyzer(db)\n",
        "\n",
        "def get_lemma(word):\n",
        "    analyses = analyzer.analyze(word)\n",
        "    if analyses:\n",
        "        return analyses[0].get('lemma', word)\n",
        "    return word\n",
        "def lemmatize_tokens(tokens):\n",
        "    \"\"\"\n",
        "    Given a list of tokens (from your 'tokens_no_stop' column),\n",
        "    apply lemmatization to each token and return the list of lemmas.\n",
        "    \"\"\"\n",
        "    return [get_lemma(token) for token in tokens]\n",
        "\n",
        "df['lemmatized_tokens'] = df['tokens_no_stop_additional'].apply(lemmatize_tokens)\n"
      ]
    },
    {
      "cell_type": "markdown",
      "metadata": {},
      "source": [
        "**Comparision between stemming and lemmatization with Manual inspection**"
      ]
    },
    {
      "cell_type": "code",
      "execution_count": null,
      "metadata": {
        "vscode": {
          "languageId": "powershell"
        }
      },
      "outputs": [
        {
          "name": "stdout",
          "output_type": "stream",
          "text": [
            "Original tokens (from tokens_no_stop_additional):\n"
          ]
        },
        {
          "ename": "KeyError",
          "evalue": "'tokens_no_stop_additional'",
          "output_type": "error",
          "traceback": [
            "\u001b[1;31m---------------------------------------------------------------------------\u001b[0m",
            "\u001b[1;31mKeyError\u001b[0m                                  Traceback (most recent call last)",
            "File \u001b[1;32mc:\\Users\\Ahmed Labib\\AppData\\Local\\Programs\\Python\\Python312\\Lib\\site-packages\\pandas\\core\\indexes\\base.py:3805\u001b[0m, in \u001b[0;36mIndex.get_loc\u001b[1;34m(self, key)\u001b[0m\n\u001b[0;32m   3804\u001b[0m \u001b[38;5;28;01mtry\u001b[39;00m:\n\u001b[1;32m-> 3805\u001b[0m     \u001b[38;5;28;01mreturn\u001b[39;00m \u001b[38;5;28;43mself\u001b[39;49m\u001b[38;5;241;43m.\u001b[39;49m\u001b[43m_engine\u001b[49m\u001b[38;5;241;43m.\u001b[39;49m\u001b[43mget_loc\u001b[49m\u001b[43m(\u001b[49m\u001b[43mcasted_key\u001b[49m\u001b[43m)\u001b[49m\n\u001b[0;32m   3806\u001b[0m \u001b[38;5;28;01mexcept\u001b[39;00m \u001b[38;5;167;01mKeyError\u001b[39;00m \u001b[38;5;28;01mas\u001b[39;00m err:\n",
            "File \u001b[1;32mindex.pyx:167\u001b[0m, in \u001b[0;36mpandas._libs.index.IndexEngine.get_loc\u001b[1;34m()\u001b[0m\n",
            "File \u001b[1;32mindex.pyx:196\u001b[0m, in \u001b[0;36mpandas._libs.index.IndexEngine.get_loc\u001b[1;34m()\u001b[0m\n",
            "File \u001b[1;32mpandas\\\\_libs\\\\hashtable_class_helper.pxi:7081\u001b[0m, in \u001b[0;36mpandas._libs.hashtable.PyObjectHashTable.get_item\u001b[1;34m()\u001b[0m\n",
            "File \u001b[1;32mpandas\\\\_libs\\\\hashtable_class_helper.pxi:7089\u001b[0m, in \u001b[0;36mpandas._libs.hashtable.PyObjectHashTable.get_item\u001b[1;34m()\u001b[0m\n",
            "\u001b[1;31mKeyError\u001b[0m: 'tokens_no_stop_additional'",
            "\nThe above exception was the direct cause of the following exception:\n",
            "\u001b[1;31mKeyError\u001b[0m                                  Traceback (most recent call last)",
            "Cell \u001b[1;32mIn[52], line 2\u001b[0m\n\u001b[0;32m      1\u001b[0m \u001b[38;5;28mprint\u001b[39m(\u001b[38;5;124m\"\u001b[39m\u001b[38;5;124mOriginal tokens (from tokens_no_stop_additional):\u001b[39m\u001b[38;5;124m\"\u001b[39m)\n\u001b[1;32m----> 2\u001b[0m \u001b[38;5;28mprint\u001b[39m(\u001b[43mdf\u001b[49m\u001b[38;5;241;43m.\u001b[39;49m\u001b[43mloc\u001b[49m\u001b[43m[\u001b[49m\u001b[38;5;241;43m0\u001b[39;49m\u001b[43m,\u001b[49m\u001b[43m \u001b[49m\u001b[38;5;124;43m'\u001b[39;49m\u001b[38;5;124;43mtokens_no_stop_additional\u001b[39;49m\u001b[38;5;124;43m'\u001b[39;49m\u001b[43m]\u001b[49m)\n\u001b[0;32m      4\u001b[0m \u001b[38;5;28mprint\u001b[39m(\u001b[38;5;124m\"\u001b[39m\u001b[38;5;130;01m\\n\u001b[39;00m\u001b[38;5;124mStemmed tokens:\u001b[39m\u001b[38;5;124m\"\u001b[39m)\n\u001b[0;32m      5\u001b[0m \u001b[38;5;28mprint\u001b[39m(df\u001b[38;5;241m.\u001b[39mloc[\u001b[38;5;241m0\u001b[39m, \u001b[38;5;124m'\u001b[39m\u001b[38;5;124mstemmed_tokens\u001b[39m\u001b[38;5;124m'\u001b[39m])\n",
            "File \u001b[1;32mc:\\Users\\Ahmed Labib\\AppData\\Local\\Programs\\Python\\Python312\\Lib\\site-packages\\pandas\\core\\indexing.py:1183\u001b[0m, in \u001b[0;36m_LocationIndexer.__getitem__\u001b[1;34m(self, key)\u001b[0m\n\u001b[0;32m   1181\u001b[0m     key \u001b[38;5;241m=\u001b[39m \u001b[38;5;28mtuple\u001b[39m(com\u001b[38;5;241m.\u001b[39mapply_if_callable(x, \u001b[38;5;28mself\u001b[39m\u001b[38;5;241m.\u001b[39mobj) \u001b[38;5;28;01mfor\u001b[39;00m x \u001b[38;5;129;01min\u001b[39;00m key)\n\u001b[0;32m   1182\u001b[0m     \u001b[38;5;28;01mif\u001b[39;00m \u001b[38;5;28mself\u001b[39m\u001b[38;5;241m.\u001b[39m_is_scalar_access(key):\n\u001b[1;32m-> 1183\u001b[0m         \u001b[38;5;28;01mreturn\u001b[39;00m \u001b[38;5;28;43mself\u001b[39;49m\u001b[38;5;241;43m.\u001b[39;49m\u001b[43mobj\u001b[49m\u001b[38;5;241;43m.\u001b[39;49m\u001b[43m_get_value\u001b[49m\u001b[43m(\u001b[49m\u001b[38;5;241;43m*\u001b[39;49m\u001b[43mkey\u001b[49m\u001b[43m,\u001b[49m\u001b[43m \u001b[49m\u001b[43mtakeable\u001b[49m\u001b[38;5;241;43m=\u001b[39;49m\u001b[38;5;28;43mself\u001b[39;49m\u001b[38;5;241;43m.\u001b[39;49m\u001b[43m_takeable\u001b[49m\u001b[43m)\u001b[49m\n\u001b[0;32m   1184\u001b[0m     \u001b[38;5;28;01mreturn\u001b[39;00m \u001b[38;5;28mself\u001b[39m\u001b[38;5;241m.\u001b[39m_getitem_tuple(key)\n\u001b[0;32m   1185\u001b[0m \u001b[38;5;28;01melse\u001b[39;00m:\n\u001b[0;32m   1186\u001b[0m     \u001b[38;5;66;03m# we by definition only have the 0th axis\u001b[39;00m\n",
            "File \u001b[1;32mc:\\Users\\Ahmed Labib\\AppData\\Local\\Programs\\Python\\Python312\\Lib\\site-packages\\pandas\\core\\frame.py:4202\u001b[0m, in \u001b[0;36mDataFrame._get_value\u001b[1;34m(self, index, col, takeable)\u001b[0m\n\u001b[0;32m   4199\u001b[0m     series \u001b[38;5;241m=\u001b[39m \u001b[38;5;28mself\u001b[39m\u001b[38;5;241m.\u001b[39m_ixs(col, axis\u001b[38;5;241m=\u001b[39m\u001b[38;5;241m1\u001b[39m)\n\u001b[0;32m   4200\u001b[0m     \u001b[38;5;28;01mreturn\u001b[39;00m series\u001b[38;5;241m.\u001b[39m_values[index]\n\u001b[1;32m-> 4202\u001b[0m series \u001b[38;5;241m=\u001b[39m \u001b[38;5;28;43mself\u001b[39;49m\u001b[38;5;241;43m.\u001b[39;49m\u001b[43m_get_item_cache\u001b[49m\u001b[43m(\u001b[49m\u001b[43mcol\u001b[49m\u001b[43m)\u001b[49m\n\u001b[0;32m   4203\u001b[0m engine \u001b[38;5;241m=\u001b[39m \u001b[38;5;28mself\u001b[39m\u001b[38;5;241m.\u001b[39mindex\u001b[38;5;241m.\u001b[39m_engine\n\u001b[0;32m   4205\u001b[0m \u001b[38;5;28;01mif\u001b[39;00m \u001b[38;5;129;01mnot\u001b[39;00m \u001b[38;5;28misinstance\u001b[39m(\u001b[38;5;28mself\u001b[39m\u001b[38;5;241m.\u001b[39mindex, MultiIndex):\n\u001b[0;32m   4206\u001b[0m     \u001b[38;5;66;03m# CategoricalIndex: Trying to use the engine fastpath may give incorrect\u001b[39;00m\n\u001b[0;32m   4207\u001b[0m     \u001b[38;5;66;03m#  results if our categories are integers that dont match our codes\u001b[39;00m\n\u001b[0;32m   4208\u001b[0m     \u001b[38;5;66;03m# IntervalIndex: IntervalTree has no get_loc\u001b[39;00m\n",
            "File \u001b[1;32mc:\\Users\\Ahmed Labib\\AppData\\Local\\Programs\\Python\\Python312\\Lib\\site-packages\\pandas\\core\\frame.py:4626\u001b[0m, in \u001b[0;36mDataFrame._get_item_cache\u001b[1;34m(self, item)\u001b[0m\n\u001b[0;32m   4621\u001b[0m res \u001b[38;5;241m=\u001b[39m cache\u001b[38;5;241m.\u001b[39mget(item)\n\u001b[0;32m   4622\u001b[0m \u001b[38;5;28;01mif\u001b[39;00m res \u001b[38;5;129;01mis\u001b[39;00m \u001b[38;5;28;01mNone\u001b[39;00m:\n\u001b[0;32m   4623\u001b[0m     \u001b[38;5;66;03m# All places that call _get_item_cache have unique columns,\u001b[39;00m\n\u001b[0;32m   4624\u001b[0m     \u001b[38;5;66;03m#  pending resolution of GH#33047\u001b[39;00m\n\u001b[1;32m-> 4626\u001b[0m     loc \u001b[38;5;241m=\u001b[39m \u001b[38;5;28;43mself\u001b[39;49m\u001b[38;5;241;43m.\u001b[39;49m\u001b[43mcolumns\u001b[49m\u001b[38;5;241;43m.\u001b[39;49m\u001b[43mget_loc\u001b[49m\u001b[43m(\u001b[49m\u001b[43mitem\u001b[49m\u001b[43m)\u001b[49m\n\u001b[0;32m   4627\u001b[0m     res \u001b[38;5;241m=\u001b[39m \u001b[38;5;28mself\u001b[39m\u001b[38;5;241m.\u001b[39m_ixs(loc, axis\u001b[38;5;241m=\u001b[39m\u001b[38;5;241m1\u001b[39m)\n\u001b[0;32m   4629\u001b[0m     cache[item] \u001b[38;5;241m=\u001b[39m res\n",
            "File \u001b[1;32mc:\\Users\\Ahmed Labib\\AppData\\Local\\Programs\\Python\\Python312\\Lib\\site-packages\\pandas\\core\\indexes\\base.py:3812\u001b[0m, in \u001b[0;36mIndex.get_loc\u001b[1;34m(self, key)\u001b[0m\n\u001b[0;32m   3807\u001b[0m     \u001b[38;5;28;01mif\u001b[39;00m \u001b[38;5;28misinstance\u001b[39m(casted_key, \u001b[38;5;28mslice\u001b[39m) \u001b[38;5;129;01mor\u001b[39;00m (\n\u001b[0;32m   3808\u001b[0m         \u001b[38;5;28misinstance\u001b[39m(casted_key, abc\u001b[38;5;241m.\u001b[39mIterable)\n\u001b[0;32m   3809\u001b[0m         \u001b[38;5;129;01mand\u001b[39;00m \u001b[38;5;28many\u001b[39m(\u001b[38;5;28misinstance\u001b[39m(x, \u001b[38;5;28mslice\u001b[39m) \u001b[38;5;28;01mfor\u001b[39;00m x \u001b[38;5;129;01min\u001b[39;00m casted_key)\n\u001b[0;32m   3810\u001b[0m     ):\n\u001b[0;32m   3811\u001b[0m         \u001b[38;5;28;01mraise\u001b[39;00m InvalidIndexError(key)\n\u001b[1;32m-> 3812\u001b[0m     \u001b[38;5;28;01mraise\u001b[39;00m \u001b[38;5;167;01mKeyError\u001b[39;00m(key) \u001b[38;5;28;01mfrom\u001b[39;00m \u001b[38;5;21;01merr\u001b[39;00m\n\u001b[0;32m   3813\u001b[0m \u001b[38;5;28;01mexcept\u001b[39;00m \u001b[38;5;167;01mTypeError\u001b[39;00m:\n\u001b[0;32m   3814\u001b[0m     \u001b[38;5;66;03m# If we have a listlike key, _check_indexing_error will raise\u001b[39;00m\n\u001b[0;32m   3815\u001b[0m     \u001b[38;5;66;03m#  InvalidIndexError. Otherwise we fall through and re-raise\u001b[39;00m\n\u001b[0;32m   3816\u001b[0m     \u001b[38;5;66;03m#  the TypeError.\u001b[39;00m\n\u001b[0;32m   3817\u001b[0m     \u001b[38;5;28mself\u001b[39m\u001b[38;5;241m.\u001b[39m_check_indexing_error(key)\n",
            "\u001b[1;31mKeyError\u001b[0m: 'tokens_no_stop_additional'"
          ]
        }
      ],
      "source": [
        "print(\"Original tokens (from tokens_no_stop_additional):\")\n",
        "print(df.loc[0, 'tokens_no_stop_additional'])\n",
        "\n",
        "print(\"\\nStemmed tokens:\")\n",
        "print(df.loc[0, 'stemmed_tokens'])\n",
        "\n",
        "\n",
        "print(\"\\nLemmatized tokens:\")\n",
        "print(df.loc[0, 'lemmatized_tokens'])"
      ]
    },
    {
      "cell_type": "markdown",
      "metadata": {},
      "source": [
        "**Comparision using vocabulary size**"
      ]
    },
    {
      "cell_type": "code",
      "execution_count": null,
      "metadata": {
        "vscode": {
          "languageId": "powershell"
        }
      },
      "outputs": [],
      "source": [
        "def vocab_size(tokens):\n",
        "    vocab = set(tokens)\n",
        "    token_freq = Counter(tokens)\n",
        "    print(\"Vocabulary size:\", len(vocab))\n",
        "    print(\"Top 10 most frequent lemmas:\", token_freq.most_common(10))"
      ]
    },
    {
      "cell_type": "code",
      "execution_count": null,
      "metadata": {
        "vscode": {
          "languageId": "powershell"
        }
      },
      "outputs": [
        {
          "name": "stdout",
          "output_type": "stream",
          "text": [
            "Vocabulary size: 35014\n",
            "Top 10 most frequent lemmas: [('الإنسان', 338), ('وأنا', 310), ('وأنت', 232), ('؟', 206), ('فأنا', 187), ('الآخر', 176), ('لالله', 171), ('أقول', 162), ('أكبر', 158), ('أعمل', 150)]\n"
          ]
        }
      ],
      "source": [
        "all_tokens = [token for tokens in df['tokens_no_stop_additional'] for token in tokens]\n",
        "vocab_size(all_tokens)"
      ]
    },
    {
      "cell_type": "code",
      "execution_count": null,
      "metadata": {
        "vscode": {
          "languageId": "powershell"
        }
      },
      "outputs": [
        {
          "name": "stdout",
          "output_type": "stream",
          "text": [
            "Vocabulary size: 10109\n",
            "Top 10 most frequent lemmas: [('عمل', 899), ('امر', 799), ('وأن', 563), ('انس', 454), ('علم', 382), ('عرف', 357), ('اخر', 346), ('سلم', 345), ('جمع', 322), ('فكر', 315)]\n"
          ]
        }
      ],
      "source": [
        "all_stemmed_tokens = [token for tokens in df['stemmed_tokens'] for token in tokens]\n",
        "vocab_size(all_stemmed_tokens)"
      ]
    },
    {
      "cell_type": "code",
      "execution_count": null,
      "metadata": {
        "vscode": {
          "languageId": "powershell"
        }
      },
      "outputs": [
        {
          "name": "stdout",
          "output_type": "stream",
          "text": [
            "Vocabulary size: 35014\n",
            "Top 10 most frequent lemmas: [('الإنسان', 338), ('وأنا', 310), ('وأنت', 232), ('؟', 206), ('فأنا', 187), ('الآخر', 176), ('لالله', 171), ('أقول', 162), ('أكبر', 158), ('أعمل', 150)]\n"
          ]
        }
      ],
      "source": [
        "all_lemmatized_tokens = [token for tokens in df['lemmatized_tokens'] for token in tokens]\n",
        "vocab_size(all_lemmatized_tokens)"
      ]
    },
    {
      "cell_type": "markdown",
      "metadata": {},
      "source": [
        "**Comparision using impact on future tasks**"
      ]
    },
    {
      "cell_type": "code",
      "execution_count": null,
      "metadata": {
        "vscode": {
          "languageId": "powershell"
        }
      },
      "outputs": [
        {
          "name": "stdout",
          "output_type": "stream",
          "text": [
            "Results using stemmed text:\n",
            "accuracy:\n",
            "0.8666666666666667\n",
            "----------------------------------------\n",
            "precision:\n",
            "0.8883333333333333\n",
            "----------------------------------------\n",
            "recall:\n",
            "0.8666666666666667\n",
            "----------------------------------------\n",
            "f1:\n",
            "0.8503703703703703\n",
            "----------------------------------------\n",
            "classification_report:\n",
            "                precision    recall  f1-score   support\n",
            "\n",
            "     Education       0.88      1.00      0.93         7\n",
            " Entertainment       0.80      1.00      0.89         4\n",
            "People & Blogs       1.00      0.50      0.67         4\n",
            "\n",
            "      accuracy                           0.87        15\n",
            "     macro avg       0.89      0.83      0.83        15\n",
            "  weighted avg       0.89      0.87      0.85        15\n",
            "\n",
            "----------------------------------------\n",
            "confusion_matrix:\n",
            "[[7 0 0]\n",
            " [0 4 0]\n",
            " [1 1 2]]\n",
            "----------------------------------------\n",
            "Results using lemmatized text:\n",
            "accuracy:\n",
            "0.8666666666666667\n",
            "----------------------------------------\n",
            "precision:\n",
            "0.8883333333333333\n",
            "----------------------------------------\n",
            "recall:\n",
            "0.8666666666666667\n",
            "----------------------------------------\n",
            "f1:\n",
            "0.8503703703703703\n",
            "----------------------------------------\n",
            "classification_report:\n",
            "                precision    recall  f1-score   support\n",
            "\n",
            "     Education       0.88      1.00      0.93         7\n",
            " Entertainment       0.80      1.00      0.89         4\n",
            "People & Blogs       1.00      0.50      0.67         4\n",
            "\n",
            "      accuracy                           0.87        15\n",
            "     macro avg       0.89      0.83      0.83        15\n",
            "  weighted avg       0.89      0.87      0.85        15\n",
            "\n",
            "----------------------------------------\n",
            "confusion_matrix:\n",
            "[[7 0 0]\n",
            " [0 4 0]\n",
            " [1 1 2]]\n",
            "----------------------------------------\n"
          ]
        }
      ],
      "source": [
        "from sklearn.metrics import accuracy_score, precision_score, recall_score, f1_score, classification_report, confusion_matrix\n",
        "\n",
        "def evaluate_model(text_column):\n",
        "    X = df[text_column]\n",
        "    if isinstance(X.iloc[0], list):\n",
        "        X = X.apply(lambda tokens: \" \".join(tokens))  \n",
        "    y = df['category']\n",
        "    X_train, X_test, y_train, y_test = train_test_split(X, y, test_size=0.2, random_state=42)\n",
        "    vectorizer = TfidfVectorizer(max_features=5000, ngram_range=(1, 2))\n",
        "    X_train_vec = vectorizer.fit_transform(X_train)\n",
        "    X_test_vec = vectorizer.transform(X_test)\n",
        "    clf = LogisticRegression(max_iter=1000, random_state=42)\n",
        "    clf.fit(X_train_vec, y_train)\n",
        "    \n",
        "    y_pred = clf.predict(X_test_vec)\n",
        "    \n",
        "    acc = accuracy_score(y_test, y_pred)\n",
        "    prec = precision_score(y_test, y_pred, average='weighted')\n",
        "    rec = recall_score(y_test, y_pred, average='weighted')\n",
        "    f1 = f1_score(y_test, y_pred, average='weighted')\n",
        "    cls_report = classification_report(y_test, y_pred)\n",
        "    conf_matrix = confusion_matrix(y_test, y_pred)\n",
        "    \n",
        "    results = {\n",
        "        \"accuracy\": acc,\n",
        "        \"precision\": prec,\n",
        "        \"recall\": rec,\n",
        "        \"f1\": f1,\n",
        "        \"classification_report\": cls_report,\n",
        "        \"confusion_matrix\": conf_matrix\n",
        "    }\n",
        "    \n",
        "    return results\n",
        "\n",
        "\n",
        "stemmed_results = evaluate_model('stemmed_tokens')\n",
        "lemmatized_results = evaluate_model('lemmatized_tokens')\n",
        "\n",
        "print(\"Results using stemmed text:\")\n",
        "for metric, value in stemmed_results.items():\n",
        "    print(f\"{metric}:\")\n",
        "    print(value)\n",
        "    print(\"-\" * 40)\n",
        "\n",
        "print(\"Results using lemmatized text:\")\n",
        "for metric, value in lemmatized_results.items():\n",
        "    print(f\"{metric}:\")\n",
        "    print(value)\n",
        "    print(\"-\" * 40)\n"
      ]
    },
    {
      "cell_type": "markdown",
      "metadata": {
        "vscode": {
          "languageId": "powershell"
        }
      },
      "source": [
        "### More Analysis"
      ]
    },
    {
      "cell_type": "markdown",
      "metadata": {},
      "source": [
        "**Document length distribution**"
      ]
    },
    {
      "cell_type": "code",
      "execution_count": null,
      "metadata": {},
      "outputs": [
        {
          "data": {
            "text/plain": [
              "Index(['title', 'channel', 'category', 'transcript', 'raw_length',\n",
              "       'clean_transcript', 'bert_tokens', 'farasa_tokens', 'total_tokens',\n",
              "       'tokens_no_stop', 'total_tokens_no_stop', 'tokens_no_stop_additional',\n",
              "       'total_tokens_no_stop_custom', 'stemmed_tokens', 'lemmatized_tokens'],\n",
              "      dtype='object')"
            ]
          },
          "execution_count": 59,
          "metadata": {},
          "output_type": "execute_result"
        }
      ],
      "source": [
        "df.columns"
      ]
    },
    {
      "cell_type": "markdown",
      "metadata": {},
      "source": [
        "#### Tf Idf"
      ]
    },
    {
      "cell_type": "markdown",
      "metadata": {},
      "source": [
        "**Generating the TF-IDF matrix**"
      ]
    },
    {
      "cell_type": "code",
      "execution_count": null,
      "metadata": {},
      "outputs": [
        {
          "ename": "KeyError",
          "evalue": "'stemmed_tokens'",
          "output_type": "error",
          "traceback": [
            "\u001b[1;31m---------------------------------------------------------------------------\u001b[0m",
            "\u001b[1;31mKeyError\u001b[0m                                  Traceback (most recent call last)",
            "File \u001b[1;32mc:\\Users\\Ahmed Labib\\AppData\\Local\\Programs\\Python\\Python312\\Lib\\site-packages\\pandas\\core\\indexes\\base.py:3805\u001b[0m, in \u001b[0;36mIndex.get_loc\u001b[1;34m(self, key)\u001b[0m\n\u001b[0;32m   3804\u001b[0m \u001b[38;5;28;01mtry\u001b[39;00m:\n\u001b[1;32m-> 3805\u001b[0m     \u001b[38;5;28;01mreturn\u001b[39;00m \u001b[38;5;28;43mself\u001b[39;49m\u001b[38;5;241;43m.\u001b[39;49m\u001b[43m_engine\u001b[49m\u001b[38;5;241;43m.\u001b[39;49m\u001b[43mget_loc\u001b[49m\u001b[43m(\u001b[49m\u001b[43mcasted_key\u001b[49m\u001b[43m)\u001b[49m\n\u001b[0;32m   3806\u001b[0m \u001b[38;5;28;01mexcept\u001b[39;00m \u001b[38;5;167;01mKeyError\u001b[39;00m \u001b[38;5;28;01mas\u001b[39;00m err:\n",
            "File \u001b[1;32mindex.pyx:167\u001b[0m, in \u001b[0;36mpandas._libs.index.IndexEngine.get_loc\u001b[1;34m()\u001b[0m\n",
            "File \u001b[1;32mindex.pyx:196\u001b[0m, in \u001b[0;36mpandas._libs.index.IndexEngine.get_loc\u001b[1;34m()\u001b[0m\n",
            "File \u001b[1;32mpandas\\\\_libs\\\\hashtable_class_helper.pxi:7081\u001b[0m, in \u001b[0;36mpandas._libs.hashtable.PyObjectHashTable.get_item\u001b[1;34m()\u001b[0m\n",
            "File \u001b[1;32mpandas\\\\_libs\\\\hashtable_class_helper.pxi:7089\u001b[0m, in \u001b[0;36mpandas._libs.hashtable.PyObjectHashTable.get_item\u001b[1;34m()\u001b[0m\n",
            "\u001b[1;31mKeyError\u001b[0m: 'stemmed_tokens'",
            "\nThe above exception was the direct cause of the following exception:\n",
            "\u001b[1;31mKeyError\u001b[0m                                  Traceback (most recent call last)",
            "Cell \u001b[1;32mIn[45], line 1\u001b[0m\n\u001b[1;32m----> 1\u001b[0m df[\u001b[38;5;124m'\u001b[39m\u001b[38;5;124mprocessed_text\u001b[39m\u001b[38;5;124m'\u001b[39m] \u001b[38;5;241m=\u001b[39m \u001b[43mdf\u001b[49m\u001b[43m[\u001b[49m\u001b[38;5;124;43m'\u001b[39;49m\u001b[38;5;124;43mstemmed_tokens\u001b[39;49m\u001b[38;5;124;43m'\u001b[39;49m\u001b[43m]\u001b[49m\u001b[38;5;241m.\u001b[39mapply(\u001b[38;5;28;01mlambda\u001b[39;00m tokens: \u001b[38;5;124m\"\u001b[39m\u001b[38;5;124m \u001b[39m\u001b[38;5;124m\"\u001b[39m\u001b[38;5;241m.\u001b[39mjoin(tokens))\n\u001b[0;32m      2\u001b[0m tfidf_vectorizer \u001b[38;5;241m=\u001b[39m TfidfVectorizer(max_features\u001b[38;5;241m=\u001b[39m\u001b[38;5;241m5000\u001b[39m, ngram_range\u001b[38;5;241m=\u001b[39m(\u001b[38;5;241m1\u001b[39m,\u001b[38;5;241m2\u001b[39m))\n\u001b[0;32m      3\u001b[0m X_tfidf \u001b[38;5;241m=\u001b[39m tfidf_vectorizer\u001b[38;5;241m.\u001b[39mfit_transform(df[\u001b[38;5;124m'\u001b[39m\u001b[38;5;124mprocessed_text\u001b[39m\u001b[38;5;124m'\u001b[39m])\n",
            "File \u001b[1;32mc:\\Users\\Ahmed Labib\\AppData\\Local\\Programs\\Python\\Python312\\Lib\\site-packages\\pandas\\core\\frame.py:4090\u001b[0m, in \u001b[0;36mDataFrame.__getitem__\u001b[1;34m(self, key)\u001b[0m\n\u001b[0;32m   4088\u001b[0m \u001b[38;5;28;01mif\u001b[39;00m \u001b[38;5;28mself\u001b[39m\u001b[38;5;241m.\u001b[39mcolumns\u001b[38;5;241m.\u001b[39mnlevels \u001b[38;5;241m>\u001b[39m \u001b[38;5;241m1\u001b[39m:\n\u001b[0;32m   4089\u001b[0m     \u001b[38;5;28;01mreturn\u001b[39;00m \u001b[38;5;28mself\u001b[39m\u001b[38;5;241m.\u001b[39m_getitem_multilevel(key)\n\u001b[1;32m-> 4090\u001b[0m indexer \u001b[38;5;241m=\u001b[39m \u001b[38;5;28;43mself\u001b[39;49m\u001b[38;5;241;43m.\u001b[39;49m\u001b[43mcolumns\u001b[49m\u001b[38;5;241;43m.\u001b[39;49m\u001b[43mget_loc\u001b[49m\u001b[43m(\u001b[49m\u001b[43mkey\u001b[49m\u001b[43m)\u001b[49m\n\u001b[0;32m   4091\u001b[0m \u001b[38;5;28;01mif\u001b[39;00m is_integer(indexer):\n\u001b[0;32m   4092\u001b[0m     indexer \u001b[38;5;241m=\u001b[39m [indexer]\n",
            "File \u001b[1;32mc:\\Users\\Ahmed Labib\\AppData\\Local\\Programs\\Python\\Python312\\Lib\\site-packages\\pandas\\core\\indexes\\base.py:3812\u001b[0m, in \u001b[0;36mIndex.get_loc\u001b[1;34m(self, key)\u001b[0m\n\u001b[0;32m   3807\u001b[0m     \u001b[38;5;28;01mif\u001b[39;00m \u001b[38;5;28misinstance\u001b[39m(casted_key, \u001b[38;5;28mslice\u001b[39m) \u001b[38;5;129;01mor\u001b[39;00m (\n\u001b[0;32m   3808\u001b[0m         \u001b[38;5;28misinstance\u001b[39m(casted_key, abc\u001b[38;5;241m.\u001b[39mIterable)\n\u001b[0;32m   3809\u001b[0m         \u001b[38;5;129;01mand\u001b[39;00m \u001b[38;5;28many\u001b[39m(\u001b[38;5;28misinstance\u001b[39m(x, \u001b[38;5;28mslice\u001b[39m) \u001b[38;5;28;01mfor\u001b[39;00m x \u001b[38;5;129;01min\u001b[39;00m casted_key)\n\u001b[0;32m   3810\u001b[0m     ):\n\u001b[0;32m   3811\u001b[0m         \u001b[38;5;28;01mraise\u001b[39;00m InvalidIndexError(key)\n\u001b[1;32m-> 3812\u001b[0m     \u001b[38;5;28;01mraise\u001b[39;00m \u001b[38;5;167;01mKeyError\u001b[39;00m(key) \u001b[38;5;28;01mfrom\u001b[39;00m \u001b[38;5;21;01merr\u001b[39;00m\n\u001b[0;32m   3813\u001b[0m \u001b[38;5;28;01mexcept\u001b[39;00m \u001b[38;5;167;01mTypeError\u001b[39;00m:\n\u001b[0;32m   3814\u001b[0m     \u001b[38;5;66;03m# If we have a listlike key, _check_indexing_error will raise\u001b[39;00m\n\u001b[0;32m   3815\u001b[0m     \u001b[38;5;66;03m#  InvalidIndexError. Otherwise we fall through and re-raise\u001b[39;00m\n\u001b[0;32m   3816\u001b[0m     \u001b[38;5;66;03m#  the TypeError.\u001b[39;00m\n\u001b[0;32m   3817\u001b[0m     \u001b[38;5;28mself\u001b[39m\u001b[38;5;241m.\u001b[39m_check_indexing_error(key)\n",
            "\u001b[1;31mKeyError\u001b[0m: 'stemmed_tokens'"
          ]
        }
      ],
      "source": [
        "df['processed_text'] = df['stemmed_tokens'].apply(lambda tokens: \" \".join(tokens))\n",
        "tfidf_vectorizer = TfidfVectorizer(max_features=5000, ngram_range=(1,2))\n",
        "X_tfidf = tfidf_vectorizer.fit_transform(df['processed_text'])\n",
        "print(\"TF-IDF matrix shape:\", X_tfidf.shape)\n",
        "feature_names = tfidf_vectorizer.get_feature_names_out()"
      ]
    },
    {
      "cell_type": "markdown",
      "metadata": {},
      "source": [
        "**Analysing the top 5 tf idf scores for each document**"
      ]
    },
    {
      "cell_type": "code",
      "execution_count": null,
      "metadata": {},
      "outputs": [
        {
          "name": "stdout",
          "output_type": "stream",
          "text": [
            "Document 0:\n",
            "title: أكبر كذبة في التاريخ _ وهم الانتاجية! - _ بودكاست بهدوء مع كريم _ جلسة 19\n",
            "  ناج: 0.5762\n",
            "  وكس: 0.1332\n",
            "  نظم: 0.1328\n",
            "  سوف: 0.1271\n",
            "  عمل: 0.1243\n",
            "------\n",
            "Document 1:\n",
            "title: إزاي ضاعفت دخلي بدون شغل إضافي! - عن الرزق ووسعه _ بودكاست بهدوء مع كريم _ جلسة 21\n",
            "  اكس: 0.4096\n",
            "  عبد: 0.1791\n",
            "  سعى: 0.1650\n",
            "  فقر: 0.1593\n",
            "  رزق: 0.1328\n",
            "------\n",
            "Document 2:\n",
            "title: اخطر محتوى في العالم! _ بودكاست بهدوء مع كريم _ جلسة 13\n",
            "  بحي: 0.3205\n",
            "  ولد: 0.2821\n",
            "  عرض: 0.1700\n",
            "  ادم: 0.1670\n",
            "  فرج: 0.1631\n",
            "------\n",
            "Document 3:\n",
            "title: العيد والنكد - ليه مش بنبسط في العيد؟ _ بودكاست بهدوء مع كريم _ جلسة 4\n",
            "  عيد: 0.7223\n",
            "  بسط: 0.2154\n",
            "  جهد: 0.1522\n",
            "  اضي: 0.1306\n",
            "  لعب: 0.1272\n",
            "------\n",
            "Document 4:\n",
            "title: انا فقير _ اصحابي كلهم أغنى مني! _ بودكاست بهدوء مع كريم _ جلسة 16\n",
            "  عقل: 0.2017\n",
            "  نعم: 0.1967\n",
            "  ورد: 0.1366\n",
            "  خلق: 0.1343\n",
            "  بصش: 0.1263\n",
            "------\n",
            "Document 5:\n",
            "title: تخلص من التعاسة _ بودكاست بهدوء مع كريم _ جلسة 28\n",
            "  عبد: 0.4489\n",
            "  تعس: 0.3086\n",
            "  حرس: 0.1834\n",
            "  عطى: 0.1817\n",
            "  سخط: 0.1389\n",
            "------\n",
            "Document 6:\n",
            "title: تخلص من القلق _ بودكاست بهدوء مع كريم _ جلسة 26\n",
            "  قلق: 0.5740\n",
            "  حفظ: 0.3780\n",
            "  حفظ حفظ: 0.2298\n",
            "  وأن: 0.1600\n",
            "  إعلم: 0.1482\n",
            "------\n",
            "Document 7:\n",
            "title: تخلص من الكلام السلبي والتنمر! _ بودكاست بهدوء مع كريم _ جلسة 17\n",
            "  اذى: 0.3140\n",
            "  سخر: 0.2906\n",
            "  نوح: 0.2420\n",
            "  لذى: 0.2074\n",
            "  وجع: 0.1880\n",
            "------\n",
            "Document 8:\n",
            "title: تخيل الحياة بدون صديق! _ بودكاست بهدوء مع كريم _ جلسة 22\n",
            "  صدق: 0.4591\n",
            "  صحب: 0.2583\n",
            "  صدق صدق: 0.2109\n",
            "  صدقاء: 0.2078\n",
            "  هرم: 0.1366\n",
            "------\n",
            "Document 9:\n",
            "title: حب النبي هيغير فيك إيه؟ _ بودكاست بهدوء مع كريم _ جلسة 24\n",
            "  صلى سلم: 0.5463\n",
            "  صلى: 0.4735\n",
            "  سلم: 0.3433\n",
            "  رسل: 0.2224\n",
            "  بكر: 0.1982\n",
            "------\n",
            "Document 10:\n",
            "title: زدت ٢٠ كيلو بسبب الحسد _ بودكاست بهدوء مع كريم _ جلسة 5\n",
            "  حسد: 0.6325\n",
            "  زهر: 0.2964\n",
            "  نيه: 0.1507\n",
            "  انس: 0.1297\n",
            "  اعن: 0.1253\n",
            "------\n",
            "Document 11:\n",
            "title: عقلية المال والسعادة _ بودكاست بهدوء مع كريم _ جلسة 27\n",
            "  رحه: 0.2245\n",
            "  جسد: 0.2180\n",
            "  انس: 0.2109\n",
            "  غني: 0.2109\n",
            "  روح: 0.2026\n",
            "------\n",
            "Document 12:\n",
            "title: عن وجع الحب ونصائح للجامعة والتخلص من المشاعر السلبية وفقدان الشغف (Q&A) _ بودكاست بهدوء مع كريم\n",
            "  سقط: 0.1924\n",
            "  الم: 0.1862\n",
            "  اجتماعيه: 0.1602\n",
            "  دعم: 0.1520\n",
            "  نكد: 0.1510\n",
            "------\n",
            "Document 13:\n",
            "title: فيديو لن يعجبك!!! كلام صريح واعترافات خاصة عن الحياة المهنية _ بودكاست بهدوء مع كريم _ جلسة 14\n",
            "  هترضى: 0.2264\n",
            "  وأن: 0.1822\n",
            "  كارير: 0.1806\n",
            "  شغل: 0.1674\n",
            "  كورس: 0.1550\n",
            "------\n",
            "Document 14:\n",
            "title: كيف وجدت الله _ الأوقات الصعبة (فضفضة مشاعر) _ بودكاست بهدوء مع كريم _ جلسة 15\n",
            "  اكس: 0.2635\n",
            "  وفق: 0.2097\n",
            "  دبر: 0.1495\n",
            "  عطك: 0.1481\n",
            "  امن: 0.1420\n",
            "------\n",
            "Document 15:\n",
            "title: لا اشعر بالسعادة برمضان! _ بودكاست بهدوء مع كريم _ جلسة 1\n",
            "  امل: 0.4399\n",
            "  وأن: 0.2201\n",
            "  غير: 0.1869\n",
            "  قلب: 0.1681\n",
            "  دعو: 0.1679\n",
            "------\n",
            "Document 16:\n",
            "title: لا تحزن! _ بودكاست بهدوء مع كريم _ جلسة 6\n",
            "  بسط: 0.3149\n",
            "  بسط بسط: 0.3136\n",
            "  انس: 0.2027\n",
            "  هتجيب: 0.1919\n",
            "  يقع طلع: 0.1583\n",
            "------\n",
            "Document 17:\n",
            "title: لا تدمر صحتك النفسية!  الجزء الثاني من ٩ نصائح _ بودكاست بهدوء مع كريم _ جلسة 11\n",
            "  وعي: 0.2396\n",
            "  نصح: 0.2130\n",
            "  تلم: 0.1600\n",
            "  فكر: 0.1541\n",
            "  عبرش: 0.1522\n",
            "------\n",
            "Document 18:\n",
            "title: لماذا نيأس؟ عن فلسفة المثابرة _ بودكاست بهدوء مع كريم _ جلسة 20\n",
            "  فقد: 0.2471\n",
            "  غضب: 0.2442\n",
            "  ياس: 0.2434\n",
            "  زعلش: 0.1845\n",
            "  ظلم: 0.1581\n",
            "------\n",
            "Document 19:\n",
            "title: لماذا يفشل الشطار؟ _ بودكاست بهدوء مع كريم _ جلسة 2\n",
            "  هار: 0.4004\n",
            "  هنه: 0.2402\n",
            "  هار ناج: 0.2222\n",
            "  قنه: 0.2146\n",
            "  قيد: 0.1840\n",
            "------\n",
            "Document 20:\n",
            "title: محاضرة الأثر النفسي للعبادة على الصحة النفسية _ بودكاست بهدوء مع كريم _ جلسة 7\n",
            "  صدق: 0.3453\n",
            "  انس: 0.2540\n",
            "  عمل: 0.1948\n",
            "  وأن: 0.1578\n",
            "  امل: 0.1483\n",
            "------\n",
            "Document 21:\n",
            "title: مين هينقذك لو غرفت؟ _ بودكاست بهدوء مع كريم _ جلسة 8\n",
            "  زوج: 0.2628\n",
            "  وفه: 0.1901\n",
            "  وحي: 0.1785\n",
            "  ظهر: 0.1466\n",
            "  ربط: 0.1393\n",
            "------\n",
            "Document 22:\n",
            "title: ١٠ دروس هيغيروا ٢٠٢٤! _ بودكاست بهدوء مع كريم _ جلسة 23\n",
            "  استمراريه: 0.2486\n",
            "  وأن: 0.1827\n",
            "  عمل: 0.1689\n",
            "  عبد: 0.1548\n",
            "  رزق: 0.1446\n",
            "------\n",
            "Document 23:\n",
            "title: ٧ دروس من تجربتي في الحج ٢٠٢٣ _ بودكاست بهدوء مع كريم _ جلسة 12\n",
            "  لحج: 0.2878\n",
            "  انس: 0.2253\n",
            "  تعب: 0.2057\n",
            "  جهد: 0.1864\n",
            "  للل: 0.1726\n",
            "------\n",
            "Document 24:\n",
            "title: ٩ نصائح تمنيت لو تعلمتها قبل ال٣٠ _ بودكاست بهدوء مع كريم _ جلسة 9\n",
            "  حلم: 0.3317\n",
            "  حلم حلم: 0.2507\n",
            "  عمل: 0.2199\n",
            "  ريد عمل: 0.2109\n",
            "  نجح: 0.1830\n",
            "------\n",
            "Document 25:\n",
            "title: ٩ نصائح للصحة النفسية غيرت حياتي - الجزء الأول _ بودكاست بهدوء مع كريم _ جلسة 10\n",
            "  صبر: 0.3393\n",
            "  نصح: 0.2951\n",
            "  عضل: 0.2228\n",
            "  علم: 0.1443\n",
            "  سلب: 0.1383\n",
            "------\n",
            "Document 26:\n",
            "title: اتقلوا تاخدوا حاجة نضيفة!!!!!\n",
            "  زوي: 0.4167\n",
            "  ضءه: 0.4150\n",
            "  نظف: 0.3179\n",
            "  الس: 0.2778\n",
            "  كامير: 0.2625\n",
            "------\n",
            "Document 27:\n",
            "title: بودكاست كفاية بقى - الحصة الأولى\n",
            "  حصه: 0.4470\n",
            "  صحى: 0.2276\n",
            "  درس: 0.2096\n",
            "  وبس: 0.2018\n",
            "  طبر: 0.1553\n",
            "------\n",
            "Document 28:\n",
            "title: بودكاست كفاية بقى - العشق الممنوع\n",
            "  عمد ادم: 0.4407\n",
            "  ادم: 0.3822\n",
            "  جرب: 0.2495\n",
            "  عمد: 0.2150\n",
            "  جمع طبع: 0.1983\n",
            "------\n",
            "Document 29:\n",
            "title: بودكاست كفاية بقى - العقل السليم\n",
            "  لعب: 0.3627\n",
            "  بنل: 0.2137\n",
            "  سيد: 0.1926\n",
            "  كره قدم: 0.1835\n",
            "  ريض: 0.1758\n",
            "------\n",
            "Document 30:\n",
            "title: بودكاست كفاية بقى - بس هو طيب\n",
            "  دكتور: 0.4853\n",
            "  وسخ: 0.3831\n",
            "  نكل كلب: 0.2511\n",
            "  ذوق: 0.1908\n",
            "  نكل: 0.1881\n",
            "------\n",
            "Document 31:\n",
            "title: بودكاست كفاية بقى - بطاطس مش محمرة\n",
            "  يتز: 0.4131\n",
            "  ططس: 0.3546\n",
            "  اير رير: 0.2714\n",
            "  رير: 0.2591\n",
            "  اير: 0.2561\n",
            "------\n",
            "Document 32:\n",
            "title: بودكاست كفاية بقى - تشيز كيك بدون تشيز\n",
            "  كيك: 0.5358\n",
            "  هيلث: 0.2533\n",
            "  اكل: 0.2392\n",
            "  تشز: 0.2369\n",
            "  شوكل: 0.2092\n",
            "------\n",
            "Document 33:\n",
            "title: بودكاست كفاية بقى - سوبر سوبريم\n",
            "  هيروز: 0.3877\n",
            "  هيرو: 0.3143\n",
            "  وبر: 0.2666\n",
            "  لبس: 0.2659\n",
            "  هلك: 0.2283\n",
            "------\n",
            "Document 34:\n",
            "title: بودكاست كفاية بقى - علاقات خاصة ١\n",
            "  وبر: 0.3127\n",
            "  سرر: 0.2538\n",
            "  حضن: 0.1344\n",
            "  وأن: 0.1311\n",
            "  طبطب: 0.1303\n",
            "------\n",
            "Document 35:\n",
            "title: بودكاست كفاية بقى - علاقات خاصة ٢\n",
            "  مسم: 0.5988\n",
            "  حلق: 0.3388\n",
            "  يدو: 0.2857\n",
            "  هيثم: 0.2734\n",
            "  شعر: 0.1748\n",
            "------\n",
            "Document 36:\n",
            "title: بودكاست كفاية بقى - في الجسم السليم\n",
            "  ريض: 0.4685\n",
            "  لعب: 0.3556\n",
            "  بطل بطل: 0.2942\n",
            "  بطل: 0.2576\n",
            "  اتش: 0.2389\n",
            "------\n",
            "Document 37:\n",
            "title: بودكاست كفاية بقى - كاتش عليه ١\n",
            "  كلب: 0.7263\n",
            "  شهب: 0.2606\n",
            "  قطه: 0.2498\n",
            "  حمد شهب: 0.2398\n",
            "  حمد: 0.1369\n",
            "------\n",
            "Document 38:\n",
            "title: بودكاست كفاية بقى “بالله عليك”  - أحلى شغل ٢\n",
            "  هايبر: 0.3750\n",
            "  برخ: 0.3419\n",
            "  زكي برخ: 0.2089\n",
            "  زكي: 0.1970\n",
            "  دتا: 0.1946\n",
            "------\n",
            "Document 39:\n",
            "title: بودكاست كفاية بقى “بالله عليك” - أحلى شغل ١\n",
            "  زبد: 0.6376\n",
            "  سحر: 0.2175\n",
            "  برخ: 0.1719\n",
            "  زكي: 0.1372\n",
            "  وفس كينج: 0.1289\n",
            "------\n",
            "Document 40:\n",
            "title: بودكاست كفاية بقى “بالله عليك” - العسف الرمضاني\n",
            "  حجز: 0.2419\n",
            "  كفت: 0.2034\n",
            "  طعم: 0.1890\n",
            "  ربز: 0.1759\n",
            "  شرب: 0.1694\n",
            "------\n",
            "Document 41:\n",
            "title: بودكاست كفاية بقى “بالله عليك” - رمضان جدا ١\n",
            "  مسك: 0.2133\n",
            "  فطر: 0.1497\n",
            "  بخر: 0.1412\n",
            "  ايم فرج: 0.1369\n",
            "  قمر: 0.1309\n",
            "------\n",
            "Document 42:\n",
            "title: بودكاست كفاية بقى “بالله عليك” - رمضان جدا ٢\n",
            "  فطر: 0.2568\n",
            "  دهليز: 0.2369\n",
            "  عبر دهليز: 0.2369\n",
            "  بوج: 0.1970\n",
            "  فنس: 0.1970\n",
            "------\n",
            "Document 43:\n",
            "title: بودكاست كفاية بقى “بالله عليك” - روحانيات وحاجات\n",
            "  عيد: 0.4611\n",
            "  رؤه: 0.3037\n",
            "  دهليز: 0.2238\n",
            "  عبر دهليز: 0.2238\n",
            "  جنج: 0.1694\n",
            "------\n",
            "Document 44:\n",
            "title: بودكاست كفاية بقى “بالله عليك” - قسم وسمعني ١\n",
            "  شورب: 0.3349\n",
            "  جونس: 0.2869\n",
            "  سبع: 0.2147\n",
            "  قسم طبق: 0.1936\n",
            "  هكل: 0.1803\n",
            "------\n",
            "Document 45:\n",
            "title: بودكاست كفاية بقى “بالله عليك” قسم وسمعني ٢\n",
            "  حشي: 0.2920\n",
            "  سلسل: 0.2771\n",
            "  سبع: 0.2434\n",
            "  فطر: 0.1918\n",
            "  سبس: 0.1847\n",
            "------\n",
            "Document 46:\n",
            "title: كفاية بقى بودكاست - الحصة التانية\n",
            "  دوتش: 0.4365\n",
            "  وكم: 0.2283\n",
            "  شهب: 0.2002\n",
            "  كان: 0.1878\n",
            "  يتز: 0.1758\n",
            "------\n",
            "Document 47:\n",
            "title: أطفال_غزة\n",
            "  15000: 0.4393\n",
            "  خلا: 0.3157\n",
            "  غزه: 0.2983\n",
            "  قتل: 0.2475\n",
            "  طفل: 0.2425\n",
            "------\n",
            "Document 48:\n",
            "title: المخبر_الاقتصادي___كيف_أصبح_أصدقاء_إسرائيل_من_أقوى_رجال_الظل_في_بريطانيا\n",
            "  اسرائيلي: 0.4273\n",
            "  حزب: 0.4118\n",
            "  برط: 0.3741\n",
            "  حزب حفظ: 0.2911\n",
            "  لوب: 0.2060\n",
            "------\n",
            "Document 49:\n",
            "title: المخبر_الاقتصادي___كيف_بنى_المهاجرون_المغاربيون_اقتصاد_فرنسا_الحديث_وعاشوا_في_جحيم\n",
            "  رنس: 0.7186\n",
            "  هجر: 0.2865\n",
            "  غرب: 0.2625\n",
            "  جزر: 0.1831\n",
            "  عمل غرب: 0.1499\n",
            "------\n",
            "Document 50:\n",
            "title: المخبر_الاقتصادي___كيف_تخطط_أمريكا_لمنع_تطور_قطاع_التكنولوجيا_الصيني_ومن_يجرؤ_على_تحدي_الصين\n",
            "  امر: 0.3293\n",
            "  صين: 0.3271\n",
            "  الكترونية: 0.2178\n",
            "  رقق الكترونية: 0.2143\n",
            "  رقق: 0.2021\n",
            "------\n",
            "Document 51:\n",
            "title: المخبر_الاقتصادي___كيف_سرقت_بريطانيا_كوه_نور_أو_أشهر_ماسة_في_العالم_ووضعتها_في_تاج_الملكة\n",
            "  كوه: 0.5844\n",
            "  برط: 0.3616\n",
            "  لكة: 0.2981\n",
            "  اسة: 0.2877\n",
            "  جوهر: 0.2747\n",
            "------\n",
            "Document 52:\n",
            "title: المخبر_الاقتصادي___كيف_يمكنك_الحصول_على_شيك_بآلاف_الدولارات_سنويا_لو_عشت_في_هذا_المكان\n",
            "  لسك: 0.6608\n",
            "  صندوق: 0.3667\n",
            "  نفط: 0.3205\n",
            "  ولي: 0.2634\n",
            "  وزع: 0.1667\n",
            "------\n",
            "Document 53:\n",
            "title: المخبر_الاقتصادي___لماذا_ترفض_شركات_النفط_الأمريكية_إنقاذ_أمريكا_من_قبضة_أوبك_وروسيا\n",
            "  نفط: 0.6246\n",
            "  امر: 0.2499\n",
            "  ناج: 0.2472\n",
            "  سعر: 0.2399\n",
            "  طقة: 0.2380\n",
            "------\n",
            "Document 54:\n",
            "title: المخبر_الاقتصادي___لماذا_قد_ترتفع_الأسعار_بسرعة_قريبا_من_يقف_وراء_اختفاء_حاويات_الشحن_في_الصين\n",
            "  حوي: 0.5096\n",
            "  سفن: 0.4387\n",
            "  شحن: 0.2881\n",
            "  قنه: 0.1842\n",
            "  بان: 0.1582\n",
            "------\n",
            "Document 55:\n",
            "title: المخبر_الاقتصادي___لماذا_قد_ينقرض_سكان_كوريا_الجنوبية_قريبا_ولماذا_يرفضون_الزواج\n",
            "  عدل خصب: 0.3864\n",
            "  كور: 0.3697\n",
            "  خصب: 0.3627\n",
            "  كور جنب: 0.3257\n",
            "  عدل: 0.2511\n",
            "------\n",
            "Document 56:\n",
            "title: المخبر_الاقتصادي___لماذا_قد_ينهار_اقتصاد_أمريكا_لو_استغنت_عن_الصين_من_يملك_خيوط_اللعبة\n",
            "  صين: 0.4367\n",
            "  امر: 0.3974\n",
            "  ياب: 0.2524\n",
            "  سفن: 0.2519\n",
            "  سفن صين: 0.1872\n",
            "------\n",
            "Document 57:\n",
            "title: المخبر_الاقتصادي___لماذا_لا_تخفض_الشركات_أجور_موظفيها_أبدا_وتفضل_الاستغناء_عن_بعضهم\n",
            "  نوك: 0.4237\n",
            "  وظف: 0.3508\n",
            "  خفض: 0.2785\n",
            "  خفض رتب: 0.2651\n",
            "  سرح: 0.2476\n",
            "------\n",
            "Document 58:\n",
            "title: المخبر_الاقتصادي___لماذا_يجب_أن_نخاف_من_تطبيق_ثريدز_ومن_صاحبه_مارك_زوكربرغ\n",
            "  يتر: 0.5004\n",
            "  يته: 0.3910\n",
            "  ارك: 0.3208\n",
            "  خدم: 0.2303\n",
            "  زوكربيرج: 0.2281\n",
            "------\n",
            "Document 59:\n",
            "title: المخبر_الاقتصادي___ماذا_لو_دخلت_روسيا_وأمريكا_في_حرب_نووية_بسبب_أوكرانيا_كيف_سيتأثر_العرب\n",
            "  نوي: 0.6363\n",
            "  روس: 0.3420\n",
            "  ضرب نوي: 0.2207\n",
            "  امر: 0.1775\n",
            "  سلح نوي: 0.1358\n",
            "------\n",
            "Document 60:\n",
            "title: المخبر_الاقتصادي__أين_اختفت_شركة_توشيبا_اليابانية_لماذا_يبيعها_اليابانيون_بسعر_رخيص\n",
            "  وشب: 0.8523\n",
            "  ياب: 0.1731\n",
            "  رجع خرج: 0.1133\n",
            "  ورص: 0.1037\n",
            "  نوي: 0.1027\n",
            "------\n",
            "Document 61:\n",
            "title: المخبر_الاقتصادي__أين_اختفت_شركة_هواوي_وكيف_خنقت_أمريكا_عملاق_التكنولوجيا_الصيني\n",
            "  هوي: 0.4248\n",
            "  رقق: 0.3495\n",
            "  امر: 0.2984\n",
            "  الكترونية: 0.2914\n",
            "  رقق الكترونية: 0.2878\n",
            "------\n",
            "Document 62:\n",
            "title: المخبر_الاقتصادي__أين_اختفت_طائرات_الدولارات_التي_أرسلت_من_أمريكا_للعراق_من_يستطيع_حل_اللغز\n",
            "  عرق: 0.6894\n",
            "  صندوق: 0.2603\n",
            "  صندوق نمه: 0.2189\n",
            "  نمه عرق: 0.2189\n",
            "  امر: 0.1920\n",
            "------\n",
            "Document 63:\n",
            "title: المخبر_الاقتصادي__أين_اختفى_زيت_عباد_الشمس_ولماذا_ترتفع_أسعار_زيوت_الطعام\n",
            "  زيت: 0.6962\n",
            "  زيت طعم: 0.3002\n",
            "  عبد شمس: 0.2042\n",
            "  فول صوا: 0.1971\n",
            "  صوا: 0.1827\n",
            "------\n",
            "Document 64:\n",
            "title: المخبر_الاقتصادي__كيف_أجبرت_أمريكا_الصين_على_بيع_تطبيق_تيكتوك_لها_أو_تدميره_هل_تبيع_الصين\n",
            "  تيك توك: 0.4215\n",
            "  توك: 0.4102\n",
            "  تيك: 0.3823\n",
            "  حظر تيك: 0.2557\n",
            "  امر: 0.2287\n",
            "------\n",
            "Document 65:\n",
            "title: المخبر_الاقتصادي__كيف_أخذت_روسيا_شركات_أوروبا_رهينة_مقابل_أموال_بنكها_المركزي_المحاصرة\n",
            "  روس: 0.8257\n",
            "  مان: 0.1400\n",
            "  اصل: 0.1347\n",
            "  لمن: 0.1235\n",
            "  روز: 0.1155\n",
            "------\n",
            "Document 66:\n",
            "title: المخبر_الاقتصادي__كيف_أذلت_أمريكا_الأرجنتين_حين_رفضت_تسديد_ديونها_ولماذا_هددتها_بالأنسولين\n",
            "  ارج: 0.6322\n",
            "  كسك: 0.3156\n",
            "  دين: 0.1801\n",
            "  1984: 0.1777\n",
            "  لتي: 0.1621\n",
            "------\n",
            "Document 67:\n",
            "title: المخبر_الاقتصادي__كيف_أسس_طباخ_بوتين_أكبر_وأقوى_شركة_عسكرية_خاصة_في_العالم\n",
            "  روس: 0.6507\n",
            "  جنر: 0.4811\n",
            "  بوت: 0.2081\n",
            "  وزر: 0.1752\n",
            "  وزر روس: 0.1690\n",
            "------\n",
            "Document 68:\n",
            "title: المخبر_الاقتصادي__كيف_أصبح_المغرب_حارس_بوابة_الأمن_الغذائي_العالمي_بعد_غزو_روسيا_لأوكرانيا\n",
            "  سمد: 0.7600\n",
            "  روس: 0.3408\n",
            "  ورب: 0.1895\n",
            "  سمد روس: 0.1613\n",
            "  غرب: 0.1277\n",
            "------\n",
            "Document 69:\n",
            "title: المخبر_الاقتصادي__كيف_أصبح_اليورو_في_خطر_بعد_الاستيلاء_على_أموال_بنك_روسيا_المركزي\n",
            "  روس: 0.5873\n",
            "  ورو: 0.5751\n",
            "  ورب: 0.2287\n",
            "  دولار: 0.1380\n",
            "  احتياطيه: 0.1369\n",
            "------\n",
            "Document 70:\n",
            "title: المخبر_الاقتصادي__كيف_أصبح_رئيس_البنك_الفدرالي_أخطر_رجل_في_العالم_وأقوى_من_رئيس_أمريكا\n",
            "  درل: 0.6896\n",
            "  مار: 0.3499\n",
            "  جونس: 0.2546\n",
            "  حيط درل: 0.1804\n",
            "  امر: 0.1522\n",
            "------\n",
            "Document 71:\n",
            "title: المخبر_الاقتصادي__كيف_أصبح_مستقبل_صناعة_السيارات_المغربية_في_أيدي_الصينهل_تصنع_المغرب_البطارية\n",
            "  بطر: 0.5399\n",
            "  سير كهربائيه: 0.3860\n",
            "  صنع: 0.3516\n",
            "  كهربائيه: 0.3278\n",
            "  سير: 0.3078\n",
            "------\n"
          ]
        }
      ],
      "source": [
        "top_terms_all = []\n",
        "\n",
        "for doc_index in range(X_tfidf.shape[0]):\n",
        "    tfidf_scores = X_tfidf[doc_index].toarray().flatten()\n",
        "    top_indices = np.argsort(tfidf_scores)[::-1][:5]\n",
        "    top_terms = [(feature_names[i], tfidf_scores[i]) for i in top_indices if tfidf_scores[i] > 0]\n",
        "    top_terms_all.append(top_terms)\n",
        "\n",
        "\n",
        "for i, terms in enumerate(top_terms_all):\n",
        "    print(f\"Document {i}:\")\n",
        "    print(f\"title: {df['title'].iloc[i]}\")\n",
        "    for term, score in terms:\n",
        "        print(f\"  {term}: {score:.4f}\")\n",
        "    print(\"------\")"
      ]
    },
    {
      "cell_type": "code",
      "execution_count": null,
      "metadata": {},
      "outputs": [
        {
          "name": "stdout",
          "output_type": "stream",
          "text": [
            "Category: Education\n",
            "  عمل: 0.1056\n",
            "  وأن: 0.0922\n",
            "  انس: 0.0889\n",
            "  علم: 0.0604\n",
            "  فكر: 0.0548\n",
            "------\n",
            "Category: People & Blogs\n",
            "  عمل: 0.0806\n",
            "  كلب: 0.0561\n",
            "  فطر: 0.0551\n",
            "  اكل: 0.0517\n",
            "  وأن: 0.0507\n",
            "------\n",
            "Category: Comedy\n",
            "  لعب: 0.2207\n",
            "  ريض: 0.1605\n",
            "  مسم: 0.1152\n",
            "  عمل: 0.1085\n",
            "  حلق: 0.0953\n",
            "------\n",
            "Category: Entertainment\n",
            "  روس: 0.1052\n",
            "  امر: 0.1022\n",
            "  صنع: 0.0461\n",
            "  صين: 0.0455\n",
            "  نفط: 0.0379\n",
            "------\n"
          ]
        }
      ],
      "source": [
        "categories = df['category'].dropna().unique()\n",
        "\n",
        "for cat in categories:\n",
        "    print(f\"Category: {cat}\")\n",
        "    subset = df[df['category'] == cat]\n",
        "    \n",
        "    \n",
        "    vectorizer_cat = TfidfVectorizer(max_features=5000, ngram_range=(1,2))\n",
        "    X_cat = vectorizer_cat.fit_transform(subset['processed_text'])\n",
        "    \n",
        "    feature_names_cat = vectorizer_cat.get_feature_names_out()\n",
        "    avg_tfidf = np.array(X_cat.mean(axis=0)).flatten()\n",
        "    \n",
        "    \n",
        "    top_indices = np.argsort(avg_tfidf)[::-1][:5]\n",
        "    top_terms = [(feature_names_cat[i], avg_tfidf[i]) for i in top_indices if avg_tfidf[i] > 0]\n",
        "    \n",
        "    for term, score in top_terms:\n",
        "        print(f\"  {term}: {score:.4f}\")\n",
        "    print(\"------\")"
      ]
    },
    {
      "cell_type": "markdown",
      "metadata": {},
      "source": [
        "### Word cloud"
      ]
    },
    {
      "cell_type": "code",
      "execution_count": null,
      "metadata": {},
      "outputs": [
        {
          "ename": "KeyError",
          "evalue": "'processed_text'",
          "output_type": "error",
          "traceback": [
            "\u001b[1;31m---------------------------------------------------------------------------\u001b[0m",
            "\u001b[1;31mKeyError\u001b[0m                                  Traceback (most recent call last)",
            "File \u001b[1;32mc:\\Users\\Ahmed Labib\\AppData\\Local\\Programs\\Python\\Python312\\Lib\\site-packages\\pandas\\core\\indexes\\base.py:3805\u001b[0m, in \u001b[0;36mIndex.get_loc\u001b[1;34m(self, key)\u001b[0m\n\u001b[0;32m   3804\u001b[0m \u001b[38;5;28;01mtry\u001b[39;00m:\n\u001b[1;32m-> 3805\u001b[0m     \u001b[38;5;28;01mreturn\u001b[39;00m \u001b[38;5;28;43mself\u001b[39;49m\u001b[38;5;241;43m.\u001b[39;49m\u001b[43m_engine\u001b[49m\u001b[38;5;241;43m.\u001b[39;49m\u001b[43mget_loc\u001b[49m\u001b[43m(\u001b[49m\u001b[43mcasted_key\u001b[49m\u001b[43m)\u001b[49m\n\u001b[0;32m   3806\u001b[0m \u001b[38;5;28;01mexcept\u001b[39;00m \u001b[38;5;167;01mKeyError\u001b[39;00m \u001b[38;5;28;01mas\u001b[39;00m err:\n",
            "File \u001b[1;32mindex.pyx:167\u001b[0m, in \u001b[0;36mpandas._libs.index.IndexEngine.get_loc\u001b[1;34m()\u001b[0m\n",
            "File \u001b[1;32mindex.pyx:196\u001b[0m, in \u001b[0;36mpandas._libs.index.IndexEngine.get_loc\u001b[1;34m()\u001b[0m\n",
            "File \u001b[1;32mpandas\\\\_libs\\\\hashtable_class_helper.pxi:7081\u001b[0m, in \u001b[0;36mpandas._libs.hashtable.PyObjectHashTable.get_item\u001b[1;34m()\u001b[0m\n",
            "File \u001b[1;32mpandas\\\\_libs\\\\hashtable_class_helper.pxi:7089\u001b[0m, in \u001b[0;36mpandas._libs.hashtable.PyObjectHashTable.get_item\u001b[1;34m()\u001b[0m\n",
            "\u001b[1;31mKeyError\u001b[0m: 'processed_text'",
            "\nThe above exception was the direct cause of the following exception:\n",
            "\u001b[1;31mKeyError\u001b[0m                                  Traceback (most recent call last)",
            "Cell \u001b[1;32mIn[30], line 1\u001b[0m\n\u001b[1;32m----> 1\u001b[0m \u001b[43mdf\u001b[49m\u001b[43m[\u001b[49m\u001b[38;5;124;43m\"\u001b[39;49m\u001b[38;5;124;43mprocessed_text\u001b[39;49m\u001b[38;5;124;43m\"\u001b[39;49m\u001b[43m]\u001b[49m[\u001b[38;5;241m0\u001b[39m]\n",
            "File \u001b[1;32mc:\\Users\\Ahmed Labib\\AppData\\Local\\Programs\\Python\\Python312\\Lib\\site-packages\\pandas\\core\\frame.py:4090\u001b[0m, in \u001b[0;36mDataFrame.__getitem__\u001b[1;34m(self, key)\u001b[0m\n\u001b[0;32m   4088\u001b[0m \u001b[38;5;28;01mif\u001b[39;00m \u001b[38;5;28mself\u001b[39m\u001b[38;5;241m.\u001b[39mcolumns\u001b[38;5;241m.\u001b[39mnlevels \u001b[38;5;241m>\u001b[39m \u001b[38;5;241m1\u001b[39m:\n\u001b[0;32m   4089\u001b[0m     \u001b[38;5;28;01mreturn\u001b[39;00m \u001b[38;5;28mself\u001b[39m\u001b[38;5;241m.\u001b[39m_getitem_multilevel(key)\n\u001b[1;32m-> 4090\u001b[0m indexer \u001b[38;5;241m=\u001b[39m \u001b[38;5;28;43mself\u001b[39;49m\u001b[38;5;241;43m.\u001b[39;49m\u001b[43mcolumns\u001b[49m\u001b[38;5;241;43m.\u001b[39;49m\u001b[43mget_loc\u001b[49m\u001b[43m(\u001b[49m\u001b[43mkey\u001b[49m\u001b[43m)\u001b[49m\n\u001b[0;32m   4091\u001b[0m \u001b[38;5;28;01mif\u001b[39;00m is_integer(indexer):\n\u001b[0;32m   4092\u001b[0m     indexer \u001b[38;5;241m=\u001b[39m [indexer]\n",
            "File \u001b[1;32mc:\\Users\\Ahmed Labib\\AppData\\Local\\Programs\\Python\\Python312\\Lib\\site-packages\\pandas\\core\\indexes\\base.py:3812\u001b[0m, in \u001b[0;36mIndex.get_loc\u001b[1;34m(self, key)\u001b[0m\n\u001b[0;32m   3807\u001b[0m     \u001b[38;5;28;01mif\u001b[39;00m \u001b[38;5;28misinstance\u001b[39m(casted_key, \u001b[38;5;28mslice\u001b[39m) \u001b[38;5;129;01mor\u001b[39;00m (\n\u001b[0;32m   3808\u001b[0m         \u001b[38;5;28misinstance\u001b[39m(casted_key, abc\u001b[38;5;241m.\u001b[39mIterable)\n\u001b[0;32m   3809\u001b[0m         \u001b[38;5;129;01mand\u001b[39;00m \u001b[38;5;28many\u001b[39m(\u001b[38;5;28misinstance\u001b[39m(x, \u001b[38;5;28mslice\u001b[39m) \u001b[38;5;28;01mfor\u001b[39;00m x \u001b[38;5;129;01min\u001b[39;00m casted_key)\n\u001b[0;32m   3810\u001b[0m     ):\n\u001b[0;32m   3811\u001b[0m         \u001b[38;5;28;01mraise\u001b[39;00m InvalidIndexError(key)\n\u001b[1;32m-> 3812\u001b[0m     \u001b[38;5;28;01mraise\u001b[39;00m \u001b[38;5;167;01mKeyError\u001b[39;00m(key) \u001b[38;5;28;01mfrom\u001b[39;00m \u001b[38;5;21;01merr\u001b[39;00m\n\u001b[0;32m   3813\u001b[0m \u001b[38;5;28;01mexcept\u001b[39;00m \u001b[38;5;167;01mTypeError\u001b[39;00m:\n\u001b[0;32m   3814\u001b[0m     \u001b[38;5;66;03m# If we have a listlike key, _check_indexing_error will raise\u001b[39;00m\n\u001b[0;32m   3815\u001b[0m     \u001b[38;5;66;03m#  InvalidIndexError. Otherwise we fall through and re-raise\u001b[39;00m\n\u001b[0;32m   3816\u001b[0m     \u001b[38;5;66;03m#  the TypeError.\u001b[39;00m\n\u001b[0;32m   3817\u001b[0m     \u001b[38;5;28mself\u001b[39m\u001b[38;5;241m.\u001b[39m_check_indexing_error(key)\n",
            "\u001b[1;31mKeyError\u001b[0m: 'processed_text'"
          ]
        }
      ],
      "source": [
        "df[\"processed_text\"][0]"
      ]
    },
    {
      "cell_type": "code",
      "execution_count": null,
      "metadata": {},
      "outputs": [
        {
          "ename": "KeyError",
          "evalue": "'processed_text'",
          "output_type": "error",
          "traceback": [
            "\u001b[1;31m---------------------------------------------------------------------------\u001b[0m",
            "\u001b[1;31mKeyError\u001b[0m                                  Traceback (most recent call last)",
            "File \u001b[1;32mc:\\Users\\Ahmed Labib\\AppData\\Local\\Programs\\Python\\Python312\\Lib\\site-packages\\pandas\\core\\indexes\\base.py:3805\u001b[0m, in \u001b[0;36mIndex.get_loc\u001b[1;34m(self, key)\u001b[0m\n\u001b[0;32m   3804\u001b[0m \u001b[38;5;28;01mtry\u001b[39;00m:\n\u001b[1;32m-> 3805\u001b[0m     \u001b[38;5;28;01mreturn\u001b[39;00m \u001b[38;5;28;43mself\u001b[39;49m\u001b[38;5;241;43m.\u001b[39;49m\u001b[43m_engine\u001b[49m\u001b[38;5;241;43m.\u001b[39;49m\u001b[43mget_loc\u001b[49m\u001b[43m(\u001b[49m\u001b[43mcasted_key\u001b[49m\u001b[43m)\u001b[49m\n\u001b[0;32m   3806\u001b[0m \u001b[38;5;28;01mexcept\u001b[39;00m \u001b[38;5;167;01mKeyError\u001b[39;00m \u001b[38;5;28;01mas\u001b[39;00m err:\n",
            "File \u001b[1;32mindex.pyx:167\u001b[0m, in \u001b[0;36mpandas._libs.index.IndexEngine.get_loc\u001b[1;34m()\u001b[0m\n",
            "File \u001b[1;32mindex.pyx:196\u001b[0m, in \u001b[0;36mpandas._libs.index.IndexEngine.get_loc\u001b[1;34m()\u001b[0m\n",
            "File \u001b[1;32mpandas\\\\_libs\\\\hashtable_class_helper.pxi:7081\u001b[0m, in \u001b[0;36mpandas._libs.hashtable.PyObjectHashTable.get_item\u001b[1;34m()\u001b[0m\n",
            "File \u001b[1;32mpandas\\\\_libs\\\\hashtable_class_helper.pxi:7089\u001b[0m, in \u001b[0;36mpandas._libs.hashtable.PyObjectHashTable.get_item\u001b[1;34m()\u001b[0m\n",
            "\u001b[1;31mKeyError\u001b[0m: 'processed_text'",
            "\nThe above exception was the direct cause of the following exception:\n",
            "\u001b[1;31mKeyError\u001b[0m                                  Traceback (most recent call last)",
            "Cell \u001b[1;32mIn[31], line 1\u001b[0m\n\u001b[1;32m----> 1\u001b[0m text_combined \u001b[38;5;241m=\u001b[39m \u001b[38;5;124m\"\u001b[39m\u001b[38;5;124m \u001b[39m\u001b[38;5;124m\"\u001b[39m\u001b[38;5;241m.\u001b[39mjoin(\u001b[43mdf\u001b[49m\u001b[43m[\u001b[49m\u001b[38;5;124;43m'\u001b[39;49m\u001b[38;5;124;43mprocessed_text\u001b[39;49m\u001b[38;5;124;43m'\u001b[39;49m\u001b[43m]\u001b[49m)\n\u001b[0;32m      2\u001b[0m font_path \u001b[38;5;241m=\u001b[39m \u001b[38;5;124m\"\u001b[39m\u001b[38;5;124mNotoSansArabic-VariableFont_wdth,wght.ttf\u001b[39m\u001b[38;5;124m\"\u001b[39m\n\u001b[0;32m      3\u001b[0m wordcloud \u001b[38;5;241m=\u001b[39m WordCloud(\n\u001b[0;32m      4\u001b[0m     font_path\u001b[38;5;241m=\u001b[39mfont_path, \n\u001b[0;32m      5\u001b[0m     width\u001b[38;5;241m=\u001b[39m\u001b[38;5;241m1000\u001b[39m,\n\u001b[0;32m      6\u001b[0m     height\u001b[38;5;241m=\u001b[39m\u001b[38;5;241m400\u001b[39m,\n\u001b[0;32m      7\u001b[0m     background_color\u001b[38;5;241m=\u001b[39m\u001b[38;5;124m'\u001b[39m\u001b[38;5;124mwhite\u001b[39m\u001b[38;5;124m'\u001b[39m\n\u001b[0;32m      8\u001b[0m )\u001b[38;5;241m.\u001b[39mgenerate(text_combined)\n",
            "File \u001b[1;32mc:\\Users\\Ahmed Labib\\AppData\\Local\\Programs\\Python\\Python312\\Lib\\site-packages\\pandas\\core\\frame.py:4090\u001b[0m, in \u001b[0;36mDataFrame.__getitem__\u001b[1;34m(self, key)\u001b[0m\n\u001b[0;32m   4088\u001b[0m \u001b[38;5;28;01mif\u001b[39;00m \u001b[38;5;28mself\u001b[39m\u001b[38;5;241m.\u001b[39mcolumns\u001b[38;5;241m.\u001b[39mnlevels \u001b[38;5;241m>\u001b[39m \u001b[38;5;241m1\u001b[39m:\n\u001b[0;32m   4089\u001b[0m     \u001b[38;5;28;01mreturn\u001b[39;00m \u001b[38;5;28mself\u001b[39m\u001b[38;5;241m.\u001b[39m_getitem_multilevel(key)\n\u001b[1;32m-> 4090\u001b[0m indexer \u001b[38;5;241m=\u001b[39m \u001b[38;5;28;43mself\u001b[39;49m\u001b[38;5;241;43m.\u001b[39;49m\u001b[43mcolumns\u001b[49m\u001b[38;5;241;43m.\u001b[39;49m\u001b[43mget_loc\u001b[49m\u001b[43m(\u001b[49m\u001b[43mkey\u001b[49m\u001b[43m)\u001b[49m\n\u001b[0;32m   4091\u001b[0m \u001b[38;5;28;01mif\u001b[39;00m is_integer(indexer):\n\u001b[0;32m   4092\u001b[0m     indexer \u001b[38;5;241m=\u001b[39m [indexer]\n",
            "File \u001b[1;32mc:\\Users\\Ahmed Labib\\AppData\\Local\\Programs\\Python\\Python312\\Lib\\site-packages\\pandas\\core\\indexes\\base.py:3812\u001b[0m, in \u001b[0;36mIndex.get_loc\u001b[1;34m(self, key)\u001b[0m\n\u001b[0;32m   3807\u001b[0m     \u001b[38;5;28;01mif\u001b[39;00m \u001b[38;5;28misinstance\u001b[39m(casted_key, \u001b[38;5;28mslice\u001b[39m) \u001b[38;5;129;01mor\u001b[39;00m (\n\u001b[0;32m   3808\u001b[0m         \u001b[38;5;28misinstance\u001b[39m(casted_key, abc\u001b[38;5;241m.\u001b[39mIterable)\n\u001b[0;32m   3809\u001b[0m         \u001b[38;5;129;01mand\u001b[39;00m \u001b[38;5;28many\u001b[39m(\u001b[38;5;28misinstance\u001b[39m(x, \u001b[38;5;28mslice\u001b[39m) \u001b[38;5;28;01mfor\u001b[39;00m x \u001b[38;5;129;01min\u001b[39;00m casted_key)\n\u001b[0;32m   3810\u001b[0m     ):\n\u001b[0;32m   3811\u001b[0m         \u001b[38;5;28;01mraise\u001b[39;00m InvalidIndexError(key)\n\u001b[1;32m-> 3812\u001b[0m     \u001b[38;5;28;01mraise\u001b[39;00m \u001b[38;5;167;01mKeyError\u001b[39;00m(key) \u001b[38;5;28;01mfrom\u001b[39;00m \u001b[38;5;21;01merr\u001b[39;00m\n\u001b[0;32m   3813\u001b[0m \u001b[38;5;28;01mexcept\u001b[39;00m \u001b[38;5;167;01mTypeError\u001b[39;00m:\n\u001b[0;32m   3814\u001b[0m     \u001b[38;5;66;03m# If we have a listlike key, _check_indexing_error will raise\u001b[39;00m\n\u001b[0;32m   3815\u001b[0m     \u001b[38;5;66;03m#  InvalidIndexError. Otherwise we fall through and re-raise\u001b[39;00m\n\u001b[0;32m   3816\u001b[0m     \u001b[38;5;66;03m#  the TypeError.\u001b[39;00m\n\u001b[0;32m   3817\u001b[0m     \u001b[38;5;28mself\u001b[39m\u001b[38;5;241m.\u001b[39m_check_indexing_error(key)\n",
            "\u001b[1;31mKeyError\u001b[0m: 'processed_text'"
          ]
        }
      ],
      "source": [
        "\n",
        "text_combined = \" \".join(df['processed_text'])\n",
        "font_path = \"NotoSansArabic-VariableFont_wdth,wght.ttf\"\n",
        "wordcloud = WordCloud(\n",
        "    font_path=font_path, \n",
        "    width=1000,\n",
        "    height=400,\n",
        "    background_color='white'\n",
        ").generate(text_combined)\n",
        "\n",
        "\n",
        "plt.figure(figsize=(10, 5))\n",
        "plt.imshow(wordcloud, interpolation='bilinear')\n",
        "plt.axis(\"off\")\n",
        "plt.title(\"Word Cloud of Processed Text\")\n",
        "plt.show()"
      ]
    },
    {
      "cell_type": "code",
      "execution_count": null,
      "metadata": {},
      "outputs": [
        {
          "data": {
            "text/plain": [
              "Index(['title', 'channel', 'category', 'transcript', 'raw_length',\n",
              "       'clean_transcript', 'bert_tokens', 'farasa_tokens', 'total_tokens',\n",
              "       'tokens_no_stop', 'total_tokens_no_stop', 'tokens_no_stop_additional',\n",
              "       'total_tokens_no_stop_custom', 'stemmed_tokens', 'lemmatized_tokens',\n",
              "       'stem_length', 'lemma_length', 'processed_text'],\n",
              "      dtype='object')"
            ]
          },
          "execution_count": 66,
          "metadata": {},
          "output_type": "execute_result"
        }
      ],
      "source": [
        "df.columns"
      ]
    },
    {
      "cell_type": "markdown",
      "metadata": {},
      "source": [
        "## To do\n",
        "> full classification model with metadata concatenated\n",
        "> Advanced Exploratory Analysis\n",
        "> named entities"
      ]
    },
    {
      "cell_type": "code",
      "execution_count": 71,
      "metadata": {},
      "outputs": [
        {
          "name": "stdout",
          "output_type": "stream",
          "text": [
            "Accuracy using processed text: 0.8667\n",
            "Accuracy using stemmed text: 0.8667\n",
            "Accuracy using lemmatized text: 0.8667\n"
          ]
        }
      ],
      "source": []
    }
  ],
  "metadata": {
    "colab": {
      "include_colab_link": true,
      "provenance": []
    },
    "kernelspec": {
      "display_name": "Python 3",
      "name": "python3"
    },
    "language_info": {
      "codemirror_mode": {
        "name": "ipython",
        "version": 3
      },
      "file_extension": ".py",
      "mimetype": "text/x-python",
      "name": "python",
      "nbconvert_exporter": "python",
      "pygments_lexer": "ipython3",
      "version": "3.9.0"
    }
  },
  "nbformat": 4,
  "nbformat_minor": 0
}
