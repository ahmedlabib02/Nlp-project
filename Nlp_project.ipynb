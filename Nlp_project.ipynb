{
  "cells": [
    {
      "cell_type": "markdown",
      "metadata": {
        "colab_type": "text",
        "id": "view-in-github"
      },
      "source": [
        "<a href=\"https://colab.research.google.com/github/ahmedlabib02/Nlp-project/blob/main/Nlp_project.ipynb\" target=\"_parent\"><img src=\"https://colab.research.google.com/assets/colab-badge.svg\" alt=\"Open In Colab\"/></a>"
      ]
    },
    {
      "cell_type": "markdown",
      "metadata": {
        "id": "yhShSWMAHitF"
      },
      "source": [
        "# First task"
      ]
    },
    {
      "cell_type": "markdown",
      "metadata": {},
      "source": [
        "### Combining all annotations of all files in one single JSON file"
      ]
    },
    {
      "cell_type": "code",
      "execution_count": 12,
      "metadata": {
        "colab": {
          "base_uri": "https://localhost:8080/"
        },
        "id": "LGt1OfppHkHL",
        "outputId": "4baf9777-8ae1-4bbb-a908-0d8cee393e1e"
      },
      "outputs": [
        {
          "name": "stdout",
          "output_type": "stream",
          "text": [
            "Merged 21 files into combined_annotations.json\n"
          ]
        }
      ],
      "source": [
        "import os\n",
        "import json\n",
        "\n",
        "# Set directory where JSON files are stored\n",
        "directory = \"./annotations\" \n",
        "output_file = \"combined_annotations.json\"\n",
        "\n",
        "# Retreiving all json files in annotations directory\n",
        "json_files = [f for f in os.listdir(directory) if f.endswith(\".json\")]\n",
        "\n",
        "\n",
        "combined_data = []\n",
        "\n",
        "for file in json_files:\n",
        "    file_path = os.path.join(directory, file)\n",
        "    \n",
        "    with open(file_path, \"r\", encoding=\"utf-8\") as f:\n",
        "        try:\n",
        "            data = json.load(f)\n",
        "            if isinstance(data, dict):  \n",
        "                combined_data.append(data) \n",
        "            elif isinstance(data, list):\n",
        "                combined_data.extend(data)\n",
        "        except json.JSONDecodeError as e:\n",
        "            print(f\"Error reading {file}: {e}\")\n",
        "\n",
        "with open(output_file, \"w\", encoding=\"utf-8\") as outfile:\n",
        "    json.dump(combined_data, outfile, indent=4, ensure_ascii=False)\n",
        "\n",
        "print(f\"Merged {len(json_files)} files into {output_file}\")\n"
      ]
    },
    {
      "cell_type": "markdown",
      "metadata": {},
      "source": [
        "### Combining data and annotations in a dictionary "
      ]
    },
    {
      "cell_type": "markdown",
      "metadata": {},
      "source": [
        "#### Unzipping the data"
      ]
    },
    {
      "cell_type": "code",
      "execution_count": 14,
      "metadata": {},
      "outputs": [],
      "source": [
        "import zipfile\n",
        "zip_path = \"data.zip\"\n",
        "extract_path = \"./unzipped\"\n",
        "with zipfile.ZipFile(zip_path, 'r') as zip_ref:\n",
        "    zip_ref.extractall(extract_path)\n"
      ]
    },
    {
      "cell_type": "code",
      "execution_count": 19,
      "metadata": {},
      "outputs": [],
      "source": [
        "import os\n",
        "\n",
        "directory = \"./unzipped/data\"  \n",
        "\n",
        "text_data_dict = {}\n",
        "\n",
        "\n",
        "for filename in os.listdir(directory):\n",
        "    if filename.endswith(\".txt\"):  \n",
        "        file_path = os.path.join(directory, filename)\n",
        "        \n",
        "        with open(file_path, \"r\", encoding=\"utf-8\") as f:\n",
        "            text_data = f.read().strip()  \n",
        "            file_key = os.path.splitext(filename)[0]  \n",
        "            text_data_dict[file_key] = text_data \n",
        "\n",
        "\n",
        "\n",
        "\n"
      ]
    },
    {
      "cell_type": "code",
      "execution_count": 23,
      "metadata": {},
      "outputs": [
        {
          "name": "stdout",
          "output_type": "stream",
          "text": [
            "dict_keys(['اد_ايه_المراهقة_مرهقة__كتابدماغ_المراهقين_أخضر', 'ازاي_تتعافى_من_جرح_العلاقات_السابقة__كتاب_أزمة_تعلق_أخضر', 'ازاي_تخلي_يومك_48_ساعة_مش_24_ساعة_كتاب_اصنع_وقتا_أكثر_من_المتاح_أخضر', 'ازاي_تشتغل_بالبيجامة_كتاب_دليلك_المختصر_لبدء_العمل_عبر_الإنترنت_أخضر', 'اعمل_أربع_ساعات_فقط_في_الأسبوع__مراجعة_كرتونية_ل_كتاب_تيموثي_فيريس', 'البحث عن السعادة  الدحيح', 'التأثير_وسيكولوجية_الإقناع__مراجعة_كرتونية_ل_كتاب_روبرت_تشيالديني', 'التخلف_الاجتماعي__مدخل_إلى_سيكولوجية_الإنسان_المقهور_مراجعة_كرتونية_ل_كتاب_مصطفى_حجازي', 'الذكاء_العاطفي__مراجعة_كرتونية_ل_كتاب_دانيال_جولمان', 'العادات_السبع_للناس_الأكثر_فعالية__مراجعة_كرتونية_ل_كتاب_ستيفن_كوفي', 'القوة_48_قاعدة_ترشدك_إلى_القوة__مراجعة_كرتونية_ل_كتاب_روبرت_غرين', 'بودكاست كفاية بقى - العقل السليم', 'بودكاست كفاية بقى - علاقات خاصة ١', 'بودكاست كفاية بقى - علاقات خاصة ٢', 'تخطيط_المهام_وتنظيم_الوقت_بطريقة_GTD__مراجعة_كرتونية_لكتاب_Getting_things_done', 'تخلص من التعاسة _ بودكاست بهدوء مع كريم _ جلسة 28', 'تخلص من القلق _ بودكاست بهدوء مع\\xa0كريم _ جلسة 26', 'تخلص من الكلام السلبي والتنمر! _ بودكاست بهدوء مع كريم _ جلسة 17', 'تغلب_علي_صياح_الآخرين__كتاب__ابتعد_عن_المتذمر_المزمن_أخضر', 'خلص_ع_القلق_اللي_جواك___كتاب_لا_تغذ_عقل_القرد._أخضر', 'خلي_حياتك_نسخة_أفضل_كتاب_ترقيه_حياتكأخضر', 'سحر_الاقناع___كتاب__طريقة_ثورية_للتأثير_والإقناع_أخضر', 'عقلية المال والسعادة _ بودكاست بهدوء مع كريم _ جلسة 27', 'عقيدة_الصدمة__مراجعة_كرتونية_ل_كتاب_ناعومي_كلاين', 'عن وجع الحب ونصائح للجامعة والتخلص من المشاعر السلبية وفقدان الشغف (Q&A) _ بودكاست بهدوء مع كريم', 'فن_أن_تكون_دائما_على_صواب__مراجعة_كرتونية_ل_كتاب_أرثر_شوبنهاور', 'كتالوج_القلوب___كتاب__شفرة_العلاقات_العاطفية_أخضر', 'كيف وجدت الله _ الأوقات الصعبة (فضفضة مشاعر) _ بودكاست بهدوء مع كريم _ جلسة 15', 'كيف_تمسك_بزمام_القوة_48_قاعدة_ترشدك_اليها__مراجعة_كرتونية_ل_كتاب_روبرت_جرين', 'لا تحزن! _ بودكاست بهدوء مع كريم _ جلسة 6', 'لماذا نيأس؟ عن فلسفة المثابرة _ بودكاست بهدوء مع كريم _ جلسة 20', 'لماذا يفشل الشطار؟ _ بودكاست بهدوء مع كريم _ جلسة 2', 'ليه_خايف_تنشر_إبداعك__كتاب_انشر_فنك_أخضر', '١٠ دروس هيغيروا ٢٠٢٤! _ بودكاست بهدوء مع كريم _ جلسة 23', '٩ نصائح تمنيت لو تعلمتها قبل ال٣٠ _ بودكاست بهدوء مع كريم _ جلسة 9', '٩ نصائح للصحة النفسية غيرت حياتي - الجزء الأول _ بودكاست بهدوء مع كريم _ جلسة 10'])\n"
          ]
        }
      ],
      "source": [
        "# Print the resulting dictionary\n",
        "print(text_data_dict.keys())"
      ]
    }
  ],
  "metadata": {
    "colab": {
      "include_colab_link": true,
      "provenance": []
    },
    "kernelspec": {
      "display_name": "Python 3",
      "name": "python3"
    },
    "language_info": {
      "codemirror_mode": {
        "name": "ipython",
        "version": 3
      },
      "file_extension": ".py",
      "mimetype": "text/x-python",
      "name": "python",
      "nbconvert_exporter": "python",
      "pygments_lexer": "ipython3",
      "version": "3.9.0"
    }
  },
  "nbformat": 4,
  "nbformat_minor": 0
}
