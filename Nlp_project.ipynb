{
  "cells": [
    {
      "cell_type": "markdown",
      "metadata": {
        "colab_type": "text",
        "id": "view-in-github"
      },
      "source": [
        "<a href=\"https://colab.research.google.com/github/ahmedlabib02/Nlp-project/blob/main/Nlp_project.ipynb\" target=\"_parent\"><img src=\"https://colab.research.google.com/assets/colab-badge.svg\" alt=\"Open In Colab\"/></a>"
      ]
    },
    {
      "cell_type": "markdown",
      "metadata": {
        "id": "yhShSWMAHitF"
      },
      "source": [
        "# Milestone 1"
      ]
    },
    {
      "cell_type": "code",
      "execution_count": 5,
      "metadata": {},
      "outputs": [
        {
          "name": "stdout",
          "output_type": "stream",
          "text": [
            "Looking in links: https://download.pytorch.org/whl/torch_stable.html\n",
            "Collecting camel-tools\n",
            "  Using cached camel_tools-1.5.5-py3-none-any.whl (124 kB)\n",
            "Requirement already satisfied, skipping upgrade: tqdm in c:\\users\\sana2\\appdata\\local\\programs\\python\\python39\\lib\\site-packages (from camel-tools) (4.67.1)\n",
            "Requirement already satisfied, skipping upgrade: docopt in c:\\users\\sana2\\appdata\\local\\programs\\python\\python39\\lib\\site-packages (from camel-tools) (0.6.2)\n",
            "Requirement already satisfied, skipping upgrade: pandas in c:\\users\\sana2\\appdata\\local\\programs\\python\\python39\\lib\\site-packages (from camel-tools) (2.2.3)\n",
            "Requirement already satisfied, skipping upgrade: scikit-learn in c:\\users\\sana2\\appdata\\local\\programs\\python\\python39\\lib\\site-packages (from camel-tools) (1.6.1)\n",
            "Requirement already satisfied, skipping upgrade: editdistance in c:\\users\\sana2\\appdata\\local\\programs\\python\\python39\\lib\\site-packages (from camel-tools) (0.8.1)\n",
            "Requirement already satisfied, skipping upgrade: torch>=2.0 in c:\\users\\sana2\\appdata\\local\\programs\\python\\python39\\lib\\site-packages (from camel-tools) (2.6.0)\n",
            "Requirement already satisfied, skipping upgrade: requests in c:\\users\\sana2\\appdata\\local\\programs\\python\\python39\\lib\\site-packages (from camel-tools) (2.32.3)\n",
            "Requirement already satisfied, skipping upgrade: cachetools in c:\\users\\sana2\\appdata\\local\\programs\\python\\python39\\lib\\site-packages (from camel-tools) (5.5.2)\n",
            "Requirement already satisfied, skipping upgrade: scipy in c:\\users\\sana2\\appdata\\local\\programs\\python\\python39\\lib\\site-packages (from camel-tools) (1.13.1)\n",
            "Collecting transformers<4.44.0,>=4.0\n",
            "  Using cached transformers-4.43.4-py3-none-any.whl (9.4 MB)\n",
            "Requirement already satisfied, skipping upgrade: emoji in c:\\users\\sana2\\appdata\\local\\programs\\python\\python39\\lib\\site-packages (from camel-tools) (2.14.1)\n",
            "Requirement already satisfied, skipping upgrade: tabulate in c:\\users\\sana2\\appdata\\local\\programs\\python\\python39\\lib\\site-packages (from camel-tools) (0.9.0)\n",
            "Requirement already satisfied, skipping upgrade: pyrsistent in c:\\users\\sana2\\appdata\\local\\programs\\python\\python39\\lib\\site-packages (from camel-tools) (0.20.0)\n",
            "Collecting muddler\n",
            "  Using cached muddler-0.1.3-py3-none-any.whl (16 kB)\n",
            "Requirement already satisfied, skipping upgrade: future in c:\\users\\sana2\\appdata\\local\\programs\\python\\python39\\lib\\site-packages (from camel-tools) (1.0.0)\n",
            "Requirement already satisfied, skipping upgrade: dill in c:\\users\\sana2\\appdata\\local\\programs\\python\\python39\\lib\\site-packages (from camel-tools) (0.3.9)\n",
            "Requirement already satisfied, skipping upgrade: six in c:\\users\\sana2\\appdata\\roaming\\python\\python39\\site-packages (from camel-tools) (1.17.0)\n",
            "Requirement already satisfied, skipping upgrade: numpy<2 in c:\\users\\sana2\\appdata\\local\\programs\\python\\python39\\lib\\site-packages (from camel-tools) (1.26.4)\n",
            "Requirement already satisfied, skipping upgrade: colorama; platform_system == \"Windows\" in c:\\users\\sana2\\appdata\\roaming\\python\\python39\\site-packages (from tqdm->camel-tools) (0.4.6)\n",
            "Requirement already satisfied, skipping upgrade: tzdata>=2022.7 in c:\\users\\sana2\\appdata\\local\\programs\\python\\python39\\lib\\site-packages (from pandas->camel-tools) (2024.1)\n",
            "Requirement already satisfied, skipping upgrade: pytz>=2020.1 in c:\\users\\sana2\\appdata\\local\\programs\\python\\python39\\lib\\site-packages (from pandas->camel-tools) (2025.1)\n",
            "Requirement already satisfied, skipping upgrade: python-dateutil>=2.8.2 in c:\\users\\sana2\\appdata\\roaming\\python\\python39\\site-packages (from pandas->camel-tools) (2.9.0.post0)\n",
            "Requirement already satisfied, skipping upgrade: joblib>=1.2.0 in c:\\users\\sana2\\appdata\\local\\programs\\python\\python39\\lib\\site-packages (from scikit-learn->camel-tools) (1.4.2)\n",
            "Requirement already satisfied, skipping upgrade: threadpoolctl>=3.1.0 in c:\\users\\sana2\\appdata\\local\\programs\\python\\python39\\lib\\site-packages (from scikit-learn->camel-tools) (3.5.0)\n",
            "Requirement already satisfied, skipping upgrade: sympy==1.13.1; python_version >= \"3.9\" in c:\\users\\sana2\\appdata\\local\\programs\\python\\python39\\lib\\site-packages (from torch>=2.0->camel-tools) (1.13.1)\n",
            "Requirement already satisfied, skipping upgrade: fsspec in c:\\users\\sana2\\appdata\\local\\programs\\python\\python39\\lib\\site-packages (from torch>=2.0->camel-tools) (2025.2.0)\n",
            "Requirement already satisfied, skipping upgrade: filelock in c:\\users\\sana2\\appdata\\local\\programs\\python\\python39\\lib\\site-packages (from torch>=2.0->camel-tools) (3.17.0)\n",
            "Requirement already satisfied, skipping upgrade: networkx in c:\\users\\sana2\\appdata\\local\\programs\\python\\python39\\lib\\site-packages (from torch>=2.0->camel-tools) (3.2.1)\n",
            "Requirement already satisfied, skipping upgrade: typing-extensions>=4.10.0 in c:\\users\\sana2\\appdata\\local\\programs\\python\\python39\\lib\\site-packages (from torch>=2.0->camel-tools) (4.11.0)\n",
            "Requirement already satisfied, skipping upgrade: jinja2 in c:\\users\\sana2\\appdata\\local\\programs\\python\\python39\\lib\\site-packages (from torch>=2.0->camel-tools) (3.1.6)\n",
            "Requirement already satisfied, skipping upgrade: urllib3<3,>=1.21.1 in c:\\users\\sana2\\appdata\\local\\programs\\python\\python39\\lib\\site-packages (from requests->camel-tools) (2.3.0)\n",
            "Requirement already satisfied, skipping upgrade: charset-normalizer<4,>=2 in c:\\users\\sana2\\appdata\\local\\programs\\python\\python39\\lib\\site-packages (from requests->camel-tools) (3.4.1)\n",
            "Requirement already satisfied, skipping upgrade: certifi>=2017.4.17 in c:\\users\\sana2\\appdata\\local\\programs\\python\\python39\\lib\\site-packages (from requests->camel-tools) (2025.1.31)\n",
            "Requirement already satisfied, skipping upgrade: idna<4,>=2.5 in c:\\users\\sana2\\appdata\\local\\programs\\python\\python39\\lib\\site-packages (from requests->camel-tools) (3.10)\n",
            "Requirement already satisfied, skipping upgrade: regex!=2019.12.17 in c:\\users\\sana2\\appdata\\local\\programs\\python\\python39\\lib\\site-packages (from transformers<4.44.0,>=4.0->camel-tools) (2024.11.6)\n",
            "Requirement already satisfied, skipping upgrade: pyyaml>=5.1 in c:\\users\\sana2\\appdata\\local\\programs\\python\\python39\\lib\\site-packages (from transformers<4.44.0,>=4.0->camel-tools) (6.0.2)\n",
            "Requirement already satisfied, skipping upgrade: safetensors>=0.4.1 in c:\\users\\sana2\\appdata\\local\\programs\\python\\python39\\lib\\site-packages (from transformers<4.44.0,>=4.0->camel-tools) (0.5.3)\n",
            "Requirement already satisfied, skipping upgrade: packaging>=20.0 in c:\\users\\sana2\\appdata\\roaming\\python\\python39\\site-packages (from transformers<4.44.0,>=4.0->camel-tools) (24.2)\n",
            "Requirement already satisfied, skipping upgrade: huggingface-hub<1.0,>=0.23.2 in c:\\users\\sana2\\appdata\\local\\programs\\python\\python39\\lib\\site-packages (from transformers<4.44.0,>=4.0->camel-tools) (0.29.1)\n",
            "Requirement already satisfied, skipping upgrade: tokenizers<0.20,>=0.19 in c:\\users\\sana2\\appdata\\local\\programs\\python\\python39\\lib\\site-packages (from transformers<4.44.0,>=4.0->camel-tools) (0.19.1)\n",
            "Requirement already satisfied, skipping upgrade: mpmath<1.4,>=1.1.0 in c:\\users\\sana2\\appdata\\local\\programs\\python\\python39\\lib\\site-packages (from sympy==1.13.1; python_version >= \"3.9\"->torch>=2.0->camel-tools) (1.3.0)\n",
            "Requirement already satisfied, skipping upgrade: MarkupSafe>=2.0 in c:\\users\\sana2\\appdata\\local\\programs\\python\\python39\\lib\\site-packages (from jinja2->torch>=2.0->camel-tools) (3.0.2)\n",
            "Installing collected packages: transformers, muddler, camel-tools\n",
            "  Attempting uninstall: transformers\n",
            "    Found existing installation: transformers 4.49.0\n",
            "    Uninstalling transformers-4.49.0:\n",
            "      Successfully uninstalled transformers-4.49.0\n",
            "Successfully installed camel-tools-1.5.5 muddler-0.1.3 transformers-4.43.4\n",
            "Note: you may need to restart the kernel to use updated packages.\n"
          ]
        },
        {
          "name": "stderr",
          "output_type": "stream",
          "text": [
            "WARNING: You are using pip version 20.2.3; however, version 25.0.1 is available.\n",
            "You should consider upgrading via the 'c:\\Users\\sana2\\AppData\\Local\\Programs\\Python\\Python39\\python.exe -m pip install --upgrade pip' command.\n"
          ]
        }
      ],
      "source": [
        "# %pip install transformers\n",
        "# %pip install nltk\n",
        "# %pip install farasapy\n",
        "# %pip install --quiet camel-tools-data\n",
        "# %pip install camel-tools\n",
        "# %pip install camel-tools -f https://download.pytorch.org/whl/torch_stable.html\n",
        "\n",
        "\n",
        "%pip install --upgrade -f https://download.pytorch.org/whl/torch_stable.html camel-tools"
      ]
    },
    {
      "cell_type": "code",
      "execution_count": null,
      "metadata": {},
      "outputs": [
        {
          "name": "stderr",
          "output_type": "stream",
          "text": [
            "c:\\Users\\sana2\\AppData\\Local\\Programs\\Python\\Python39\\lib\\site-packages\\urllib3\\connectionpool.py:1097: InsecureRequestWarning: Unverified HTTPS request is being made to host 'farasa-api.qcri.org'. Adding certificate verification is strongly advised. See: https://urllib3.readthedocs.io/en/latest/advanced-usage.html#tls-warnings\n",
            "  warnings.warn(\n"
          ]
        },
        {
          "name": "stdout",
          "output_type": "stream",
          "text": [
            " 50%|████▉     | 119M/241M [05:59<10:51, 187kiB/s] "
          ]
        }
      ],
      "source": [
        "import os \n",
        "import json\n",
        "import re\n",
        "import pandas as pd\n",
        "from collections import Counter\n",
        "import string\n",
        "from transformers import BertTokenizer\n",
        "import nltk\n",
        "import numpy as np\n",
        "from nltk.corpus import stopwords\n",
        "from farasa.segmenter import FarasaSegmenter\n",
        "from nltk.stem.isri import ISRIStemmer\n",
        "from camel_tools.morphology.database import MorphologyDB\n",
        "from camel_tools.morphology.analyzer import Analyzer\n",
        "from nltk.stem.isri import ISRIStemmer\n",
        "segmenter = FarasaSegmenter(interactive=False)\n",
        "nltk.download('stopwords')\n",
        "\n",
        "\n"
      ]
    },
    {
      "cell_type": "markdown",
      "metadata": {},
      "source": [
        "### Data preparation"
      ]
    },
    {
      "cell_type": "markdown",
      "metadata": {},
      "source": [
        "#### Unzipping the \"B Hodoo2\" channel folder"
      ]
    },
    {
      "cell_type": "code",
      "execution_count": 25,
      "metadata": {},
      "outputs": [],
      "source": [
        "import zipfile\n",
        "zip_path = \"./B Hodoo2-20250226T182935Z-001.zip\"\n",
        "extract_path = \"./\"\n",
        "with zipfile.ZipFile(zip_path, 'r') as zip_ref:\n",
        "    zip_ref.extractall(extract_path)\n"
      ]
    },
    {
      "cell_type": "markdown",
      "metadata": {},
      "source": [
        "#### Unzipping the \"Kefaya ba2a\" channel folder"
      ]
    },
    {
      "cell_type": "code",
      "execution_count": 26,
      "metadata": {},
      "outputs": [],
      "source": [
        "import zipfile\n",
        "zip_path = \"./Kefaya Ba2a-20250226T183527Z-001.zip\"\n",
        "extract_path = \"./\"\n",
        "with zipfile.ZipFile(zip_path, 'r') as zip_ref:\n",
        "    zip_ref.extractall(extract_path)"
      ]
    },
    {
      "cell_type": "markdown",
      "metadata": {},
      "source": [
        "### Building dict for annotations and text"
      ]
    },
    {
      "cell_type": "code",
      "execution_count": 2,
      "metadata": {},
      "outputs": [],
      "source": [
        "def standardize(title):\n",
        "    \n",
        "    title = title.replace(\"_\", \" \")\n",
        "   \n",
        "    title = title.lower()\n",
        "    \n",
        "    title = re.sub(r'[^\\w\\s]', '', title)\n",
        "    \n",
        "    # title = re.sub(r'\\bبودكاست بهدوء مع كريم\\b', '', title)\n",
        "    # title = re.sub(r'\\bجلسة\\b', '', title)\n",
        "    \n",
        "    title = re.sub(r'\\s+', ' ', title).strip()\n",
        "    return title"
      ]
    },
    {
      "cell_type": "code",
      "execution_count": 3,
      "metadata": {},
      "outputs": [],
      "source": [
        "def get_category_for_filename(target_filename, annotations_path):\n",
        "    \"\"\"\n",
        "    Load annotations from annotations_path and try to match the\n",
        "    canonicalized target_filename (without file extension) to the canonicalized\n",
        "    title from each annotation. If a match is found, return the annotation's category.\n",
        "    \"\"\"\n",
        "    with open(annotations_path, 'r', encoding='utf-8') as f_json:\n",
        "        annotations = json.load(f_json)\n",
        "    \n",
        "    base_target = os.path.splitext(target_filename)[0]\n",
        "    target_can = standardize(base_target)\n",
        "    for entry in annotations:\n",
        "        annotation_title = entry.get('title')\n",
        "        if annotation_title:\n",
        "            \n",
        "            annotation_can = standardize(annotation_title)\n",
        "            if annotation_can == target_can:\n",
        "                # print(\"Matched annotation:\", entry.get('title'))\n",
        "                return entry.get('category')\n",
        "    return None"
      ]
    },
    {
      "cell_type": "code",
      "execution_count": 4,
      "metadata": {},
      "outputs": [],
      "source": [
        "def add_transcripts_from_folder(transcripts_dict, folder_path, channel):\n",
        "    \n",
        "    annotations_json = os.path.join(folder_path, 'annotations.json')\n",
        "    raw_folder = os.path.join(folder_path, 'raw')\n",
        "    for filename in os.listdir(raw_folder):\n",
        "        full_path = os.path.join(raw_folder, filename)\n",
        "        if os.path.isfile(full_path):\n",
        "            with open(full_path, 'r', encoding='utf-8') as file:\n",
        "                transcript = file.read()\n",
        "                category = get_category_for_filename(filename, annotations_json)\n",
        "            base_filename, _ = os.path.splitext(filename)\n",
        "            transcripts_dict[base_filename] = (channel, category, transcript)\n",
        "    return transcripts_dict"
      ]
    },
    {
      "cell_type": "code",
      "execution_count": 18,
      "metadata": {},
      "outputs": [],
      "source": [
        "transcripts_dict = {}\n",
        "first_folder_path = './B Hodoo2/'\n",
        "second_folder_path = './Kefaya Ba2a/'\n",
        "\n",
        "transcripts_dict = add_transcripts_from_folder(transcripts_dict, first_folder_path,  'B Hodoo2')\n",
        "transcripts_dict = add_transcripts_from_folder(transcripts_dict, second_folder_path, 'Kefaya Ba2a')\n",
        "\n"
      ]
    },
    {
      "cell_type": "markdown",
      "metadata": {},
      "source": [
        "### Creating a dataframe"
      ]
    },
    {
      "cell_type": "code",
      "execution_count": 19,
      "metadata": {},
      "outputs": [
        {
          "name": "stdout",
          "output_type": "stream",
          "text": [
            "                                               title   channel   category  \\\n",
            "0  أكبر كذبة في التاريخ _ وهم الانتاجية! - _ بودك...  B Hodoo2  Education   \n",
            "1  إزاي ضاعفت دخلي بدون شغل إضافي! - عن الرزق ووس...  B Hodoo2  Education   \n",
            "2  اخطر محتوى في العالم! _ بودكاست بهدوء مع كريم ...  B Hodoo2  Education   \n",
            "3  العيد والنكد - ليه مش بنبسط في العيد؟ _ بودكاس...  B Hodoo2  Education   \n",
            "4  انا فقير _ اصحابي كلهم أغنى مني! _ بودكاست بهد...  B Hodoo2  Education   \n",
            "\n",
            "                                          transcript  \n",
            "0  النهارده الفيديو بتاعنا على\\nالانتاجيه لان الن...  \n",
            "1  انا النهارده جاي اقوللك ازاي تزود من\\nدخلك الم...  \n",
            "2  النهارده انا جاي اتكلم على واحده من اخطر\\nالظو...  \n",
            "3  بصراحه انا موضوع ان احنا مش عارفين نتبسط\\nفي ا...  \n",
            "4  مساء الفل الفيديو ده عن الرزق لو انت\\nواحد من ...  \n"
          ]
        }
      ],
      "source": [
        "data = [(title, info[0], info[1], info[2]) for title, info in transcripts_dict.items()]\n",
        "df = pd.DataFrame(data, columns=['title', 'channel', 'category', 'transcript'])\n",
        "print(df.head())\n"
      ]
    },
    {
      "cell_type": "markdown",
      "metadata": {},
      "source": [
        "### Before pre-processing analysis"
      ]
    },
    {
      "cell_type": "markdown",
      "metadata": {},
      "source": [
        "**Reveals the number of rows and columns, data types of each column, and non-null counts.**"
      ]
    },
    {
      "cell_type": "code",
      "execution_count": 20,
      "metadata": {},
      "outputs": [
        {
          "name": "stdout",
          "output_type": "stream",
          "text": [
            "<class 'pandas.core.frame.DataFrame'>\n",
            "RangeIndex: 48 entries, 0 to 47\n",
            "Data columns (total 4 columns):\n",
            " #   Column      Non-Null Count  Dtype \n",
            "---  ------      --------------  ----- \n",
            " 0   title       48 non-null     object\n",
            " 1   channel     48 non-null     object\n",
            " 2   category    47 non-null     object\n",
            " 3   transcript  48 non-null     object\n",
            "dtypes: object(4)\n",
            "memory usage: 1.6+ KB\n"
          ]
        }
      ],
      "source": [
        "df.info()"
      ]
    },
    {
      "cell_type": "markdown",
      "metadata": {},
      "source": [
        "**Identifying which columns have missing values**"
      ]
    },
    {
      "cell_type": "code",
      "execution_count": 21,
      "metadata": {},
      "outputs": [
        {
          "name": "stdout",
          "output_type": "stream",
          "text": [
            "title         0\n",
            "channel       0\n",
            "category      1\n",
            "transcript    0\n",
            "dtype: int64\n"
          ]
        }
      ],
      "source": [
        "print(df.isnull().sum())"
      ]
    },
    {
      "cell_type": "markdown",
      "metadata": {},
      "source": [
        "**Since there are some entries without categories or an annotation file, we just remove them.**"
      ]
    },
    {
      "cell_type": "code",
      "execution_count": 22,
      "metadata": {},
      "outputs": [],
      "source": [
        "df = df[df['category'].notna()]"
      ]
    },
    {
      "cell_type": "markdown",
      "metadata": {},
      "source": [
        "**Measuring number of transcript and exploring outliers**"
      ]
    },
    {
      "cell_type": "code",
      "execution_count": 25,
      "metadata": {},
      "outputs": [
        {
          "name": "stdout",
          "output_type": "stream",
          "text": [
            "count       47.000000\n",
            "mean     21778.021277\n",
            "std       9970.770825\n",
            "min        930.000000\n",
            "25%      17160.500000\n",
            "50%      20942.000000\n",
            "75%      25980.500000\n",
            "max      51920.000000\n",
            "Name: raw_length, dtype: float64\n"
          ]
        }
      ],
      "source": [
        "df['raw_length'] = df['transcript'].apply(len)\n",
        "print(df['raw_length'].describe())"
      ]
    },
    {
      "cell_type": "code",
      "execution_count": 26,
      "metadata": {},
      "outputs": [
        {
          "data": {
            "image/png": "[encoded data removed]",
            "text/plain": [
              "<Figure size 640x480 with 1 Axes>"
            ]
          },
          "metadata": {},
          "output_type": "display_data"
        }
      ],
      "source": [
        "import matplotlib.pyplot as plt\n",
        "\n",
        "plt.hist(df['raw_length'], bins=20, color='skyblue')\n",
        "plt.xlabel(\"Number of characters\")\n",
        "plt.ylabel(\"Number of transcripts\")\n",
        "plt.title(\"Distribution of Raw Transcript Lengths\")\n",
        "plt.show()"
      ]
    },
    {
      "cell_type": "code",
      "execution_count": 10,
      "metadata": {},
      "outputs": [
        {
          "name": "stdout",
          "output_type": "stream",
          "text": [
            "category\n",
            "Education         26\n",
            "People & Blogs    17\n",
            "Comedy             4\n",
            "Name: count, dtype: int64\n"
          ]
        },
        {
          "data": {
            "text/plain": [
              "<Axes: title={'center': 'Category Distribution'}, xlabel='category'>"
            ]
          },
          "execution_count": 10,
          "metadata": {},
          "output_type": "execute_result"
        },
        {
          "data": {
            "image/png": "[encoded data removed]",
            "text/plain": [
              "<Figure size 640x480 with 1 Axes>"
            ]
          },
          "metadata": {},
          "output_type": "display_data"
        }
      ],
      "source": [
        "print(df['category'].value_counts())\n",
        "df['category'].value_counts().plot(kind='bar', title='Category Distribution')"
      ]
    },
    {
      "cell_type": "code",
      "execution_count": 27,
      "metadata": {
        "vscode": {
          "languageId": "powershell"
        }
      },
      "outputs": [
        {
          "name": "stdout",
          "output_type": "stream",
          "text": [
            "['B Hodoo2' 'Kefaya Ba2a']\n",
            "channel\n",
            "B Hodoo2       26\n",
            "Kefaya Ba2a    21\n",
            "Name: count, dtype: int64\n"
          ]
        }
      ],
      "source": [
        "print(df['channel'].unique())\n",
        "print(df['channel'].value_counts())"
      ]
    },
    {
      "cell_type": "markdown",
      "metadata": {
        "vscode": {
          "languageId": "powershell"
        }
      },
      "source": [
        "**Viewing most common words before preprocessing**"
      ]
    },
    {
      "cell_type": "code",
      "execution_count": null,
      "metadata": {
        "vscode": {
          "languageId": "powershell"
        }
      },
      "outputs": [
        {
          "name": "stdout",
          "output_type": "stream",
          "text": [
            "Top 10 most common words in raw transcripts:\n",
            "[('في', 5726), ('انا', 3823), ('ما', 3330), ('اللي', 3253), ('ده', 2993), ('انت', 2853), ('من', 2737), ('ان', 2699), ('هو', 2628), ('يعني', 2494)]\n"
          ]
        }
      ],
      "source": [
        "all_text = \" \".join(df['transcript'])\n",
        "words = all_text.split()\n",
        "word_freq = Counter(words)\n",
        "print(\"Top 10 most common words in raw transcripts:\")\n",
        "print(word_freq.most_common(10))"
      ]
    },
    {
      "cell_type": "markdown",
      "metadata": {
        "vscode": {
          "languageId": "powershell"
        }
      },
      "source": [
        "**Viewing the most common words per category**"
      ]
    },
    {
      "cell_type": "code",
      "execution_count": 34,
      "metadata": {
        "vscode": {
          "languageId": "powershell"
        }
      },
      "outputs": [
        {
          "name": "stdout",
          "output_type": "stream",
          "text": [
            "Category: Education\n",
            "  في: 3018\n",
            "  انا: 2115\n",
            "  اللي: 1838\n",
            "  ان: 1789\n",
            "  من: 1780\n",
            "Category: People & Blogs\n",
            "  في: 2135\n",
            "  انت: 1332\n",
            "  انا: 1327\n",
            "  ما: 1285\n",
            "  هو: 1259\n",
            "Category: Comedy\n",
            "  في: 573\n",
            "  ما: 399\n",
            "  يا: 391\n",
            "  انا: 381\n",
            "  انت: 364\n"
          ]
        }
      ],
      "source": [
        "def top_words_for_category(cat, n=10):\n",
        "    subset = df[df['category'] == cat]\n",
        "    combined_text = \" \".join(subset['transcript'])\n",
        "    words = combined_text.split()\n",
        "    word_counts = Counter(words)\n",
        "    return word_counts.most_common(n)\n",
        "categories = df['category'].unique()\n",
        "for cat in categories:\n",
        "    print(f\"Category: {cat}\")\n",
        "    top_words = top_words_for_category(cat, n=5)\n",
        "    for word, count in top_words:\n",
        "        print(f\"  {word}: {count}\")"
      ]
    },
    {
      "cell_type": "markdown",
      "metadata": {},
      "source": [
        "### Cleaning the data"
      ]
    },
    {
      "cell_type": "markdown",
      "metadata": {},
      "source": [
        "#### Removing numbers, non-Arabic letters and extra spaces"
      ]
    },
    {
      "cell_type": "code",
      "execution_count": 35,
      "metadata": {
        "vscode": {
          "languageId": "powershell"
        }
      },
      "outputs": [],
      "source": [
        "def clean_text(text):\n",
        "    punctuations = string.punctuation + \"؟،؛«»…ـ\"  \n",
        "    translator = str.maketrans('', '', punctuations)\n",
        "    text = text.translate(translator)  \n",
        "    text = re.sub(r'[0-9A-Za-z]', '', text)\n",
        "    text = re.sub(r'\\s+', ' ', text).strip()\n",
        "    return text"
      ]
    },
    {
      "cell_type": "code",
      "execution_count": 36,
      "metadata": {
        "vscode": {
          "languageId": "powershell"
        }
      },
      "outputs": [
        {
          "name": "stdout",
          "output_type": "stream",
          "text": [
            "                                               title   channel   category  \\\n",
            "0  أكبر كذبة في التاريخ _ وهم الانتاجية! - _ بودك...  B Hodoo2  Education   \n",
            "1  إزاي ضاعفت دخلي بدون شغل إضافي! - عن الرزق ووس...  B Hodoo2  Education   \n",
            "2  اخطر محتوى في العالم! _ بودكاست بهدوء مع كريم ...  B Hodoo2  Education   \n",
            "3  العيد والنكد - ليه مش بنبسط في العيد؟ _ بودكاس...  B Hodoo2  Education   \n",
            "4  انا فقير _ اصحابي كلهم أغنى مني! _ بودكاست بهد...  B Hodoo2  Education   \n",
            "\n",
            "                                          transcript  raw_length  \\\n",
            "0  النهارده الفيديو بتاعنا على\\nالانتاجيه لان الن...       21032   \n",
            "1  انا النهارده جاي اقوللك ازاي تزود من\\nدخلك الم...       18261   \n",
            "2  النهارده انا جاي اتكلم على واحده من اخطر\\nالظو...       18546   \n",
            "3  بصراحه انا موضوع ان احنا مش عارفين نتبسط\\nفي ا...       23874   \n",
            "4  مساء الفل الفيديو ده عن الرزق لو انت\\nواحد من ...       11462   \n",
            "\n",
            "                                    clean_transcript  \n",
            "0  النهارده الفيديو بتاعنا على الانتاجيه لان النه...  \n",
            "1  انا النهارده جاي اقوللك ازاي تزود من دخلك الما...  \n",
            "2  النهارده انا جاي اتكلم على واحده من اخطر الظوا...  \n",
            "3  بصراحه انا موضوع ان احنا مش عارفين نتبسط في ال...  \n",
            "4  مساء الفل الفيديو ده عن الرزق لو انت واحد من ا...  \n"
          ]
        }
      ],
      "source": [
        "df[\"clean_transcript\"] = df[\"transcript\"].apply(clean_text)\n",
        "print(df.head())"
      ]
    },
    {
      "cell_type": "markdown",
      "metadata": {},
      "source": [
        "### Tokenization "
      ]
    },
    {
      "cell_type": "code",
      "execution_count": 38,
      "metadata": {
        "vscode": {
          "languageId": "powershell"
        }
      },
      "outputs": [
        {
          "name": "stdout",
          "output_type": "stream",
          "text": [
            "                                               title   channel   category  \\\n",
            "0  أكبر كذبة في التاريخ _ وهم الانتاجية! - _ بودك...  B Hodoo2  Education   \n",
            "1  إزاي ضاعفت دخلي بدون شغل إضافي! - عن الرزق ووس...  B Hodoo2  Education   \n",
            "2  اخطر محتوى في العالم! _ بودكاست بهدوء مع كريم ...  B Hodoo2  Education   \n",
            "3  العيد والنكد - ليه مش بنبسط في العيد؟ _ بودكاس...  B Hodoo2  Education   \n",
            "4  انا فقير _ اصحابي كلهم أغنى مني! _ بودكاست بهد...  B Hodoo2  Education   \n",
            "\n",
            "                                          transcript  raw_length  \\\n",
            "0  النهارده الفيديو بتاعنا على\\nالانتاجيه لان الن...       21032   \n",
            "1  انا النهارده جاي اقوللك ازاي تزود من\\nدخلك الم...       18261   \n",
            "2  النهارده انا جاي اتكلم على واحده من اخطر\\nالظو...       18546   \n",
            "3  بصراحه انا موضوع ان احنا مش عارفين نتبسط\\nفي ا...       23874   \n",
            "4  مساء الفل الفيديو ده عن الرزق لو انت\\nواحد من ...       11462   \n",
            "\n",
            "                                    clean_transcript  \\\n",
            "0  النهارده الفيديو بتاعنا على الانتاجيه لان النه...   \n",
            "1  انا النهارده جاي اقوللك ازاي تزود من دخلك الما...   \n",
            "2  النهارده انا جاي اتكلم على واحده من اخطر الظوا...   \n",
            "3  بصراحه انا موضوع ان احنا مش عارفين نتبسط في ال...   \n",
            "4  مساء الفل الفيديو ده عن الرزق لو انت واحد من ا...   \n",
            "\n",
            "                                         bert_tokens  \n",
            "0  [ال, ##نها, ##رد, ##ه, ال, ##فيد, ##يو, ب, ##ت...  \n",
            "1  [ان, ##ا, ال, ##نها, ##رد, ##ه, جا, ##ي, ا, ##...  \n",
            "2  [ال, ##نها, ##رد, ##ه, ان, ##ا, جا, ##ي, ا, ##...  \n",
            "3  [ب, ##صر, ##اح, ##ه, ان, ##ا, موضوع, ان, ا, ##...  \n",
            "4  [م, ##ساء, ال, ##فل, ال, ##فيد, ##يو, ده, عن, ...  \n"
          ]
        }
      ],
      "source": [
        "def bert_tokenize(df):\n",
        "    tokenizer = BertTokenizer.from_pretrained(\"bert-base-multilingual-cased\")\n",
        "    df['bert_tokens'] = df['clean_transcript'].apply(lambda x: tokenizer.tokenize(str(x)))\n",
        "bert_tokenize(df)\n",
        "print(df.head())"
      ]
    },
    {
      "cell_type": "markdown",
      "metadata": {},
      "source": [
        "**We will use more dialect specific tokenizers using libraries like Camel**"
      ]
    },
    {
      "cell_type": "code",
      "execution_count": 39,
      "metadata": {
        "vscode": {
          "languageId": "powershell"
        }
      },
      "outputs": [
        {
          "data": {
            "text/plain": [
              "0     [النهارده, ال+فيديو, بتاع+نا, على, ال+انتاجيه,...\n",
              "1     [أنا, النهارده, جاي, اقوللك, ازاي, تزود, من, د...\n",
              "2     [النهارده, أنا, جاي, اتكلم, على, واحد+ه, من, أ...\n",
              "3     [ب+صراح+ه, أنا, موضوع, ان, اح+نا, مش, عارف+ين,...\n",
              "4     [مساء, ال+فل, ال+فيديو, ده, عن, ال+رزق, لو, أن...\n",
              "6     [عند+نا, في, مصر, ل+ما, ب+يبقى, في, حد, ال+دني...\n",
              "7     [مافيش, حد, في+نا, الا, و+في, حيا+ت+ه, نسب+ه, ...\n",
              "8     [يدخل, ال+بيت, فبيقول, ل+ها, و+صف+ي, لي, ال+حر...\n",
              "9     [النهارده, أنا, جاي, اكلم+ك, في, موضوع, في, من...\n",
              "10    [ال+حلقه, دي, بقى, ب+ال+ذات, أنا, دائم+ا, يا, ...\n",
              "11    [من, حوالي, سبع, سن+ين, واحد+ه, كتب+ت, لي, في,...\n",
              "12    [ال+سلام, علي+كم, و+رحم+ه, أنت, ازاي, تدخل, عل...\n",
              "13    [أول, يا, جماع+ه, ل+ما, ب+تقول, الله, هو, من, ...\n",
              "14    [طبع+ا, ك+ال+عاده, اح+نا, اتعودنا, ان, اي, فيد...\n",
              "15    [النهارده, أنا, ب+هدي, ال+حلقه, دي, ل+نفس+ي, أ...\n",
              "16    [ينفع, اشارككم, حاج+ه, ب+دون, مثالي+ه, عاليه, ...\n",
              "17    [وكالعاده, مستمر+ين, في, ال+تمرد, على, ال+غوري...\n",
              "18    [اهل+ا, و+سهل+ا, ب+كم, في, ال+جزء, ال+تاني, من...\n",
              "19    [ال+حمد, ل+الله, ان, وقع, عل, سقف, ال+بيت, و+ا...\n",
              "20    [واحد+ه, من, اكتر, ال+حاج+ات, اللي, ممكن, تضاي...\n",
              "21    [الله, يعزكم, يا, رب, دوري, ده, و+لا, أي, بسم,...\n",
              "22    [تساؤل, قري+ت+ه, على, ال+فيسبوك, علي+ه, اكتر, ...\n",
              "23    [ما, علي+نا, ه, منتج, يا, باولو, و+الله, ال+عظ...\n",
              "24    [تقريب+ا, مفيش, حد, في+نا, و+هو, صغير, ما, شفش...\n",
              "25    [بيقول+وا, ال+إنسان, قوي, ل+ما, ب+يوصل, سن, ال...\n",
              "26    [ال+سلام, علي+كم, و+رحم+ه, الله, و+برك+ات+ه, د...\n",
              "27    [[, موسيقى, ], أنت, فكر+نا, فين, ال+سيز, اح+نا...\n",
              "28    [اهل+ا, ب+كم, مر+ه, أخرى, في, بودكاست, ال+مفضل...\n",
              "29    [[, موسيقى, ], اهل+ا, ب+كم, في, بودكاست, كفاي+...\n",
              "30    [[, موسيقى, ], اهل+ا, ب+كم, في, بودكاست, كفاي+...\n",
              "31    [اهل+ا, ب+كم, في, بودكاست, كفاي+ه, بقى, البودك...\n",
              "32    [اهل+ا, ب+كم, في, بودكاست, كفاي+ه, بقى, البودك...\n",
              "33    [اهل+ا, ب+كم, في, بودكاست, كفاي+ه, بقى, البودك...\n",
              "34    [[, موسيقى, ], اهل+ا, ب+كم, في, بودكاست, كفاي+...\n",
              "35    [[, موسيقى, ], اهل+ا, ب+كم, في, بودكاست, كفاي+...\n",
              "36    [اهل+ا, ب+كم, في, بودكاست, كفاي+ه, بقى, البودك...\n",
              "37    [[, موسيقى, ], اهل+ا, ب+كم, في, بودكاست, كفاي+...\n",
              "38    [اهل+ا, ب+كم, في, بودكاست, كفاي+ه, بقى, البودك...\n",
              "39    [[, موسيقى, ], اهل+ا, ب+كم, في, بودكاست, كفاي+...\n",
              "40    [اهل+ا, ب+كم, في, بودكاست, كفاي+ه, بقى, ال+نسخ...\n",
              "41    [اهل+ا, ب+كم, في, بودكاست, كفاي+ه, بقى, ال+نسخ...\n",
              "42    [اهل+ا, ب+كم, في, بودكاست, كفاي+ه, بقى, ال+نسخ...\n",
              "43    [اهل+ا, ب+كم, في, بودكاست, كفاي+ه, بقى, ال+نسخ...\n",
              "44    [اهل+ا, ب+كم, في, بودكاست, كفاي+ه, بقى, ال+نسخ...\n",
              "45    [اهل+ا, ب+كم, في, بودكاست, كفاي+ه, بقى, ال+نسخ...\n",
              "46    [اهل+ا, ب+كم, في, بودكاست, كفاي+ه, بقى, ال+نسخ...\n",
              "47    [اهل+ا, ب+كم, في, بودكاست, كفاي+ه, بقى, البودك...\n",
              "Name: farasa_tokens, dtype: object"
            ]
          },
          "execution_count": 39,
          "metadata": {},
          "output_type": "execute_result"
        }
      ],
      "source": [
        "def farasa_tokenize(text):\n",
        "    text = str(text)\n",
        "    segmented_text = segmenter.segment(text)\n",
        "    tokens = segmented_text.split()\n",
        "    return tokens\n",
        "\n",
        "df['farasa_tokens'] = df['transcript'].apply(farasa_tokenize)\n",
        "df['farasa_tokens'] "
      ]
    },
    {
      "cell_type": "markdown",
      "metadata": {},
      "source": [
        "### Stop word removal"
      ]
    },
    {
      "cell_type": "markdown",
      "metadata": {},
      "source": [
        "**Analysing the stop word removal in each in transcript**"
      ]
    },
    {
      "cell_type": "code",
      "execution_count": 40,
      "metadata": {
        "vscode": {
          "languageId": "powershell"
        }
      },
      "outputs": [],
      "source": [
        "arabic_stopwords = set(stopwords.words('arabic'))"
      ]
    },
    {
      "cell_type": "code",
      "execution_count": 41,
      "metadata": {
        "vscode": {
          "languageId": "powershell"
        }
      },
      "outputs": [],
      "source": [
        "def count_stopwords(tokens, stopwords_set):\n",
        "    return sum(1 for token in tokens if token in stopwords_set)"
      ]
    },
    {
      "cell_type": "code",
      "execution_count": 42,
      "metadata": {
        "vscode": {
          "languageId": "powershell"
        }
      },
      "outputs": [],
      "source": [
        "# df['stopword_count'] = df['farasa_tokens'].apply(lambda tokens: count_stopwords(tokens, arabic_stopwords))\n",
        "df['total_tokens'] = df['farasa_tokens'].apply(len)\n",
        "\n",
        "# print(df[['stopword_count', 'total_tokens']].head())"
      ]
    },
    {
      "cell_type": "markdown",
      "metadata": {},
      "source": [
        "**Removing the stop words**"
      ]
    },
    {
      "cell_type": "code",
      "execution_count": 43,
      "metadata": {
        "vscode": {
          "languageId": "powershell"
        }
      },
      "outputs": [],
      "source": [
        "def remove_stopwords(tokens, stopwords_set):\n",
        "    return [token for token in tokens if token not in stopwords_set]"
      ]
    },
    {
      "cell_type": "code",
      "execution_count": 44,
      "metadata": {
        "vscode": {
          "languageId": "powershell"
        }
      },
      "outputs": [
        {
          "name": "stdout",
          "output_type": "stream",
          "text": [
            "   total_tokens  total_tokens_no_stop\n",
            "0          4192                  3341\n",
            "1          3652                  2995\n",
            "2          3532                  2895\n",
            "3          4657                  3776\n",
            "4          2308                  1842\n"
          ]
        }
      ],
      "source": [
        "df['tokens_no_stop'] = df['farasa_tokens'].apply(lambda tokens: remove_stopwords(tokens, arabic_stopwords))\n",
        "df['total_tokens_no_stop'] = df['tokens_no_stop'].apply(len)\n",
        "print(df[['total_tokens', 'total_tokens_no_stop']].head())"
      ]
    },
    {
      "cell_type": "markdown",
      "metadata": {},
      "source": [
        "### Removing custom egyptian stop words\n"
      ]
    },
    {
      "cell_type": "code",
      "execution_count": null,
      "metadata": {
        "vscode": {
          "languageId": "powershell"
        }
      },
      "outputs": [],
      "source": [
        "from sklearn.feature_extraction.text import TfidfVectorizer\n",
        "import numpy as np\n",
        "\n",
        "vectorizer = TfidfVectorizer(use_idf=True)\n",
        "tfidf_matrix = vectorizer.fit_transform(df['farasa_tokens'])\n",
        "idf = vectorizer.idf_\n",
        "terms = vectorizer.get_feature_names_out()\n",
        "\n",
        "term_idf = list(zip(terms, idf))\n",
        "common_words = [term for term, score in term_idf if score < np.percentile(idf, 10)]\n",
        "print(\"Candidate stopwords based on low IDF:\", common_words)\n"
      ]
    },
    {
      "cell_type": "code",
      "execution_count": null,
      "metadata": {
        "vscode": {
          "languageId": "powershell"
        }
      },
      "outputs": [],
      "source": [
        "egyptian_stopwords = {\n",
        "    \"بلاش\",  \n",
        "    \"ايه\",  \n",
        "    \"يعني\",  \n",
        "    \"أوي\",  \n",
        "    \"اللي\",\n",
        "    \"ان\",\n",
        "    \"ده\" , \n",
        "      \"مش\",\n",
        "      \"دي\",\n",
        "      \"بقى\",\n",
        "      \"كده\",\n",
        "      \"مالوش\",\n",
        "      \"بس\",\n",
        "      \n",
        "      \n",
        "      \n",
        "    \n",
        "    # add more Egyptian dialect stop words here\n",
        "}"
      ]
    },
    {
      "cell_type": "markdown",
      "metadata": {
        "vscode": {
          "languageId": "powershell"
        }
      },
      "source": [
        "### Stemming and Lemmatization"
      ]
    },
    {
      "cell_type": "markdown",
      "metadata": {},
      "source": [
        "**Stemming**"
      ]
    },
    {
      "cell_type": "code",
      "execution_count": 45,
      "metadata": {
        "vscode": {
          "languageId": "powershell"
        }
      },
      "outputs": [
        {
          "data": {
            "text/plain": [
              "0    [النهارده, ال+فيديو, بتاع+نا, ال+انتاجيه, لان,...\n",
              "1    [النهارده, جاي, اقوللك, ازاي, تزود, دخل+ك, ال+...\n",
              "2    [النهارده, جاي, اتكلم, واحد+ه, أخطر, ال+ظواهر,...\n",
              "3    [ب+صراح+ه, موضوع, ان, اح+نا, مش, عارف+ين, نتبس...\n",
              "4    [ال+فل, ال+فيديو, ده, ال+رزق, ال+ناس, اللي, مض...\n",
              "Name: tokens_no_stop, dtype: object"
            ]
          },
          "execution_count": 45,
          "metadata": {},
          "output_type": "execute_result"
        }
      ],
      "source": [
        "stemmer = ISRIStemmer()\n",
        "df['stemmed_tokens'] = df['tokens_no_stop'].apply(lambda tokens: [stemmer.stem(token) for token in tokens])\n",
        "df['tokens_no_stop'].head()"
      ]
    },
    {
      "cell_type": "code",
      "execution_count": 46,
      "metadata": {
        "vscode": {
          "languageId": "powershell"
        }
      },
      "outputs": [
        {
          "name": "stdout",
          "output_type": "stream",
          "text": [
            "                                               title  \\\n",
            "0  أكبر كذبة في التاريخ _ وهم الانتاجية! - _ بودك...   \n",
            "1  إزاي ضاعفت دخلي بدون شغل إضافي! - عن الرزق ووس...   \n",
            "2  اخطر محتوى في العالم! _ بودكاست بهدوء مع كريم ...   \n",
            "3  العيد والنكد - ليه مش بنبسط في العيد؟ _ بودكاس...   \n",
            "4  انا فقير _ اصحابي كلهم أغنى مني! _ بودكاست بهد...   \n",
            "\n",
            "                                   lemmatized_tokens  \n",
            "0  [النهارده, ال+فيديو, بتاع+نا, ال+انتاجيه, لان,...  \n",
            "1  [النهارده, جاي, اقوللك, ازاي, تزود, دخل+ك, ال+...  \n",
            "2  [النهارده, جاي, اتكلم, واحد+ه, أخطر, ال+ظواهر,...  \n",
            "3  [ب+صراح+ه, موضوع, ان, اح+نا, مش, عارف+ين, نتبس...  \n",
            "4  [ال+فل, ال+فيديو, ده, ال+رزق, ال+ناس, اللي, مض...  \n"
          ]
        }
      ],
      "source": [
        "db = MorphologyDB.builtin_db('calima-msa-r13', flags='a')\n",
        "analyzer = Analyzer(db)\n",
        "\n",
        "def get_lemma(word):\n",
        "    analyses = analyzer.analyze(word)\n",
        "    if analyses:\n",
        "        return analyses[0].get('lemma', word)\n",
        "    return word\n",
        "def lemmatize_tokens(tokens):\n",
        "    \"\"\"\n",
        "    Given a list of tokens (from your 'tokens_no_stop' column),\n",
        "    apply lemmatization to each token and return the list of lemmas.\n",
        "    \"\"\"\n",
        "    return [get_lemma(token) for token in tokens]\n",
        "\n",
        "df['lemmatized_tokens'] = df['tokens_no_stop'].apply(lemmatize_tokens)\n",
        "print(df[['title', 'lemmatized_tokens']].head())"
      ]
    },
    {
      "cell_type": "markdown",
      "metadata": {
        "vscode": {
          "languageId": "powershell"
        }
      },
      "source": [
        "### More Analysis"
      ]
    },
    {
      "cell_type": "markdown",
      "metadata": {
        "vscode": {
          "languageId": "powershell"
        }
      },
      "source": [
        "**Vocabulary Size after Preprocessing**"
      ]
    },
    {
      "cell_type": "code",
      "execution_count": null,
      "metadata": {},
      "outputs": [
        {
          "name": "stdout",
          "output_type": "stream",
          "text": [
            "Vocabulary size: 27841\n",
            "Top 10 most frequent lemmas: [('اللي', 3253), ('ده', 2993), ('ان', 2699), ('يعني', 2494), ('مش', 2490), ('كد+ه', 1991), ('بقى', 1765), ('دي', 1639), ('الله', 1239), ('اح+نا', 1097)]\n"
          ]
        }
      ],
      "source": [
        "\n",
        "\n",
        "\n",
        "all_tokens = [token for tokens in df['lemmatized_tokens'] for token in tokens]\n",
        "vocab = set(all_tokens)\n",
        "print(\"Vocabulary size:\", len(vocab))\n",
        "token_freq = Counter(all_tokens)\n",
        "print(\"Top 10 most frequent lemmas:\", token_freq.most_common(10))"
      ]
    },
    {
      "cell_type": "markdown",
      "metadata": {},
      "source": [
        "### Tf Idf"
      ]
    },
    {
      "cell_type": "code",
      "execution_count": 49,
      "metadata": {},
      "outputs": [
        {
          "name": "stdout",
          "output_type": "stream",
          "text": [
            "TF-IDF matrix shape: (47, 5000)\n",
            "Top terms for document 0: [('ال', 0.7894259746345738), ('ات', 0.19470147356458098), ('ان', 0.1716914301736447), ('اللي', 0.14337108507937327), ('ها', 0.13098099130708174), ('ده', 0.12390093772291516), ('نا', 0.12390093772291516), ('انتاجيه', 0.11832435270303802), ('ال انتاجيه', 0.11832435270303802), ('بتاع', 0.11747308380302006)]\n"
          ]
        }
      ],
      "source": [
        "from sklearn.feature_extraction.text import TfidfVectorizer\n",
        "\n",
        "\n",
        "df['processed_text'] = df['lemmatized_tokens'].apply(lambda tokens: \" \".join(tokens))\n",
        "tfidf_vectorizer = TfidfVectorizer(max_features=5000, ngram_range=(1,2))\n",
        "X_tfidf = tfidf_vectorizer.fit_transform(df['processed_text'])\n",
        "print(\"TF-IDF matrix shape:\", X_tfidf.shape)\n",
        "feature_names = tfidf_vectorizer.get_feature_names_out()\n",
        "doc_index = 0\n",
        "tfidf_scores = X_tfidf[doc_index].toarray().flatten()\n",
        "top_indices = np.argsort(tfidf_scores)[::-1][:10]\n",
        "top_terms = [(feature_names[i], tfidf_scores[i]) for i in top_indices if tfidf_scores[i] > 0]\n",
        "print(\"Top terms for document 0:\", top_terms)\n",
        "\n",
        "\n"
      ]
    },
    {
      "cell_type": "code",
      "execution_count": null,
      "metadata": {},
      "outputs": [],
      "source": []
    }
  ],
  "metadata": {
    "colab": {
      "include_colab_link": true,
      "provenance": []
    },
    "kernelspec": {
      "display_name": "Python 3",
      "name": "python3"
    },
    "language_info": {
      "codemirror_mode": {
        "name": "ipython",
        "version": 3
      },
      "file_extension": ".py",
      "mimetype": "text/x-python",
      "name": "python",
      "nbconvert_exporter": "python",
      "pygments_lexer": "ipython3",
      "version": "3.9.0"
    }
  },
  "nbformat": 4,
  "nbformat_minor": 0
}
