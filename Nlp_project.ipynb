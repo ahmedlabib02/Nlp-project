{
  "cells": [
    {
      "cell_type": "markdown",
      "metadata": {
        "colab_type": "text",
        "id": "view-in-github"
      },
      "source": [
        "<a href=\"https://colab.research.google.com/github/ahmedlabib02/Nlp-project/blob/main/Nlp_project.ipynb\" target=\"_parent\"><img src=\"https://colab.research.google.com/assets/colab-badge.svg\" alt=\"Open In Colab\"/></a>"
      ]
    },
    {
      "cell_type": "markdown",
      "metadata": {
        "id": "yhShSWMAHitF"
      },
      "source": [
        "# First task"
      ]
    },
    {
      "cell_type": "markdown",
      "metadata": {},
      "source": [
        "### Combining all annotations of all files in one single JSON file"
      ]
    },
    {
      "cell_type": "code",
      "execution_count": null,
      "metadata": {
        "colab": {
          "base_uri": "https://localhost:8080/"
        },
        "id": "LGt1OfppHkHL",
        "outputId": "4baf9777-8ae1-4bbb-a908-0d8cee393e1e"
      },
      "outputs": [
        {
          "name": "stdout",
          "output_type": "stream",
          "text": [
            "Merged 21 files into combined_annotations.json\n"
          ]
        }
      ],
      "source": [
        "import os\n",
        "import json\n",
        "\n",
        "# Set directory where JSON files are stored\n",
        "directory = \"./annotations\" \n",
        "output_file = \"combined_annotations.json\"\n",
        "\n",
        "# Retreiving all json files in annotations directory\n",
        "json_files = [f for f in os.listdir(directory) if f.endswith(\".json\")]\n",
        "\n",
        "\n",
        "combined_data = []\n",
        "\n",
        "for file in json_files:\n",
        "    file_path = os.path.join(directory, file)\n",
        "    \n",
        "    with open(file_path, \"r\", encoding=\"utf-8\") as f:\n",
        "        try:\n",
        "            data = json.load(f)\n",
        "            if isinstance(data, dict):  \n",
        "                combined_data.append(data) \n",
        "            elif isinstance(data, list):\n",
        "                combined_data.extend(data)\n",
        "        except json.JSONDecodeError as e:\n",
        "            print(f\"Error reading {file}: {e}\")\n",
        "\n",
        "with open(output_file, \"w\", encoding=\"utf-8\") as outfile:\n",
        "    json.dump(combined_data, outfile, indent=4, ensure_ascii=False)\n",
        "\n",
        "print(f\"Merged {len(json_files)} files into {output_file}\")\n"
      ]
    },
    {
      "cell_type": "markdown",
      "metadata": {},
      "source": []
    }
  ],
  "metadata": {
    "colab": {
      "include_colab_link": true,
      "provenance": []
    },
    "kernelspec": {
      "display_name": "Python 3",
      "name": "python3"
    },
    "language_info": {
      "codemirror_mode": {
        "name": "ipython",
        "version": 3
      },
      "file_extension": ".py",
      "mimetype": "text/x-python",
      "name": "python",
      "nbconvert_exporter": "python",
      "pygments_lexer": "ipython3",
      "version": "3.9.0"
    }
  },
  "nbformat": 4,
  "nbformat_minor": 0
}
